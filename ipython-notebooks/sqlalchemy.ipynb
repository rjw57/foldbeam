{
 "metadata": {
  "name": "sqlalchemy"
 },
 "nbformat": 3,
 "nbformat_minor": 0,
 "worksheets": [
  {
   "cells": [
    {
     "cell_type": "markdown",
     "metadata": {},
     "source": [
      "Set up the environment\n",
      "======================\n",
      "\n",
      "This is some boilerplate to set up the Python environment for our liking."
     ]
    },
    {
     "cell_type": "code",
     "collapsed": false,
     "input": [
      "# make sure we have a print function\n",
      "from __future__ import print_function\n",
      "\n",
      "# load pylab\n",
      "%pylab"
     ],
     "language": "python",
     "metadata": {},
     "outputs": [
      {
       "output_type": "stream",
       "stream": "stdout",
       "text": [
        "\n",
        "Welcome to pylab, a matplotlib-based Python environment [backend: TkAgg].\n",
        "For more information, type 'help(pylab)'.\n"
       ]
      }
     ],
     "prompt_number": 1
    },
    {
     "cell_type": "code",
     "collapsed": false,
     "input": [
      "# import sqlalchemy and configure it to use pyspatialite\n",
      "import pyspatialite\n",
      "import sys\n",
      "sys.modules['pysqlite2'] = pyspatialite\n"
     ],
     "language": "python",
     "metadata": {},
     "outputs": [],
     "prompt_number": 2
    },
    {
     "cell_type": "markdown",
     "metadata": {},
     "source": [
      "Create an engine for the DB\n",
      "===========================\n",
      "\n",
      "This assumes that a `central-cambridge.sqlite` file has been generated from `central-cambridge.osm` using the `spatialite_osm_map` tool:\n",
      "\n",
      ".. code::\n",
      "\n",
      "    $ spatialite_osm_map -o central-cambridge.osm -d central-cambridge.sqlite"
     ]
    },
    {
     "cell_type": "code",
     "collapsed": false,
     "input": [
      "# create an engine for the central cambridge DB\n",
      "from sqlalchemy import create_engine\n",
      "from sqlalchemy.orm import sessionmaker\n",
      "\n",
      "engine = create_engine('sqlite:///../data/central-cambridge.sqlite', echo=True)\n",
      "session = sessionmaker(bind=engine)()"
     ],
     "language": "python",
     "metadata": {},
     "outputs": [],
     "prompt_number": 3
    },
    {
     "cell_type": "code",
     "collapsed": false,
     "input": [
      "# Create the DB metadata\n",
      "from sqlalchemy import MetaData\n",
      "from sqlalchemy.ext.declarative import declarative_base\n",
      "from geoalchemy import *\n",
      "\n",
      "metadata = MetaData(engine, reflect=True)\n",
      "Base = declarative_base(metadata=metadata)"
     ],
     "language": "python",
     "metadata": {},
     "outputs": [
      {
       "output_type": "stream",
       "stream": "stdout",
       "text": [
        "2012-07-10 18:25:45,227 INFO sqlalchemy.engine.base.Engine SELECT name FROM  (SELECT * FROM sqlite_master UNION ALL   SELECT * FROM sqlite_temp_master) WHERE type='table' ORDER BY name\n"
       ]
      },
      {
       "output_type": "stream",
       "stream": "stdout",
       "text": [
        "2012-07-10 18:25:45,227 INFO sqlalchemy.engine.base.Engine ()\n"
       ]
      },
      {
       "output_type": "stream",
       "stream": "stdout",
       "text": [
        "2012-07-10 18:25:45,241 INFO sqlalchemy.engine.base.Engine PRAGMA table_info(\"SpatialIndex\")\n"
       ]
      },
      {
       "output_type": "stream",
       "stream": "stdout",
       "text": [
        "2012-07-10 18:25:45,242 INFO sqlalchemy.engine.base.Engine ()\n"
       ]
      },
      {
       "output_type": "stream",
       "stream": "stdout",
       "text": [
        "2012-07-10 18:25:45,246 INFO sqlalchemy.engine.base.Engine PRAGMA foreign_key_list(\"SpatialIndex\")\n"
       ]
      },
      {
       "output_type": "stream",
       "stream": "stdout",
       "text": [
        "2012-07-10 18:25:45,246 INFO sqlalchemy.engine.base.Engine ()\n"
       ]
      },
      {
       "output_type": "stream",
       "stream": "stdout",
       "text": [
        "2012-07-10 18:25:45,247 INFO sqlalchemy.engine.base.Engine PRAGMA index_list(\"SpatialIndex\")\n"
       ]
      },
      {
       "output_type": "stream",
       "stream": "stdout",
       "text": [
        "2012-07-10 18:25:45,247 INFO sqlalchemy.engine.base.Engine ()\n"
       ]
      },
      {
       "output_type": "stream",
       "stream": "stdout",
       "text": [
        "2012-07-10 18:25:45,249 INFO sqlalchemy.engine.base.Engine PRAGMA table_info(\"geometry_columns\")\n"
       ]
      },
      {
       "output_type": "stream",
       "stream": "stdout",
       "text": [
        "2012-07-10 18:25:45,249 INFO sqlalchemy.engine.base.Engine ()\n"
       ]
      },
      {
       "output_type": "stream",
       "stream": "stdout",
       "text": [
        "2012-07-10 18:25:45,254 INFO sqlalchemy.engine.base.Engine PRAGMA foreign_key_list(\"geometry_columns\")\n"
       ]
      },
      {
       "output_type": "stream",
       "stream": "stdout",
       "text": [
        "2012-07-10 18:25:45,254 INFO sqlalchemy.engine.base.Engine ()\n"
       ]
      },
      {
       "output_type": "stream",
       "stream": "stdout",
       "text": [
        "2012-07-10 18:25:45,255 INFO sqlalchemy.engine.base.Engine PRAGMA table_info(\"spatial_ref_sys\")\n"
       ]
      },
      {
       "output_type": "stream",
       "stream": "stdout",
       "text": [
        "2012-07-10 18:25:45,255 INFO sqlalchemy.engine.base.Engine ()\n"
       ]
      },
      {
       "output_type": "stream",
       "stream": "stdout",
       "text": [
        "2012-07-10 18:25:45,256 INFO sqlalchemy.engine.base.Engine PRAGMA foreign_key_list(\"spatial_ref_sys\")\n"
       ]
      },
      {
       "output_type": "stream",
       "stream": "stdout",
       "text": [
        "2012-07-10 18:25:45,257 INFO sqlalchemy.engine.base.Engine ()\n"
       ]
      },
      {
       "output_type": "stream",
       "stream": "stdout",
       "text": [
        "2012-07-10 18:25:45,257 INFO sqlalchemy.engine.base.Engine PRAGMA index_list(\"spatial_ref_sys\")\n"
       ]
      },
      {
       "output_type": "stream",
       "stream": "stdout",
       "text": [
        "2012-07-10 18:25:45,257 INFO sqlalchemy.engine.base.Engine ()\n"
       ]
      },
      {
       "output_type": "stream",
       "stream": "stdout",
       "text": [
        "2012-07-10 18:25:45,258 INFO sqlalchemy.engine.base.Engine PRAGMA index_info(\"idx_spatial_ref_sys\")\n"
       ]
      },
      {
       "output_type": "stream",
       "stream": "stdout",
       "text": [
        "2012-07-10 18:25:45,258 INFO sqlalchemy.engine.base.Engine ()\n"
       ]
      },
      {
       "output_type": "stream",
       "stream": "stdout",
       "text": [
        "2012-07-10 18:25:45,259 INFO sqlalchemy.engine.base.Engine PRAGMA index_list(\"geometry_columns\")\n"
       ]
      },
      {
       "output_type": "stream",
       "stream": "stdout",
       "text": [
        "2012-07-10 18:25:45,260 INFO sqlalchemy.engine.base.Engine ()\n"
       ]
      },
      {
       "output_type": "stream",
       "stream": "stdout",
       "text": [
        "2012-07-10 18:25:45,260 INFO sqlalchemy.engine.base.Engine PRAGMA index_info(\"idx_srid_geocols\")\n"
       ]
      },
      {
       "output_type": "stream",
       "stream": "stdout",
       "text": [
        "2012-07-10 18:25:45,260 INFO sqlalchemy.engine.base.Engine ()\n"
       ]
      },
      {
       "output_type": "stream",
       "stream": "stdout",
       "text": [
        "2012-07-10 18:25:45,263 INFO sqlalchemy.engine.base.Engine PRAGMA table_info(\"geometry_columns_auth\")\n"
       ]
      },
      {
       "output_type": "stream",
       "stream": "stdout",
       "text": [
        "2012-07-10 18:25:45,263 INFO sqlalchemy.engine.base.Engine ()\n"
       ]
      },
      {
       "output_type": "stream",
       "stream": "stdout",
       "text": [
        "2012-07-10 18:25:45,267 INFO sqlalchemy.engine.base.Engine PRAGMA foreign_key_list(\"geometry_columns_auth\")\n"
       ]
      },
      {
       "output_type": "stream",
       "stream": "stdout",
       "text": [
        "2012-07-10 18:25:45,267 INFO sqlalchemy.engine.base.Engine ()\n"
       ]
      },
      {
       "output_type": "stream",
       "stream": "stdout",
       "text": [
        "2012-07-10 18:25:45,268 INFO sqlalchemy.engine.base.Engine PRAGMA index_list(\"geometry_columns_auth\")\n"
       ]
      },
      {
       "output_type": "stream",
       "stream": "stdout",
       "text": [
        "2012-07-10 18:25:45,268 INFO sqlalchemy.engine.base.Engine ()\n"
       ]
      },
      {
       "output_type": "stream",
       "stream": "stdout",
       "text": [
        "2012-07-10 18:25:45,271 INFO sqlalchemy.engine.base.Engine PRAGMA table_info(\"idx_ln_barrier_Geometry\")\n"
       ]
      },
      {
       "output_type": "stream",
       "stream": "stdout",
       "text": [
        "2012-07-10 18:25:45,271 INFO sqlalchemy.engine.base.Engine ()\n"
       ]
      },
      {
       "output_type": "stream",
       "stream": "stdout",
       "text": [
        "2012-07-10 18:25:45,275 INFO sqlalchemy.engine.base.Engine PRAGMA foreign_key_list(\"idx_ln_barrier_Geometry\")\n"
       ]
      },
      {
       "output_type": "stream",
       "stream": "stdout",
       "text": [
        "2012-07-10 18:25:45,276 INFO sqlalchemy.engine.base.Engine ()\n"
       ]
      },
      {
       "output_type": "stream",
       "stream": "stdout",
       "text": [
        "2012-07-10 18:25:45,276 INFO sqlalchemy.engine.base.Engine PRAGMA index_list(\"idx_ln_barrier_Geometry\")\n"
       ]
      },
      {
       "output_type": "stream",
       "stream": "stdout",
       "text": [
        "2012-07-10 18:25:45,276 INFO sqlalchemy.engine.base.Engine ()\n"
       ]
      },
      {
       "output_type": "stream",
       "stream": "stdout",
       "text": [
        "2012-07-10 18:25:45,278 INFO sqlalchemy.engine.base.Engine PRAGMA table_info(\"idx_ln_barrier_Geometry_node\")\n"
       ]
      },
      {
       "output_type": "stream",
       "stream": "stdout",
       "text": [
        "2012-07-10 18:25:45,279 INFO sqlalchemy.engine.base.Engine ()\n"
       ]
      },
      {
       "output_type": "stream",
       "stream": "stdout",
       "text": [
        "2012-07-10 18:25:45,283 INFO sqlalchemy.engine.base.Engine PRAGMA foreign_key_list(\"idx_ln_barrier_Geometry_node\")\n"
       ]
      },
      {
       "output_type": "stream",
       "stream": "stdout",
       "text": [
        "2012-07-10 18:25:45,283 INFO sqlalchemy.engine.base.Engine ()\n"
       ]
      },
      {
       "output_type": "stream",
       "stream": "stdout",
       "text": [
        "2012-07-10 18:25:45,283 INFO sqlalchemy.engine.base.Engine PRAGMA index_list(\"idx_ln_barrier_Geometry_node\")\n"
       ]
      },
      {
       "output_type": "stream",
       "stream": "stdout",
       "text": [
        "2012-07-10 18:25:45,284 INFO sqlalchemy.engine.base.Engine ()\n"
       ]
      },
      {
       "output_type": "stream",
       "stream": "stdout",
       "text": [
        "2012-07-10 18:25:45,286 INFO sqlalchemy.engine.base.Engine PRAGMA table_info(\"idx_ln_barrier_Geometry_parent\")\n"
       ]
      },
      {
       "output_type": "stream",
       "stream": "stdout",
       "text": [
        "2012-07-10 18:25:45,286 INFO sqlalchemy.engine.base.Engine ()\n"
       ]
      },
      {
       "output_type": "stream",
       "stream": "stdout",
       "text": [
        "2012-07-10 18:25:45,290 INFO sqlalchemy.engine.base.Engine PRAGMA foreign_key_list(\"idx_ln_barrier_Geometry_parent\")\n"
       ]
      },
      {
       "output_type": "stream",
       "stream": "stdout",
       "text": [
        "2012-07-10 18:25:45,290 INFO sqlalchemy.engine.base.Engine ()\n"
       ]
      },
      {
       "output_type": "stream",
       "stream": "stdout",
       "text": [
        "2012-07-10 18:25:45,291 INFO sqlalchemy.engine.base.Engine PRAGMA index_list(\"idx_ln_barrier_Geometry_parent\")\n"
       ]
      },
      {
       "output_type": "stream",
       "stream": "stdout",
       "text": [
        "2012-07-10 18:25:45,291 INFO sqlalchemy.engine.base.Engine ()\n"
       ]
      },
      {
       "output_type": "stream",
       "stream": "stdout",
       "text": [
        "2012-07-10 18:25:45,293 INFO sqlalchemy.engine.base.Engine PRAGMA table_info(\"idx_ln_barrier_Geometry_rowid\")\n"
       ]
      },
      {
       "output_type": "stream",
       "stream": "stdout",
       "text": [
        "2012-07-10 18:25:45,294 INFO sqlalchemy.engine.base.Engine ()\n"
       ]
      },
      {
       "output_type": "stream",
       "stream": "stdout",
       "text": [
        "2012-07-10 18:25:45,297 INFO sqlalchemy.engine.base.Engine PRAGMA foreign_key_list(\"idx_ln_barrier_Geometry_rowid\")\n"
       ]
      },
      {
       "output_type": "stream",
       "stream": "stdout",
       "text": [
        "2012-07-10 18:25:45,298 INFO sqlalchemy.engine.base.Engine ()\n"
       ]
      },
      {
       "output_type": "stream",
       "stream": "stdout",
       "text": [
        "2012-07-10 18:25:45,298 INFO sqlalchemy.engine.base.Engine PRAGMA index_list(\"idx_ln_barrier_Geometry_rowid\")\n"
       ]
      },
      {
       "output_type": "stream",
       "stream": "stdout",
       "text": [
        "2012-07-10 18:25:45,299 INFO sqlalchemy.engine.base.Engine ()\n"
       ]
      },
      {
       "output_type": "stream",
       "stream": "stdout",
       "text": [
        "2012-07-10 18:25:45,301 INFO sqlalchemy.engine.base.Engine PRAGMA table_info(\"idx_ln_boundary_Geometry\")\n"
       ]
      },
      {
       "output_type": "stream",
       "stream": "stdout",
       "text": [
        "2012-07-10 18:25:45,301 INFO sqlalchemy.engine.base.Engine ()\n"
       ]
      },
      {
       "output_type": "stream",
       "stream": "stdout",
       "text": [
        "2012-07-10 18:25:45,305 INFO sqlalchemy.engine.base.Engine PRAGMA foreign_key_list(\"idx_ln_boundary_Geometry\")\n"
       ]
      },
      {
       "output_type": "stream",
       "stream": "stdout",
       "text": [
        "2012-07-10 18:25:45,305 INFO sqlalchemy.engine.base.Engine ()\n"
       ]
      },
      {
       "output_type": "stream",
       "stream": "stdout",
       "text": [
        "2012-07-10 18:25:45,306 INFO sqlalchemy.engine.base.Engine PRAGMA index_list(\"idx_ln_boundary_Geometry\")\n"
       ]
      },
      {
       "output_type": "stream",
       "stream": "stdout",
       "text": [
        "2012-07-10 18:25:45,306 INFO sqlalchemy.engine.base.Engine ()\n"
       ]
      },
      {
       "output_type": "stream",
       "stream": "stdout",
       "text": [
        "2012-07-10 18:25:45,308 INFO sqlalchemy.engine.base.Engine PRAGMA table_info(\"idx_ln_boundary_Geometry_node\")\n"
       ]
      },
      {
       "output_type": "stream",
       "stream": "stdout",
       "text": [
        "2012-07-10 18:25:45,309 INFO sqlalchemy.engine.base.Engine ()\n"
       ]
      },
      {
       "output_type": "stream",
       "stream": "stdout",
       "text": [
        "2012-07-10 18:25:45,313 INFO sqlalchemy.engine.base.Engine PRAGMA foreign_key_list(\"idx_ln_boundary_Geometry_node\")\n"
       ]
      },
      {
       "output_type": "stream",
       "stream": "stdout",
       "text": [
        "2012-07-10 18:25:45,313 INFO sqlalchemy.engine.base.Engine ()\n"
       ]
      },
      {
       "output_type": "stream",
       "stream": "stdout",
       "text": [
        "2012-07-10 18:25:45,313 INFO sqlalchemy.engine.base.Engine PRAGMA index_list(\"idx_ln_boundary_Geometry_node\")\n"
       ]
      },
      {
       "output_type": "stream",
       "stream": "stdout",
       "text": [
        "2012-07-10 18:25:45,314 INFO sqlalchemy.engine.base.Engine ()\n"
       ]
      },
      {
       "output_type": "stream",
       "stream": "stdout",
       "text": [
        "2012-07-10 18:25:45,316 INFO sqlalchemy.engine.base.Engine PRAGMA table_info(\"idx_ln_boundary_Geometry_parent\")\n"
       ]
      },
      {
       "output_type": "stream",
       "stream": "stdout",
       "text": [
        "2012-07-10 18:25:45,316 INFO sqlalchemy.engine.base.Engine ()\n"
       ]
      },
      {
       "output_type": "stream",
       "stream": "stdout",
       "text": [
        "2012-07-10 18:25:45,320 INFO sqlalchemy.engine.base.Engine PRAGMA foreign_key_list(\"idx_ln_boundary_Geometry_parent\")\n"
       ]
      },
      {
       "output_type": "stream",
       "stream": "stdout",
       "text": [
        "2012-07-10 18:25:45,320 INFO sqlalchemy.engine.base.Engine ()\n"
       ]
      },
      {
       "output_type": "stream",
       "stream": "stdout",
       "text": [
        "2012-07-10 18:25:45,321 INFO sqlalchemy.engine.base.Engine PRAGMA index_list(\"idx_ln_boundary_Geometry_parent\")\n"
       ]
      },
      {
       "output_type": "stream",
       "stream": "stdout",
       "text": [
        "2012-07-10 18:25:45,321 INFO sqlalchemy.engine.base.Engine ()\n"
       ]
      },
      {
       "output_type": "stream",
       "stream": "stdout",
       "text": [
        "2012-07-10 18:25:45,323 INFO sqlalchemy.engine.base.Engine PRAGMA table_info(\"idx_ln_boundary_Geometry_rowid\")\n"
       ]
      },
      {
       "output_type": "stream",
       "stream": "stdout",
       "text": [
        "2012-07-10 18:25:45,323 INFO sqlalchemy.engine.base.Engine ()\n"
       ]
      },
      {
       "output_type": "stream",
       "stream": "stdout",
       "text": [
        "2012-07-10 18:25:45,328 INFO sqlalchemy.engine.base.Engine PRAGMA foreign_key_list(\"idx_ln_boundary_Geometry_rowid\")\n"
       ]
      },
      {
       "output_type": "stream",
       "stream": "stdout",
       "text": [
        "2012-07-10 18:25:45,328 INFO sqlalchemy.engine.base.Engine ()\n"
       ]
      },
      {
       "output_type": "stream",
       "stream": "stdout",
       "text": [
        "2012-07-10 18:25:45,328 INFO sqlalchemy.engine.base.Engine PRAGMA index_list(\"idx_ln_boundary_Geometry_rowid\")\n"
       ]
      },
      {
       "output_type": "stream",
       "stream": "stdout",
       "text": [
        "2012-07-10 18:25:45,329 INFO sqlalchemy.engine.base.Engine ()\n"
       ]
      },
      {
       "output_type": "stream",
       "stream": "stdout",
       "text": [
        "2012-07-10 18:25:45,331 INFO sqlalchemy.engine.base.Engine PRAGMA table_info(\"idx_ln_generic_Geometry\")\n"
       ]
      },
      {
       "output_type": "stream",
       "stream": "stdout",
       "text": [
        "2012-07-10 18:25:45,331 INFO sqlalchemy.engine.base.Engine ()\n"
       ]
      },
      {
       "output_type": "stream",
       "stream": "stdout",
       "text": [
        "2012-07-10 18:25:45,336 INFO sqlalchemy.engine.base.Engine PRAGMA foreign_key_list(\"idx_ln_generic_Geometry\")\n"
       ]
      },
      {
       "output_type": "stream",
       "stream": "stdout",
       "text": [
        "2012-07-10 18:25:45,336 INFO sqlalchemy.engine.base.Engine ()\n"
       ]
      },
      {
       "output_type": "stream",
       "stream": "stdout",
       "text": [
        "2012-07-10 18:25:45,336 INFO sqlalchemy.engine.base.Engine PRAGMA index_list(\"idx_ln_generic_Geometry\")\n"
       ]
      },
      {
       "output_type": "stream",
       "stream": "stdout",
       "text": [
        "2012-07-10 18:25:45,337 INFO sqlalchemy.engine.base.Engine ()\n"
       ]
      },
      {
       "output_type": "stream",
       "stream": "stdout",
       "text": [
        "2012-07-10 18:25:45,339 INFO sqlalchemy.engine.base.Engine PRAGMA table_info(\"idx_ln_generic_Geometry_node\")\n"
       ]
      },
      {
       "output_type": "stream",
       "stream": "stdout",
       "text": [
        "2012-07-10 18:25:45,339 INFO sqlalchemy.engine.base.Engine ()\n"
       ]
      },
      {
       "output_type": "stream",
       "stream": "stdout",
       "text": [
        "2012-07-10 18:25:45,343 INFO sqlalchemy.engine.base.Engine PRAGMA foreign_key_list(\"idx_ln_generic_Geometry_node\")\n"
       ]
      },
      {
       "output_type": "stream",
       "stream": "stdout",
       "text": [
        "2012-07-10 18:25:45,343 INFO sqlalchemy.engine.base.Engine ()\n"
       ]
      },
      {
       "output_type": "stream",
       "stream": "stdout",
       "text": [
        "2012-07-10 18:25:45,344 INFO sqlalchemy.engine.base.Engine PRAGMA index_list(\"idx_ln_generic_Geometry_node\")\n"
       ]
      },
      {
       "output_type": "stream",
       "stream": "stdout",
       "text": [
        "2012-07-10 18:25:45,344 INFO sqlalchemy.engine.base.Engine ()\n"
       ]
      },
      {
       "output_type": "stream",
       "stream": "stdout",
       "text": [
        "2012-07-10 18:25:45,346 INFO sqlalchemy.engine.base.Engine PRAGMA table_info(\"idx_ln_generic_Geometry_parent\")\n"
       ]
      },
      {
       "output_type": "stream",
       "stream": "stdout",
       "text": [
        "2012-07-10 18:25:45,346 INFO sqlalchemy.engine.base.Engine ()\n"
       ]
      },
      {
       "output_type": "stream",
       "stream": "stdout",
       "text": [
        "2012-07-10 18:25:45,350 INFO sqlalchemy.engine.base.Engine PRAGMA foreign_key_list(\"idx_ln_generic_Geometry_parent\")\n"
       ]
      },
      {
       "output_type": "stream",
       "stream": "stdout",
       "text": [
        "2012-07-10 18:25:45,351 INFO sqlalchemy.engine.base.Engine ()\n"
       ]
      },
      {
       "output_type": "stream",
       "stream": "stdout",
       "text": [
        "2012-07-10 18:25:45,351 INFO sqlalchemy.engine.base.Engine PRAGMA index_list(\"idx_ln_generic_Geometry_parent\")\n"
       ]
      },
      {
       "output_type": "stream",
       "stream": "stdout",
       "text": [
        "2012-07-10 18:25:45,351 INFO sqlalchemy.engine.base.Engine ()\n"
       ]
      },
      {
       "output_type": "stream",
       "stream": "stdout",
       "text": [
        "2012-07-10 18:25:45,353 INFO sqlalchemy.engine.base.Engine PRAGMA table_info(\"idx_ln_generic_Geometry_rowid\")\n"
       ]
      },
      {
       "output_type": "stream",
       "stream": "stdout",
       "text": [
        "2012-07-10 18:25:45,354 INFO sqlalchemy.engine.base.Engine ()\n"
       ]
      },
      {
       "output_type": "stream",
       "stream": "stdout",
       "text": [
        "2012-07-10 18:25:45,357 INFO sqlalchemy.engine.base.Engine PRAGMA foreign_key_list(\"idx_ln_generic_Geometry_rowid\")\n"
       ]
      },
      {
       "output_type": "stream",
       "stream": "stdout",
       "text": [
        "2012-07-10 18:25:45,358 INFO sqlalchemy.engine.base.Engine ()\n"
       ]
      },
      {
       "output_type": "stream",
       "stream": "stdout",
       "text": [
        "2012-07-10 18:25:45,358 INFO sqlalchemy.engine.base.Engine PRAGMA index_list(\"idx_ln_generic_Geometry_rowid\")\n"
       ]
      },
      {
       "output_type": "stream",
       "stream": "stdout",
       "text": [
        "2012-07-10 18:25:45,359 INFO sqlalchemy.engine.base.Engine ()\n"
       ]
      },
      {
       "output_type": "stream",
       "stream": "stdout",
       "text": [
        "2012-07-10 18:25:45,361 INFO sqlalchemy.engine.base.Engine PRAGMA table_info(\"idx_ln_highway_Geometry\")\n"
       ]
      },
      {
       "output_type": "stream",
       "stream": "stdout",
       "text": [
        "2012-07-10 18:25:45,361 INFO sqlalchemy.engine.base.Engine ()\n"
       ]
      },
      {
       "output_type": "stream",
       "stream": "stdout",
       "text": [
        "2012-07-10 18:25:45,365 INFO sqlalchemy.engine.base.Engine PRAGMA foreign_key_list(\"idx_ln_highway_Geometry\")\n"
       ]
      },
      {
       "output_type": "stream",
       "stream": "stdout",
       "text": [
        "2012-07-10 18:25:45,365 INFO sqlalchemy.engine.base.Engine ()\n"
       ]
      },
      {
       "output_type": "stream",
       "stream": "stdout",
       "text": [
        "2012-07-10 18:25:45,366 INFO sqlalchemy.engine.base.Engine PRAGMA index_list(\"idx_ln_highway_Geometry\")\n"
       ]
      },
      {
       "output_type": "stream",
       "stream": "stdout",
       "text": [
        "2012-07-10 18:25:45,366 INFO sqlalchemy.engine.base.Engine ()\n"
       ]
      },
      {
       "output_type": "stream",
       "stream": "stdout",
       "text": [
        "2012-07-10 18:25:45,368 INFO sqlalchemy.engine.base.Engine PRAGMA table_info(\"idx_ln_highway_Geometry_node\")\n"
       ]
      },
      {
       "output_type": "stream",
       "stream": "stdout",
       "text": [
        "2012-07-10 18:25:45,369 INFO sqlalchemy.engine.base.Engine ()\n"
       ]
      },
      {
       "output_type": "stream",
       "stream": "stdout",
       "text": [
        "2012-07-10 18:25:45,372 INFO sqlalchemy.engine.base.Engine PRAGMA foreign_key_list(\"idx_ln_highway_Geometry_node\")\n"
       ]
      },
      {
       "output_type": "stream",
       "stream": "stdout",
       "text": [
        "2012-07-10 18:25:45,373 INFO sqlalchemy.engine.base.Engine ()\n"
       ]
      },
      {
       "output_type": "stream",
       "stream": "stdout",
       "text": [
        "2012-07-10 18:25:45,373 INFO sqlalchemy.engine.base.Engine PRAGMA index_list(\"idx_ln_highway_Geometry_node\")\n"
       ]
      },
      {
       "output_type": "stream",
       "stream": "stdout",
       "text": [
        "2012-07-10 18:25:45,374 INFO sqlalchemy.engine.base.Engine ()\n"
       ]
      },
      {
       "output_type": "stream",
       "stream": "stdout",
       "text": [
        "2012-07-10 18:25:45,375 INFO sqlalchemy.engine.base.Engine PRAGMA table_info(\"idx_ln_highway_Geometry_parent\")\n"
       ]
      },
      {
       "output_type": "stream",
       "stream": "stdout",
       "text": [
        "2012-07-10 18:25:45,376 INFO sqlalchemy.engine.base.Engine ()\n"
       ]
      },
      {
       "output_type": "stream",
       "stream": "stdout",
       "text": [
        "2012-07-10 18:25:45,379 INFO sqlalchemy.engine.base.Engine PRAGMA foreign_key_list(\"idx_ln_highway_Geometry_parent\")\n"
       ]
      },
      {
       "output_type": "stream",
       "stream": "stdout",
       "text": [
        "2012-07-10 18:25:45,380 INFO sqlalchemy.engine.base.Engine ()\n"
       ]
      },
      {
       "output_type": "stream",
       "stream": "stdout",
       "text": [
        "2012-07-10 18:25:45,380 INFO sqlalchemy.engine.base.Engine PRAGMA index_list(\"idx_ln_highway_Geometry_parent\")\n"
       ]
      },
      {
       "output_type": "stream",
       "stream": "stdout",
       "text": [
        "2012-07-10 18:25:45,381 INFO sqlalchemy.engine.base.Engine ()\n"
       ]
      },
      {
       "output_type": "stream",
       "stream": "stdout",
       "text": [
        "2012-07-10 18:25:45,383 INFO sqlalchemy.engine.base.Engine PRAGMA table_info(\"idx_ln_highway_Geometry_rowid\")\n"
       ]
      },
      {
       "output_type": "stream",
       "stream": "stdout",
       "text": [
        "2012-07-10 18:25:45,383 INFO sqlalchemy.engine.base.Engine ()\n"
       ]
      },
      {
       "output_type": "stream",
       "stream": "stdout",
       "text": [
        "2012-07-10 18:25:45,387 INFO sqlalchemy.engine.base.Engine PRAGMA foreign_key_list(\"idx_ln_highway_Geometry_rowid\")\n"
       ]
      },
      {
       "output_type": "stream",
       "stream": "stdout",
       "text": [
        "2012-07-10 18:25:45,387 INFO sqlalchemy.engine.base.Engine ()\n"
       ]
      },
      {
       "output_type": "stream",
       "stream": "stdout",
       "text": [
        "2012-07-10 18:25:45,388 INFO sqlalchemy.engine.base.Engine PRAGMA index_list(\"idx_ln_highway_Geometry_rowid\")\n"
       ]
      },
      {
       "output_type": "stream",
       "stream": "stdout",
       "text": [
        "2012-07-10 18:25:45,388 INFO sqlalchemy.engine.base.Engine ()\n"
       ]
      },
      {
       "output_type": "stream",
       "stream": "stdout",
       "text": [
        "2012-07-10 18:25:45,390 INFO sqlalchemy.engine.base.Engine PRAGMA table_info(\"idx_ln_junction_Geometry\")\n"
       ]
      },
      {
       "output_type": "stream",
       "stream": "stdout",
       "text": [
        "2012-07-10 18:25:45,390 INFO sqlalchemy.engine.base.Engine ()\n"
       ]
      },
      {
       "output_type": "stream",
       "stream": "stdout",
       "text": [
        "2012-07-10 18:25:45,394 INFO sqlalchemy.engine.base.Engine PRAGMA foreign_key_list(\"idx_ln_junction_Geometry\")\n"
       ]
      },
      {
       "output_type": "stream",
       "stream": "stdout",
       "text": [
        "2012-07-10 18:25:45,395 INFO sqlalchemy.engine.base.Engine ()\n"
       ]
      },
      {
       "output_type": "stream",
       "stream": "stdout",
       "text": [
        "2012-07-10 18:25:45,395 INFO sqlalchemy.engine.base.Engine PRAGMA index_list(\"idx_ln_junction_Geometry\")\n"
       ]
      },
      {
       "output_type": "stream",
       "stream": "stdout",
       "text": [
        "2012-07-10 18:25:45,396 INFO sqlalchemy.engine.base.Engine ()\n"
       ]
      },
      {
       "output_type": "stream",
       "stream": "stdout",
       "text": [
        "2012-07-10 18:25:45,397 INFO sqlalchemy.engine.base.Engine PRAGMA table_info(\"idx_ln_junction_Geometry_node\")\n"
       ]
      },
      {
       "output_type": "stream",
       "stream": "stdout",
       "text": [
        "2012-07-10 18:25:45,398 INFO sqlalchemy.engine.base.Engine ()\n"
       ]
      },
      {
       "output_type": "stream",
       "stream": "stdout",
       "text": [
        "2012-07-10 18:25:45,402 INFO sqlalchemy.engine.base.Engine PRAGMA foreign_key_list(\"idx_ln_junction_Geometry_node\")\n"
       ]
      },
      {
       "output_type": "stream",
       "stream": "stdout",
       "text": [
        "2012-07-10 18:25:45,402 INFO sqlalchemy.engine.base.Engine ()\n"
       ]
      },
      {
       "output_type": "stream",
       "stream": "stdout",
       "text": [
        "2012-07-10 18:25:45,402 INFO sqlalchemy.engine.base.Engine PRAGMA index_list(\"idx_ln_junction_Geometry_node\")\n"
       ]
      },
      {
       "output_type": "stream",
       "stream": "stdout",
       "text": [
        "2012-07-10 18:25:45,403 INFO sqlalchemy.engine.base.Engine ()\n"
       ]
      },
      {
       "output_type": "stream",
       "stream": "stdout",
       "text": [
        "2012-07-10 18:25:45,404 INFO sqlalchemy.engine.base.Engine PRAGMA table_info(\"idx_ln_junction_Geometry_parent\")\n"
       ]
      },
      {
       "output_type": "stream",
       "stream": "stdout",
       "text": [
        "2012-07-10 18:25:45,405 INFO sqlalchemy.engine.base.Engine ()\n"
       ]
      },
      {
       "output_type": "stream",
       "stream": "stdout",
       "text": [
        "2012-07-10 18:25:45,409 INFO sqlalchemy.engine.base.Engine PRAGMA foreign_key_list(\"idx_ln_junction_Geometry_parent\")\n"
       ]
      },
      {
       "output_type": "stream",
       "stream": "stdout",
       "text": [
        "2012-07-10 18:25:45,409 INFO sqlalchemy.engine.base.Engine ()\n"
       ]
      },
      {
       "output_type": "stream",
       "stream": "stdout",
       "text": [
        "2012-07-10 18:25:45,409 INFO sqlalchemy.engine.base.Engine PRAGMA index_list(\"idx_ln_junction_Geometry_parent\")\n"
       ]
      },
      {
       "output_type": "stream",
       "stream": "stdout",
       "text": [
        "2012-07-10 18:25:45,410 INFO sqlalchemy.engine.base.Engine ()\n"
       ]
      },
      {
       "output_type": "stream",
       "stream": "stdout",
       "text": [
        "2012-07-10 18:25:45,412 INFO sqlalchemy.engine.base.Engine PRAGMA table_info(\"idx_ln_junction_Geometry_rowid\")\n"
       ]
      },
      {
       "output_type": "stream",
       "stream": "stdout",
       "text": [
        "2012-07-10 18:25:45,412 INFO sqlalchemy.engine.base.Engine ()\n"
       ]
      },
      {
       "output_type": "stream",
       "stream": "stdout",
       "text": [
        "2012-07-10 18:25:45,416 INFO sqlalchemy.engine.base.Engine PRAGMA foreign_key_list(\"idx_ln_junction_Geometry_rowid\")\n"
       ]
      },
      {
       "output_type": "stream",
       "stream": "stdout",
       "text": [
        "2012-07-10 18:25:45,416 INFO sqlalchemy.engine.base.Engine ()\n"
       ]
      },
      {
       "output_type": "stream",
       "stream": "stdout",
       "text": [
        "2012-07-10 18:25:45,417 INFO sqlalchemy.engine.base.Engine PRAGMA index_list(\"idx_ln_junction_Geometry_rowid\")\n"
       ]
      },
      {
       "output_type": "stream",
       "stream": "stdout",
       "text": [
        "2012-07-10 18:25:45,417 INFO sqlalchemy.engine.base.Engine ()\n"
       ]
      },
      {
       "output_type": "stream",
       "stream": "stdout",
       "text": [
        "2012-07-10 18:25:45,419 INFO sqlalchemy.engine.base.Engine PRAGMA table_info(\"idx_ln_route_Geometry\")\n"
       ]
      },
      {
       "output_type": "stream",
       "stream": "stdout",
       "text": [
        "2012-07-10 18:25:45,419 INFO sqlalchemy.engine.base.Engine ()\n"
       ]
      },
      {
       "output_type": "stream",
       "stream": "stdout",
       "text": [
        "2012-07-10 18:25:45,423 INFO sqlalchemy.engine.base.Engine PRAGMA foreign_key_list(\"idx_ln_route_Geometry\")\n"
       ]
      },
      {
       "output_type": "stream",
       "stream": "stdout",
       "text": [
        "2012-07-10 18:25:45,424 INFO sqlalchemy.engine.base.Engine ()\n"
       ]
      },
      {
       "output_type": "stream",
       "stream": "stdout",
       "text": [
        "2012-07-10 18:25:45,424 INFO sqlalchemy.engine.base.Engine PRAGMA index_list(\"idx_ln_route_Geometry\")\n"
       ]
      },
      {
       "output_type": "stream",
       "stream": "stdout",
       "text": [
        "2012-07-10 18:25:45,425 INFO sqlalchemy.engine.base.Engine ()\n"
       ]
      },
      {
       "output_type": "stream",
       "stream": "stdout",
       "text": [
        "2012-07-10 18:25:45,427 INFO sqlalchemy.engine.base.Engine PRAGMA table_info(\"idx_ln_route_Geometry_node\")\n"
       ]
      },
      {
       "output_type": "stream",
       "stream": "stdout",
       "text": [
        "2012-07-10 18:25:45,427 INFO sqlalchemy.engine.base.Engine ()\n"
       ]
      },
      {
       "output_type": "stream",
       "stream": "stdout",
       "text": [
        "2012-07-10 18:25:45,431 INFO sqlalchemy.engine.base.Engine PRAGMA foreign_key_list(\"idx_ln_route_Geometry_node\")\n"
       ]
      },
      {
       "output_type": "stream",
       "stream": "stdout",
       "text": [
        "2012-07-10 18:25:45,431 INFO sqlalchemy.engine.base.Engine ()\n"
       ]
      },
      {
       "output_type": "stream",
       "stream": "stdout",
       "text": [
        "2012-07-10 18:25:45,432 INFO sqlalchemy.engine.base.Engine PRAGMA index_list(\"idx_ln_route_Geometry_node\")\n"
       ]
      },
      {
       "output_type": "stream",
       "stream": "stdout",
       "text": [
        "2012-07-10 18:25:45,432 INFO sqlalchemy.engine.base.Engine ()\n"
       ]
      },
      {
       "output_type": "stream",
       "stream": "stdout",
       "text": [
        "2012-07-10 18:25:45,434 INFO sqlalchemy.engine.base.Engine PRAGMA table_info(\"idx_ln_route_Geometry_parent\")\n"
       ]
      },
      {
       "output_type": "stream",
       "stream": "stdout",
       "text": [
        "2012-07-10 18:25:45,434 INFO sqlalchemy.engine.base.Engine ()\n"
       ]
      },
      {
       "output_type": "stream",
       "stream": "stdout",
       "text": [
        "2012-07-10 18:25:45,438 INFO sqlalchemy.engine.base.Engine PRAGMA foreign_key_list(\"idx_ln_route_Geometry_parent\")\n"
       ]
      },
      {
       "output_type": "stream",
       "stream": "stdout",
       "text": [
        "2012-07-10 18:25:45,438 INFO sqlalchemy.engine.base.Engine ()\n"
       ]
      },
      {
       "output_type": "stream",
       "stream": "stdout",
       "text": [
        "2012-07-10 18:25:45,438 INFO sqlalchemy.engine.base.Engine PRAGMA index_list(\"idx_ln_route_Geometry_parent\")\n"
       ]
      },
      {
       "output_type": "stream",
       "stream": "stdout",
       "text": [
        "2012-07-10 18:25:45,439 INFO sqlalchemy.engine.base.Engine ()\n"
       ]
      },
      {
       "output_type": "stream",
       "stream": "stdout",
       "text": [
        "2012-07-10 18:25:45,440 INFO sqlalchemy.engine.base.Engine PRAGMA table_info(\"idx_ln_route_Geometry_rowid\")\n"
       ]
      },
      {
       "output_type": "stream",
       "stream": "stdout",
       "text": [
        "2012-07-10 18:25:45,441 INFO sqlalchemy.engine.base.Engine ()\n"
       ]
      },
      {
       "output_type": "stream",
       "stream": "stdout",
       "text": [
        "2012-07-10 18:25:45,444 INFO sqlalchemy.engine.base.Engine PRAGMA foreign_key_list(\"idx_ln_route_Geometry_rowid\")\n"
       ]
      },
      {
       "output_type": "stream",
       "stream": "stdout",
       "text": [
        "2012-07-10 18:25:45,445 INFO sqlalchemy.engine.base.Engine ()\n"
       ]
      },
      {
       "output_type": "stream",
       "stream": "stdout",
       "text": [
        "2012-07-10 18:25:45,445 INFO sqlalchemy.engine.base.Engine PRAGMA index_list(\"idx_ln_route_Geometry_rowid\")\n"
       ]
      },
      {
       "output_type": "stream",
       "stream": "stdout",
       "text": [
        "2012-07-10 18:25:45,446 INFO sqlalchemy.engine.base.Engine ()\n"
       ]
      },
      {
       "output_type": "stream",
       "stream": "stdout",
       "text": [
        "2012-07-10 18:25:45,447 INFO sqlalchemy.engine.base.Engine PRAGMA table_info(\"idx_ln_service_Geometry\")\n"
       ]
      },
      {
       "output_type": "stream",
       "stream": "stdout",
       "text": [
        "2012-07-10 18:25:45,448 INFO sqlalchemy.engine.base.Engine ()\n"
       ]
      },
      {
       "output_type": "stream",
       "stream": "stdout",
       "text": [
        "2012-07-10 18:25:45,451 INFO sqlalchemy.engine.base.Engine PRAGMA foreign_key_list(\"idx_ln_service_Geometry\")\n"
       ]
      },
      {
       "output_type": "stream",
       "stream": "stdout",
       "text": [
        "2012-07-10 18:25:45,452 INFO sqlalchemy.engine.base.Engine ()\n"
       ]
      },
      {
       "output_type": "stream",
       "stream": "stdout",
       "text": [
        "2012-07-10 18:25:45,452 INFO sqlalchemy.engine.base.Engine PRAGMA index_list(\"idx_ln_service_Geometry\")\n"
       ]
      },
      {
       "output_type": "stream",
       "stream": "stdout",
       "text": [
        "2012-07-10 18:25:45,453 INFO sqlalchemy.engine.base.Engine ()\n"
       ]
      },
      {
       "output_type": "stream",
       "stream": "stdout",
       "text": [
        "2012-07-10 18:25:45,454 INFO sqlalchemy.engine.base.Engine PRAGMA table_info(\"idx_ln_service_Geometry_node\")\n"
       ]
      },
      {
       "output_type": "stream",
       "stream": "stdout",
       "text": [
        "2012-07-10 18:25:45,455 INFO sqlalchemy.engine.base.Engine ()\n"
       ]
      },
      {
       "output_type": "stream",
       "stream": "stdout",
       "text": [
        "2012-07-10 18:25:45,458 INFO sqlalchemy.engine.base.Engine PRAGMA foreign_key_list(\"idx_ln_service_Geometry_node\")\n"
       ]
      },
      {
       "output_type": "stream",
       "stream": "stdout",
       "text": [
        "2012-07-10 18:25:45,459 INFO sqlalchemy.engine.base.Engine ()\n"
       ]
      },
      {
       "output_type": "stream",
       "stream": "stdout",
       "text": [
        "2012-07-10 18:25:45,459 INFO sqlalchemy.engine.base.Engine PRAGMA index_list(\"idx_ln_service_Geometry_node\")\n"
       ]
      },
      {
       "output_type": "stream",
       "stream": "stdout",
       "text": [
        "2012-07-10 18:25:45,459 INFO sqlalchemy.engine.base.Engine ()\n"
       ]
      },
      {
       "output_type": "stream",
       "stream": "stdout",
       "text": [
        "2012-07-10 18:25:45,461 INFO sqlalchemy.engine.base.Engine PRAGMA table_info(\"idx_ln_service_Geometry_parent\")\n"
       ]
      },
      {
       "output_type": "stream",
       "stream": "stdout",
       "text": [
        "2012-07-10 18:25:45,462 INFO sqlalchemy.engine.base.Engine ()\n"
       ]
      },
      {
       "output_type": "stream",
       "stream": "stdout",
       "text": [
        "2012-07-10 18:25:45,465 INFO sqlalchemy.engine.base.Engine PRAGMA foreign_key_list(\"idx_ln_service_Geometry_parent\")\n"
       ]
      },
      {
       "output_type": "stream",
       "stream": "stdout",
       "text": [
        "2012-07-10 18:25:45,466 INFO sqlalchemy.engine.base.Engine ()\n"
       ]
      },
      {
       "output_type": "stream",
       "stream": "stdout",
       "text": [
        "2012-07-10 18:25:45,466 INFO sqlalchemy.engine.base.Engine PRAGMA index_list(\"idx_ln_service_Geometry_parent\")\n"
       ]
      },
      {
       "output_type": "stream",
       "stream": "stdout",
       "text": [
        "2012-07-10 18:25:45,466 INFO sqlalchemy.engine.base.Engine ()\n"
       ]
      },
      {
       "output_type": "stream",
       "stream": "stdout",
       "text": [
        "2012-07-10 18:25:45,468 INFO sqlalchemy.engine.base.Engine PRAGMA table_info(\"idx_ln_service_Geometry_rowid\")\n"
       ]
      },
      {
       "output_type": "stream",
       "stream": "stdout",
       "text": [
        "2012-07-10 18:25:45,468 INFO sqlalchemy.engine.base.Engine ()\n"
       ]
      },
      {
       "output_type": "stream",
       "stream": "stdout",
       "text": [
        "2012-07-10 18:25:45,472 INFO sqlalchemy.engine.base.Engine PRAGMA foreign_key_list(\"idx_ln_service_Geometry_rowid\")\n"
       ]
      },
      {
       "output_type": "stream",
       "stream": "stdout",
       "text": [
        "2012-07-10 18:25:45,472 INFO sqlalchemy.engine.base.Engine ()\n"
       ]
      },
      {
       "output_type": "stream",
       "stream": "stdout",
       "text": [
        "2012-07-10 18:25:45,473 INFO sqlalchemy.engine.base.Engine PRAGMA index_list(\"idx_ln_service_Geometry_rowid\")\n"
       ]
      },
      {
       "output_type": "stream",
       "stream": "stdout",
       "text": [
        "2012-07-10 18:25:45,473 INFO sqlalchemy.engine.base.Engine ()\n"
       ]
      },
      {
       "output_type": "stream",
       "stream": "stdout",
       "text": [
        "2012-07-10 18:25:45,475 INFO sqlalchemy.engine.base.Engine PRAGMA table_info(\"idx_ln_waterway_Geometry\")\n"
       ]
      },
      {
       "output_type": "stream",
       "stream": "stdout",
       "text": [
        "2012-07-10 18:25:45,475 INFO sqlalchemy.engine.base.Engine ()\n"
       ]
      },
      {
       "output_type": "stream",
       "stream": "stdout",
       "text": [
        "2012-07-10 18:25:45,479 INFO sqlalchemy.engine.base.Engine PRAGMA foreign_key_list(\"idx_ln_waterway_Geometry\")\n"
       ]
      },
      {
       "output_type": "stream",
       "stream": "stdout",
       "text": [
        "2012-07-10 18:25:45,480 INFO sqlalchemy.engine.base.Engine ()\n"
       ]
      },
      {
       "output_type": "stream",
       "stream": "stdout",
       "text": [
        "2012-07-10 18:25:45,480 INFO sqlalchemy.engine.base.Engine PRAGMA index_list(\"idx_ln_waterway_Geometry\")\n"
       ]
      },
      {
       "output_type": "stream",
       "stream": "stdout",
       "text": [
        "2012-07-10 18:25:45,480 INFO sqlalchemy.engine.base.Engine ()\n"
       ]
      },
      {
       "output_type": "stream",
       "stream": "stdout",
       "text": [
        "2012-07-10 18:25:45,482 INFO sqlalchemy.engine.base.Engine PRAGMA table_info(\"idx_ln_waterway_Geometry_node\")\n"
       ]
      },
      {
       "output_type": "stream",
       "stream": "stdout",
       "text": [
        "2012-07-10 18:25:45,483 INFO sqlalchemy.engine.base.Engine ()\n"
       ]
      },
      {
       "output_type": "stream",
       "stream": "stdout",
       "text": [
        "2012-07-10 18:25:45,487 INFO sqlalchemy.engine.base.Engine PRAGMA foreign_key_list(\"idx_ln_waterway_Geometry_node\")\n"
       ]
      },
      {
       "output_type": "stream",
       "stream": "stdout",
       "text": [
        "2012-07-10 18:25:45,487 INFO sqlalchemy.engine.base.Engine ()\n"
       ]
      },
      {
       "output_type": "stream",
       "stream": "stdout",
       "text": [
        "2012-07-10 18:25:45,487 INFO sqlalchemy.engine.base.Engine PRAGMA index_list(\"idx_ln_waterway_Geometry_node\")\n"
       ]
      },
      {
       "output_type": "stream",
       "stream": "stdout",
       "text": [
        "2012-07-10 18:25:45,488 INFO sqlalchemy.engine.base.Engine ()\n"
       ]
      },
      {
       "output_type": "stream",
       "stream": "stdout",
       "text": [
        "2012-07-10 18:25:45,490 INFO sqlalchemy.engine.base.Engine PRAGMA table_info(\"idx_ln_waterway_Geometry_parent\")\n"
       ]
      },
      {
       "output_type": "stream",
       "stream": "stdout",
       "text": [
        "2012-07-10 18:25:45,490 INFO sqlalchemy.engine.base.Engine ()\n"
       ]
      },
      {
       "output_type": "stream",
       "stream": "stdout",
       "text": [
        "2012-07-10 18:25:45,494 INFO sqlalchemy.engine.base.Engine PRAGMA foreign_key_list(\"idx_ln_waterway_Geometry_parent\")\n"
       ]
      },
      {
       "output_type": "stream",
       "stream": "stdout",
       "text": [
        "2012-07-10 18:25:45,494 INFO sqlalchemy.engine.base.Engine ()\n"
       ]
      },
      {
       "output_type": "stream",
       "stream": "stdout",
       "text": [
        "2012-07-10 18:25:45,495 INFO sqlalchemy.engine.base.Engine PRAGMA index_list(\"idx_ln_waterway_Geometry_parent\")\n"
       ]
      },
      {
       "output_type": "stream",
       "stream": "stdout",
       "text": [
        "2012-07-10 18:25:45,495 INFO sqlalchemy.engine.base.Engine ()\n"
       ]
      },
      {
       "output_type": "stream",
       "stream": "stdout",
       "text": [
        "2012-07-10 18:25:45,497 INFO sqlalchemy.engine.base.Engine PRAGMA table_info(\"idx_ln_waterway_Geometry_rowid\")\n"
       ]
      },
      {
       "output_type": "stream",
       "stream": "stdout",
       "text": [
        "2012-07-10 18:25:45,497 INFO sqlalchemy.engine.base.Engine ()\n"
       ]
      },
      {
       "output_type": "stream",
       "stream": "stdout",
       "text": [
        "2012-07-10 18:25:45,501 INFO sqlalchemy.engine.base.Engine PRAGMA foreign_key_list(\"idx_ln_waterway_Geometry_rowid\")\n"
       ]
      },
      {
       "output_type": "stream",
       "stream": "stdout",
       "text": [
        "2012-07-10 18:25:45,501 INFO sqlalchemy.engine.base.Engine ()\n"
       ]
      },
      {
       "output_type": "stream",
       "stream": "stdout",
       "text": [
        "2012-07-10 18:25:45,502 INFO sqlalchemy.engine.base.Engine PRAGMA index_list(\"idx_ln_waterway_Geometry_rowid\")\n"
       ]
      },
      {
       "output_type": "stream",
       "stream": "stdout",
       "text": [
        "2012-07-10 18:25:45,502 INFO sqlalchemy.engine.base.Engine ()\n"
       ]
      },
      {
       "output_type": "stream",
       "stream": "stdout",
       "text": [
        "2012-07-10 18:25:45,504 INFO sqlalchemy.engine.base.Engine PRAGMA table_info(\"idx_pg_amenity_Geometry\")\n"
       ]
      },
      {
       "output_type": "stream",
       "stream": "stdout",
       "text": [
        "2012-07-10 18:25:45,504 INFO sqlalchemy.engine.base.Engine ()\n"
       ]
      },
      {
       "output_type": "stream",
       "stream": "stdout",
       "text": [
        "2012-07-10 18:25:45,508 INFO sqlalchemy.engine.base.Engine PRAGMA foreign_key_list(\"idx_pg_amenity_Geometry\")\n"
       ]
      },
      {
       "output_type": "stream",
       "stream": "stdout",
       "text": [
        "2012-07-10 18:25:45,509 INFO sqlalchemy.engine.base.Engine ()\n"
       ]
      },
      {
       "output_type": "stream",
       "stream": "stdout",
       "text": [
        "2012-07-10 18:25:45,509 INFO sqlalchemy.engine.base.Engine PRAGMA index_list(\"idx_pg_amenity_Geometry\")\n"
       ]
      },
      {
       "output_type": "stream",
       "stream": "stdout",
       "text": [
        "2012-07-10 18:25:45,510 INFO sqlalchemy.engine.base.Engine ()\n"
       ]
      },
      {
       "output_type": "stream",
       "stream": "stdout",
       "text": [
        "2012-07-10 18:25:45,511 INFO sqlalchemy.engine.base.Engine PRAGMA table_info(\"idx_pg_amenity_Geometry_node\")\n"
       ]
      },
      {
       "output_type": "stream",
       "stream": "stdout",
       "text": [
        "2012-07-10 18:25:45,512 INFO sqlalchemy.engine.base.Engine ()\n"
       ]
      },
      {
       "output_type": "stream",
       "stream": "stdout",
       "text": [
        "2012-07-10 18:25:45,515 INFO sqlalchemy.engine.base.Engine PRAGMA foreign_key_list(\"idx_pg_amenity_Geometry_node\")\n"
       ]
      },
      {
       "output_type": "stream",
       "stream": "stdout",
       "text": [
        "2012-07-10 18:25:45,516 INFO sqlalchemy.engine.base.Engine ()\n"
       ]
      },
      {
       "output_type": "stream",
       "stream": "stdout",
       "text": [
        "2012-07-10 18:25:45,516 INFO sqlalchemy.engine.base.Engine PRAGMA index_list(\"idx_pg_amenity_Geometry_node\")\n"
       ]
      },
      {
       "output_type": "stream",
       "stream": "stdout",
       "text": [
        "2012-07-10 18:25:45,516 INFO sqlalchemy.engine.base.Engine ()\n"
       ]
      },
      {
       "output_type": "stream",
       "stream": "stdout",
       "text": [
        "2012-07-10 18:25:45,518 INFO sqlalchemy.engine.base.Engine PRAGMA table_info(\"idx_pg_amenity_Geometry_parent\")\n"
       ]
      },
      {
       "output_type": "stream",
       "stream": "stdout",
       "text": [
        "2012-07-10 18:25:45,518 INFO sqlalchemy.engine.base.Engine ()\n"
       ]
      },
      {
       "output_type": "stream",
       "stream": "stdout",
       "text": [
        "2012-07-10 18:25:45,522 INFO sqlalchemy.engine.base.Engine PRAGMA foreign_key_list(\"idx_pg_amenity_Geometry_parent\")\n"
       ]
      },
      {
       "output_type": "stream",
       "stream": "stdout",
       "text": [
        "2012-07-10 18:25:45,522 INFO sqlalchemy.engine.base.Engine ()\n"
       ]
      },
      {
       "output_type": "stream",
       "stream": "stdout",
       "text": [
        "2012-07-10 18:25:45,523 INFO sqlalchemy.engine.base.Engine PRAGMA index_list(\"idx_pg_amenity_Geometry_parent\")\n"
       ]
      },
      {
       "output_type": "stream",
       "stream": "stdout",
       "text": [
        "2012-07-10 18:25:45,523 INFO sqlalchemy.engine.base.Engine ()\n"
       ]
      },
      {
       "output_type": "stream",
       "stream": "stdout",
       "text": [
        "2012-07-10 18:25:45,525 INFO sqlalchemy.engine.base.Engine PRAGMA table_info(\"idx_pg_amenity_Geometry_rowid\")\n"
       ]
      },
      {
       "output_type": "stream",
       "stream": "stdout",
       "text": [
        "2012-07-10 18:25:45,525 INFO sqlalchemy.engine.base.Engine ()\n"
       ]
      },
      {
       "output_type": "stream",
       "stream": "stdout",
       "text": [
        "2012-07-10 18:25:45,529 INFO sqlalchemy.engine.base.Engine PRAGMA foreign_key_list(\"idx_pg_amenity_Geometry_rowid\")\n"
       ]
      },
      {
       "output_type": "stream",
       "stream": "stdout",
       "text": [
        "2012-07-10 18:25:45,529 INFO sqlalchemy.engine.base.Engine ()\n"
       ]
      },
      {
       "output_type": "stream",
       "stream": "stdout",
       "text": [
        "2012-07-10 18:25:45,529 INFO sqlalchemy.engine.base.Engine PRAGMA index_list(\"idx_pg_amenity_Geometry_rowid\")\n"
       ]
      },
      {
       "output_type": "stream",
       "stream": "stdout",
       "text": [
        "2012-07-10 18:25:45,530 INFO sqlalchemy.engine.base.Engine ()\n"
       ]
      },
      {
       "output_type": "stream",
       "stream": "stdout",
       "text": [
        "2012-07-10 18:25:45,531 INFO sqlalchemy.engine.base.Engine PRAGMA table_info(\"idx_pg_building_Geometry\")\n"
       ]
      },
      {
       "output_type": "stream",
       "stream": "stdout",
       "text": [
        "2012-07-10 18:25:45,532 INFO sqlalchemy.engine.base.Engine ()\n"
       ]
      },
      {
       "output_type": "stream",
       "stream": "stdout",
       "text": [
        "2012-07-10 18:25:45,536 INFO sqlalchemy.engine.base.Engine PRAGMA foreign_key_list(\"idx_pg_building_Geometry\")\n"
       ]
      },
      {
       "output_type": "stream",
       "stream": "stdout",
       "text": [
        "2012-07-10 18:25:45,536 INFO sqlalchemy.engine.base.Engine ()\n"
       ]
      },
      {
       "output_type": "stream",
       "stream": "stdout",
       "text": [
        "2012-07-10 18:25:45,536 INFO sqlalchemy.engine.base.Engine PRAGMA index_list(\"idx_pg_building_Geometry\")\n"
       ]
      },
      {
       "output_type": "stream",
       "stream": "stdout",
       "text": [
        "2012-07-10 18:25:45,537 INFO sqlalchemy.engine.base.Engine ()\n"
       ]
      },
      {
       "output_type": "stream",
       "stream": "stdout",
       "text": [
        "2012-07-10 18:25:45,539 INFO sqlalchemy.engine.base.Engine PRAGMA table_info(\"idx_pg_building_Geometry_node\")\n"
       ]
      },
      {
       "output_type": "stream",
       "stream": "stdout",
       "text": [
        "2012-07-10 18:25:45,539 INFO sqlalchemy.engine.base.Engine ()\n"
       ]
      },
      {
       "output_type": "stream",
       "stream": "stdout",
       "text": [
        "2012-07-10 18:25:45,543 INFO sqlalchemy.engine.base.Engine PRAGMA foreign_key_list(\"idx_pg_building_Geometry_node\")\n"
       ]
      },
      {
       "output_type": "stream",
       "stream": "stdout",
       "text": [
        "2012-07-10 18:25:45,543 INFO sqlalchemy.engine.base.Engine ()\n"
       ]
      },
      {
       "output_type": "stream",
       "stream": "stdout",
       "text": [
        "2012-07-10 18:25:45,544 INFO sqlalchemy.engine.base.Engine PRAGMA index_list(\"idx_pg_building_Geometry_node\")\n"
       ]
      },
      {
       "output_type": "stream",
       "stream": "stdout",
       "text": [
        "2012-07-10 18:25:45,544 INFO sqlalchemy.engine.base.Engine ()\n"
       ]
      },
      {
       "output_type": "stream",
       "stream": "stdout",
       "text": [
        "2012-07-10 18:25:45,546 INFO sqlalchemy.engine.base.Engine PRAGMA table_info(\"idx_pg_building_Geometry_parent\")\n"
       ]
      },
      {
       "output_type": "stream",
       "stream": "stdout",
       "text": [
        "2012-07-10 18:25:45,546 INFO sqlalchemy.engine.base.Engine ()\n"
       ]
      },
      {
       "output_type": "stream",
       "stream": "stdout",
       "text": [
        "2012-07-10 18:25:45,550 INFO sqlalchemy.engine.base.Engine PRAGMA foreign_key_list(\"idx_pg_building_Geometry_parent\")\n"
       ]
      },
      {
       "output_type": "stream",
       "stream": "stdout",
       "text": [
        "2012-07-10 18:25:45,550 INFO sqlalchemy.engine.base.Engine ()\n"
       ]
      },
      {
       "output_type": "stream",
       "stream": "stdout",
       "text": [
        "2012-07-10 18:25:45,550 INFO sqlalchemy.engine.base.Engine PRAGMA index_list(\"idx_pg_building_Geometry_parent\")\n"
       ]
      },
      {
       "output_type": "stream",
       "stream": "stdout",
       "text": [
        "2012-07-10 18:25:45,551 INFO sqlalchemy.engine.base.Engine ()\n"
       ]
      },
      {
       "output_type": "stream",
       "stream": "stdout",
       "text": [
        "2012-07-10 18:25:45,552 INFO sqlalchemy.engine.base.Engine PRAGMA table_info(\"idx_pg_building_Geometry_rowid\")\n"
       ]
      },
      {
       "output_type": "stream",
       "stream": "stdout",
       "text": [
        "2012-07-10 18:25:45,553 INFO sqlalchemy.engine.base.Engine ()\n"
       ]
      },
      {
       "output_type": "stream",
       "stream": "stdout",
       "text": [
        "2012-07-10 18:25:45,556 INFO sqlalchemy.engine.base.Engine PRAGMA foreign_key_list(\"idx_pg_building_Geometry_rowid\")\n"
       ]
      },
      {
       "output_type": "stream",
       "stream": "stdout",
       "text": [
        "2012-07-10 18:25:45,557 INFO sqlalchemy.engine.base.Engine ()\n"
       ]
      },
      {
       "output_type": "stream",
       "stream": "stdout",
       "text": [
        "2012-07-10 18:25:45,557 INFO sqlalchemy.engine.base.Engine PRAGMA index_list(\"idx_pg_building_Geometry_rowid\")\n"
       ]
      },
      {
       "output_type": "stream",
       "stream": "stdout",
       "text": [
        "2012-07-10 18:25:45,557 INFO sqlalchemy.engine.base.Engine ()\n"
       ]
      },
      {
       "output_type": "stream",
       "stream": "stdout",
       "text": [
        "2012-07-10 18:25:45,559 INFO sqlalchemy.engine.base.Engine PRAGMA table_info(\"idx_pg_generic_Geometry\")\n"
       ]
      },
      {
       "output_type": "stream",
       "stream": "stdout",
       "text": [
        "2012-07-10 18:25:45,560 INFO sqlalchemy.engine.base.Engine ()\n"
       ]
      },
      {
       "output_type": "stream",
       "stream": "stdout",
       "text": [
        "2012-07-10 18:25:45,564 INFO sqlalchemy.engine.base.Engine PRAGMA foreign_key_list(\"idx_pg_generic_Geometry\")\n"
       ]
      },
      {
       "output_type": "stream",
       "stream": "stdout",
       "text": [
        "2012-07-10 18:25:45,564 INFO sqlalchemy.engine.base.Engine ()\n"
       ]
      },
      {
       "output_type": "stream",
       "stream": "stdout",
       "text": [
        "2012-07-10 18:25:45,564 INFO sqlalchemy.engine.base.Engine PRAGMA index_list(\"idx_pg_generic_Geometry\")\n"
       ]
      },
      {
       "output_type": "stream",
       "stream": "stdout",
       "text": [
        "2012-07-10 18:25:45,565 INFO sqlalchemy.engine.base.Engine ()\n"
       ]
      },
      {
       "output_type": "stream",
       "stream": "stdout",
       "text": [
        "2012-07-10 18:25:45,566 INFO sqlalchemy.engine.base.Engine PRAGMA table_info(\"idx_pg_generic_Geometry_node\")\n"
       ]
      },
      {
       "output_type": "stream",
       "stream": "stdout",
       "text": [
        "2012-07-10 18:25:45,567 INFO sqlalchemy.engine.base.Engine ()\n"
       ]
      },
      {
       "output_type": "stream",
       "stream": "stdout",
       "text": [
        "2012-07-10 18:25:45,571 INFO sqlalchemy.engine.base.Engine PRAGMA foreign_key_list(\"idx_pg_generic_Geometry_node\")\n"
       ]
      },
      {
       "output_type": "stream",
       "stream": "stdout",
       "text": [
        "2012-07-10 18:25:45,571 INFO sqlalchemy.engine.base.Engine ()\n"
       ]
      },
      {
       "output_type": "stream",
       "stream": "stdout",
       "text": [
        "2012-07-10 18:25:45,571 INFO sqlalchemy.engine.base.Engine PRAGMA index_list(\"idx_pg_generic_Geometry_node\")\n"
       ]
      },
      {
       "output_type": "stream",
       "stream": "stdout",
       "text": [
        "2012-07-10 18:25:45,572 INFO sqlalchemy.engine.base.Engine ()\n"
       ]
      },
      {
       "output_type": "stream",
       "stream": "stdout",
       "text": [
        "2012-07-10 18:25:45,574 INFO sqlalchemy.engine.base.Engine PRAGMA table_info(\"idx_pg_generic_Geometry_parent\")\n"
       ]
      },
      {
       "output_type": "stream",
       "stream": "stdout",
       "text": [
        "2012-07-10 18:25:45,574 INFO sqlalchemy.engine.base.Engine ()\n"
       ]
      },
      {
       "output_type": "stream",
       "stream": "stdout",
       "text": [
        "2012-07-10 18:25:45,577 INFO sqlalchemy.engine.base.Engine PRAGMA foreign_key_list(\"idx_pg_generic_Geometry_parent\")\n"
       ]
      },
      {
       "output_type": "stream",
       "stream": "stdout",
       "text": [
        "2012-07-10 18:25:45,578 INFO sqlalchemy.engine.base.Engine ()\n"
       ]
      },
      {
       "output_type": "stream",
       "stream": "stdout",
       "text": [
        "2012-07-10 18:25:45,578 INFO sqlalchemy.engine.base.Engine PRAGMA index_list(\"idx_pg_generic_Geometry_parent\")\n"
       ]
      },
      {
       "output_type": "stream",
       "stream": "stdout",
       "text": [
        "2012-07-10 18:25:45,579 INFO sqlalchemy.engine.base.Engine ()\n"
       ]
      },
      {
       "output_type": "stream",
       "stream": "stdout",
       "text": [
        "2012-07-10 18:25:45,580 INFO sqlalchemy.engine.base.Engine PRAGMA table_info(\"idx_pg_generic_Geometry_rowid\")\n"
       ]
      },
      {
       "output_type": "stream",
       "stream": "stdout",
       "text": [
        "2012-07-10 18:25:45,581 INFO sqlalchemy.engine.base.Engine ()\n"
       ]
      },
      {
       "output_type": "stream",
       "stream": "stdout",
       "text": [
        "2012-07-10 18:25:45,584 INFO sqlalchemy.engine.base.Engine PRAGMA foreign_key_list(\"idx_pg_generic_Geometry_rowid\")\n"
       ]
      },
      {
       "output_type": "stream",
       "stream": "stdout",
       "text": [
        "2012-07-10 18:25:45,585 INFO sqlalchemy.engine.base.Engine ()\n"
       ]
      },
      {
       "output_type": "stream",
       "stream": "stdout",
       "text": [
        "2012-07-10 18:25:45,585 INFO sqlalchemy.engine.base.Engine PRAGMA index_list(\"idx_pg_generic_Geometry_rowid\")\n"
       ]
      },
      {
       "output_type": "stream",
       "stream": "stdout",
       "text": [
        "2012-07-10 18:25:45,585 INFO sqlalchemy.engine.base.Engine ()\n"
       ]
      },
      {
       "output_type": "stream",
       "stream": "stdout",
       "text": [
        "2012-07-10 18:25:45,587 INFO sqlalchemy.engine.base.Engine PRAGMA table_info(\"idx_pg_highway_Geometry\")\n"
       ]
      },
      {
       "output_type": "stream",
       "stream": "stdout",
       "text": [
        "2012-07-10 18:25:45,587 INFO sqlalchemy.engine.base.Engine ()\n"
       ]
      },
      {
       "output_type": "stream",
       "stream": "stdout",
       "text": [
        "2012-07-10 18:25:45,592 INFO sqlalchemy.engine.base.Engine PRAGMA foreign_key_list(\"idx_pg_highway_Geometry\")\n"
       ]
      },
      {
       "output_type": "stream",
       "stream": "stdout",
       "text": [
        "2012-07-10 18:25:45,592 INFO sqlalchemy.engine.base.Engine ()\n"
       ]
      },
      {
       "output_type": "stream",
       "stream": "stdout",
       "text": [
        "2012-07-10 18:25:45,592 INFO sqlalchemy.engine.base.Engine PRAGMA index_list(\"idx_pg_highway_Geometry\")\n"
       ]
      },
      {
       "output_type": "stream",
       "stream": "stdout",
       "text": [
        "2012-07-10 18:25:45,593 INFO sqlalchemy.engine.base.Engine ()\n"
       ]
      },
      {
       "output_type": "stream",
       "stream": "stdout",
       "text": [
        "2012-07-10 18:25:45,595 INFO sqlalchemy.engine.base.Engine PRAGMA table_info(\"idx_pg_highway_Geometry_node\")\n"
       ]
      },
      {
       "output_type": "stream",
       "stream": "stdout",
       "text": [
        "2012-07-10 18:25:45,595 INFO sqlalchemy.engine.base.Engine ()\n"
       ]
      },
      {
       "output_type": "stream",
       "stream": "stdout",
       "text": [
        "2012-07-10 18:25:45,599 INFO sqlalchemy.engine.base.Engine PRAGMA foreign_key_list(\"idx_pg_highway_Geometry_node\")\n"
       ]
      },
      {
       "output_type": "stream",
       "stream": "stdout",
       "text": [
        "2012-07-10 18:25:45,599 INFO sqlalchemy.engine.base.Engine ()\n"
       ]
      },
      {
       "output_type": "stream",
       "stream": "stdout",
       "text": [
        "2012-07-10 18:25:45,599 INFO sqlalchemy.engine.base.Engine PRAGMA index_list(\"idx_pg_highway_Geometry_node\")\n"
       ]
      },
      {
       "output_type": "stream",
       "stream": "stdout",
       "text": [
        "2012-07-10 18:25:45,600 INFO sqlalchemy.engine.base.Engine ()\n"
       ]
      },
      {
       "output_type": "stream",
       "stream": "stdout",
       "text": [
        "2012-07-10 18:25:45,601 INFO sqlalchemy.engine.base.Engine PRAGMA table_info(\"idx_pg_highway_Geometry_parent\")\n"
       ]
      },
      {
       "output_type": "stream",
       "stream": "stdout",
       "text": [
        "2012-07-10 18:25:45,602 INFO sqlalchemy.engine.base.Engine ()\n"
       ]
      },
      {
       "output_type": "stream",
       "stream": "stdout",
       "text": [
        "2012-07-10 18:25:45,605 INFO sqlalchemy.engine.base.Engine PRAGMA foreign_key_list(\"idx_pg_highway_Geometry_parent\")\n"
       ]
      },
      {
       "output_type": "stream",
       "stream": "stdout",
       "text": [
        "2012-07-10 18:25:45,606 INFO sqlalchemy.engine.base.Engine ()\n"
       ]
      },
      {
       "output_type": "stream",
       "stream": "stdout",
       "text": [
        "2012-07-10 18:25:45,606 INFO sqlalchemy.engine.base.Engine PRAGMA index_list(\"idx_pg_highway_Geometry_parent\")\n"
       ]
      },
      {
       "output_type": "stream",
       "stream": "stdout",
       "text": [
        "2012-07-10 18:25:45,607 INFO sqlalchemy.engine.base.Engine ()\n"
       ]
      },
      {
       "output_type": "stream",
       "stream": "stdout",
       "text": [
        "2012-07-10 18:25:45,608 INFO sqlalchemy.engine.base.Engine PRAGMA table_info(\"idx_pg_highway_Geometry_rowid\")\n"
       ]
      },
      {
       "output_type": "stream",
       "stream": "stdout",
       "text": [
        "2012-07-10 18:25:45,609 INFO sqlalchemy.engine.base.Engine ()\n"
       ]
      },
      {
       "output_type": "stream",
       "stream": "stdout",
       "text": [
        "2012-07-10 18:25:45,613 INFO sqlalchemy.engine.base.Engine PRAGMA foreign_key_list(\"idx_pg_highway_Geometry_rowid\")\n"
       ]
      },
      {
       "output_type": "stream",
       "stream": "stdout",
       "text": [
        "2012-07-10 18:25:45,613 INFO sqlalchemy.engine.base.Engine ()\n"
       ]
      },
      {
       "output_type": "stream",
       "stream": "stdout",
       "text": [
        "2012-07-10 18:25:45,613 INFO sqlalchemy.engine.base.Engine PRAGMA index_list(\"idx_pg_highway_Geometry_rowid\")\n"
       ]
      },
      {
       "output_type": "stream",
       "stream": "stdout",
       "text": [
        "2012-07-10 18:25:45,614 INFO sqlalchemy.engine.base.Engine ()\n"
       ]
      },
      {
       "output_type": "stream",
       "stream": "stdout",
       "text": [
        "2012-07-10 18:25:45,615 INFO sqlalchemy.engine.base.Engine PRAGMA table_info(\"idx_pg_landuse_Geometry\")\n"
       ]
      },
      {
       "output_type": "stream",
       "stream": "stdout",
       "text": [
        "2012-07-10 18:25:45,616 INFO sqlalchemy.engine.base.Engine ()\n"
       ]
      },
      {
       "output_type": "stream",
       "stream": "stdout",
       "text": [
        "2012-07-10 18:25:45,620 INFO sqlalchemy.engine.base.Engine PRAGMA foreign_key_list(\"idx_pg_landuse_Geometry\")\n"
       ]
      },
      {
       "output_type": "stream",
       "stream": "stdout",
       "text": [
        "2012-07-10 18:25:45,620 INFO sqlalchemy.engine.base.Engine ()\n"
       ]
      },
      {
       "output_type": "stream",
       "stream": "stdout",
       "text": [
        "2012-07-10 18:25:45,621 INFO sqlalchemy.engine.base.Engine PRAGMA index_list(\"idx_pg_landuse_Geometry\")\n"
       ]
      },
      {
       "output_type": "stream",
       "stream": "stdout",
       "text": [
        "2012-07-10 18:25:45,621 INFO sqlalchemy.engine.base.Engine ()\n"
       ]
      },
      {
       "output_type": "stream",
       "stream": "stdout",
       "text": [
        "2012-07-10 18:25:45,623 INFO sqlalchemy.engine.base.Engine PRAGMA table_info(\"idx_pg_landuse_Geometry_node\")\n"
       ]
      },
      {
       "output_type": "stream",
       "stream": "stdout",
       "text": [
        "2012-07-10 18:25:45,623 INFO sqlalchemy.engine.base.Engine ()\n"
       ]
      },
      {
       "output_type": "stream",
       "stream": "stdout",
       "text": [
        "2012-07-10 18:25:45,627 INFO sqlalchemy.engine.base.Engine PRAGMA foreign_key_list(\"idx_pg_landuse_Geometry_node\")\n"
       ]
      },
      {
       "output_type": "stream",
       "stream": "stdout",
       "text": [
        "2012-07-10 18:25:45,627 INFO sqlalchemy.engine.base.Engine ()\n"
       ]
      },
      {
       "output_type": "stream",
       "stream": "stdout",
       "text": [
        "2012-07-10 18:25:45,627 INFO sqlalchemy.engine.base.Engine PRAGMA index_list(\"idx_pg_landuse_Geometry_node\")\n"
       ]
      },
      {
       "output_type": "stream",
       "stream": "stdout",
       "text": [
        "2012-07-10 18:25:45,628 INFO sqlalchemy.engine.base.Engine ()\n"
       ]
      },
      {
       "output_type": "stream",
       "stream": "stdout",
       "text": [
        "2012-07-10 18:25:45,629 INFO sqlalchemy.engine.base.Engine PRAGMA table_info(\"idx_pg_landuse_Geometry_parent\")\n"
       ]
      },
      {
       "output_type": "stream",
       "stream": "stdout",
       "text": [
        "2012-07-10 18:25:45,630 INFO sqlalchemy.engine.base.Engine ()\n"
       ]
      },
      {
       "output_type": "stream",
       "stream": "stdout",
       "text": [
        "2012-07-10 18:25:45,633 INFO sqlalchemy.engine.base.Engine PRAGMA foreign_key_list(\"idx_pg_landuse_Geometry_parent\")\n"
       ]
      },
      {
       "output_type": "stream",
       "stream": "stdout",
       "text": [
        "2012-07-10 18:25:45,634 INFO sqlalchemy.engine.base.Engine ()\n"
       ]
      },
      {
       "output_type": "stream",
       "stream": "stdout",
       "text": [
        "2012-07-10 18:25:45,634 INFO sqlalchemy.engine.base.Engine PRAGMA index_list(\"idx_pg_landuse_Geometry_parent\")\n"
       ]
      },
      {
       "output_type": "stream",
       "stream": "stdout",
       "text": [
        "2012-07-10 18:25:45,634 INFO sqlalchemy.engine.base.Engine ()\n"
       ]
      },
      {
       "output_type": "stream",
       "stream": "stdout",
       "text": [
        "2012-07-10 18:25:45,636 INFO sqlalchemy.engine.base.Engine PRAGMA table_info(\"idx_pg_landuse_Geometry_rowid\")\n"
       ]
      },
      {
       "output_type": "stream",
       "stream": "stdout",
       "text": [
        "2012-07-10 18:25:45,636 INFO sqlalchemy.engine.base.Engine ()\n"
       ]
      },
      {
       "output_type": "stream",
       "stream": "stdout",
       "text": [
        "2012-07-10 18:25:45,640 INFO sqlalchemy.engine.base.Engine PRAGMA foreign_key_list(\"idx_pg_landuse_Geometry_rowid\")\n"
       ]
      },
      {
       "output_type": "stream",
       "stream": "stdout",
       "text": [
        "2012-07-10 18:25:45,641 INFO sqlalchemy.engine.base.Engine ()\n"
       ]
      },
      {
       "output_type": "stream",
       "stream": "stdout",
       "text": [
        "2012-07-10 18:25:45,641 INFO sqlalchemy.engine.base.Engine PRAGMA index_list(\"idx_pg_landuse_Geometry_rowid\")\n"
       ]
      },
      {
       "output_type": "stream",
       "stream": "stdout",
       "text": [
        "2012-07-10 18:25:45,641 INFO sqlalchemy.engine.base.Engine ()\n"
       ]
      },
      {
       "output_type": "stream",
       "stream": "stdout",
       "text": [
        "2012-07-10 18:25:45,643 INFO sqlalchemy.engine.base.Engine PRAGMA table_info(\"idx_pg_leisure_Geometry\")\n"
       ]
      },
      {
       "output_type": "stream",
       "stream": "stdout",
       "text": [
        "2012-07-10 18:25:45,643 INFO sqlalchemy.engine.base.Engine ()\n"
       ]
      },
      {
       "output_type": "stream",
       "stream": "stdout",
       "text": [
        "2012-07-10 18:25:45,648 INFO sqlalchemy.engine.base.Engine PRAGMA foreign_key_list(\"idx_pg_leisure_Geometry\")\n"
       ]
      },
      {
       "output_type": "stream",
       "stream": "stdout",
       "text": [
        "2012-07-10 18:25:45,648 INFO sqlalchemy.engine.base.Engine ()\n"
       ]
      },
      {
       "output_type": "stream",
       "stream": "stdout",
       "text": [
        "2012-07-10 18:25:45,648 INFO sqlalchemy.engine.base.Engine PRAGMA index_list(\"idx_pg_leisure_Geometry\")\n"
       ]
      },
      {
       "output_type": "stream",
       "stream": "stdout",
       "text": [
        "2012-07-10 18:25:45,649 INFO sqlalchemy.engine.base.Engine ()\n"
       ]
      },
      {
       "output_type": "stream",
       "stream": "stdout",
       "text": [
        "2012-07-10 18:25:45,650 INFO sqlalchemy.engine.base.Engine PRAGMA table_info(\"idx_pg_leisure_Geometry_node\")\n"
       ]
      },
      {
       "output_type": "stream",
       "stream": "stdout",
       "text": [
        "2012-07-10 18:25:45,651 INFO sqlalchemy.engine.base.Engine ()\n"
       ]
      },
      {
       "output_type": "stream",
       "stream": "stdout",
       "text": [
        "2012-07-10 18:25:45,655 INFO sqlalchemy.engine.base.Engine PRAGMA foreign_key_list(\"idx_pg_leisure_Geometry_node\")\n"
       ]
      },
      {
       "output_type": "stream",
       "stream": "stdout",
       "text": [
        "2012-07-10 18:25:45,655 INFO sqlalchemy.engine.base.Engine ()\n"
       ]
      },
      {
       "output_type": "stream",
       "stream": "stdout",
       "text": [
        "2012-07-10 18:25:45,656 INFO sqlalchemy.engine.base.Engine PRAGMA index_list(\"idx_pg_leisure_Geometry_node\")\n"
       ]
      },
      {
       "output_type": "stream",
       "stream": "stdout",
       "text": [
        "2012-07-10 18:25:45,656 INFO sqlalchemy.engine.base.Engine ()\n"
       ]
      },
      {
       "output_type": "stream",
       "stream": "stdout",
       "text": [
        "2012-07-10 18:25:45,658 INFO sqlalchemy.engine.base.Engine PRAGMA table_info(\"idx_pg_leisure_Geometry_parent\")\n"
       ]
      },
      {
       "output_type": "stream",
       "stream": "stdout",
       "text": [
        "2012-07-10 18:25:45,658 INFO sqlalchemy.engine.base.Engine ()\n"
       ]
      },
      {
       "output_type": "stream",
       "stream": "stdout",
       "text": [
        "2012-07-10 18:25:45,662 INFO sqlalchemy.engine.base.Engine PRAGMA foreign_key_list(\"idx_pg_leisure_Geometry_parent\")\n"
       ]
      },
      {
       "output_type": "stream",
       "stream": "stdout",
       "text": [
        "2012-07-10 18:25:45,663 INFO sqlalchemy.engine.base.Engine ()\n"
       ]
      },
      {
       "output_type": "stream",
       "stream": "stdout",
       "text": [
        "2012-07-10 18:25:45,663 INFO sqlalchemy.engine.base.Engine PRAGMA index_list(\"idx_pg_leisure_Geometry_parent\")\n"
       ]
      },
      {
       "output_type": "stream",
       "stream": "stdout",
       "text": [
        "2012-07-10 18:25:45,663 INFO sqlalchemy.engine.base.Engine ()\n"
       ]
      },
      {
       "output_type": "stream",
       "stream": "stdout",
       "text": [
        "2012-07-10 18:25:45,665 INFO sqlalchemy.engine.base.Engine PRAGMA table_info(\"idx_pg_leisure_Geometry_rowid\")\n"
       ]
      },
      {
       "output_type": "stream",
       "stream": "stdout",
       "text": [
        "2012-07-10 18:25:45,665 INFO sqlalchemy.engine.base.Engine ()\n"
       ]
      },
      {
       "output_type": "stream",
       "stream": "stdout",
       "text": [
        "2012-07-10 18:25:45,669 INFO sqlalchemy.engine.base.Engine PRAGMA foreign_key_list(\"idx_pg_leisure_Geometry_rowid\")\n"
       ]
      },
      {
       "output_type": "stream",
       "stream": "stdout",
       "text": [
        "2012-07-10 18:25:45,669 INFO sqlalchemy.engine.base.Engine ()\n"
       ]
      },
      {
       "output_type": "stream",
       "stream": "stdout",
       "text": [
        "2012-07-10 18:25:45,670 INFO sqlalchemy.engine.base.Engine PRAGMA index_list(\"idx_pg_leisure_Geometry_rowid\")\n"
       ]
      },
      {
       "output_type": "stream",
       "stream": "stdout",
       "text": [
        "2012-07-10 18:25:45,670 INFO sqlalchemy.engine.base.Engine ()\n"
       ]
      },
      {
       "output_type": "stream",
       "stream": "stdout",
       "text": [
        "2012-07-10 18:25:45,672 INFO sqlalchemy.engine.base.Engine PRAGMA table_info(\"idx_pg_natural_Geometry\")\n"
       ]
      },
      {
       "output_type": "stream",
       "stream": "stdout",
       "text": [
        "2012-07-10 18:25:45,672 INFO sqlalchemy.engine.base.Engine ()\n"
       ]
      },
      {
       "output_type": "stream",
       "stream": "stdout",
       "text": [
        "2012-07-10 18:25:45,676 INFO sqlalchemy.engine.base.Engine PRAGMA foreign_key_list(\"idx_pg_natural_Geometry\")\n"
       ]
      },
      {
       "output_type": "stream",
       "stream": "stdout",
       "text": [
        "2012-07-10 18:25:45,676 INFO sqlalchemy.engine.base.Engine ()\n"
       ]
      },
      {
       "output_type": "stream",
       "stream": "stdout",
       "text": [
        "2012-07-10 18:25:45,677 INFO sqlalchemy.engine.base.Engine PRAGMA index_list(\"idx_pg_natural_Geometry\")\n"
       ]
      },
      {
       "output_type": "stream",
       "stream": "stdout",
       "text": [
        "2012-07-10 18:25:45,677 INFO sqlalchemy.engine.base.Engine ()\n"
       ]
      },
      {
       "output_type": "stream",
       "stream": "stdout",
       "text": [
        "2012-07-10 18:25:45,679 INFO sqlalchemy.engine.base.Engine PRAGMA table_info(\"idx_pg_natural_Geometry_node\")\n"
       ]
      },
      {
       "output_type": "stream",
       "stream": "stdout",
       "text": [
        "2012-07-10 18:25:45,679 INFO sqlalchemy.engine.base.Engine ()\n"
       ]
      },
      {
       "output_type": "stream",
       "stream": "stdout",
       "text": [
        "2012-07-10 18:25:45,683 INFO sqlalchemy.engine.base.Engine PRAGMA foreign_key_list(\"idx_pg_natural_Geometry_node\")\n"
       ]
      },
      {
       "output_type": "stream",
       "stream": "stdout",
       "text": [
        "2012-07-10 18:25:45,683 INFO sqlalchemy.engine.base.Engine ()\n"
       ]
      },
      {
       "output_type": "stream",
       "stream": "stdout",
       "text": [
        "2012-07-10 18:25:45,684 INFO sqlalchemy.engine.base.Engine PRAGMA index_list(\"idx_pg_natural_Geometry_node\")\n"
       ]
      },
      {
       "output_type": "stream",
       "stream": "stdout",
       "text": [
        "2012-07-10 18:25:45,684 INFO sqlalchemy.engine.base.Engine ()\n"
       ]
      },
      {
       "output_type": "stream",
       "stream": "stdout",
       "text": [
        "2012-07-10 18:25:45,686 INFO sqlalchemy.engine.base.Engine PRAGMA table_info(\"idx_pg_natural_Geometry_parent\")\n"
       ]
      },
      {
       "output_type": "stream",
       "stream": "stdout",
       "text": [
        "2012-07-10 18:25:45,686 INFO sqlalchemy.engine.base.Engine ()\n"
       ]
      },
      {
       "output_type": "stream",
       "stream": "stdout",
       "text": [
        "2012-07-10 18:25:45,690 INFO sqlalchemy.engine.base.Engine PRAGMA foreign_key_list(\"idx_pg_natural_Geometry_parent\")\n"
       ]
      },
      {
       "output_type": "stream",
       "stream": "stdout",
       "text": [
        "2012-07-10 18:25:45,691 INFO sqlalchemy.engine.base.Engine ()\n"
       ]
      },
      {
       "output_type": "stream",
       "stream": "stdout",
       "text": [
        "2012-07-10 18:25:45,691 INFO sqlalchemy.engine.base.Engine PRAGMA index_list(\"idx_pg_natural_Geometry_parent\")\n"
       ]
      },
      {
       "output_type": "stream",
       "stream": "stdout",
       "text": [
        "2012-07-10 18:25:45,692 INFO sqlalchemy.engine.base.Engine ()\n"
       ]
      },
      {
       "output_type": "stream",
       "stream": "stdout",
       "text": [
        "2012-07-10 18:25:45,694 INFO sqlalchemy.engine.base.Engine PRAGMA table_info(\"idx_pg_natural_Geometry_rowid\")\n"
       ]
      },
      {
       "output_type": "stream",
       "stream": "stdout",
       "text": [
        "2012-07-10 18:25:45,694 INFO sqlalchemy.engine.base.Engine ()\n"
       ]
      },
      {
       "output_type": "stream",
       "stream": "stdout",
       "text": [
        "2012-07-10 18:25:45,698 INFO sqlalchemy.engine.base.Engine PRAGMA foreign_key_list(\"idx_pg_natural_Geometry_rowid\")\n"
       ]
      },
      {
       "output_type": "stream",
       "stream": "stdout",
       "text": [
        "2012-07-10 18:25:45,698 INFO sqlalchemy.engine.base.Engine ()\n"
       ]
      },
      {
       "output_type": "stream",
       "stream": "stdout",
       "text": [
        "2012-07-10 18:25:45,698 INFO sqlalchemy.engine.base.Engine PRAGMA index_list(\"idx_pg_natural_Geometry_rowid\")\n"
       ]
      },
      {
       "output_type": "stream",
       "stream": "stdout",
       "text": [
        "2012-07-10 18:25:45,699 INFO sqlalchemy.engine.base.Engine ()\n"
       ]
      },
      {
       "output_type": "stream",
       "stream": "stdout",
       "text": [
        "2012-07-10 18:25:45,700 INFO sqlalchemy.engine.base.Engine PRAGMA table_info(\"idx_pg_shop_Geometry\")\n"
       ]
      },
      {
       "output_type": "stream",
       "stream": "stdout",
       "text": [
        "2012-07-10 18:25:45,701 INFO sqlalchemy.engine.base.Engine ()\n"
       ]
      },
      {
       "output_type": "stream",
       "stream": "stdout",
       "text": [
        "2012-07-10 18:25:45,705 INFO sqlalchemy.engine.base.Engine PRAGMA foreign_key_list(\"idx_pg_shop_Geometry\")\n"
       ]
      },
      {
       "output_type": "stream",
       "stream": "stdout",
       "text": [
        "2012-07-10 18:25:45,705 INFO sqlalchemy.engine.base.Engine ()\n"
       ]
      },
      {
       "output_type": "stream",
       "stream": "stdout",
       "text": [
        "2012-07-10 18:25:45,705 INFO sqlalchemy.engine.base.Engine PRAGMA index_list(\"idx_pg_shop_Geometry\")\n"
       ]
      },
      {
       "output_type": "stream",
       "stream": "stdout",
       "text": [
        "2012-07-10 18:25:45,706 INFO sqlalchemy.engine.base.Engine ()\n"
       ]
      },
      {
       "output_type": "stream",
       "stream": "stdout",
       "text": [
        "2012-07-10 18:25:45,708 INFO sqlalchemy.engine.base.Engine PRAGMA table_info(\"idx_pg_shop_Geometry_node\")\n"
       ]
      },
      {
       "output_type": "stream",
       "stream": "stdout",
       "text": [
        "2012-07-10 18:25:45,708 INFO sqlalchemy.engine.base.Engine ()\n"
       ]
      },
      {
       "output_type": "stream",
       "stream": "stdout",
       "text": [
        "2012-07-10 18:25:45,713 INFO sqlalchemy.engine.base.Engine PRAGMA foreign_key_list(\"idx_pg_shop_Geometry_node\")\n"
       ]
      },
      {
       "output_type": "stream",
       "stream": "stdout",
       "text": [
        "2012-07-10 18:25:45,714 INFO sqlalchemy.engine.base.Engine ()\n"
       ]
      },
      {
       "output_type": "stream",
       "stream": "stdout",
       "text": [
        "2012-07-10 18:25:45,714 INFO sqlalchemy.engine.base.Engine PRAGMA index_list(\"idx_pg_shop_Geometry_node\")\n"
       ]
      },
      {
       "output_type": "stream",
       "stream": "stdout",
       "text": [
        "2012-07-10 18:25:45,714 INFO sqlalchemy.engine.base.Engine ()\n"
       ]
      },
      {
       "output_type": "stream",
       "stream": "stdout",
       "text": [
        "2012-07-10 18:25:45,716 INFO sqlalchemy.engine.base.Engine PRAGMA table_info(\"idx_pg_shop_Geometry_parent\")\n"
       ]
      },
      {
       "output_type": "stream",
       "stream": "stdout",
       "text": [
        "2012-07-10 18:25:45,717 INFO sqlalchemy.engine.base.Engine ()\n"
       ]
      },
      {
       "output_type": "stream",
       "stream": "stdout",
       "text": [
        "2012-07-10 18:25:45,720 INFO sqlalchemy.engine.base.Engine PRAGMA foreign_key_list(\"idx_pg_shop_Geometry_parent\")\n"
       ]
      },
      {
       "output_type": "stream",
       "stream": "stdout",
       "text": [
        "2012-07-10 18:25:45,721 INFO sqlalchemy.engine.base.Engine ()\n"
       ]
      },
      {
       "output_type": "stream",
       "stream": "stdout",
       "text": [
        "2012-07-10 18:25:45,721 INFO sqlalchemy.engine.base.Engine PRAGMA index_list(\"idx_pg_shop_Geometry_parent\")\n"
       ]
      },
      {
       "output_type": "stream",
       "stream": "stdout",
       "text": [
        "2012-07-10 18:25:45,721 INFO sqlalchemy.engine.base.Engine ()\n"
       ]
      },
      {
       "output_type": "stream",
       "stream": "stdout",
       "text": [
        "2012-07-10 18:25:45,723 INFO sqlalchemy.engine.base.Engine PRAGMA table_info(\"idx_pg_shop_Geometry_rowid\")\n"
       ]
      },
      {
       "output_type": "stream",
       "stream": "stdout",
       "text": [
        "2012-07-10 18:25:45,724 INFO sqlalchemy.engine.base.Engine ()\n"
       ]
      },
      {
       "output_type": "stream",
       "stream": "stdout",
       "text": [
        "2012-07-10 18:25:45,727 INFO sqlalchemy.engine.base.Engine PRAGMA foreign_key_list(\"idx_pg_shop_Geometry_rowid\")\n"
       ]
      },
      {
       "output_type": "stream",
       "stream": "stdout",
       "text": [
        "2012-07-10 18:25:45,727 INFO sqlalchemy.engine.base.Engine ()\n"
       ]
      },
      {
       "output_type": "stream",
       "stream": "stdout",
       "text": [
        "2012-07-10 18:25:45,728 INFO sqlalchemy.engine.base.Engine PRAGMA index_list(\"idx_pg_shop_Geometry_rowid\")\n"
       ]
      },
      {
       "output_type": "stream",
       "stream": "stdout",
       "text": [
        "2012-07-10 18:25:45,728 INFO sqlalchemy.engine.base.Engine ()\n"
       ]
      },
      {
       "output_type": "stream",
       "stream": "stdout",
       "text": [
        "2012-07-10 18:25:45,730 INFO sqlalchemy.engine.base.Engine PRAGMA table_info(\"idx_pg_tourism_Geometry\")\n"
       ]
      },
      {
       "output_type": "stream",
       "stream": "stdout",
       "text": [
        "2012-07-10 18:25:45,730 INFO sqlalchemy.engine.base.Engine ()\n"
       ]
      },
      {
       "output_type": "stream",
       "stream": "stdout",
       "text": [
        "2012-07-10 18:25:45,734 INFO sqlalchemy.engine.base.Engine PRAGMA foreign_key_list(\"idx_pg_tourism_Geometry\")\n"
       ]
      },
      {
       "output_type": "stream",
       "stream": "stdout",
       "text": [
        "2012-07-10 18:25:45,735 INFO sqlalchemy.engine.base.Engine ()\n"
       ]
      },
      {
       "output_type": "stream",
       "stream": "stdout",
       "text": [
        "2012-07-10 18:25:45,735 INFO sqlalchemy.engine.base.Engine PRAGMA index_list(\"idx_pg_tourism_Geometry\")\n"
       ]
      },
      {
       "output_type": "stream",
       "stream": "stdout",
       "text": [
        "2012-07-10 18:25:45,735 INFO sqlalchemy.engine.base.Engine ()\n"
       ]
      },
      {
       "output_type": "stream",
       "stream": "stdout",
       "text": [
        "2012-07-10 18:25:45,737 INFO sqlalchemy.engine.base.Engine PRAGMA table_info(\"idx_pg_tourism_Geometry_node\")\n"
       ]
      },
      {
       "output_type": "stream",
       "stream": "stdout",
       "text": [
        "2012-07-10 18:25:45,737 INFO sqlalchemy.engine.base.Engine ()\n"
       ]
      },
      {
       "output_type": "stream",
       "stream": "stdout",
       "text": [
        "2012-07-10 18:25:45,741 INFO sqlalchemy.engine.base.Engine PRAGMA foreign_key_list(\"idx_pg_tourism_Geometry_node\")\n"
       ]
      },
      {
       "output_type": "stream",
       "stream": "stdout",
       "text": [
        "2012-07-10 18:25:45,742 INFO sqlalchemy.engine.base.Engine ()\n"
       ]
      },
      {
       "output_type": "stream",
       "stream": "stdout",
       "text": [
        "2012-07-10 18:25:45,742 INFO sqlalchemy.engine.base.Engine PRAGMA index_list(\"idx_pg_tourism_Geometry_node\")\n"
       ]
      },
      {
       "output_type": "stream",
       "stream": "stdout",
       "text": [
        "2012-07-10 18:25:45,742 INFO sqlalchemy.engine.base.Engine ()\n"
       ]
      },
      {
       "output_type": "stream",
       "stream": "stdout",
       "text": [
        "2012-07-10 18:25:45,744 INFO sqlalchemy.engine.base.Engine PRAGMA table_info(\"idx_pg_tourism_Geometry_parent\")\n"
       ]
      },
      {
       "output_type": "stream",
       "stream": "stdout",
       "text": [
        "2012-07-10 18:25:45,745 INFO sqlalchemy.engine.base.Engine ()\n"
       ]
      },
      {
       "output_type": "stream",
       "stream": "stdout",
       "text": [
        "2012-07-10 18:25:45,749 INFO sqlalchemy.engine.base.Engine PRAGMA foreign_key_list(\"idx_pg_tourism_Geometry_parent\")\n"
       ]
      },
      {
       "output_type": "stream",
       "stream": "stdout",
       "text": [
        "2012-07-10 18:25:45,749 INFO sqlalchemy.engine.base.Engine ()\n"
       ]
      },
      {
       "output_type": "stream",
       "stream": "stdout",
       "text": [
        "2012-07-10 18:25:45,750 INFO sqlalchemy.engine.base.Engine PRAGMA index_list(\"idx_pg_tourism_Geometry_parent\")\n"
       ]
      },
      {
       "output_type": "stream",
       "stream": "stdout",
       "text": [
        "2012-07-10 18:25:45,750 INFO sqlalchemy.engine.base.Engine ()\n"
       ]
      },
      {
       "output_type": "stream",
       "stream": "stdout",
       "text": [
        "2012-07-10 18:25:45,752 INFO sqlalchemy.engine.base.Engine PRAGMA table_info(\"idx_pg_tourism_Geometry_rowid\")\n"
       ]
      },
      {
       "output_type": "stream",
       "stream": "stdout",
       "text": [
        "2012-07-10 18:25:45,752 INFO sqlalchemy.engine.base.Engine ()\n"
       ]
      },
      {
       "output_type": "stream",
       "stream": "stdout",
       "text": [
        "2012-07-10 18:25:45,756 INFO sqlalchemy.engine.base.Engine PRAGMA foreign_key_list(\"idx_pg_tourism_Geometry_rowid\")\n"
       ]
      },
      {
       "output_type": "stream",
       "stream": "stdout",
       "text": [
        "2012-07-10 18:25:45,756 INFO sqlalchemy.engine.base.Engine ()\n"
       ]
      },
      {
       "output_type": "stream",
       "stream": "stdout",
       "text": [
        "2012-07-10 18:25:45,757 INFO sqlalchemy.engine.base.Engine PRAGMA index_list(\"idx_pg_tourism_Geometry_rowid\")\n"
       ]
      },
      {
       "output_type": "stream",
       "stream": "stdout",
       "text": [
        "2012-07-10 18:25:45,757 INFO sqlalchemy.engine.base.Engine ()\n"
       ]
      },
      {
       "output_type": "stream",
       "stream": "stdout",
       "text": [
        "2012-07-10 18:25:45,759 INFO sqlalchemy.engine.base.Engine PRAGMA table_info(\"idx_pt_addresses_Geometry\")\n"
       ]
      },
      {
       "output_type": "stream",
       "stream": "stdout",
       "text": [
        "2012-07-10 18:25:45,759 INFO sqlalchemy.engine.base.Engine ()\n"
       ]
      },
      {
       "output_type": "stream",
       "stream": "stdout",
       "text": [
        "2012-07-10 18:25:45,763 INFO sqlalchemy.engine.base.Engine PRAGMA foreign_key_list(\"idx_pt_addresses_Geometry\")\n"
       ]
      },
      {
       "output_type": "stream",
       "stream": "stdout",
       "text": [
        "2012-07-10 18:25:45,764 INFO sqlalchemy.engine.base.Engine ()\n"
       ]
      },
      {
       "output_type": "stream",
       "stream": "stdout",
       "text": [
        "2012-07-10 18:25:45,764 INFO sqlalchemy.engine.base.Engine PRAGMA index_list(\"idx_pt_addresses_Geometry\")\n"
       ]
      },
      {
       "output_type": "stream",
       "stream": "stdout",
       "text": [
        "2012-07-10 18:25:45,764 INFO sqlalchemy.engine.base.Engine ()\n"
       ]
      },
      {
       "output_type": "stream",
       "stream": "stdout",
       "text": [
        "2012-07-10 18:25:45,766 INFO sqlalchemy.engine.base.Engine PRAGMA table_info(\"idx_pt_addresses_Geometry_node\")\n"
       ]
      },
      {
       "output_type": "stream",
       "stream": "stdout",
       "text": [
        "2012-07-10 18:25:45,767 INFO sqlalchemy.engine.base.Engine ()\n"
       ]
      },
      {
       "output_type": "stream",
       "stream": "stdout",
       "text": [
        "2012-07-10 18:25:45,770 INFO sqlalchemy.engine.base.Engine PRAGMA foreign_key_list(\"idx_pt_addresses_Geometry_node\")\n"
       ]
      },
      {
       "output_type": "stream",
       "stream": "stdout",
       "text": [
        "2012-07-10 18:25:45,771 INFO sqlalchemy.engine.base.Engine ()\n"
       ]
      },
      {
       "output_type": "stream",
       "stream": "stdout",
       "text": [
        "2012-07-10 18:25:45,771 INFO sqlalchemy.engine.base.Engine PRAGMA index_list(\"idx_pt_addresses_Geometry_node\")\n"
       ]
      },
      {
       "output_type": "stream",
       "stream": "stdout",
       "text": [
        "2012-07-10 18:25:45,771 INFO sqlalchemy.engine.base.Engine ()\n"
       ]
      },
      {
       "output_type": "stream",
       "stream": "stdout",
       "text": [
        "2012-07-10 18:25:45,773 INFO sqlalchemy.engine.base.Engine PRAGMA table_info(\"idx_pt_addresses_Geometry_parent\")\n"
       ]
      },
      {
       "output_type": "stream",
       "stream": "stdout",
       "text": [
        "2012-07-10 18:25:45,774 INFO sqlalchemy.engine.base.Engine ()\n"
       ]
      },
      {
       "output_type": "stream",
       "stream": "stdout",
       "text": [
        "2012-07-10 18:25:45,778 INFO sqlalchemy.engine.base.Engine PRAGMA foreign_key_list(\"idx_pt_addresses_Geometry_parent\")\n"
       ]
      },
      {
       "output_type": "stream",
       "stream": "stdout",
       "text": [
        "2012-07-10 18:25:45,778 INFO sqlalchemy.engine.base.Engine ()\n"
       ]
      },
      {
       "output_type": "stream",
       "stream": "stdout",
       "text": [
        "2012-07-10 18:25:45,778 INFO sqlalchemy.engine.base.Engine PRAGMA index_list(\"idx_pt_addresses_Geometry_parent\")\n"
       ]
      },
      {
       "output_type": "stream",
       "stream": "stdout",
       "text": [
        "2012-07-10 18:25:45,779 INFO sqlalchemy.engine.base.Engine ()\n"
       ]
      },
      {
       "output_type": "stream",
       "stream": "stdout",
       "text": [
        "2012-07-10 18:25:45,781 INFO sqlalchemy.engine.base.Engine PRAGMA table_info(\"idx_pt_addresses_Geometry_rowid\")\n"
       ]
      },
      {
       "output_type": "stream",
       "stream": "stdout",
       "text": [
        "2012-07-10 18:25:45,781 INFO sqlalchemy.engine.base.Engine ()\n"
       ]
      },
      {
       "output_type": "stream",
       "stream": "stdout",
       "text": [
        "2012-07-10 18:25:45,785 INFO sqlalchemy.engine.base.Engine PRAGMA foreign_key_list(\"idx_pt_addresses_Geometry_rowid\")\n"
       ]
      },
      {
       "output_type": "stream",
       "stream": "stdout",
       "text": [
        "2012-07-10 18:25:45,786 INFO sqlalchemy.engine.base.Engine ()\n"
       ]
      },
      {
       "output_type": "stream",
       "stream": "stdout",
       "text": [
        "2012-07-10 18:25:45,786 INFO sqlalchemy.engine.base.Engine PRAGMA index_list(\"idx_pt_addresses_Geometry_rowid\")\n"
       ]
      },
      {
       "output_type": "stream",
       "stream": "stdout",
       "text": [
        "2012-07-10 18:25:45,786 INFO sqlalchemy.engine.base.Engine ()\n"
       ]
      },
      {
       "output_type": "stream",
       "stream": "stdout",
       "text": [
        "2012-07-10 18:25:45,788 INFO sqlalchemy.engine.base.Engine PRAGMA table_info(\"idx_pt_amenity_Geometry\")\n"
       ]
      },
      {
       "output_type": "stream",
       "stream": "stdout",
       "text": [
        "2012-07-10 18:25:45,789 INFO sqlalchemy.engine.base.Engine ()\n"
       ]
      },
      {
       "output_type": "stream",
       "stream": "stdout",
       "text": [
        "2012-07-10 18:25:45,793 INFO sqlalchemy.engine.base.Engine PRAGMA foreign_key_list(\"idx_pt_amenity_Geometry\")\n"
       ]
      },
      {
       "output_type": "stream",
       "stream": "stdout",
       "text": [
        "2012-07-10 18:25:45,793 INFO sqlalchemy.engine.base.Engine ()\n"
       ]
      },
      {
       "output_type": "stream",
       "stream": "stdout",
       "text": [
        "2012-07-10 18:25:45,793 INFO sqlalchemy.engine.base.Engine PRAGMA index_list(\"idx_pt_amenity_Geometry\")\n"
       ]
      },
      {
       "output_type": "stream",
       "stream": "stdout",
       "text": [
        "2012-07-10 18:25:45,794 INFO sqlalchemy.engine.base.Engine ()\n"
       ]
      },
      {
       "output_type": "stream",
       "stream": "stdout",
       "text": [
        "2012-07-10 18:25:45,796 INFO sqlalchemy.engine.base.Engine PRAGMA table_info(\"idx_pt_amenity_Geometry_node\")\n"
       ]
      },
      {
       "output_type": "stream",
       "stream": "stdout",
       "text": [
        "2012-07-10 18:25:45,796 INFO sqlalchemy.engine.base.Engine ()\n"
       ]
      },
      {
       "output_type": "stream",
       "stream": "stdout",
       "text": [
        "2012-07-10 18:25:45,800 INFO sqlalchemy.engine.base.Engine PRAGMA foreign_key_list(\"idx_pt_amenity_Geometry_node\")\n"
       ]
      },
      {
       "output_type": "stream",
       "stream": "stdout",
       "text": [
        "2012-07-10 18:25:45,800 INFO sqlalchemy.engine.base.Engine ()\n"
       ]
      },
      {
       "output_type": "stream",
       "stream": "stdout",
       "text": [
        "2012-07-10 18:25:45,800 INFO sqlalchemy.engine.base.Engine PRAGMA index_list(\"idx_pt_amenity_Geometry_node\")\n"
       ]
      },
      {
       "output_type": "stream",
       "stream": "stdout",
       "text": [
        "2012-07-10 18:25:45,801 INFO sqlalchemy.engine.base.Engine ()\n"
       ]
      },
      {
       "output_type": "stream",
       "stream": "stdout",
       "text": [
        "2012-07-10 18:25:45,803 INFO sqlalchemy.engine.base.Engine PRAGMA table_info(\"idx_pt_amenity_Geometry_parent\")\n"
       ]
      },
      {
       "output_type": "stream",
       "stream": "stdout",
       "text": [
        "2012-07-10 18:25:45,803 INFO sqlalchemy.engine.base.Engine ()\n"
       ]
      },
      {
       "output_type": "stream",
       "stream": "stdout",
       "text": [
        "2012-07-10 18:25:45,807 INFO sqlalchemy.engine.base.Engine PRAGMA foreign_key_list(\"idx_pt_amenity_Geometry_parent\")\n"
       ]
      },
      {
       "output_type": "stream",
       "stream": "stdout",
       "text": [
        "2012-07-10 18:25:45,807 INFO sqlalchemy.engine.base.Engine ()\n"
       ]
      },
      {
       "output_type": "stream",
       "stream": "stdout",
       "text": [
        "2012-07-10 18:25:45,808 INFO sqlalchemy.engine.base.Engine PRAGMA index_list(\"idx_pt_amenity_Geometry_parent\")\n"
       ]
      },
      {
       "output_type": "stream",
       "stream": "stdout",
       "text": [
        "2012-07-10 18:25:45,808 INFO sqlalchemy.engine.base.Engine ()\n"
       ]
      },
      {
       "output_type": "stream",
       "stream": "stdout",
       "text": [
        "2012-07-10 18:25:45,810 INFO sqlalchemy.engine.base.Engine PRAGMA table_info(\"idx_pt_amenity_Geometry_rowid\")\n"
       ]
      },
      {
       "output_type": "stream",
       "stream": "stdout",
       "text": [
        "2012-07-10 18:25:45,810 INFO sqlalchemy.engine.base.Engine ()\n"
       ]
      },
      {
       "output_type": "stream",
       "stream": "stdout",
       "text": [
        "2012-07-10 18:25:45,813 INFO sqlalchemy.engine.base.Engine PRAGMA foreign_key_list(\"idx_pt_amenity_Geometry_rowid\")\n"
       ]
      },
      {
       "output_type": "stream",
       "stream": "stdout",
       "text": [
        "2012-07-10 18:25:45,814 INFO sqlalchemy.engine.base.Engine ()\n"
       ]
      },
      {
       "output_type": "stream",
       "stream": "stdout",
       "text": [
        "2012-07-10 18:25:45,814 INFO sqlalchemy.engine.base.Engine PRAGMA index_list(\"idx_pt_amenity_Geometry_rowid\")\n"
       ]
      },
      {
       "output_type": "stream",
       "stream": "stdout",
       "text": [
        "2012-07-10 18:25:45,815 INFO sqlalchemy.engine.base.Engine ()\n"
       ]
      },
      {
       "output_type": "stream",
       "stream": "stdout",
       "text": [
        "2012-07-10 18:25:45,816 INFO sqlalchemy.engine.base.Engine PRAGMA table_info(\"idx_pt_barrier_Geometry\")\n"
       ]
      },
      {
       "output_type": "stream",
       "stream": "stdout",
       "text": [
        "2012-07-10 18:25:45,817 INFO sqlalchemy.engine.base.Engine ()\n"
       ]
      },
      {
       "output_type": "stream",
       "stream": "stdout",
       "text": [
        "2012-07-10 18:25:45,821 INFO sqlalchemy.engine.base.Engine PRAGMA foreign_key_list(\"idx_pt_barrier_Geometry\")\n"
       ]
      },
      {
       "output_type": "stream",
       "stream": "stdout",
       "text": [
        "2012-07-10 18:25:45,821 INFO sqlalchemy.engine.base.Engine ()\n"
       ]
      },
      {
       "output_type": "stream",
       "stream": "stdout",
       "text": [
        "2012-07-10 18:25:45,821 INFO sqlalchemy.engine.base.Engine PRAGMA index_list(\"idx_pt_barrier_Geometry\")\n"
       ]
      },
      {
       "output_type": "stream",
       "stream": "stdout",
       "text": [
        "2012-07-10 18:25:45,822 INFO sqlalchemy.engine.base.Engine ()\n"
       ]
      },
      {
       "output_type": "stream",
       "stream": "stdout",
       "text": [
        "2012-07-10 18:25:45,824 INFO sqlalchemy.engine.base.Engine PRAGMA table_info(\"idx_pt_barrier_Geometry_node\")\n"
       ]
      },
      {
       "output_type": "stream",
       "stream": "stdout",
       "text": [
        "2012-07-10 18:25:45,824 INFO sqlalchemy.engine.base.Engine ()\n"
       ]
      },
      {
       "output_type": "stream",
       "stream": "stdout",
       "text": [
        "2012-07-10 18:25:45,828 INFO sqlalchemy.engine.base.Engine PRAGMA foreign_key_list(\"idx_pt_barrier_Geometry_node\")\n"
       ]
      },
      {
       "output_type": "stream",
       "stream": "stdout",
       "text": [
        "2012-07-10 18:25:45,828 INFO sqlalchemy.engine.base.Engine ()\n"
       ]
      },
      {
       "output_type": "stream",
       "stream": "stdout",
       "text": [
        "2012-07-10 18:25:45,828 INFO sqlalchemy.engine.base.Engine PRAGMA index_list(\"idx_pt_barrier_Geometry_node\")\n"
       ]
      },
      {
       "output_type": "stream",
       "stream": "stdout",
       "text": [
        "2012-07-10 18:25:45,829 INFO sqlalchemy.engine.base.Engine ()\n"
       ]
      },
      {
       "output_type": "stream",
       "stream": "stdout",
       "text": [
        "2012-07-10 18:25:45,830 INFO sqlalchemy.engine.base.Engine PRAGMA table_info(\"idx_pt_barrier_Geometry_parent\")\n"
       ]
      },
      {
       "output_type": "stream",
       "stream": "stdout",
       "text": [
        "2012-07-10 18:25:45,831 INFO sqlalchemy.engine.base.Engine ()\n"
       ]
      },
      {
       "output_type": "stream",
       "stream": "stdout",
       "text": [
        "2012-07-10 18:25:45,834 INFO sqlalchemy.engine.base.Engine PRAGMA foreign_key_list(\"idx_pt_barrier_Geometry_parent\")\n"
       ]
      },
      {
       "output_type": "stream",
       "stream": "stdout",
       "text": [
        "2012-07-10 18:25:45,835 INFO sqlalchemy.engine.base.Engine ()\n"
       ]
      },
      {
       "output_type": "stream",
       "stream": "stdout",
       "text": [
        "2012-07-10 18:25:45,835 INFO sqlalchemy.engine.base.Engine PRAGMA index_list(\"idx_pt_barrier_Geometry_parent\")\n"
       ]
      },
      {
       "output_type": "stream",
       "stream": "stdout",
       "text": [
        "2012-07-10 18:25:45,835 INFO sqlalchemy.engine.base.Engine ()\n"
       ]
      },
      {
       "output_type": "stream",
       "stream": "stdout",
       "text": [
        "2012-07-10 18:25:45,837 INFO sqlalchemy.engine.base.Engine PRAGMA table_info(\"idx_pt_barrier_Geometry_rowid\")\n"
       ]
      },
      {
       "output_type": "stream",
       "stream": "stdout",
       "text": [
        "2012-07-10 18:25:45,837 INFO sqlalchemy.engine.base.Engine ()\n"
       ]
      },
      {
       "output_type": "stream",
       "stream": "stdout",
       "text": [
        "2012-07-10 18:25:45,841 INFO sqlalchemy.engine.base.Engine PRAGMA foreign_key_list(\"idx_pt_barrier_Geometry_rowid\")\n"
       ]
      },
      {
       "output_type": "stream",
       "stream": "stdout",
       "text": [
        "2012-07-10 18:25:45,841 INFO sqlalchemy.engine.base.Engine ()\n"
       ]
      },
      {
       "output_type": "stream",
       "stream": "stdout",
       "text": [
        "2012-07-10 18:25:45,842 INFO sqlalchemy.engine.base.Engine PRAGMA index_list(\"idx_pt_barrier_Geometry_rowid\")\n"
       ]
      },
      {
       "output_type": "stream",
       "stream": "stdout",
       "text": [
        "2012-07-10 18:25:45,842 INFO sqlalchemy.engine.base.Engine ()\n"
       ]
      },
      {
       "output_type": "stream",
       "stream": "stdout",
       "text": [
        "2012-07-10 18:25:45,844 INFO sqlalchemy.engine.base.Engine PRAGMA table_info(\"idx_pt_building_Geometry\")\n"
       ]
      },
      {
       "output_type": "stream",
       "stream": "stdout",
       "text": [
        "2012-07-10 18:25:45,844 INFO sqlalchemy.engine.base.Engine ()\n"
       ]
      },
      {
       "output_type": "stream",
       "stream": "stdout",
       "text": [
        "2012-07-10 18:25:45,848 INFO sqlalchemy.engine.base.Engine PRAGMA foreign_key_list(\"idx_pt_building_Geometry\")\n"
       ]
      },
      {
       "output_type": "stream",
       "stream": "stdout",
       "text": [
        "2012-07-10 18:25:45,849 INFO sqlalchemy.engine.base.Engine ()\n"
       ]
      },
      {
       "output_type": "stream",
       "stream": "stdout",
       "text": [
        "2012-07-10 18:25:45,849 INFO sqlalchemy.engine.base.Engine PRAGMA index_list(\"idx_pt_building_Geometry\")\n"
       ]
      },
      {
       "output_type": "stream",
       "stream": "stdout",
       "text": [
        "2012-07-10 18:25:45,849 INFO sqlalchemy.engine.base.Engine ()\n"
       ]
      },
      {
       "output_type": "stream",
       "stream": "stdout",
       "text": [
        "2012-07-10 18:25:45,851 INFO sqlalchemy.engine.base.Engine PRAGMA table_info(\"idx_pt_building_Geometry_node\")\n"
       ]
      },
      {
       "output_type": "stream",
       "stream": "stdout",
       "text": [
        "2012-07-10 18:25:45,852 INFO sqlalchemy.engine.base.Engine ()\n"
       ]
      },
      {
       "output_type": "stream",
       "stream": "stdout",
       "text": [
        "2012-07-10 18:25:45,855 INFO sqlalchemy.engine.base.Engine PRAGMA foreign_key_list(\"idx_pt_building_Geometry_node\")\n"
       ]
      },
      {
       "output_type": "stream",
       "stream": "stdout",
       "text": [
        "2012-07-10 18:25:45,856 INFO sqlalchemy.engine.base.Engine ()\n"
       ]
      },
      {
       "output_type": "stream",
       "stream": "stdout",
       "text": [
        "2012-07-10 18:25:45,856 INFO sqlalchemy.engine.base.Engine PRAGMA index_list(\"idx_pt_building_Geometry_node\")\n"
       ]
      },
      {
       "output_type": "stream",
       "stream": "stdout",
       "text": [
        "2012-07-10 18:25:45,856 INFO sqlalchemy.engine.base.Engine ()\n"
       ]
      },
      {
       "output_type": "stream",
       "stream": "stdout",
       "text": [
        "2012-07-10 18:25:45,858 INFO sqlalchemy.engine.base.Engine PRAGMA table_info(\"idx_pt_building_Geometry_parent\")\n"
       ]
      },
      {
       "output_type": "stream",
       "stream": "stdout",
       "text": [
        "2012-07-10 18:25:45,859 INFO sqlalchemy.engine.base.Engine ()\n"
       ]
      },
      {
       "output_type": "stream",
       "stream": "stdout",
       "text": [
        "2012-07-10 18:25:45,863 INFO sqlalchemy.engine.base.Engine PRAGMA foreign_key_list(\"idx_pt_building_Geometry_parent\")\n"
       ]
      },
      {
       "output_type": "stream",
       "stream": "stdout",
       "text": [
        "2012-07-10 18:25:45,863 INFO sqlalchemy.engine.base.Engine ()\n"
       ]
      },
      {
       "output_type": "stream",
       "stream": "stdout",
       "text": [
        "2012-07-10 18:25:45,863 INFO sqlalchemy.engine.base.Engine PRAGMA index_list(\"idx_pt_building_Geometry_parent\")\n"
       ]
      },
      {
       "output_type": "stream",
       "stream": "stdout",
       "text": [
        "2012-07-10 18:25:45,864 INFO sqlalchemy.engine.base.Engine ()\n"
       ]
      },
      {
       "output_type": "stream",
       "stream": "stdout",
       "text": [
        "2012-07-10 18:25:45,865 INFO sqlalchemy.engine.base.Engine PRAGMA table_info(\"idx_pt_building_Geometry_rowid\")\n"
       ]
      },
      {
       "output_type": "stream",
       "stream": "stdout",
       "text": [
        "2012-07-10 18:25:45,866 INFO sqlalchemy.engine.base.Engine ()\n"
       ]
      },
      {
       "output_type": "stream",
       "stream": "stdout",
       "text": [
        "2012-07-10 18:25:45,869 INFO sqlalchemy.engine.base.Engine PRAGMA foreign_key_list(\"idx_pt_building_Geometry_rowid\")\n"
       ]
      },
      {
       "output_type": "stream",
       "stream": "stdout",
       "text": [
        "2012-07-10 18:25:45,870 INFO sqlalchemy.engine.base.Engine ()\n"
       ]
      },
      {
       "output_type": "stream",
       "stream": "stdout",
       "text": [
        "2012-07-10 18:25:45,870 INFO sqlalchemy.engine.base.Engine PRAGMA index_list(\"idx_pt_building_Geometry_rowid\")\n"
       ]
      },
      {
       "output_type": "stream",
       "stream": "stdout",
       "text": [
        "2012-07-10 18:25:45,870 INFO sqlalchemy.engine.base.Engine ()\n"
       ]
      },
      {
       "output_type": "stream",
       "stream": "stdout",
       "text": [
        "2012-07-10 18:25:45,872 INFO sqlalchemy.engine.base.Engine PRAGMA table_info(\"idx_pt_generic_Geometry\")\n"
       ]
      },
      {
       "output_type": "stream",
       "stream": "stdout",
       "text": [
        "2012-07-10 18:25:45,873 INFO sqlalchemy.engine.base.Engine ()\n"
       ]
      },
      {
       "output_type": "stream",
       "stream": "stdout",
       "text": [
        "2012-07-10 18:25:45,877 INFO sqlalchemy.engine.base.Engine PRAGMA foreign_key_list(\"idx_pt_generic_Geometry\")\n"
       ]
      },
      {
       "output_type": "stream",
       "stream": "stdout",
       "text": [
        "2012-07-10 18:25:45,877 INFO sqlalchemy.engine.base.Engine ()\n"
       ]
      },
      {
       "output_type": "stream",
       "stream": "stdout",
       "text": [
        "2012-07-10 18:25:45,878 INFO sqlalchemy.engine.base.Engine PRAGMA index_list(\"idx_pt_generic_Geometry\")\n"
       ]
      },
      {
       "output_type": "stream",
       "stream": "stdout",
       "text": [
        "2012-07-10 18:25:45,878 INFO sqlalchemy.engine.base.Engine ()\n"
       ]
      },
      {
       "output_type": "stream",
       "stream": "stdout",
       "text": [
        "2012-07-10 18:25:45,880 INFO sqlalchemy.engine.base.Engine PRAGMA table_info(\"idx_pt_generic_Geometry_node\")\n"
       ]
      },
      {
       "output_type": "stream",
       "stream": "stdout",
       "text": [
        "2012-07-10 18:25:45,880 INFO sqlalchemy.engine.base.Engine ()\n"
       ]
      },
      {
       "output_type": "stream",
       "stream": "stdout",
       "text": [
        "2012-07-10 18:25:45,884 INFO sqlalchemy.engine.base.Engine PRAGMA foreign_key_list(\"idx_pt_generic_Geometry_node\")\n"
       ]
      },
      {
       "output_type": "stream",
       "stream": "stdout",
       "text": [
        "2012-07-10 18:25:45,884 INFO sqlalchemy.engine.base.Engine ()\n"
       ]
      },
      {
       "output_type": "stream",
       "stream": "stdout",
       "text": [
        "2012-07-10 18:25:45,884 INFO sqlalchemy.engine.base.Engine PRAGMA index_list(\"idx_pt_generic_Geometry_node\")\n"
       ]
      },
      {
       "output_type": "stream",
       "stream": "stdout",
       "text": [
        "2012-07-10 18:25:45,885 INFO sqlalchemy.engine.base.Engine ()\n"
       ]
      },
      {
       "output_type": "stream",
       "stream": "stdout",
       "text": [
        "2012-07-10 18:25:45,887 INFO sqlalchemy.engine.base.Engine PRAGMA table_info(\"idx_pt_generic_Geometry_parent\")\n"
       ]
      },
      {
       "output_type": "stream",
       "stream": "stdout",
       "text": [
        "2012-07-10 18:25:45,887 INFO sqlalchemy.engine.base.Engine ()\n"
       ]
      },
      {
       "output_type": "stream",
       "stream": "stdout",
       "text": [
        "2012-07-10 18:25:45,891 INFO sqlalchemy.engine.base.Engine PRAGMA foreign_key_list(\"idx_pt_generic_Geometry_parent\")\n"
       ]
      },
      {
       "output_type": "stream",
       "stream": "stdout",
       "text": [
        "2012-07-10 18:25:45,891 INFO sqlalchemy.engine.base.Engine ()\n"
       ]
      },
      {
       "output_type": "stream",
       "stream": "stdout",
       "text": [
        "2012-07-10 18:25:45,891 INFO sqlalchemy.engine.base.Engine PRAGMA index_list(\"idx_pt_generic_Geometry_parent\")\n"
       ]
      },
      {
       "output_type": "stream",
       "stream": "stdout",
       "text": [
        "2012-07-10 18:25:45,892 INFO sqlalchemy.engine.base.Engine ()\n"
       ]
      },
      {
       "output_type": "stream",
       "stream": "stdout",
       "text": [
        "2012-07-10 18:25:45,894 INFO sqlalchemy.engine.base.Engine PRAGMA table_info(\"idx_pt_generic_Geometry_rowid\")\n"
       ]
      },
      {
       "output_type": "stream",
       "stream": "stdout",
       "text": [
        "2012-07-10 18:25:45,894 INFO sqlalchemy.engine.base.Engine ()\n"
       ]
      },
      {
       "output_type": "stream",
       "stream": "stdout",
       "text": [
        "2012-07-10 18:25:45,897 INFO sqlalchemy.engine.base.Engine PRAGMA foreign_key_list(\"idx_pt_generic_Geometry_rowid\")\n"
       ]
      },
      {
       "output_type": "stream",
       "stream": "stdout",
       "text": [
        "2012-07-10 18:25:45,898 INFO sqlalchemy.engine.base.Engine ()\n"
       ]
      },
      {
       "output_type": "stream",
       "stream": "stdout",
       "text": [
        "2012-07-10 18:25:45,898 INFO sqlalchemy.engine.base.Engine PRAGMA index_list(\"idx_pt_generic_Geometry_rowid\")\n"
       ]
      },
      {
       "output_type": "stream",
       "stream": "stdout",
       "text": [
        "2012-07-10 18:25:45,899 INFO sqlalchemy.engine.base.Engine ()\n"
       ]
      },
      {
       "output_type": "stream",
       "stream": "stdout",
       "text": [
        "2012-07-10 18:25:45,900 INFO sqlalchemy.engine.base.Engine PRAGMA table_info(\"idx_pt_highway_Geometry\")\n"
       ]
      },
      {
       "output_type": "stream",
       "stream": "stdout",
       "text": [
        "2012-07-10 18:25:45,901 INFO sqlalchemy.engine.base.Engine ()\n"
       ]
      },
      {
       "output_type": "stream",
       "stream": "stdout",
       "text": [
        "2012-07-10 18:25:45,905 INFO sqlalchemy.engine.base.Engine PRAGMA foreign_key_list(\"idx_pt_highway_Geometry\")\n"
       ]
      },
      {
       "output_type": "stream",
       "stream": "stdout",
       "text": [
        "2012-07-10 18:25:45,905 INFO sqlalchemy.engine.base.Engine ()\n"
       ]
      },
      {
       "output_type": "stream",
       "stream": "stdout",
       "text": [
        "2012-07-10 18:25:45,906 INFO sqlalchemy.engine.base.Engine PRAGMA index_list(\"idx_pt_highway_Geometry\")\n"
       ]
      },
      {
       "output_type": "stream",
       "stream": "stdout",
       "text": [
        "2012-07-10 18:25:45,906 INFO sqlalchemy.engine.base.Engine ()\n"
       ]
      },
      {
       "output_type": "stream",
       "stream": "stdout",
       "text": [
        "2012-07-10 18:25:45,908 INFO sqlalchemy.engine.base.Engine PRAGMA table_info(\"idx_pt_highway_Geometry_node\")\n"
       ]
      },
      {
       "output_type": "stream",
       "stream": "stdout",
       "text": [
        "2012-07-10 18:25:45,908 INFO sqlalchemy.engine.base.Engine ()\n"
       ]
      },
      {
       "output_type": "stream",
       "stream": "stdout",
       "text": [
        "2012-07-10 18:25:45,912 INFO sqlalchemy.engine.base.Engine PRAGMA foreign_key_list(\"idx_pt_highway_Geometry_node\")\n"
       ]
      },
      {
       "output_type": "stream",
       "stream": "stdout",
       "text": [
        "2012-07-10 18:25:45,912 INFO sqlalchemy.engine.base.Engine ()\n"
       ]
      },
      {
       "output_type": "stream",
       "stream": "stdout",
       "text": [
        "2012-07-10 18:25:45,913 INFO sqlalchemy.engine.base.Engine PRAGMA index_list(\"idx_pt_highway_Geometry_node\")\n"
       ]
      },
      {
       "output_type": "stream",
       "stream": "stdout",
       "text": [
        "2012-07-10 18:25:45,913 INFO sqlalchemy.engine.base.Engine ()\n"
       ]
      },
      {
       "output_type": "stream",
       "stream": "stdout",
       "text": [
        "2012-07-10 18:25:45,915 INFO sqlalchemy.engine.base.Engine PRAGMA table_info(\"idx_pt_highway_Geometry_parent\")\n"
       ]
      },
      {
       "output_type": "stream",
       "stream": "stdout",
       "text": [
        "2012-07-10 18:25:45,915 INFO sqlalchemy.engine.base.Engine ()\n"
       ]
      },
      {
       "output_type": "stream",
       "stream": "stdout",
       "text": [
        "2012-07-10 18:25:45,919 INFO sqlalchemy.engine.base.Engine PRAGMA foreign_key_list(\"idx_pt_highway_Geometry_parent\")\n"
       ]
      },
      {
       "output_type": "stream",
       "stream": "stdout",
       "text": [
        "2012-07-10 18:25:45,919 INFO sqlalchemy.engine.base.Engine ()\n"
       ]
      },
      {
       "output_type": "stream",
       "stream": "stdout",
       "text": [
        "2012-07-10 18:25:45,920 INFO sqlalchemy.engine.base.Engine PRAGMA index_list(\"idx_pt_highway_Geometry_parent\")\n"
       ]
      },
      {
       "output_type": "stream",
       "stream": "stdout",
       "text": [
        "2012-07-10 18:25:45,920 INFO sqlalchemy.engine.base.Engine ()\n"
       ]
      },
      {
       "output_type": "stream",
       "stream": "stdout",
       "text": [
        "2012-07-10 18:25:45,922 INFO sqlalchemy.engine.base.Engine PRAGMA table_info(\"idx_pt_highway_Geometry_rowid\")\n"
       ]
      },
      {
       "output_type": "stream",
       "stream": "stdout",
       "text": [
        "2012-07-10 18:25:45,923 INFO sqlalchemy.engine.base.Engine ()\n"
       ]
      },
      {
       "output_type": "stream",
       "stream": "stdout",
       "text": [
        "2012-07-10 18:25:45,926 INFO sqlalchemy.engine.base.Engine PRAGMA foreign_key_list(\"idx_pt_highway_Geometry_rowid\")\n"
       ]
      },
      {
       "output_type": "stream",
       "stream": "stdout",
       "text": [
        "2012-07-10 18:25:45,927 INFO sqlalchemy.engine.base.Engine ()\n"
       ]
      },
      {
       "output_type": "stream",
       "stream": "stdout",
       "text": [
        "2012-07-10 18:25:45,927 INFO sqlalchemy.engine.base.Engine PRAGMA index_list(\"idx_pt_highway_Geometry_rowid\")\n"
       ]
      },
      {
       "output_type": "stream",
       "stream": "stdout",
       "text": [
        "2012-07-10 18:25:45,927 INFO sqlalchemy.engine.base.Engine ()\n"
       ]
      },
      {
       "output_type": "stream",
       "stream": "stdout",
       "text": [
        "2012-07-10 18:25:45,929 INFO sqlalchemy.engine.base.Engine PRAGMA table_info(\"idx_pt_historic_Geometry\")\n"
       ]
      },
      {
       "output_type": "stream",
       "stream": "stdout",
       "text": [
        "2012-07-10 18:25:45,929 INFO sqlalchemy.engine.base.Engine ()\n"
       ]
      },
      {
       "output_type": "stream",
       "stream": "stdout",
       "text": [
        "2012-07-10 18:25:45,933 INFO sqlalchemy.engine.base.Engine PRAGMA foreign_key_list(\"idx_pt_historic_Geometry\")\n"
       ]
      },
      {
       "output_type": "stream",
       "stream": "stdout",
       "text": [
        "2012-07-10 18:25:45,934 INFO sqlalchemy.engine.base.Engine ()\n"
       ]
      },
      {
       "output_type": "stream",
       "stream": "stdout",
       "text": [
        "2012-07-10 18:25:45,934 INFO sqlalchemy.engine.base.Engine PRAGMA index_list(\"idx_pt_historic_Geometry\")\n"
       ]
      },
      {
       "output_type": "stream",
       "stream": "stdout",
       "text": [
        "2012-07-10 18:25:45,935 INFO sqlalchemy.engine.base.Engine ()\n"
       ]
      },
      {
       "output_type": "stream",
       "stream": "stdout",
       "text": [
        "2012-07-10 18:25:45,936 INFO sqlalchemy.engine.base.Engine PRAGMA table_info(\"idx_pt_historic_Geometry_node\")\n"
       ]
      },
      {
       "output_type": "stream",
       "stream": "stdout",
       "text": [
        "2012-07-10 18:25:45,937 INFO sqlalchemy.engine.base.Engine ()\n"
       ]
      },
      {
       "output_type": "stream",
       "stream": "stdout",
       "text": [
        "2012-07-10 18:25:45,940 INFO sqlalchemy.engine.base.Engine PRAGMA foreign_key_list(\"idx_pt_historic_Geometry_node\")\n"
       ]
      },
      {
       "output_type": "stream",
       "stream": "stdout",
       "text": [
        "2012-07-10 18:25:45,941 INFO sqlalchemy.engine.base.Engine ()\n"
       ]
      },
      {
       "output_type": "stream",
       "stream": "stdout",
       "text": [
        "2012-07-10 18:25:45,941 INFO sqlalchemy.engine.base.Engine PRAGMA index_list(\"idx_pt_historic_Geometry_node\")\n"
       ]
      },
      {
       "output_type": "stream",
       "stream": "stdout",
       "text": [
        "2012-07-10 18:25:45,942 INFO sqlalchemy.engine.base.Engine ()\n"
       ]
      },
      {
       "output_type": "stream",
       "stream": "stdout",
       "text": [
        "2012-07-10 18:25:45,944 INFO sqlalchemy.engine.base.Engine PRAGMA table_info(\"idx_pt_historic_Geometry_parent\")\n"
       ]
      },
      {
       "output_type": "stream",
       "stream": "stdout",
       "text": [
        "2012-07-10 18:25:45,944 INFO sqlalchemy.engine.base.Engine ()\n"
       ]
      },
      {
       "output_type": "stream",
       "stream": "stdout",
       "text": [
        "2012-07-10 18:25:45,948 INFO sqlalchemy.engine.base.Engine PRAGMA foreign_key_list(\"idx_pt_historic_Geometry_parent\")\n"
       ]
      },
      {
       "output_type": "stream",
       "stream": "stdout",
       "text": [
        "2012-07-10 18:25:45,948 INFO sqlalchemy.engine.base.Engine ()\n"
       ]
      },
      {
       "output_type": "stream",
       "stream": "stdout",
       "text": [
        "2012-07-10 18:25:45,948 INFO sqlalchemy.engine.base.Engine PRAGMA index_list(\"idx_pt_historic_Geometry_parent\")\n"
       ]
      },
      {
       "output_type": "stream",
       "stream": "stdout",
       "text": [
        "2012-07-10 18:25:45,949 INFO sqlalchemy.engine.base.Engine ()\n"
       ]
      },
      {
       "output_type": "stream",
       "stream": "stdout",
       "text": [
        "2012-07-10 18:25:45,950 INFO sqlalchemy.engine.base.Engine PRAGMA table_info(\"idx_pt_historic_Geometry_rowid\")\n"
       ]
      },
      {
       "output_type": "stream",
       "stream": "stdout",
       "text": [
        "2012-07-10 18:25:45,951 INFO sqlalchemy.engine.base.Engine ()\n"
       ]
      },
      {
       "output_type": "stream",
       "stream": "stdout",
       "text": [
        "2012-07-10 18:25:45,954 INFO sqlalchemy.engine.base.Engine PRAGMA foreign_key_list(\"idx_pt_historic_Geometry_rowid\")\n"
       ]
      },
      {
       "output_type": "stream",
       "stream": "stdout",
       "text": [
        "2012-07-10 18:25:45,955 INFO sqlalchemy.engine.base.Engine ()\n"
       ]
      },
      {
       "output_type": "stream",
       "stream": "stdout",
       "text": [
        "2012-07-10 18:25:45,955 INFO sqlalchemy.engine.base.Engine PRAGMA index_list(\"idx_pt_historic_Geometry_rowid\")\n"
       ]
      },
      {
       "output_type": "stream",
       "stream": "stdout",
       "text": [
        "2012-07-10 18:25:45,955 INFO sqlalchemy.engine.base.Engine ()\n"
       ]
      },
      {
       "output_type": "stream",
       "stream": "stdout",
       "text": [
        "2012-07-10 18:25:45,957 INFO sqlalchemy.engine.base.Engine PRAGMA table_info(\"idx_pt_landuse_Geometry\")\n"
       ]
      },
      {
       "output_type": "stream",
       "stream": "stdout",
       "text": [
        "2012-07-10 18:25:45,958 INFO sqlalchemy.engine.base.Engine ()\n"
       ]
      },
      {
       "output_type": "stream",
       "stream": "stdout",
       "text": [
        "2012-07-10 18:25:45,962 INFO sqlalchemy.engine.base.Engine PRAGMA foreign_key_list(\"idx_pt_landuse_Geometry\")\n"
       ]
      },
      {
       "output_type": "stream",
       "stream": "stdout",
       "text": [
        "2012-07-10 18:25:45,962 INFO sqlalchemy.engine.base.Engine ()\n"
       ]
      },
      {
       "output_type": "stream",
       "stream": "stdout",
       "text": [
        "2012-07-10 18:25:45,962 INFO sqlalchemy.engine.base.Engine PRAGMA index_list(\"idx_pt_landuse_Geometry\")\n"
       ]
      },
      {
       "output_type": "stream",
       "stream": "stdout",
       "text": [
        "2012-07-10 18:25:45,963 INFO sqlalchemy.engine.base.Engine ()\n"
       ]
      },
      {
       "output_type": "stream",
       "stream": "stdout",
       "text": [
        "2012-07-10 18:25:45,965 INFO sqlalchemy.engine.base.Engine PRAGMA table_info(\"idx_pt_landuse_Geometry_node\")\n"
       ]
      },
      {
       "output_type": "stream",
       "stream": "stdout",
       "text": [
        "2012-07-10 18:25:45,965 INFO sqlalchemy.engine.base.Engine ()\n"
       ]
      },
      {
       "output_type": "stream",
       "stream": "stdout",
       "text": [
        "2012-07-10 18:25:45,969 INFO sqlalchemy.engine.base.Engine PRAGMA foreign_key_list(\"idx_pt_landuse_Geometry_node\")\n"
       ]
      },
      {
       "output_type": "stream",
       "stream": "stdout",
       "text": [
        "2012-07-10 18:25:45,969 INFO sqlalchemy.engine.base.Engine ()\n"
       ]
      },
      {
       "output_type": "stream",
       "stream": "stdout",
       "text": [
        "2012-07-10 18:25:45,970 INFO sqlalchemy.engine.base.Engine PRAGMA index_list(\"idx_pt_landuse_Geometry_node\")\n"
       ]
      },
      {
       "output_type": "stream",
       "stream": "stdout",
       "text": [
        "2012-07-10 18:25:45,970 INFO sqlalchemy.engine.base.Engine ()\n"
       ]
      },
      {
       "output_type": "stream",
       "stream": "stdout",
       "text": [
        "2012-07-10 18:25:45,972 INFO sqlalchemy.engine.base.Engine PRAGMA table_info(\"idx_pt_landuse_Geometry_parent\")\n"
       ]
      },
      {
       "output_type": "stream",
       "stream": "stdout",
       "text": [
        "2012-07-10 18:25:45,972 INFO sqlalchemy.engine.base.Engine ()\n"
       ]
      },
      {
       "output_type": "stream",
       "stream": "stdout",
       "text": [
        "2012-07-10 18:25:45,976 INFO sqlalchemy.engine.base.Engine PRAGMA foreign_key_list(\"idx_pt_landuse_Geometry_parent\")\n"
       ]
      },
      {
       "output_type": "stream",
       "stream": "stdout",
       "text": [
        "2012-07-10 18:25:45,976 INFO sqlalchemy.engine.base.Engine ()\n"
       ]
      },
      {
       "output_type": "stream",
       "stream": "stdout",
       "text": [
        "2012-07-10 18:25:45,977 INFO sqlalchemy.engine.base.Engine PRAGMA index_list(\"idx_pt_landuse_Geometry_parent\")\n"
       ]
      },
      {
       "output_type": "stream",
       "stream": "stdout",
       "text": [
        "2012-07-10 18:25:45,977 INFO sqlalchemy.engine.base.Engine ()\n"
       ]
      },
      {
       "output_type": "stream",
       "stream": "stdout",
       "text": [
        "2012-07-10 18:25:45,979 INFO sqlalchemy.engine.base.Engine PRAGMA table_info(\"idx_pt_landuse_Geometry_rowid\")\n"
       ]
      },
      {
       "output_type": "stream",
       "stream": "stdout",
       "text": [
        "2012-07-10 18:25:45,979 INFO sqlalchemy.engine.base.Engine ()\n"
       ]
      },
      {
       "output_type": "stream",
       "stream": "stdout",
       "text": [
        "2012-07-10 18:25:45,983 INFO sqlalchemy.engine.base.Engine PRAGMA foreign_key_list(\"idx_pt_landuse_Geometry_rowid\")\n"
       ]
      },
      {
       "output_type": "stream",
       "stream": "stdout",
       "text": [
        "2012-07-10 18:25:45,983 INFO sqlalchemy.engine.base.Engine ()\n"
       ]
      },
      {
       "output_type": "stream",
       "stream": "stdout",
       "text": [
        "2012-07-10 18:25:45,984 INFO sqlalchemy.engine.base.Engine PRAGMA index_list(\"idx_pt_landuse_Geometry_rowid\")\n"
       ]
      },
      {
       "output_type": "stream",
       "stream": "stdout",
       "text": [
        "2012-07-10 18:25:45,984 INFO sqlalchemy.engine.base.Engine ()\n"
       ]
      },
      {
       "output_type": "stream",
       "stream": "stdout",
       "text": [
        "2012-07-10 18:25:45,986 INFO sqlalchemy.engine.base.Engine PRAGMA table_info(\"idx_pt_man_made_Geometry\")\n"
       ]
      },
      {
       "output_type": "stream",
       "stream": "stdout",
       "text": [
        "2012-07-10 18:25:45,986 INFO sqlalchemy.engine.base.Engine ()\n"
       ]
      },
      {
       "output_type": "stream",
       "stream": "stdout",
       "text": [
        "2012-07-10 18:25:45,990 INFO sqlalchemy.engine.base.Engine PRAGMA foreign_key_list(\"idx_pt_man_made_Geometry\")\n"
       ]
      },
      {
       "output_type": "stream",
       "stream": "stdout",
       "text": [
        "2012-07-10 18:25:45,991 INFO sqlalchemy.engine.base.Engine ()\n"
       ]
      },
      {
       "output_type": "stream",
       "stream": "stdout",
       "text": [
        "2012-07-10 18:25:45,991 INFO sqlalchemy.engine.base.Engine PRAGMA index_list(\"idx_pt_man_made_Geometry\")\n"
       ]
      },
      {
       "output_type": "stream",
       "stream": "stdout",
       "text": [
        "2012-07-10 18:25:45,992 INFO sqlalchemy.engine.base.Engine ()\n"
       ]
      },
      {
       "output_type": "stream",
       "stream": "stdout",
       "text": [
        "2012-07-10 18:25:45,993 INFO sqlalchemy.engine.base.Engine PRAGMA table_info(\"idx_pt_man_made_Geometry_node\")\n"
       ]
      },
      {
       "output_type": "stream",
       "stream": "stdout",
       "text": [
        "2012-07-10 18:25:45,994 INFO sqlalchemy.engine.base.Engine ()\n"
       ]
      },
      {
       "output_type": "stream",
       "stream": "stdout",
       "text": [
        "2012-07-10 18:25:45,998 INFO sqlalchemy.engine.base.Engine PRAGMA foreign_key_list(\"idx_pt_man_made_Geometry_node\")\n"
       ]
      },
      {
       "output_type": "stream",
       "stream": "stdout",
       "text": [
        "2012-07-10 18:25:45,998 INFO sqlalchemy.engine.base.Engine ()\n"
       ]
      },
      {
       "output_type": "stream",
       "stream": "stdout",
       "text": [
        "2012-07-10 18:25:45,998 INFO sqlalchemy.engine.base.Engine PRAGMA index_list(\"idx_pt_man_made_Geometry_node\")\n"
       ]
      },
      {
       "output_type": "stream",
       "stream": "stdout",
       "text": [
        "2012-07-10 18:25:45,999 INFO sqlalchemy.engine.base.Engine ()\n"
       ]
      },
      {
       "output_type": "stream",
       "stream": "stdout",
       "text": [
        "2012-07-10 18:25:46,000 INFO sqlalchemy.engine.base.Engine PRAGMA table_info(\"idx_pt_man_made_Geometry_parent\")\n"
       ]
      },
      {
       "output_type": "stream",
       "stream": "stdout",
       "text": [
        "2012-07-10 18:25:46,001 INFO sqlalchemy.engine.base.Engine ()\n"
       ]
      },
      {
       "output_type": "stream",
       "stream": "stdout",
       "text": [
        "2012-07-10 18:25:46,005 INFO sqlalchemy.engine.base.Engine PRAGMA foreign_key_list(\"idx_pt_man_made_Geometry_parent\")\n"
       ]
      },
      {
       "output_type": "stream",
       "stream": "stdout",
       "text": [
        "2012-07-10 18:25:46,005 INFO sqlalchemy.engine.base.Engine ()\n"
       ]
      },
      {
       "output_type": "stream",
       "stream": "stdout",
       "text": [
        "2012-07-10 18:25:46,005 INFO sqlalchemy.engine.base.Engine PRAGMA index_list(\"idx_pt_man_made_Geometry_parent\")\n"
       ]
      },
      {
       "output_type": "stream",
       "stream": "stdout",
       "text": [
        "2012-07-10 18:25:46,006 INFO sqlalchemy.engine.base.Engine ()\n"
       ]
      },
      {
       "output_type": "stream",
       "stream": "stdout",
       "text": [
        "2012-07-10 18:25:46,007 INFO sqlalchemy.engine.base.Engine PRAGMA table_info(\"idx_pt_man_made_Geometry_rowid\")\n"
       ]
      },
      {
       "output_type": "stream",
       "stream": "stdout",
       "text": [
        "2012-07-10 18:25:46,008 INFO sqlalchemy.engine.base.Engine ()\n"
       ]
      },
      {
       "output_type": "stream",
       "stream": "stdout",
       "text": [
        "2012-07-10 18:25:46,012 INFO sqlalchemy.engine.base.Engine PRAGMA foreign_key_list(\"idx_pt_man_made_Geometry_rowid\")\n"
       ]
      },
      {
       "output_type": "stream",
       "stream": "stdout",
       "text": [
        "2012-07-10 18:25:46,012 INFO sqlalchemy.engine.base.Engine ()\n"
       ]
      },
      {
       "output_type": "stream",
       "stream": "stdout",
       "text": [
        "2012-07-10 18:25:46,013 INFO sqlalchemy.engine.base.Engine PRAGMA index_list(\"idx_pt_man_made_Geometry_rowid\")\n"
       ]
      },
      {
       "output_type": "stream",
       "stream": "stdout",
       "text": [
        "2012-07-10 18:25:46,013 INFO sqlalchemy.engine.base.Engine ()\n"
       ]
      },
      {
       "output_type": "stream",
       "stream": "stdout",
       "text": [
        "2012-07-10 18:25:46,015 INFO sqlalchemy.engine.base.Engine PRAGMA table_info(\"idx_pt_natural_Geometry\")\n"
       ]
      },
      {
       "output_type": "stream",
       "stream": "stdout",
       "text": [
        "2012-07-10 18:25:46,015 INFO sqlalchemy.engine.base.Engine ()\n"
       ]
      },
      {
       "output_type": "stream",
       "stream": "stdout",
       "text": [
        "2012-07-10 18:25:46,019 INFO sqlalchemy.engine.base.Engine PRAGMA foreign_key_list(\"idx_pt_natural_Geometry\")\n"
       ]
      },
      {
       "output_type": "stream",
       "stream": "stdout",
       "text": [
        "2012-07-10 18:25:46,020 INFO sqlalchemy.engine.base.Engine ()\n"
       ]
      },
      {
       "output_type": "stream",
       "stream": "stdout",
       "text": [
        "2012-07-10 18:25:46,020 INFO sqlalchemy.engine.base.Engine PRAGMA index_list(\"idx_pt_natural_Geometry\")\n"
       ]
      },
      {
       "output_type": "stream",
       "stream": "stdout",
       "text": [
        "2012-07-10 18:25:46,021 INFO sqlalchemy.engine.base.Engine ()\n"
       ]
      },
      {
       "output_type": "stream",
       "stream": "stdout",
       "text": [
        "2012-07-10 18:25:46,022 INFO sqlalchemy.engine.base.Engine PRAGMA table_info(\"idx_pt_natural_Geometry_node\")\n"
       ]
      },
      {
       "output_type": "stream",
       "stream": "stdout",
       "text": [
        "2012-07-10 18:25:46,023 INFO sqlalchemy.engine.base.Engine ()\n"
       ]
      },
      {
       "output_type": "stream",
       "stream": "stdout",
       "text": [
        "2012-07-10 18:25:46,026 INFO sqlalchemy.engine.base.Engine PRAGMA foreign_key_list(\"idx_pt_natural_Geometry_node\")\n"
       ]
      },
      {
       "output_type": "stream",
       "stream": "stdout",
       "text": [
        "2012-07-10 18:25:46,027 INFO sqlalchemy.engine.base.Engine ()\n"
       ]
      },
      {
       "output_type": "stream",
       "stream": "stdout",
       "text": [
        "2012-07-10 18:25:46,027 INFO sqlalchemy.engine.base.Engine PRAGMA index_list(\"idx_pt_natural_Geometry_node\")\n"
       ]
      },
      {
       "output_type": "stream",
       "stream": "stdout",
       "text": [
        "2012-07-10 18:25:46,027 INFO sqlalchemy.engine.base.Engine ()\n"
       ]
      },
      {
       "output_type": "stream",
       "stream": "stdout",
       "text": [
        "2012-07-10 18:25:46,029 INFO sqlalchemy.engine.base.Engine PRAGMA table_info(\"idx_pt_natural_Geometry_parent\")\n"
       ]
      },
      {
       "output_type": "stream",
       "stream": "stdout",
       "text": [
        "2012-07-10 18:25:46,030 INFO sqlalchemy.engine.base.Engine ()\n"
       ]
      },
      {
       "output_type": "stream",
       "stream": "stdout",
       "text": [
        "2012-07-10 18:25:46,033 INFO sqlalchemy.engine.base.Engine PRAGMA foreign_key_list(\"idx_pt_natural_Geometry_parent\")\n"
       ]
      },
      {
       "output_type": "stream",
       "stream": "stdout",
       "text": [
        "2012-07-10 18:25:46,034 INFO sqlalchemy.engine.base.Engine ()\n"
       ]
      },
      {
       "output_type": "stream",
       "stream": "stdout",
       "text": [
        "2012-07-10 18:25:46,034 INFO sqlalchemy.engine.base.Engine PRAGMA index_list(\"idx_pt_natural_Geometry_parent\")\n"
       ]
      },
      {
       "output_type": "stream",
       "stream": "stdout",
       "text": [
        "2012-07-10 18:25:46,035 INFO sqlalchemy.engine.base.Engine ()\n"
       ]
      },
      {
       "output_type": "stream",
       "stream": "stdout",
       "text": [
        "2012-07-10 18:25:46,036 INFO sqlalchemy.engine.base.Engine PRAGMA table_info(\"idx_pt_natural_Geometry_rowid\")\n"
       ]
      },
      {
       "output_type": "stream",
       "stream": "stdout",
       "text": [
        "2012-07-10 18:25:46,037 INFO sqlalchemy.engine.base.Engine ()\n"
       ]
      },
      {
       "output_type": "stream",
       "stream": "stdout",
       "text": [
        "2012-07-10 18:25:46,041 INFO sqlalchemy.engine.base.Engine PRAGMA foreign_key_list(\"idx_pt_natural_Geometry_rowid\")\n"
       ]
      },
      {
       "output_type": "stream",
       "stream": "stdout",
       "text": [
        "2012-07-10 18:25:46,041 INFO sqlalchemy.engine.base.Engine ()\n"
       ]
      },
      {
       "output_type": "stream",
       "stream": "stdout",
       "text": [
        "2012-07-10 18:25:46,041 INFO sqlalchemy.engine.base.Engine PRAGMA index_list(\"idx_pt_natural_Geometry_rowid\")\n"
       ]
      },
      {
       "output_type": "stream",
       "stream": "stdout",
       "text": [
        "2012-07-10 18:25:46,042 INFO sqlalchemy.engine.base.Engine ()\n"
       ]
      },
      {
       "output_type": "stream",
       "stream": "stdout",
       "text": [
        "2012-07-10 18:25:46,043 INFO sqlalchemy.engine.base.Engine PRAGMA table_info(\"idx_pt_place_Geometry\")\n"
       ]
      },
      {
       "output_type": "stream",
       "stream": "stdout",
       "text": [
        "2012-07-10 18:25:46,044 INFO sqlalchemy.engine.base.Engine ()\n"
       ]
      },
      {
       "output_type": "stream",
       "stream": "stdout",
       "text": [
        "2012-07-10 18:25:46,048 INFO sqlalchemy.engine.base.Engine PRAGMA foreign_key_list(\"idx_pt_place_Geometry\")\n"
       ]
      },
      {
       "output_type": "stream",
       "stream": "stdout",
       "text": [
        "2012-07-10 18:25:46,048 INFO sqlalchemy.engine.base.Engine ()\n"
       ]
      },
      {
       "output_type": "stream",
       "stream": "stdout",
       "text": [
        "2012-07-10 18:25:46,049 INFO sqlalchemy.engine.base.Engine PRAGMA index_list(\"idx_pt_place_Geometry\")\n"
       ]
      },
      {
       "output_type": "stream",
       "stream": "stdout",
       "text": [
        "2012-07-10 18:25:46,049 INFO sqlalchemy.engine.base.Engine ()\n"
       ]
      },
      {
       "output_type": "stream",
       "stream": "stdout",
       "text": [
        "2012-07-10 18:25:46,051 INFO sqlalchemy.engine.base.Engine PRAGMA table_info(\"idx_pt_place_Geometry_node\")\n"
       ]
      },
      {
       "output_type": "stream",
       "stream": "stdout",
       "text": [
        "2012-07-10 18:25:46,051 INFO sqlalchemy.engine.base.Engine ()\n"
       ]
      },
      {
       "output_type": "stream",
       "stream": "stdout",
       "text": [
        "2012-07-10 18:25:46,055 INFO sqlalchemy.engine.base.Engine PRAGMA foreign_key_list(\"idx_pt_place_Geometry_node\")\n"
       ]
      },
      {
       "output_type": "stream",
       "stream": "stdout",
       "text": [
        "2012-07-10 18:25:46,055 INFO sqlalchemy.engine.base.Engine ()\n"
       ]
      },
      {
       "output_type": "stream",
       "stream": "stdout",
       "text": [
        "2012-07-10 18:25:46,056 INFO sqlalchemy.engine.base.Engine PRAGMA index_list(\"idx_pt_place_Geometry_node\")\n"
       ]
      },
      {
       "output_type": "stream",
       "stream": "stdout",
       "text": [
        "2012-07-10 18:25:46,056 INFO sqlalchemy.engine.base.Engine ()\n"
       ]
      },
      {
       "output_type": "stream",
       "stream": "stdout",
       "text": [
        "2012-07-10 18:25:46,058 INFO sqlalchemy.engine.base.Engine PRAGMA table_info(\"idx_pt_place_Geometry_parent\")\n"
       ]
      },
      {
       "output_type": "stream",
       "stream": "stdout",
       "text": [
        "2012-07-10 18:25:46,058 INFO sqlalchemy.engine.base.Engine ()\n"
       ]
      },
      {
       "output_type": "stream",
       "stream": "stdout",
       "text": [
        "2012-07-10 18:25:46,062 INFO sqlalchemy.engine.base.Engine PRAGMA foreign_key_list(\"idx_pt_place_Geometry_parent\")\n"
       ]
      },
      {
       "output_type": "stream",
       "stream": "stdout",
       "text": [
        "2012-07-10 18:25:46,062 INFO sqlalchemy.engine.base.Engine ()\n"
       ]
      },
      {
       "output_type": "stream",
       "stream": "stdout",
       "text": [
        "2012-07-10 18:25:46,063 INFO sqlalchemy.engine.base.Engine PRAGMA index_list(\"idx_pt_place_Geometry_parent\")\n"
       ]
      },
      {
       "output_type": "stream",
       "stream": "stdout",
       "text": [
        "2012-07-10 18:25:46,063 INFO sqlalchemy.engine.base.Engine ()\n"
       ]
      },
      {
       "output_type": "stream",
       "stream": "stdout",
       "text": [
        "2012-07-10 18:25:46,065 INFO sqlalchemy.engine.base.Engine PRAGMA table_info(\"idx_pt_place_Geometry_rowid\")\n"
       ]
      },
      {
       "output_type": "stream",
       "stream": "stdout",
       "text": [
        "2012-07-10 18:25:46,065 INFO sqlalchemy.engine.base.Engine ()\n"
       ]
      },
      {
       "output_type": "stream",
       "stream": "stdout",
       "text": [
        "2012-07-10 18:25:46,069 INFO sqlalchemy.engine.base.Engine PRAGMA foreign_key_list(\"idx_pt_place_Geometry_rowid\")\n"
       ]
      },
      {
       "output_type": "stream",
       "stream": "stdout",
       "text": [
        "2012-07-10 18:25:46,069 INFO sqlalchemy.engine.base.Engine ()\n"
       ]
      },
      {
       "output_type": "stream",
       "stream": "stdout",
       "text": [
        "2012-07-10 18:25:46,070 INFO sqlalchemy.engine.base.Engine PRAGMA index_list(\"idx_pt_place_Geometry_rowid\")\n"
       ]
      },
      {
       "output_type": "stream",
       "stream": "stdout",
       "text": [
        "2012-07-10 18:25:46,070 INFO sqlalchemy.engine.base.Engine ()\n"
       ]
      },
      {
       "output_type": "stream",
       "stream": "stdout",
       "text": [
        "2012-07-10 18:25:46,072 INFO sqlalchemy.engine.base.Engine PRAGMA table_info(\"idx_pt_shop_Geometry\")\n"
       ]
      },
      {
       "output_type": "stream",
       "stream": "stdout",
       "text": [
        "2012-07-10 18:25:46,072 INFO sqlalchemy.engine.base.Engine ()\n"
       ]
      },
      {
       "output_type": "stream",
       "stream": "stdout",
       "text": [
        "2012-07-10 18:25:46,076 INFO sqlalchemy.engine.base.Engine PRAGMA foreign_key_list(\"idx_pt_shop_Geometry\")\n"
       ]
      },
      {
       "output_type": "stream",
       "stream": "stdout",
       "text": [
        "2012-07-10 18:25:46,077 INFO sqlalchemy.engine.base.Engine ()\n"
       ]
      },
      {
       "output_type": "stream",
       "stream": "stdout",
       "text": [
        "2012-07-10 18:25:46,077 INFO sqlalchemy.engine.base.Engine PRAGMA index_list(\"idx_pt_shop_Geometry\")\n"
       ]
      },
      {
       "output_type": "stream",
       "stream": "stdout",
       "text": [
        "2012-07-10 18:25:46,077 INFO sqlalchemy.engine.base.Engine ()\n"
       ]
      },
      {
       "output_type": "stream",
       "stream": "stdout",
       "text": [
        "2012-07-10 18:25:46,079 INFO sqlalchemy.engine.base.Engine PRAGMA table_info(\"idx_pt_shop_Geometry_node\")\n"
       ]
      },
      {
       "output_type": "stream",
       "stream": "stdout",
       "text": [
        "2012-07-10 18:25:46,079 INFO sqlalchemy.engine.base.Engine ()\n"
       ]
      },
      {
       "output_type": "stream",
       "stream": "stdout",
       "text": [
        "2012-07-10 18:25:46,083 INFO sqlalchemy.engine.base.Engine PRAGMA foreign_key_list(\"idx_pt_shop_Geometry_node\")\n"
       ]
      },
      {
       "output_type": "stream",
       "stream": "stdout",
       "text": [
        "2012-07-10 18:25:46,083 INFO sqlalchemy.engine.base.Engine ()\n"
       ]
      },
      {
       "output_type": "stream",
       "stream": "stdout",
       "text": [
        "2012-07-10 18:25:46,084 INFO sqlalchemy.engine.base.Engine PRAGMA index_list(\"idx_pt_shop_Geometry_node\")\n"
       ]
      },
      {
       "output_type": "stream",
       "stream": "stdout",
       "text": [
        "2012-07-10 18:25:46,084 INFO sqlalchemy.engine.base.Engine ()\n"
       ]
      },
      {
       "output_type": "stream",
       "stream": "stdout",
       "text": [
        "2012-07-10 18:25:46,086 INFO sqlalchemy.engine.base.Engine PRAGMA table_info(\"idx_pt_shop_Geometry_parent\")\n"
       ]
      },
      {
       "output_type": "stream",
       "stream": "stdout",
       "text": [
        "2012-07-10 18:25:46,086 INFO sqlalchemy.engine.base.Engine ()\n"
       ]
      },
      {
       "output_type": "stream",
       "stream": "stdout",
       "text": [
        "2012-07-10 18:25:46,090 INFO sqlalchemy.engine.base.Engine PRAGMA foreign_key_list(\"idx_pt_shop_Geometry_parent\")\n"
       ]
      },
      {
       "output_type": "stream",
       "stream": "stdout",
       "text": [
        "2012-07-10 18:25:46,090 INFO sqlalchemy.engine.base.Engine ()\n"
       ]
      },
      {
       "output_type": "stream",
       "stream": "stdout",
       "text": [
        "2012-07-10 18:25:46,091 INFO sqlalchemy.engine.base.Engine PRAGMA index_list(\"idx_pt_shop_Geometry_parent\")\n"
       ]
      },
      {
       "output_type": "stream",
       "stream": "stdout",
       "text": [
        "2012-07-10 18:25:46,091 INFO sqlalchemy.engine.base.Engine ()\n"
       ]
      },
      {
       "output_type": "stream",
       "stream": "stdout",
       "text": [
        "2012-07-10 18:25:46,093 INFO sqlalchemy.engine.base.Engine PRAGMA table_info(\"idx_pt_shop_Geometry_rowid\")\n"
       ]
      },
      {
       "output_type": "stream",
       "stream": "stdout",
       "text": [
        "2012-07-10 18:25:46,093 INFO sqlalchemy.engine.base.Engine ()\n"
       ]
      },
      {
       "output_type": "stream",
       "stream": "stdout",
       "text": [
        "2012-07-10 18:25:46,097 INFO sqlalchemy.engine.base.Engine PRAGMA foreign_key_list(\"idx_pt_shop_Geometry_rowid\")\n"
       ]
      },
      {
       "output_type": "stream",
       "stream": "stdout",
       "text": [
        "2012-07-10 18:25:46,097 INFO sqlalchemy.engine.base.Engine ()\n"
       ]
      },
      {
       "output_type": "stream",
       "stream": "stdout",
       "text": [
        "2012-07-10 18:25:46,098 INFO sqlalchemy.engine.base.Engine PRAGMA index_list(\"idx_pt_shop_Geometry_rowid\")\n"
       ]
      },
      {
       "output_type": "stream",
       "stream": "stdout",
       "text": [
        "2012-07-10 18:25:46,098 INFO sqlalchemy.engine.base.Engine ()\n"
       ]
      },
      {
       "output_type": "stream",
       "stream": "stdout",
       "text": [
        "2012-07-10 18:25:46,100 INFO sqlalchemy.engine.base.Engine PRAGMA table_info(\"idx_pt_tourism_Geometry\")\n"
       ]
      },
      {
       "output_type": "stream",
       "stream": "stdout",
       "text": [
        "2012-07-10 18:25:46,100 INFO sqlalchemy.engine.base.Engine ()\n"
       ]
      },
      {
       "output_type": "stream",
       "stream": "stdout",
       "text": [
        "2012-07-10 18:25:46,104 INFO sqlalchemy.engine.base.Engine PRAGMA foreign_key_list(\"idx_pt_tourism_Geometry\")\n"
       ]
      },
      {
       "output_type": "stream",
       "stream": "stdout",
       "text": [
        "2012-07-10 18:25:46,105 INFO sqlalchemy.engine.base.Engine ()\n"
       ]
      },
      {
       "output_type": "stream",
       "stream": "stdout",
       "text": [
        "2012-07-10 18:25:46,105 INFO sqlalchemy.engine.base.Engine PRAGMA index_list(\"idx_pt_tourism_Geometry\")\n"
       ]
      },
      {
       "output_type": "stream",
       "stream": "stdout",
       "text": [
        "2012-07-10 18:25:46,105 INFO sqlalchemy.engine.base.Engine ()\n"
       ]
      },
      {
       "output_type": "stream",
       "stream": "stdout",
       "text": [
        "2012-07-10 18:25:46,107 INFO sqlalchemy.engine.base.Engine PRAGMA table_info(\"idx_pt_tourism_Geometry_node\")\n"
       ]
      },
      {
       "output_type": "stream",
       "stream": "stdout",
       "text": [
        "2012-07-10 18:25:46,107 INFO sqlalchemy.engine.base.Engine ()\n"
       ]
      },
      {
       "output_type": "stream",
       "stream": "stdout",
       "text": [
        "2012-07-10 18:25:46,111 INFO sqlalchemy.engine.base.Engine PRAGMA foreign_key_list(\"idx_pt_tourism_Geometry_node\")\n"
       ]
      },
      {
       "output_type": "stream",
       "stream": "stdout",
       "text": [
        "2012-07-10 18:25:46,111 INFO sqlalchemy.engine.base.Engine ()\n"
       ]
      },
      {
       "output_type": "stream",
       "stream": "stdout",
       "text": [
        "2012-07-10 18:25:46,112 INFO sqlalchemy.engine.base.Engine PRAGMA index_list(\"idx_pt_tourism_Geometry_node\")\n"
       ]
      },
      {
       "output_type": "stream",
       "stream": "stdout",
       "text": [
        "2012-07-10 18:25:46,112 INFO sqlalchemy.engine.base.Engine ()\n"
       ]
      },
      {
       "output_type": "stream",
       "stream": "stdout",
       "text": [
        "2012-07-10 18:25:46,114 INFO sqlalchemy.engine.base.Engine PRAGMA table_info(\"idx_pt_tourism_Geometry_parent\")\n"
       ]
      },
      {
       "output_type": "stream",
       "stream": "stdout",
       "text": [
        "2012-07-10 18:25:46,114 INFO sqlalchemy.engine.base.Engine ()\n"
       ]
      },
      {
       "output_type": "stream",
       "stream": "stdout",
       "text": [
        "2012-07-10 18:25:46,118 INFO sqlalchemy.engine.base.Engine PRAGMA foreign_key_list(\"idx_pt_tourism_Geometry_parent\")\n"
       ]
      },
      {
       "output_type": "stream",
       "stream": "stdout",
       "text": [
        "2012-07-10 18:25:46,118 INFO sqlalchemy.engine.base.Engine ()\n"
       ]
      },
      {
       "output_type": "stream",
       "stream": "stdout",
       "text": [
        "2012-07-10 18:25:46,118 INFO sqlalchemy.engine.base.Engine PRAGMA index_list(\"idx_pt_tourism_Geometry_parent\")\n"
       ]
      },
      {
       "output_type": "stream",
       "stream": "stdout",
       "text": [
        "2012-07-10 18:25:46,119 INFO sqlalchemy.engine.base.Engine ()\n"
       ]
      },
      {
       "output_type": "stream",
       "stream": "stdout",
       "text": [
        "2012-07-10 18:25:46,121 INFO sqlalchemy.engine.base.Engine PRAGMA table_info(\"idx_pt_tourism_Geometry_rowid\")\n"
       ]
      },
      {
       "output_type": "stream",
       "stream": "stdout",
       "text": [
        "2012-07-10 18:25:46,121 INFO sqlalchemy.engine.base.Engine ()\n"
       ]
      },
      {
       "output_type": "stream",
       "stream": "stdout",
       "text": [
        "2012-07-10 18:25:46,125 INFO sqlalchemy.engine.base.Engine PRAGMA foreign_key_list(\"idx_pt_tourism_Geometry_rowid\")\n"
       ]
      },
      {
       "output_type": "stream",
       "stream": "stdout",
       "text": [
        "2012-07-10 18:25:46,125 INFO sqlalchemy.engine.base.Engine ()\n"
       ]
      },
      {
       "output_type": "stream",
       "stream": "stdout",
       "text": [
        "2012-07-10 18:25:46,125 INFO sqlalchemy.engine.base.Engine PRAGMA index_list(\"idx_pt_tourism_Geometry_rowid\")\n"
       ]
      },
      {
       "output_type": "stream",
       "stream": "stdout",
       "text": [
        "2012-07-10 18:25:46,126 INFO sqlalchemy.engine.base.Engine ()\n"
       ]
      },
      {
       "output_type": "stream",
       "stream": "stdout",
       "text": [
        "2012-07-10 18:25:46,127 INFO sqlalchemy.engine.base.Engine PRAGMA table_info(\"ln_barrier\")\n"
       ]
      },
      {
       "output_type": "stream",
       "stream": "stdout",
       "text": [
        "2012-07-10 18:25:46,128 INFO sqlalchemy.engine.base.Engine ()\n"
       ]
      },
      {
       "output_type": "stream",
       "stream": "stdout",
       "text": [
        "2012-07-10 18:25:46,132 INFO sqlalchemy.engine.base.Engine PRAGMA foreign_key_list(\"ln_barrier\")\n"
       ]
      },
      {
       "output_type": "stream",
       "stream": "stdout",
       "text": [
        "2012-07-10 18:25:46,132 INFO sqlalchemy.engine.base.Engine ()\n"
       ]
      },
      {
       "output_type": "stream",
       "stream": "stdout",
       "text": [
        "2012-07-10 18:25:46,132 INFO sqlalchemy.engine.base.Engine PRAGMA index_list(\"ln_barrier\")\n"
       ]
      },
      {
       "output_type": "stream",
       "stream": "stdout",
       "text": [
        "2012-07-10 18:25:46,133 INFO sqlalchemy.engine.base.Engine ()\n"
       ]
      },
      {
       "output_type": "stream",
       "stream": "stdout",
       "text": [
        "2012-07-10 18:25:46,134 INFO sqlalchemy.engine.base.Engine PRAGMA table_info(\"ln_boundary\")\n"
       ]
      },
      {
       "output_type": "stream",
       "stream": "stdout",
       "text": [
        "2012-07-10 18:25:46,135 INFO sqlalchemy.engine.base.Engine ()\n"
       ]
      },
      {
       "output_type": "stream",
       "stream": "stdout",
       "text": [
        "2012-07-10 18:25:46,139 INFO sqlalchemy.engine.base.Engine PRAGMA foreign_key_list(\"ln_boundary\")\n"
       ]
      },
      {
       "output_type": "stream",
       "stream": "stdout",
       "text": [
        "2012-07-10 18:25:46,139 INFO sqlalchemy.engine.base.Engine ()\n"
       ]
      },
      {
       "output_type": "stream",
       "stream": "stdout",
       "text": [
        "2012-07-10 18:25:46,140 INFO sqlalchemy.engine.base.Engine PRAGMA index_list(\"ln_boundary\")\n"
       ]
      },
      {
       "output_type": "stream",
       "stream": "stdout",
       "text": [
        "2012-07-10 18:25:46,140 INFO sqlalchemy.engine.base.Engine ()\n"
       ]
      },
      {
       "output_type": "stream",
       "stream": "stdout",
       "text": [
        "2012-07-10 18:25:46,142 INFO sqlalchemy.engine.base.Engine PRAGMA table_info(\"ln_generic\")\n"
       ]
      },
      {
       "output_type": "stream",
       "stream": "stdout",
       "text": [
        "2012-07-10 18:25:46,142 INFO sqlalchemy.engine.base.Engine ()\n"
       ]
      },
      {
       "output_type": "stream",
       "stream": "stdout",
       "text": [
        "2012-07-10 18:25:46,146 INFO sqlalchemy.engine.base.Engine PRAGMA foreign_key_list(\"ln_generic\")\n"
       ]
      },
      {
       "output_type": "stream",
       "stream": "stdout",
       "text": [
        "2012-07-10 18:25:46,146 INFO sqlalchemy.engine.base.Engine ()\n"
       ]
      },
      {
       "output_type": "stream",
       "stream": "stdout",
       "text": [
        "2012-07-10 18:25:46,147 INFO sqlalchemy.engine.base.Engine PRAGMA index_list(\"ln_generic\")\n"
       ]
      },
      {
       "output_type": "stream",
       "stream": "stdout",
       "text": [
        "2012-07-10 18:25:46,147 INFO sqlalchemy.engine.base.Engine ()\n"
       ]
      },
      {
       "output_type": "stream",
       "stream": "stdout",
       "text": [
        "2012-07-10 18:25:46,149 INFO sqlalchemy.engine.base.Engine PRAGMA table_info(\"ln_highway\")\n"
       ]
      },
      {
       "output_type": "stream",
       "stream": "stdout",
       "text": [
        "2012-07-10 18:25:46,149 INFO sqlalchemy.engine.base.Engine ()\n"
       ]
      },
      {
       "output_type": "stream",
       "stream": "stdout",
       "text": [
        "2012-07-10 18:25:46,153 INFO sqlalchemy.engine.base.Engine PRAGMA foreign_key_list(\"ln_highway\")\n"
       ]
      },
      {
       "output_type": "stream",
       "stream": "stdout",
       "text": [
        "2012-07-10 18:25:46,153 INFO sqlalchemy.engine.base.Engine ()\n"
       ]
      },
      {
       "output_type": "stream",
       "stream": "stdout",
       "text": [
        "2012-07-10 18:25:46,154 INFO sqlalchemy.engine.base.Engine PRAGMA index_list(\"ln_highway\")\n"
       ]
      },
      {
       "output_type": "stream",
       "stream": "stdout",
       "text": [
        "2012-07-10 18:25:46,154 INFO sqlalchemy.engine.base.Engine ()\n"
       ]
      },
      {
       "output_type": "stream",
       "stream": "stdout",
       "text": [
        "2012-07-10 18:25:46,156 INFO sqlalchemy.engine.base.Engine PRAGMA table_info(\"ln_junction\")\n"
       ]
      },
      {
       "output_type": "stream",
       "stream": "stdout",
       "text": [
        "2012-07-10 18:25:46,157 INFO sqlalchemy.engine.base.Engine ()\n"
       ]
      },
      {
       "output_type": "stream",
       "stream": "stdout",
       "text": [
        "2012-07-10 18:25:46,160 INFO sqlalchemy.engine.base.Engine PRAGMA foreign_key_list(\"ln_junction\")\n"
       ]
      },
      {
       "output_type": "stream",
       "stream": "stdout",
       "text": [
        "2012-07-10 18:25:46,161 INFO sqlalchemy.engine.base.Engine ()\n"
       ]
      },
      {
       "output_type": "stream",
       "stream": "stdout",
       "text": [
        "2012-07-10 18:25:46,161 INFO sqlalchemy.engine.base.Engine PRAGMA index_list(\"ln_junction\")\n"
       ]
      },
      {
       "output_type": "stream",
       "stream": "stdout",
       "text": [
        "2012-07-10 18:25:46,162 INFO sqlalchemy.engine.base.Engine ()\n"
       ]
      },
      {
       "output_type": "stream",
       "stream": "stdout",
       "text": [
        "2012-07-10 18:25:46,163 INFO sqlalchemy.engine.base.Engine PRAGMA table_info(\"ln_route\")\n"
       ]
      },
      {
       "output_type": "stream",
       "stream": "stdout",
       "text": [
        "2012-07-10 18:25:46,164 INFO sqlalchemy.engine.base.Engine ()\n"
       ]
      },
      {
       "output_type": "stream",
       "stream": "stdout",
       "text": [
        "2012-07-10 18:25:46,168 INFO sqlalchemy.engine.base.Engine PRAGMA foreign_key_list(\"ln_route\")\n"
       ]
      },
      {
       "output_type": "stream",
       "stream": "stdout",
       "text": [
        "2012-07-10 18:25:46,168 INFO sqlalchemy.engine.base.Engine ()\n"
       ]
      },
      {
       "output_type": "stream",
       "stream": "stdout",
       "text": [
        "2012-07-10 18:25:46,168 INFO sqlalchemy.engine.base.Engine PRAGMA index_list(\"ln_route\")\n"
       ]
      },
      {
       "output_type": "stream",
       "stream": "stdout",
       "text": [
        "2012-07-10 18:25:46,169 INFO sqlalchemy.engine.base.Engine ()\n"
       ]
      },
      {
       "output_type": "stream",
       "stream": "stdout",
       "text": [
        "2012-07-10 18:25:46,171 INFO sqlalchemy.engine.base.Engine PRAGMA table_info(\"ln_service\")\n"
       ]
      },
      {
       "output_type": "stream",
       "stream": "stdout",
       "text": [
        "2012-07-10 18:25:46,171 INFO sqlalchemy.engine.base.Engine ()\n"
       ]
      },
      {
       "output_type": "stream",
       "stream": "stdout",
       "text": [
        "2012-07-10 18:25:46,175 INFO sqlalchemy.engine.base.Engine PRAGMA foreign_key_list(\"ln_service\")\n"
       ]
      },
      {
       "output_type": "stream",
       "stream": "stdout",
       "text": [
        "2012-07-10 18:25:46,175 INFO sqlalchemy.engine.base.Engine ()\n"
       ]
      },
      {
       "output_type": "stream",
       "stream": "stdout",
       "text": [
        "2012-07-10 18:25:46,176 INFO sqlalchemy.engine.base.Engine PRAGMA index_list(\"ln_service\")\n"
       ]
      },
      {
       "output_type": "stream",
       "stream": "stdout",
       "text": [
        "2012-07-10 18:25:46,176 INFO sqlalchemy.engine.base.Engine ()\n"
       ]
      },
      {
       "output_type": "stream",
       "stream": "stdout",
       "text": [
        "2012-07-10 18:25:46,178 INFO sqlalchemy.engine.base.Engine PRAGMA table_info(\"ln_waterway\")\n"
       ]
      },
      {
       "output_type": "stream",
       "stream": "stdout",
       "text": [
        "2012-07-10 18:25:46,178 INFO sqlalchemy.engine.base.Engine ()\n"
       ]
      },
      {
       "output_type": "stream",
       "stream": "stdout",
       "text": [
        "2012-07-10 18:25:46,182 INFO sqlalchemy.engine.base.Engine PRAGMA foreign_key_list(\"ln_waterway\")\n"
       ]
      },
      {
       "output_type": "stream",
       "stream": "stdout",
       "text": [
        "2012-07-10 18:25:46,182 INFO sqlalchemy.engine.base.Engine ()\n"
       ]
      },
      {
       "output_type": "stream",
       "stream": "stdout",
       "text": [
        "2012-07-10 18:25:46,183 INFO sqlalchemy.engine.base.Engine PRAGMA index_list(\"ln_waterway\")\n"
       ]
      },
      {
       "output_type": "stream",
       "stream": "stdout",
       "text": [
        "2012-07-10 18:25:46,183 INFO sqlalchemy.engine.base.Engine ()\n"
       ]
      },
      {
       "output_type": "stream",
       "stream": "stdout",
       "text": [
        "2012-07-10 18:25:46,185 INFO sqlalchemy.engine.base.Engine PRAGMA table_info(\"pg_amenity\")\n"
       ]
      },
      {
       "output_type": "stream",
       "stream": "stdout",
       "text": [
        "2012-07-10 18:25:46,185 INFO sqlalchemy.engine.base.Engine ()\n"
       ]
      },
      {
       "output_type": "stream",
       "stream": "stderr",
       "text": [
        "/home/rjw57/git/foldbeam/venv/lib/python2.7/site-packages/SQLAlchemy-0.7.8-py2.7-linux-x86_64.egg/sqlalchemy/engine/reflection.py:47: SAWarning: Did not recognize type 'MULTILINESTRING' of column 'Geometry'\n",
        "/home/rjw57/git/foldbeam/venv/lib/python2.7/site-packages/SQLAlchemy-0.7.8-py2.7-linux-x86_64.egg/sqlalchemy/engine/reflection.py:47: SAWarning: Did not recognize type 'MULTIPOLYGON' of column 'Geometry'\n"
       ]
      },
      {
       "output_type": "stream",
       "stream": "stdout",
       "text": [
        "2012-07-10 18:25:46,190 INFO sqlalchemy.engine.base.Engine PRAGMA foreign_key_list(\"pg_amenity\")\n"
       ]
      },
      {
       "output_type": "stream",
       "stream": "stdout",
       "text": [
        "2012-07-10 18:25:46,190 INFO sqlalchemy.engine.base.Engine ()\n"
       ]
      },
      {
       "output_type": "stream",
       "stream": "stdout",
       "text": [
        "2012-07-10 18:25:46,190 INFO sqlalchemy.engine.base.Engine PRAGMA index_list(\"pg_amenity\")\n"
       ]
      },
      {
       "output_type": "stream",
       "stream": "stdout",
       "text": [
        "2012-07-10 18:25:46,191 INFO sqlalchemy.engine.base.Engine ()\n"
       ]
      },
      {
       "output_type": "stream",
       "stream": "stdout",
       "text": [
        "2012-07-10 18:25:46,193 INFO sqlalchemy.engine.base.Engine PRAGMA table_info(\"pg_building\")\n"
       ]
      },
      {
       "output_type": "stream",
       "stream": "stdout",
       "text": [
        "2012-07-10 18:25:46,193 INFO sqlalchemy.engine.base.Engine ()\n"
       ]
      },
      {
       "output_type": "stream",
       "stream": "stdout",
       "text": [
        "2012-07-10 18:25:46,197 INFO sqlalchemy.engine.base.Engine PRAGMA foreign_key_list(\"pg_building\")\n"
       ]
      },
      {
       "output_type": "stream",
       "stream": "stdout",
       "text": [
        "2012-07-10 18:25:46,198 INFO sqlalchemy.engine.base.Engine ()\n"
       ]
      },
      {
       "output_type": "stream",
       "stream": "stdout",
       "text": [
        "2012-07-10 18:25:46,198 INFO sqlalchemy.engine.base.Engine PRAGMA index_list(\"pg_building\")\n"
       ]
      },
      {
       "output_type": "stream",
       "stream": "stdout",
       "text": [
        "2012-07-10 18:25:46,198 INFO sqlalchemy.engine.base.Engine ()\n"
       ]
      },
      {
       "output_type": "stream",
       "stream": "stdout",
       "text": [
        "2012-07-10 18:25:46,200 INFO sqlalchemy.engine.base.Engine PRAGMA table_info(\"pg_generic\")\n"
       ]
      },
      {
       "output_type": "stream",
       "stream": "stdout",
       "text": [
        "2012-07-10 18:25:46,201 INFO sqlalchemy.engine.base.Engine ()\n"
       ]
      },
      {
       "output_type": "stream",
       "stream": "stdout",
       "text": [
        "2012-07-10 18:25:46,205 INFO sqlalchemy.engine.base.Engine PRAGMA foreign_key_list(\"pg_generic\")\n"
       ]
      },
      {
       "output_type": "stream",
       "stream": "stdout",
       "text": [
        "2012-07-10 18:25:46,205 INFO sqlalchemy.engine.base.Engine ()\n"
       ]
      },
      {
       "output_type": "stream",
       "stream": "stdout",
       "text": [
        "2012-07-10 18:25:46,205 INFO sqlalchemy.engine.base.Engine PRAGMA index_list(\"pg_generic\")\n"
       ]
      },
      {
       "output_type": "stream",
       "stream": "stdout",
       "text": [
        "2012-07-10 18:25:46,206 INFO sqlalchemy.engine.base.Engine ()\n"
       ]
      },
      {
       "output_type": "stream",
       "stream": "stdout",
       "text": [
        "2012-07-10 18:25:46,208 INFO sqlalchemy.engine.base.Engine PRAGMA table_info(\"pg_highway\")\n"
       ]
      },
      {
       "output_type": "stream",
       "stream": "stdout",
       "text": [
        "2012-07-10 18:25:46,208 INFO sqlalchemy.engine.base.Engine ()\n"
       ]
      },
      {
       "output_type": "stream",
       "stream": "stdout",
       "text": [
        "2012-07-10 18:25:46,212 INFO sqlalchemy.engine.base.Engine PRAGMA foreign_key_list(\"pg_highway\")\n"
       ]
      },
      {
       "output_type": "stream",
       "stream": "stdout",
       "text": [
        "2012-07-10 18:25:46,212 INFO sqlalchemy.engine.base.Engine ()\n"
       ]
      },
      {
       "output_type": "stream",
       "stream": "stdout",
       "text": [
        "2012-07-10 18:25:46,213 INFO sqlalchemy.engine.base.Engine PRAGMA index_list(\"pg_highway\")\n"
       ]
      },
      {
       "output_type": "stream",
       "stream": "stdout",
       "text": [
        "2012-07-10 18:25:46,213 INFO sqlalchemy.engine.base.Engine ()\n"
       ]
      },
      {
       "output_type": "stream",
       "stream": "stdout",
       "text": [
        "2012-07-10 18:25:46,215 INFO sqlalchemy.engine.base.Engine PRAGMA table_info(\"pg_landuse\")\n"
       ]
      },
      {
       "output_type": "stream",
       "stream": "stdout",
       "text": [
        "2012-07-10 18:25:46,215 INFO sqlalchemy.engine.base.Engine ()\n"
       ]
      },
      {
       "output_type": "stream",
       "stream": "stdout",
       "text": [
        "2012-07-10 18:25:46,220 INFO sqlalchemy.engine.base.Engine PRAGMA foreign_key_list(\"pg_landuse\")\n"
       ]
      },
      {
       "output_type": "stream",
       "stream": "stdout",
       "text": [
        "2012-07-10 18:25:46,220 INFO sqlalchemy.engine.base.Engine ()\n"
       ]
      },
      {
       "output_type": "stream",
       "stream": "stdout",
       "text": [
        "2012-07-10 18:25:46,220 INFO sqlalchemy.engine.base.Engine PRAGMA index_list(\"pg_landuse\")\n"
       ]
      },
      {
       "output_type": "stream",
       "stream": "stdout",
       "text": [
        "2012-07-10 18:25:46,221 INFO sqlalchemy.engine.base.Engine ()\n"
       ]
      },
      {
       "output_type": "stream",
       "stream": "stdout",
       "text": [
        "2012-07-10 18:25:46,223 INFO sqlalchemy.engine.base.Engine PRAGMA table_info(\"pg_leisure\")\n"
       ]
      },
      {
       "output_type": "stream",
       "stream": "stdout",
       "text": [
        "2012-07-10 18:25:46,223 INFO sqlalchemy.engine.base.Engine ()\n"
       ]
      },
      {
       "output_type": "stream",
       "stream": "stdout",
       "text": [
        "2012-07-10 18:25:46,227 INFO sqlalchemy.engine.base.Engine PRAGMA foreign_key_list(\"pg_leisure\")\n"
       ]
      },
      {
       "output_type": "stream",
       "stream": "stdout",
       "text": [
        "2012-07-10 18:25:46,227 INFO sqlalchemy.engine.base.Engine ()\n"
       ]
      },
      {
       "output_type": "stream",
       "stream": "stdout",
       "text": [
        "2012-07-10 18:25:46,228 INFO sqlalchemy.engine.base.Engine PRAGMA index_list(\"pg_leisure\")\n"
       ]
      },
      {
       "output_type": "stream",
       "stream": "stdout",
       "text": [
        "2012-07-10 18:25:46,228 INFO sqlalchemy.engine.base.Engine ()\n"
       ]
      },
      {
       "output_type": "stream",
       "stream": "stdout",
       "text": [
        "2012-07-10 18:25:46,230 INFO sqlalchemy.engine.base.Engine PRAGMA table_info(\"pg_natural\")\n"
       ]
      },
      {
       "output_type": "stream",
       "stream": "stdout",
       "text": [
        "2012-07-10 18:25:46,230 INFO sqlalchemy.engine.base.Engine ()\n"
       ]
      },
      {
       "output_type": "stream",
       "stream": "stdout",
       "text": [
        "2012-07-10 18:25:46,234 INFO sqlalchemy.engine.base.Engine PRAGMA foreign_key_list(\"pg_natural\")\n"
       ]
      },
      {
       "output_type": "stream",
       "stream": "stdout",
       "text": [
        "2012-07-10 18:25:46,234 INFO sqlalchemy.engine.base.Engine ()\n"
       ]
      },
      {
       "output_type": "stream",
       "stream": "stdout",
       "text": [
        "2012-07-10 18:25:46,235 INFO sqlalchemy.engine.base.Engine PRAGMA index_list(\"pg_natural\")\n"
       ]
      },
      {
       "output_type": "stream",
       "stream": "stdout",
       "text": [
        "2012-07-10 18:25:46,235 INFO sqlalchemy.engine.base.Engine ()\n"
       ]
      },
      {
       "output_type": "stream",
       "stream": "stdout",
       "text": [
        "2012-07-10 18:25:46,237 INFO sqlalchemy.engine.base.Engine PRAGMA table_info(\"pg_shop\")\n"
       ]
      },
      {
       "output_type": "stream",
       "stream": "stdout",
       "text": [
        "2012-07-10 18:25:46,237 INFO sqlalchemy.engine.base.Engine ()\n"
       ]
      },
      {
       "output_type": "stream",
       "stream": "stdout",
       "text": [
        "2012-07-10 18:25:46,241 INFO sqlalchemy.engine.base.Engine PRAGMA foreign_key_list(\"pg_shop\")\n"
       ]
      },
      {
       "output_type": "stream",
       "stream": "stdout",
       "text": [
        "2012-07-10 18:25:46,242 INFO sqlalchemy.engine.base.Engine ()\n"
       ]
      },
      {
       "output_type": "stream",
       "stream": "stdout",
       "text": [
        "2012-07-10 18:25:46,242 INFO sqlalchemy.engine.base.Engine PRAGMA index_list(\"pg_shop\")\n"
       ]
      },
      {
       "output_type": "stream",
       "stream": "stdout",
       "text": [
        "2012-07-10 18:25:46,242 INFO sqlalchemy.engine.base.Engine ()\n"
       ]
      },
      {
       "output_type": "stream",
       "stream": "stdout",
       "text": [
        "2012-07-10 18:25:46,244 INFO sqlalchemy.engine.base.Engine PRAGMA table_info(\"pg_tourism\")\n"
       ]
      },
      {
       "output_type": "stream",
       "stream": "stdout",
       "text": [
        "2012-07-10 18:25:46,245 INFO sqlalchemy.engine.base.Engine ()\n"
       ]
      },
      {
       "output_type": "stream",
       "stream": "stdout",
       "text": [
        "2012-07-10 18:25:46,249 INFO sqlalchemy.engine.base.Engine PRAGMA foreign_key_list(\"pg_tourism\")\n"
       ]
      },
      {
       "output_type": "stream",
       "stream": "stdout",
       "text": [
        "2012-07-10 18:25:46,249 INFO sqlalchemy.engine.base.Engine ()\n"
       ]
      },
      {
       "output_type": "stream",
       "stream": "stdout",
       "text": [
        "2012-07-10 18:25:46,250 INFO sqlalchemy.engine.base.Engine PRAGMA index_list(\"pg_tourism\")\n"
       ]
      },
      {
       "output_type": "stream",
       "stream": "stdout",
       "text": [
        "2012-07-10 18:25:46,250 INFO sqlalchemy.engine.base.Engine ()\n"
       ]
      },
      {
       "output_type": "stream",
       "stream": "stdout",
       "text": [
        "2012-07-10 18:25:46,252 INFO sqlalchemy.engine.base.Engine PRAGMA table_info(\"pt_addresses\")\n"
       ]
      },
      {
       "output_type": "stream",
       "stream": "stdout",
       "text": [
        "2012-07-10 18:25:46,252 INFO sqlalchemy.engine.base.Engine ()\n"
       ]
      },
      {
       "output_type": "stream",
       "stream": "stdout",
       "text": [
        "2012-07-10 18:25:46,257 INFO sqlalchemy.engine.base.Engine PRAGMA foreign_key_list(\"pt_addresses\")\n"
       ]
      },
      {
       "output_type": "stream",
       "stream": "stdout",
       "text": [
        "2012-07-10 18:25:46,257 INFO sqlalchemy.engine.base.Engine ()\n"
       ]
      },
      {
       "output_type": "stream",
       "stream": "stdout",
       "text": [
        "2012-07-10 18:25:46,257 INFO sqlalchemy.engine.base.Engine PRAGMA index_list(\"pt_addresses\")\n"
       ]
      },
      {
       "output_type": "stream",
       "stream": "stdout",
       "text": [
        "2012-07-10 18:25:46,258 INFO sqlalchemy.engine.base.Engine ()\n"
       ]
      },
      {
       "output_type": "stream",
       "stream": "stdout",
       "text": [
        "2012-07-10 18:25:46,260 INFO sqlalchemy.engine.base.Engine PRAGMA table_info(\"pt_amenity\")\n"
       ]
      },
      {
       "output_type": "stream",
       "stream": "stdout",
       "text": [
        "2012-07-10 18:25:46,260 INFO sqlalchemy.engine.base.Engine ()\n"
       ]
      },
      {
       "output_type": "stream",
       "stream": "stdout",
       "text": [
        "2012-07-10 18:25:46,264 INFO sqlalchemy.engine.base.Engine PRAGMA foreign_key_list(\"pt_amenity\")\n"
       ]
      },
      {
       "output_type": "stream",
       "stream": "stdout",
       "text": [
        "2012-07-10 18:25:46,264 INFO sqlalchemy.engine.base.Engine ()\n"
       ]
      },
      {
       "output_type": "stream",
       "stream": "stdout",
       "text": [
        "2012-07-10 18:25:46,265 INFO sqlalchemy.engine.base.Engine PRAGMA index_list(\"pt_amenity\")\n"
       ]
      },
      {
       "output_type": "stream",
       "stream": "stdout",
       "text": [
        "2012-07-10 18:25:46,265 INFO sqlalchemy.engine.base.Engine ()\n"
       ]
      },
      {
       "output_type": "stream",
       "stream": "stdout",
       "text": [
        "2012-07-10 18:25:46,267 INFO sqlalchemy.engine.base.Engine PRAGMA table_info(\"pt_barrier\")\n"
       ]
      },
      {
       "output_type": "stream",
       "stream": "stdout",
       "text": [
        "2012-07-10 18:25:46,267 INFO sqlalchemy.engine.base.Engine ()\n"
       ]
      },
      {
       "output_type": "stream",
       "stream": "stdout",
       "text": [
        "2012-07-10 18:25:46,271 INFO sqlalchemy.engine.base.Engine PRAGMA foreign_key_list(\"pt_barrier\")\n"
       ]
      },
      {
       "output_type": "stream",
       "stream": "stdout",
       "text": [
        "2012-07-10 18:25:46,272 INFO sqlalchemy.engine.base.Engine ()\n"
       ]
      },
      {
       "output_type": "stream",
       "stream": "stdout",
       "text": [
        "2012-07-10 18:25:46,272 INFO sqlalchemy.engine.base.Engine PRAGMA index_list(\"pt_barrier\")\n"
       ]
      },
      {
       "output_type": "stream",
       "stream": "stdout",
       "text": [
        "2012-07-10 18:25:46,272 INFO sqlalchemy.engine.base.Engine ()\n"
       ]
      },
      {
       "output_type": "stream",
       "stream": "stdout",
       "text": [
        "2012-07-10 18:25:46,274 INFO sqlalchemy.engine.base.Engine PRAGMA table_info(\"pt_building\")\n"
       ]
      },
      {
       "output_type": "stream",
       "stream": "stdout",
       "text": [
        "2012-07-10 18:25:46,275 INFO sqlalchemy.engine.base.Engine ()\n"
       ]
      },
      {
       "output_type": "stream",
       "stream": "stdout",
       "text": [
        "2012-07-10 18:25:46,278 INFO sqlalchemy.engine.base.Engine PRAGMA foreign_key_list(\"pt_building\")\n"
       ]
      },
      {
       "output_type": "stream",
       "stream": "stdout",
       "text": [
        "2012-07-10 18:25:46,279 INFO sqlalchemy.engine.base.Engine ()\n"
       ]
      },
      {
       "output_type": "stream",
       "stream": "stdout",
       "text": [
        "2012-07-10 18:25:46,279 INFO sqlalchemy.engine.base.Engine PRAGMA index_list(\"pt_building\")\n"
       ]
      },
      {
       "output_type": "stream",
       "stream": "stdout",
       "text": [
        "2012-07-10 18:25:46,279 INFO sqlalchemy.engine.base.Engine ()\n"
       ]
      },
      {
       "output_type": "stream",
       "stream": "stdout",
       "text": [
        "2012-07-10 18:25:46,281 INFO sqlalchemy.engine.base.Engine PRAGMA table_info(\"pt_generic\")\n"
       ]
      },
      {
       "output_type": "stream",
       "stream": "stdout",
       "text": [
        "2012-07-10 18:25:46,282 INFO sqlalchemy.engine.base.Engine ()\n"
       ]
      },
      {
       "output_type": "stream",
       "stream": "stdout",
       "text": [
        "2012-07-10 18:25:46,286 INFO sqlalchemy.engine.base.Engine PRAGMA foreign_key_list(\"pt_generic\")\n"
       ]
      },
      {
       "output_type": "stream",
       "stream": "stdout",
       "text": [
        "2012-07-10 18:25:46,286 INFO sqlalchemy.engine.base.Engine ()\n"
       ]
      },
      {
       "output_type": "stream",
       "stream": "stdout",
       "text": [
        "2012-07-10 18:25:46,286 INFO sqlalchemy.engine.base.Engine PRAGMA index_list(\"pt_generic\")\n"
       ]
      },
      {
       "output_type": "stream",
       "stream": "stdout",
       "text": [
        "2012-07-10 18:25:46,287 INFO sqlalchemy.engine.base.Engine ()\n"
       ]
      },
      {
       "output_type": "stream",
       "stream": "stdout",
       "text": [
        "2012-07-10 18:25:46,289 INFO sqlalchemy.engine.base.Engine PRAGMA table_info(\"pt_highway\")\n"
       ]
      },
      {
       "output_type": "stream",
       "stream": "stdout",
       "text": [
        "2012-07-10 18:25:46,289 INFO sqlalchemy.engine.base.Engine ()\n"
       ]
      },
      {
       "output_type": "stream",
       "stream": "stdout",
       "text": [
        "2012-07-10 18:25:46,293 INFO sqlalchemy.engine.base.Engine PRAGMA foreign_key_list(\"pt_highway\")\n"
       ]
      },
      {
       "output_type": "stream",
       "stream": "stdout",
       "text": [
        "2012-07-10 18:25:46,293 INFO sqlalchemy.engine.base.Engine ()\n"
       ]
      },
      {
       "output_type": "stream",
       "stream": "stdout",
       "text": [
        "2012-07-10 18:25:46,293 INFO sqlalchemy.engine.base.Engine PRAGMA index_list(\"pt_highway\")\n"
       ]
      },
      {
       "output_type": "stream",
       "stream": "stdout",
       "text": [
        "2012-07-10 18:25:46,294 INFO sqlalchemy.engine.base.Engine ()\n"
       ]
      },
      {
       "output_type": "stream",
       "stream": "stdout",
       "text": [
        "2012-07-10 18:25:46,296 INFO sqlalchemy.engine.base.Engine PRAGMA table_info(\"pt_historic\")\n"
       ]
      },
      {
       "output_type": "stream",
       "stream": "stdout",
       "text": [
        "2012-07-10 18:25:46,298 INFO sqlalchemy.engine.base.Engine ()\n"
       ]
      },
      {
       "output_type": "stream",
       "stream": "stdout",
       "text": [
        "2012-07-10 18:25:46,302 INFO sqlalchemy.engine.base.Engine PRAGMA foreign_key_list(\"pt_historic\")\n"
       ]
      },
      {
       "output_type": "stream",
       "stream": "stdout",
       "text": [
        "2012-07-10 18:25:46,302 INFO sqlalchemy.engine.base.Engine ()\n"
       ]
      },
      {
       "output_type": "stream",
       "stream": "stdout",
       "text": [
        "2012-07-10 18:25:46,303 INFO sqlalchemy.engine.base.Engine PRAGMA index_list(\"pt_historic\")\n"
       ]
      },
      {
       "output_type": "stream",
       "stream": "stdout",
       "text": [
        "2012-07-10 18:25:46,303 INFO sqlalchemy.engine.base.Engine ()\n"
       ]
      },
      {
       "output_type": "stream",
       "stream": "stdout",
       "text": [
        "2012-07-10 18:25:46,305 INFO sqlalchemy.engine.base.Engine PRAGMA table_info(\"pt_landuse\")\n"
       ]
      },
      {
       "output_type": "stream",
       "stream": "stdout",
       "text": [
        "2012-07-10 18:25:46,305 INFO sqlalchemy.engine.base.Engine ()\n"
       ]
      },
      {
       "output_type": "stream",
       "stream": "stdout",
       "text": [
        "2012-07-10 18:25:46,309 INFO sqlalchemy.engine.base.Engine PRAGMA foreign_key_list(\"pt_landuse\")\n"
       ]
      },
      {
       "output_type": "stream",
       "stream": "stdout",
       "text": [
        "2012-07-10 18:25:46,309 INFO sqlalchemy.engine.base.Engine ()\n"
       ]
      },
      {
       "output_type": "stream",
       "stream": "stdout",
       "text": [
        "2012-07-10 18:25:46,310 INFO sqlalchemy.engine.base.Engine PRAGMA index_list(\"pt_landuse\")\n"
       ]
      },
      {
       "output_type": "stream",
       "stream": "stdout",
       "text": [
        "2012-07-10 18:25:46,310 INFO sqlalchemy.engine.base.Engine ()\n"
       ]
      },
      {
       "output_type": "stream",
       "stream": "stdout",
       "text": [
        "2012-07-10 18:25:46,312 INFO sqlalchemy.engine.base.Engine PRAGMA table_info(\"pt_man_made\")\n"
       ]
      },
      {
       "output_type": "stream",
       "stream": "stdout",
       "text": [
        "2012-07-10 18:25:46,312 INFO sqlalchemy.engine.base.Engine ()\n"
       ]
      },
      {
       "output_type": "stream",
       "stream": "stdout",
       "text": [
        "2012-07-10 18:25:46,316 INFO sqlalchemy.engine.base.Engine PRAGMA foreign_key_list(\"pt_man_made\")\n"
       ]
      },
      {
       "output_type": "stream",
       "stream": "stdout",
       "text": [
        "2012-07-10 18:25:46,316 INFO sqlalchemy.engine.base.Engine ()\n"
       ]
      },
      {
       "output_type": "stream",
       "stream": "stdout",
       "text": [
        "2012-07-10 18:25:46,317 INFO sqlalchemy.engine.base.Engine PRAGMA index_list(\"pt_man_made\")\n"
       ]
      },
      {
       "output_type": "stream",
       "stream": "stdout",
       "text": [
        "2012-07-10 18:25:46,317 INFO sqlalchemy.engine.base.Engine ()\n"
       ]
      },
      {
       "output_type": "stream",
       "stream": "stdout",
       "text": [
        "2012-07-10 18:25:46,319 INFO sqlalchemy.engine.base.Engine PRAGMA table_info(\"pt_natural\")\n"
       ]
      },
      {
       "output_type": "stream",
       "stream": "stdout",
       "text": [
        "2012-07-10 18:25:46,319 INFO sqlalchemy.engine.base.Engine ()\n"
       ]
      },
      {
       "output_type": "stream",
       "stream": "stdout",
       "text": [
        "2012-07-10 18:25:46,323 INFO sqlalchemy.engine.base.Engine PRAGMA foreign_key_list(\"pt_natural\")\n"
       ]
      },
      {
       "output_type": "stream",
       "stream": "stdout",
       "text": [
        "2012-07-10 18:25:46,324 INFO sqlalchemy.engine.base.Engine ()\n"
       ]
      },
      {
       "output_type": "stream",
       "stream": "stdout",
       "text": [
        "2012-07-10 18:25:46,324 INFO sqlalchemy.engine.base.Engine PRAGMA index_list(\"pt_natural\")\n"
       ]
      },
      {
       "output_type": "stream",
       "stream": "stdout",
       "text": [
        "2012-07-10 18:25:46,324 INFO sqlalchemy.engine.base.Engine ()\n"
       ]
      },
      {
       "output_type": "stream",
       "stream": "stdout",
       "text": [
        "2012-07-10 18:25:46,326 INFO sqlalchemy.engine.base.Engine PRAGMA table_info(\"pt_place\")\n"
       ]
      },
      {
       "output_type": "stream",
       "stream": "stdout",
       "text": [
        "2012-07-10 18:25:46,326 INFO sqlalchemy.engine.base.Engine ()\n"
       ]
      },
      {
       "output_type": "stream",
       "stream": "stdout",
       "text": [
        "2012-07-10 18:25:46,330 INFO sqlalchemy.engine.base.Engine PRAGMA foreign_key_list(\"pt_place\")\n"
       ]
      },
      {
       "output_type": "stream",
       "stream": "stdout",
       "text": [
        "2012-07-10 18:25:46,331 INFO sqlalchemy.engine.base.Engine ()\n"
       ]
      },
      {
       "output_type": "stream",
       "stream": "stdout",
       "text": [
        "2012-07-10 18:25:46,331 INFO sqlalchemy.engine.base.Engine PRAGMA index_list(\"pt_place\")\n"
       ]
      },
      {
       "output_type": "stream",
       "stream": "stdout",
       "text": [
        "2012-07-10 18:25:46,331 INFO sqlalchemy.engine.base.Engine ()\n"
       ]
      },
      {
       "output_type": "stream",
       "stream": "stdout",
       "text": [
        "2012-07-10 18:25:46,333 INFO sqlalchemy.engine.base.Engine PRAGMA table_info(\"pt_shop\")\n"
       ]
      },
      {
       "output_type": "stream",
       "stream": "stdout",
       "text": [
        "2012-07-10 18:25:46,334 INFO sqlalchemy.engine.base.Engine ()\n"
       ]
      },
      {
       "output_type": "stream",
       "stream": "stdout",
       "text": [
        "2012-07-10 18:25:46,337 INFO sqlalchemy.engine.base.Engine PRAGMA foreign_key_list(\"pt_shop\")\n"
       ]
      },
      {
       "output_type": "stream",
       "stream": "stdout",
       "text": [
        "2012-07-10 18:25:46,338 INFO sqlalchemy.engine.base.Engine ()\n"
       ]
      },
      {
       "output_type": "stream",
       "stream": "stdout",
       "text": [
        "2012-07-10 18:25:46,338 INFO sqlalchemy.engine.base.Engine PRAGMA index_list(\"pt_shop\")\n"
       ]
      },
      {
       "output_type": "stream",
       "stream": "stdout",
       "text": [
        "2012-07-10 18:25:46,338 INFO sqlalchemy.engine.base.Engine ()\n"
       ]
      },
      {
       "output_type": "stream",
       "stream": "stdout",
       "text": [
        "2012-07-10 18:25:46,340 INFO sqlalchemy.engine.base.Engine PRAGMA table_info(\"pt_tourism\")\n"
       ]
      },
      {
       "output_type": "stream",
       "stream": "stdout",
       "text": [
        "2012-07-10 18:25:46,341 INFO sqlalchemy.engine.base.Engine ()\n"
       ]
      },
      {
       "output_type": "stream",
       "stream": "stdout",
       "text": [
        "2012-07-10 18:25:46,345 INFO sqlalchemy.engine.base.Engine PRAGMA foreign_key_list(\"pt_tourism\")\n"
       ]
      },
      {
       "output_type": "stream",
       "stream": "stdout",
       "text": [
        "2012-07-10 18:25:46,345 INFO sqlalchemy.engine.base.Engine ()\n"
       ]
      },
      {
       "output_type": "stream",
       "stream": "stdout",
       "text": [
        "2012-07-10 18:25:46,346 INFO sqlalchemy.engine.base.Engine PRAGMA index_list(\"pt_tourism\")\n"
       ]
      },
      {
       "output_type": "stream",
       "stream": "stdout",
       "text": [
        "2012-07-10 18:25:46,346 INFO sqlalchemy.engine.base.Engine ()\n"
       ]
      },
      {
       "output_type": "stream",
       "stream": "stdout",
       "text": [
        "2012-07-10 18:25:46,348 INFO sqlalchemy.engine.base.Engine PRAGMA table_info(\"spatialite_history\")\n"
       ]
      },
      {
       "output_type": "stream",
       "stream": "stdout",
       "text": [
        "2012-07-10 18:25:46,348 INFO sqlalchemy.engine.base.Engine ()\n"
       ]
      },
      {
       "output_type": "stream",
       "stream": "stdout",
       "text": [
        "2012-07-10 18:25:46,352 INFO sqlalchemy.engine.base.Engine PRAGMA foreign_key_list(\"spatialite_history\")\n"
       ]
      },
      {
       "output_type": "stream",
       "stream": "stdout",
       "text": [
        "2012-07-10 18:25:46,352 INFO sqlalchemy.engine.base.Engine ()\n"
       ]
      },
      {
       "output_type": "stream",
       "stream": "stdout",
       "text": [
        "2012-07-10 18:25:46,353 INFO sqlalchemy.engine.base.Engine PRAGMA index_list(\"spatialite_history\")\n"
       ]
      },
      {
       "output_type": "stream",
       "stream": "stdout",
       "text": [
        "2012-07-10 18:25:46,353 INFO sqlalchemy.engine.base.Engine ()\n"
       ]
      },
      {
       "output_type": "stream",
       "stream": "stdout",
       "text": [
        "2012-07-10 18:25:46,355 INFO sqlalchemy.engine.base.Engine PRAGMA table_info(\"sqlite_sequence\")\n"
       ]
      },
      {
       "output_type": "stream",
       "stream": "stdout",
       "text": [
        "2012-07-10 18:25:46,356 INFO sqlalchemy.engine.base.Engine ()\n"
       ]
      },
      {
       "output_type": "stream",
       "stream": "stdout",
       "text": [
        "2012-07-10 18:25:46,359 INFO sqlalchemy.engine.base.Engine PRAGMA foreign_key_list(\"sqlite_sequence\")\n"
       ]
      },
      {
       "output_type": "stream",
       "stream": "stdout",
       "text": [
        "2012-07-10 18:25:46,360 INFO sqlalchemy.engine.base.Engine ()\n"
       ]
      },
      {
       "output_type": "stream",
       "stream": "stdout",
       "text": [
        "2012-07-10 18:25:46,360 INFO sqlalchemy.engine.base.Engine PRAGMA index_list(\"sqlite_sequence\")\n"
       ]
      },
      {
       "output_type": "stream",
       "stream": "stdout",
       "text": [
        "2012-07-10 18:25:46,360 INFO sqlalchemy.engine.base.Engine ()\n"
       ]
      },
      {
       "output_type": "stream",
       "stream": "stdout",
       "text": [
        "2012-07-10 18:25:46,362 INFO sqlalchemy.engine.base.Engine PRAGMA table_info(\"views_geometry_columns\")\n"
       ]
      },
      {
       "output_type": "stream",
       "stream": "stdout",
       "text": [
        "2012-07-10 18:25:46,362 INFO sqlalchemy.engine.base.Engine ()\n"
       ]
      },
      {
       "output_type": "stream",
       "stream": "stdout",
       "text": [
        "2012-07-10 18:25:46,366 INFO sqlalchemy.engine.base.Engine PRAGMA foreign_key_list(\"views_geometry_columns\")\n"
       ]
      },
      {
       "output_type": "stream",
       "stream": "stdout",
       "text": [
        "2012-07-10 18:25:46,367 INFO sqlalchemy.engine.base.Engine ()\n"
       ]
      },
      {
       "output_type": "stream",
       "stream": "stdout",
       "text": [
        "2012-07-10 18:25:46,367 INFO sqlalchemy.engine.base.Engine PRAGMA index_list(\"views_geometry_columns\")\n"
       ]
      },
      {
       "output_type": "stream",
       "stream": "stdout",
       "text": [
        "2012-07-10 18:25:46,368 INFO sqlalchemy.engine.base.Engine ()\n"
       ]
      },
      {
       "output_type": "stream",
       "stream": "stdout",
       "text": [
        "2012-07-10 18:25:46,368 INFO sqlalchemy.engine.base.Engine PRAGMA index_info(\"idx_viewsjoin\")\n"
       ]
      },
      {
       "output_type": "stream",
       "stream": "stdout",
       "text": [
        "2012-07-10 18:25:46,369 INFO sqlalchemy.engine.base.Engine ()\n"
       ]
      },
      {
       "output_type": "stream",
       "stream": "stdout",
       "text": [
        "2012-07-10 18:25:46,371 INFO sqlalchemy.engine.base.Engine PRAGMA table_info(\"virts_geometry_columns\")\n"
       ]
      },
      {
       "output_type": "stream",
       "stream": "stdout",
       "text": [
        "2012-07-10 18:25:46,371 INFO sqlalchemy.engine.base.Engine ()\n"
       ]
      },
      {
       "output_type": "stream",
       "stream": "stdout",
       "text": [
        "2012-07-10 18:25:46,375 INFO sqlalchemy.engine.base.Engine PRAGMA foreign_key_list(\"virts_geometry_columns\")\n"
       ]
      },
      {
       "output_type": "stream",
       "stream": "stdout",
       "text": [
        "2012-07-10 18:25:46,375 INFO sqlalchemy.engine.base.Engine ()\n"
       ]
      },
      {
       "output_type": "stream",
       "stream": "stdout",
       "text": [
        "2012-07-10 18:25:46,376 INFO sqlalchemy.engine.base.Engine PRAGMA index_list(\"virts_geometry_columns\")\n"
       ]
      },
      {
       "output_type": "stream",
       "stream": "stdout",
       "text": [
        "2012-07-10 18:25:46,376 INFO sqlalchemy.engine.base.Engine ()\n"
       ]
      },
      {
       "output_type": "stream",
       "stream": "stdout",
       "text": [
        "2012-07-10 18:25:46,377 INFO sqlalchemy.engine.base.Engine PRAGMA index_info(\"idx_virtssrid\")\n"
       ]
      },
      {
       "output_type": "stream",
       "stream": "stdout",
       "text": [
        "2012-07-10 18:25:46,377 INFO sqlalchemy.engine.base.Engine ()\n"
       ]
      },
      {
       "output_type": "stream",
       "stream": "stderr",
       "text": [
        "/home/rjw57/git/foldbeam/venv/lib/python2.7/site-packages/SQLAlchemy-0.7.8-py2.7-linux-x86_64.egg/sqlalchemy/engine/reflection.py:47: SAWarning: Did not recognize type 'POINT' of column 'Geometry'\n"
       ]
      }
     ],
     "prompt_number": 4
    },
    {
     "cell_type": "markdown",
     "metadata": {},
     "source": [
      "Look around the DB\n",
      "==================\n",
      "\n",
      "Let's poke around the DB using reflection."
     ]
    },
    {
     "cell_type": "code",
     "collapsed": false,
     "input": [
      "# List the tables\n",
      "for table in sorted(metadata.tables.keys()):\n",
      "    print(table)"
     ],
     "language": "python",
     "metadata": {},
     "outputs": [
      {
       "output_type": "stream",
       "stream": "stdout",
       "text": [
        "SpatialIndex\n",
        "geometry_columns\n",
        "geometry_columns_auth\n",
        "idx_ln_barrier_Geometry\n",
        "idx_ln_barrier_Geometry_node\n",
        "idx_ln_barrier_Geometry_parent\n",
        "idx_ln_barrier_Geometry_rowid\n",
        "idx_ln_boundary_Geometry\n",
        "idx_ln_boundary_Geometry_node\n",
        "idx_ln_boundary_Geometry_parent\n",
        "idx_ln_boundary_Geometry_rowid\n",
        "idx_ln_generic_Geometry\n",
        "idx_ln_generic_Geometry_node\n",
        "idx_ln_generic_Geometry_parent\n",
        "idx_ln_generic_Geometry_rowid\n",
        "idx_ln_highway_Geometry\n",
        "idx_ln_highway_Geometry_node\n",
        "idx_ln_highway_Geometry_parent\n",
        "idx_ln_highway_Geometry_rowid\n",
        "idx_ln_junction_Geometry\n",
        "idx_ln_junction_Geometry_node\n",
        "idx_ln_junction_Geometry_parent\n",
        "idx_ln_junction_Geometry_rowid\n",
        "idx_ln_route_Geometry\n",
        "idx_ln_route_Geometry_node\n",
        "idx_ln_route_Geometry_parent\n",
        "idx_ln_route_Geometry_rowid\n",
        "idx_ln_service_Geometry\n",
        "idx_ln_service_Geometry_node\n",
        "idx_ln_service_Geometry_parent\n",
        "idx_ln_service_Geometry_rowid\n",
        "idx_ln_waterway_Geometry\n",
        "idx_ln_waterway_Geometry_node\n",
        "idx_ln_waterway_Geometry_parent\n",
        "idx_ln_waterway_Geometry_rowid\n",
        "idx_pg_amenity_Geometry\n",
        "idx_pg_amenity_Geometry_node\n",
        "idx_pg_amenity_Geometry_parent\n",
        "idx_pg_amenity_Geometry_rowid\n",
        "idx_pg_building_Geometry\n",
        "idx_pg_building_Geometry_node\n",
        "idx_pg_building_Geometry_parent\n",
        "idx_pg_building_Geometry_rowid\n",
        "idx_pg_generic_Geometry\n",
        "idx_pg_generic_Geometry_node\n",
        "idx_pg_generic_Geometry_parent\n",
        "idx_pg_generic_Geometry_rowid\n",
        "idx_pg_highway_Geometry\n",
        "idx_pg_highway_Geometry_node\n",
        "idx_pg_highway_Geometry_parent\n",
        "idx_pg_highway_Geometry_rowid\n",
        "idx_pg_landuse_Geometry\n",
        "idx_pg_landuse_Geometry_node\n",
        "idx_pg_landuse_Geometry_parent\n",
        "idx_pg_landuse_Geometry_rowid\n",
        "idx_pg_leisure_Geometry\n",
        "idx_pg_leisure_Geometry_node\n",
        "idx_pg_leisure_Geometry_parent\n",
        "idx_pg_leisure_Geometry_rowid\n",
        "idx_pg_natural_Geometry\n",
        "idx_pg_natural_Geometry_node\n",
        "idx_pg_natural_Geometry_parent\n",
        "idx_pg_natural_Geometry_rowid\n",
        "idx_pg_shop_Geometry\n",
        "idx_pg_shop_Geometry_node\n",
        "idx_pg_shop_Geometry_parent\n",
        "idx_pg_shop_Geometry_rowid\n",
        "idx_pg_tourism_Geometry\n",
        "idx_pg_tourism_Geometry_node\n",
        "idx_pg_tourism_Geometry_parent\n",
        "idx_pg_tourism_Geometry_rowid\n",
        "idx_pt_addresses_Geometry\n",
        "idx_pt_addresses_Geometry_node\n",
        "idx_pt_addresses_Geometry_parent\n",
        "idx_pt_addresses_Geometry_rowid\n",
        "idx_pt_amenity_Geometry\n",
        "idx_pt_amenity_Geometry_node\n",
        "idx_pt_amenity_Geometry_parent\n",
        "idx_pt_amenity_Geometry_rowid\n",
        "idx_pt_barrier_Geometry\n",
        "idx_pt_barrier_Geometry_node\n",
        "idx_pt_barrier_Geometry_parent\n",
        "idx_pt_barrier_Geometry_rowid\n",
        "idx_pt_building_Geometry\n",
        "idx_pt_building_Geometry_node\n",
        "idx_pt_building_Geometry_parent\n",
        "idx_pt_building_Geometry_rowid\n",
        "idx_pt_generic_Geometry\n",
        "idx_pt_generic_Geometry_node\n",
        "idx_pt_generic_Geometry_parent\n",
        "idx_pt_generic_Geometry_rowid\n",
        "idx_pt_highway_Geometry\n",
        "idx_pt_highway_Geometry_node\n",
        "idx_pt_highway_Geometry_parent\n",
        "idx_pt_highway_Geometry_rowid\n",
        "idx_pt_historic_Geometry\n",
        "idx_pt_historic_Geometry_node\n",
        "idx_pt_historic_Geometry_parent\n",
        "idx_pt_historic_Geometry_rowid\n",
        "idx_pt_landuse_Geometry\n",
        "idx_pt_landuse_Geometry_node\n",
        "idx_pt_landuse_Geometry_parent\n",
        "idx_pt_landuse_Geometry_rowid\n",
        "idx_pt_man_made_Geometry\n",
        "idx_pt_man_made_Geometry_node\n",
        "idx_pt_man_made_Geometry_parent\n",
        "idx_pt_man_made_Geometry_rowid\n",
        "idx_pt_natural_Geometry\n",
        "idx_pt_natural_Geometry_node\n",
        "idx_pt_natural_Geometry_parent\n",
        "idx_pt_natural_Geometry_rowid\n",
        "idx_pt_place_Geometry\n",
        "idx_pt_place_Geometry_node\n",
        "idx_pt_place_Geometry_parent\n",
        "idx_pt_place_Geometry_rowid\n",
        "idx_pt_shop_Geometry\n",
        "idx_pt_shop_Geometry_node\n",
        "idx_pt_shop_Geometry_parent\n",
        "idx_pt_shop_Geometry_rowid\n",
        "idx_pt_tourism_Geometry\n",
        "idx_pt_tourism_Geometry_node\n",
        "idx_pt_tourism_Geometry_parent\n",
        "idx_pt_tourism_Geometry_rowid\n",
        "ln_barrier\n",
        "ln_boundary\n",
        "ln_generic\n",
        "ln_highway\n",
        "ln_junction\n",
        "ln_route\n",
        "ln_service\n",
        "ln_waterway\n",
        "pg_amenity\n",
        "pg_building\n",
        "pg_generic\n",
        "pg_highway\n",
        "pg_landuse\n",
        "pg_leisure\n",
        "pg_natural\n",
        "pg_shop\n",
        "pg_tourism\n",
        "pt_addresses\n",
        "pt_amenity\n",
        "pt_barrier\n",
        "pt_building\n",
        "pt_generic\n",
        "pt_highway\n",
        "pt_historic\n",
        "pt_landuse\n",
        "pt_man_made\n",
        "pt_natural\n",
        "pt_place\n",
        "pt_shop\n",
        "pt_tourism\n",
        "spatial_ref_sys\n",
        "spatialite_history\n",
        "sqlite_sequence\n",
        "views_geometry_columns\n",
        "virts_geometry_columns\n"
       ]
      }
     ],
     "prompt_number": 17
    },
    {
     "cell_type": "code",
     "collapsed": false,
     "input": [
      "# Currently the geometry column is a nulltype\n",
      "metadata.tables['pg_landuse']"
     ],
     "language": "python",
     "metadata": {},
     "outputs": [
      {
       "output_type": "pyout",
       "prompt_number": 6,
       "text": [
        "Table(u'pg_landuse', MetaData(bind=Engine(sqlite:///../data/central-cambridge.sqlite)), Column(u'id', INTEGER(), table=<pg_landuse>, primary_key=True, nullable=False), Column(u'sub_type', TEXT(), table=<pg_landuse>), Column(u'name', TEXT(), table=<pg_landuse>), Column(u'Geometry', NullType(), table=<pg_landuse>), schema=None)"
       ]
      }
     ],
     "prompt_number": 6
    },
    {
     "cell_type": "markdown",
     "metadata": {},
     "source": [
      "Adding geometry columns\n",
      "=======================\n",
      "\n",
      "Unfortunately geoalchemy is not clever enough to reflect on the columns. Let's do it manually."
     ]
    },
    {
     "cell_type": "code",
     "collapsed": false,
     "input": [
      "# Make it multi polygon\n",
      "from geoalchemy import *\n",
      "\n",
      "class PgLandUse(Base):\n",
      "    __tablename__ = 'pg_landuse'\n",
      "    __table_args__ = {'autoload': True, 'extend_existing': True}\n",
      "    Geometry = GeometryColumn(MultiPolygon(dimension=2))\n",
      "\n",
      "class PgBuilding(Base):\n",
      "    __tablename__ = 'pg_building'\n",
      "    __table_args__ = {'autoload': True, 'extend_existing': True}\n",
      "    Geometry = GeometryColumn(MultiPolygon(dimension=2))\n",
      "\n",
      "class PtLandUse(Base):\n",
      "    __tablename__ = 'pt_landuse'\n",
      "    __table_args__ = {'autoload': True, 'extend_existing': True}\n",
      "    Geometry = GeometryColumn(Point(dimension=2))\n",
      "    \n",
      "class LnHighway(Base):\n",
      "    __tablename__ = 'ln_highway'\n",
      "    __table_args__ = {'autoload': True, 'extend_existing': True}\n",
      "    Geometry = GeometryColumn(MultiLineString(dimension=2))"
     ],
     "language": "python",
     "metadata": {},
     "outputs": [
      {
       "output_type": "stream",
       "stream": "stdout",
       "text": [
        "2012-07-10 18:38:44,410 INFO sqlalchemy.engine.base.Engine PRAGMA table_info(\"pg_landuse\")\n"
       ]
      },
      {
       "output_type": "stream",
       "stream": "stdout",
       "text": [
        "2012-07-10 18:38:44,410 INFO sqlalchemy.engine.base.Engine ()\n"
       ]
      },
      {
       "output_type": "stream",
       "stream": "stdout",
       "text": [
        "2012-07-10 18:38:44,415 INFO sqlalchemy.engine.base.Engine PRAGMA foreign_key_list(\"pg_landuse\")\n"
       ]
      },
      {
       "output_type": "stream",
       "stream": "stdout",
       "text": [
        "2012-07-10 18:38:44,415 INFO sqlalchemy.engine.base.Engine ()\n"
       ]
      },
      {
       "output_type": "stream",
       "stream": "stdout",
       "text": [
        "2012-07-10 18:38:44,416 INFO sqlalchemy.engine.base.Engine PRAGMA index_list(\"pg_landuse\")\n"
       ]
      },
      {
       "output_type": "stream",
       "stream": "stdout",
       "text": [
        "2012-07-10 18:38:44,416 INFO sqlalchemy.engine.base.Engine ()\n"
       ]
      },
      {
       "output_type": "stream",
       "stream": "stdout",
       "text": [
        "2012-07-10 18:38:44,420 INFO sqlalchemy.engine.base.Engine PRAGMA table_info(\"pg_building\")\n"
       ]
      },
      {
       "output_type": "stream",
       "stream": "stdout",
       "text": [
        "2012-07-10 18:38:44,420 INFO sqlalchemy.engine.base.Engine ()\n"
       ]
      },
      {
       "output_type": "stream",
       "stream": "stdout",
       "text": [
        "2012-07-10 18:38:44,424 INFO sqlalchemy.engine.base.Engine PRAGMA foreign_key_list(\"pg_building\")\n"
       ]
      },
      {
       "output_type": "stream",
       "stream": "stdout",
       "text": [
        "2012-07-10 18:38:44,425 INFO sqlalchemy.engine.base.Engine ()\n"
       ]
      },
      {
       "output_type": "stream",
       "stream": "stdout",
       "text": [
        "2012-07-10 18:38:44,425 INFO sqlalchemy.engine.base.Engine PRAGMA index_list(\"pg_building\")\n"
       ]
      },
      {
       "output_type": "stream",
       "stream": "stdout",
       "text": [
        "2012-07-10 18:38:44,426 INFO sqlalchemy.engine.base.Engine ()\n"
       ]
      },
      {
       "output_type": "stream",
       "stream": "stdout",
       "text": [
        "2012-07-10 18:38:44,430 INFO sqlalchemy.engine.base.Engine PRAGMA table_info(\"pt_landuse\")\n"
       ]
      },
      {
       "output_type": "stream",
       "stream": "stdout",
       "text": [
        "2012-07-10 18:38:44,430 INFO sqlalchemy.engine.base.Engine ()\n"
       ]
      },
      {
       "output_type": "stream",
       "stream": "stdout",
       "text": [
        "2012-07-10 18:38:44,435 INFO sqlalchemy.engine.base.Engine PRAGMA foreign_key_list(\"pt_landuse\")\n"
       ]
      },
      {
       "output_type": "stream",
       "stream": "stdout",
       "text": [
        "2012-07-10 18:38:44,435 INFO sqlalchemy.engine.base.Engine ()\n"
       ]
      },
      {
       "output_type": "stream",
       "stream": "stdout",
       "text": [
        "2012-07-10 18:38:44,436 INFO sqlalchemy.engine.base.Engine PRAGMA index_list(\"pt_landuse\")\n"
       ]
      },
      {
       "output_type": "stream",
       "stream": "stdout",
       "text": [
        "2012-07-10 18:38:44,436 INFO sqlalchemy.engine.base.Engine ()\n"
       ]
      },
      {
       "output_type": "stream",
       "stream": "stdout",
       "text": [
        "2012-07-10 18:38:44,439 INFO sqlalchemy.engine.base.Engine PRAGMA table_info(\"ln_highway\")\n"
       ]
      },
      {
       "output_type": "stream",
       "stream": "stdout",
       "text": [
        "2012-07-10 18:38:44,440 INFO sqlalchemy.engine.base.Engine ()\n"
       ]
      },
      {
       "output_type": "stream",
       "stream": "stdout",
       "text": [
        "2012-07-10 18:38:44,444 INFO sqlalchemy.engine.base.Engine PRAGMA foreign_key_list(\"ln_highway\")\n"
       ]
      },
      {
       "output_type": "stream",
       "stream": "stdout",
       "text": [
        "2012-07-10 18:38:44,445 INFO sqlalchemy.engine.base.Engine ()\n"
       ]
      },
      {
       "output_type": "stream",
       "stream": "stdout",
       "text": [
        "2012-07-10 18:38:44,445 INFO sqlalchemy.engine.base.Engine PRAGMA index_list(\"ln_highway\")\n"
       ]
      },
      {
       "output_type": "stream",
       "stream": "stdout",
       "text": [
        "2012-07-10 18:38:44,445 INFO sqlalchemy.engine.base.Engine ()\n"
       ]
      },
      {
       "output_type": "stream",
       "stream": "stdout",
       "text": [
        "2012-07-10 18:38:44,449 INFO sqlalchemy.engine.base.Engine PRAGMA table_info(\"ln_route\")\n"
       ]
      },
      {
       "output_type": "stream",
       "stream": "stdout",
       "text": [
        "2012-07-10 18:38:44,449 INFO sqlalchemy.engine.base.Engine ()\n"
       ]
      },
      {
       "output_type": "stream",
       "stream": "stdout",
       "text": [
        "2012-07-10 18:38:44,454 INFO sqlalchemy.engine.base.Engine PRAGMA foreign_key_list(\"ln_route\")\n"
       ]
      },
      {
       "output_type": "stream",
       "stream": "stdout",
       "text": [
        "2012-07-10 18:38:44,454 INFO sqlalchemy.engine.base.Engine ()\n"
       ]
      },
      {
       "output_type": "stream",
       "stream": "stdout",
       "text": [
        "2012-07-10 18:38:44,455 INFO sqlalchemy.engine.base.Engine PRAGMA index_list(\"ln_route\")\n"
       ]
      },
      {
       "output_type": "stream",
       "stream": "stdout",
       "text": [
        "2012-07-10 18:38:44,455 INFO sqlalchemy.engine.base.Engine ()\n"
       ]
      },
      {
       "output_type": "stream",
       "stream": "stderr",
       "text": [
        "/home/rjw57/git/foldbeam/venv/lib/python2.7/site-packages/SQLAlchemy-0.7.8-py2.7-linux-x86_64.egg/sqlalchemy/ext/declarative.py:1348: SAWarning: The classname 'PgBuilding' is already in the registry of this declarative base, mapped to <class '__main__.PgBuilding'>\n"
       ]
      }
     ],
     "prompt_number": 30
    },
    {
     "cell_type": "code",
     "collapsed": false,
     "input": [
      "# Check we have updated it\n",
      "metadata.tables['pg_landuse']"
     ],
     "language": "python",
     "metadata": {},
     "outputs": [
      {
       "output_type": "pyout",
       "prompt_number": 8,
       "text": [
        "Table(u'pg_landuse', MetaData(bind=Engine(sqlite:///../data/central-cambridge.sqlite)), Column(u'id', INTEGER(), table=<pg_landuse>, primary_key=True, nullable=False), Column(u'sub_type', TEXT(), table=<pg_landuse>), Column(u'name', TEXT(), table=<pg_landuse>), Column('Geometry', MultiPolygon(), table=<pg_landuse>), schema=None)"
       ]
      }
     ],
     "prompt_number": 8
    },
    {
     "cell_type": "markdown",
     "metadata": {},
     "source": [
      "Examples of use\n",
      "===============\n",
      "\n",
      "Examples of querying the database."
     ]
    },
    {
     "cell_type": "code",
     "collapsed": false,
     "input": [
      "# Look at the first result\n",
      "metadata.tables['pg_landuse'].select(limit=1).execute().first()"
     ],
     "language": "python",
     "metadata": {},
     "outputs": [
      {
       "output_type": "stream",
       "stream": "stdout",
       "text": [
        "2012-07-10 18:25:46,873 INFO sqlalchemy.engine.base.Engine SELECT pg_landuse.id, pg_landuse.sub_type, pg_landuse.name, AsBinary(pg_landuse.\"Geometry\") \n",
        "FROM pg_landuse\n",
        " LIMIT ? OFFSET ?\n"
       ]
      },
      {
       "output_type": "stream",
       "stream": "stdout",
       "text": [
        "2012-07-10 18:25:46,873 INFO sqlalchemy.engine.base.Engine (1, 0)\n"
       ]
      },
      {
       "output_type": "pyout",
       "prompt_number": 9,
       "text": [
        "(3993123, u'retail', None, <read-write buffer ptr 0x38fa040, size 902 at 0x38fa000>)"
       ]
      }
     ],
     "prompt_number": 9
    },
    {
     "cell_type": "code",
     "collapsed": false,
     "input": [
      "land_uses = session.query(PgLandUse).all()\n",
      "land_use_labels = session.query(PtLandUse).all()\n",
      "first = land_uses[0]"
     ],
     "language": "python",
     "metadata": {},
     "outputs": [
      {
       "output_type": "stream",
       "stream": "stdout",
       "text": [
        "2012-07-10 18:25:46,986 INFO sqlalchemy.engine.base.Engine BEGIN (implicit)\n"
       ]
      },
      {
       "output_type": "stream",
       "stream": "stdout",
       "text": [
        "2012-07-10 18:25:46,987 INFO sqlalchemy.engine.base.Engine SELECT AsBinary(pg_landuse.\"Geometry\") AS \"pg_landuse_Geometry\", pg_landuse.id AS pg_landuse_id, pg_landuse.sub_type AS pg_landuse_sub_type, pg_landuse.name AS pg_landuse_name \n",
        "FROM pg_landuse\n"
       ]
      },
      {
       "output_type": "stream",
       "stream": "stdout",
       "text": [
        "2012-07-10 18:25:46,987 INFO sqlalchemy.engine.base.Engine ()\n"
       ]
      },
      {
       "output_type": "stream",
       "stream": "stdout",
       "text": [
        "2012-07-10 18:25:46,998 INFO sqlalchemy.engine.base.Engine SELECT AsBinary(pt_landuse.\"Geometry\") AS \"pt_landuse_Geometry\", pt_landuse.id AS pt_landuse_id, pt_landuse.sub_type AS pt_landuse_sub_type, pt_landuse.name AS pt_landuse_name \n",
        "FROM pt_landuse\n"
       ]
      },
      {
       "output_type": "stream",
       "stream": "stdout",
       "text": [
        "2012-07-10 18:25:46,998 INFO sqlalchemy.engine.base.Engine ()\n"
       ]
      }
     ],
     "prompt_number": 10
    },
    {
     "cell_type": "code",
     "collapsed": false,
     "input": [
      "# Extract the WKB\n",
      "wkb = bytes(first.Geometry.geom_wkb)"
     ],
     "language": "python",
     "metadata": {},
     "outputs": [],
     "prompt_number": 11
    },
    {
     "cell_type": "code",
     "collapsed": false,
     "input": [
      "# Load the WKB into shapely\n",
      "import shapely\n",
      "import shapely.wkb\n",
      "landuse = shapely.wkb.loads(wkb)"
     ],
     "language": "python",
     "metadata": {},
     "outputs": [],
     "prompt_number": 12
    },
    {
     "cell_type": "code",
     "collapsed": false,
     "input": [
      "# Get the polygon as well known text\n",
      "landuse.to_wkt()"
     ],
     "language": "python",
     "metadata": {},
     "outputs": [
      {
       "output_type": "pyout",
       "prompt_number": 13,
       "text": [
        "'MULTIPOLYGON (((0.1200288000000000 52.2069649999999967, 0.1204740000000000 52.2063804000000005, 0.1205719000000000 52.2061873000000034, 0.1199918000000000 52.2060572999999977, 0.1201410000000000 52.2057202000000018, 0.1207405000000000 52.2058442000000014, 0.1209202000000000 52.2058894999999978, 0.1205916000000000 52.2064067000000023, 0.1214396000000000 52.2065640000000002, 0.1217038000000000 52.2054177999999993, 0.1216538000000000 52.2053470000000033, 0.1215622000000000 52.2052959999999970, 0.1215059000000000 52.2050459000000018, 0.1215741000000000 52.2048757000000023, 0.1220717000000000 52.2049787999999992, 0.1221145000000000 52.2049196999999978, 0.1222152000000000 52.2047858999999974, 0.1223366000000000 52.2046245000000013, 0.1228586000000000 52.2040818999999985, 0.1230120000000000 52.2039223000000021, 0.1232663000000000 52.2035788000000025, 0.1224587000000000 52.2033320000000032, 0.1224330000000000 52.2033304999999999, 0.1217817000000000 52.2031550999999965, 0.1210560000000000 52.2035386000000017, 0.1212210000000000 52.2035521999999972, 0.1213055000000000 52.2036183000000023, 0.1213337000000000 52.2036719999999974, 0.1217319000000000 52.2038103000000007, 0.1218031000000000 52.2038350999999992, 0.1211618000000000 52.2045401000000027, 0.1204358000000000 52.2043219999999977, 0.1203075000000000 52.2044161000000031, 0.1205092000000000 52.2044769000000031, 0.1205029000000000 52.2044854000000029, 0.1204435000000000 52.2045655000000011, 0.1201198000000000 52.2048969000000014, 0.1197670000000000 52.2047907999999978, 0.1196544000000000 52.2049558000000005, 0.1195563000000000 52.2050722999999977, 0.1195054000000000 52.2053257000000031, 0.1193709000000000 52.2057301999999979, 0.1193675000000000 52.2057800999999984, 0.1193849000000000 52.2058012999999974, 0.1193122000000000 52.2058105999999995, 0.1191093000000000 52.2057339999999996, 0.1188620000000000 52.2061166000000014, 0.1187625000000000 52.2062309000000013, 0.1186856000000000 52.2062620000000024, 0.1185597000000000 52.2062741000000017, 0.1182323000000000 52.2062803999999971, 0.1182672000000000 52.2064182000000017, 0.1186801000000000 52.2064360999999977, 0.1189698000000000 52.2065546999999981, 0.1200288000000000 52.2069649999999967)))'"
       ]
      }
     ],
     "prompt_number": 13
    },
    {
     "cell_type": "code",
     "collapsed": false,
     "input": [
      "# Get some information on the geometry\n",
      "print('srid:', session.scalar(first.Geometry.srid))\n",
      "print('geometry type:', session.scalar(first.Geometry.geometry_type))"
     ],
     "language": "python",
     "metadata": {},
     "outputs": [
      {
       "output_type": "stream",
       "stream": "stdout",
       "text": [
        "2012-07-10 18:25:47,465 INFO sqlalchemy.engine.base.Engine SELECT SRID(GeomFromWKB(?, ?)) AS srid_1\n"
       ]
      },
      {
       "output_type": "stream",
       "stream": "stdout",
       "text": [
        "2012-07-10 18:25:47,466 INFO sqlalchemy.engine.base.Engine (<read-write buffer ptr 0x3914690, size 902 at 0x3914650>, 4326)\n"
       ]
      },
      {
       "output_type": "stream",
       "stream": "stdout",
       "text": [
        "srid: 4326\n",
        "2012-07-10 18:25:47,468 INFO sqlalchemy.engine.base.Engine SELECT GeometryType(GeomFromWKB(?, ?)) AS geometry_type_1\n"
       ]
      },
      {
       "output_type": "stream",
       "stream": "stdout",
       "text": [
        "2012-07-10 18:25:47,468 INFO sqlalchemy.engine.base.Engine (<read-write buffer ptr 0x3914690, size 902 at 0x3914650>, 4326)\n"
       ]
      },
      {
       "output_type": "stream",
       "stream": "stdout",
       "text": [
        "geometry type: MULTIPOLYGON\n"
       ]
      }
     ],
     "prompt_number": 14
    },
    {
     "cell_type": "markdown",
     "metadata": {},
     "source": [
      "Plotting a map\n",
      "=============="
     ]
    },
    {
     "cell_type": "code",
     "collapsed": false,
     "input": [
      "import descartes\n",
      "def plot_multipoly(ax, mp, **kwargs):\n",
      "    for poly in mp:\n",
      "        patch = descartes.PolygonPatch(poly, **kwargs)\n",
      "        ax.add_patch(patch)\n",
      "    ax.autoscale()\n",
      "    \n",
      "def str_to_color(string):\n",
      "    \"\"\"Dodgy mapping from string -> color.\"\"\"\n",
      "    return '#' + hex(hash(string))[3:9]\n",
      "\n",
      "fig = figure(1)\n",
      "fig.clear()\n",
      "ax = fig.add_subplot(111)\n",
      "\n",
      "for land_use_poly in session.query(PgLandUse):\n",
      "    mp = shapely.wkb.loads(bytes(land_use_poly.Geometry.geom_wkb))\n",
      "    color = str_to_color(land_use_poly.sub_type)\n",
      "    plot_multipoly(ax, mp, facecolor=color, edgecolor=color, zorder=1)\n",
      "    \n",
      "    #if land_use_poly.name is not None:\n",
      "    #    label_pt = mp.centroid\n",
      "    #    ax.text(label_pt.x, label_pt.y, land_use_poly.name, zorder=2)\n",
      "    \n",
      "for building in session.query(PgBuilding):\n",
      "    mp = shapely.wkb.loads(bytes(building.Geometry.geom_wkb))\n",
      "    color = str_to_color('%s;%s' % (building.name, building.sub_type))\n",
      "    plot_multipoly(ax, mp, facecolor=color, edgecolor=color, zorder=2)\n",
      "    \n",
      "#for land_use_label in session.query(PtLandUse):\n",
      "#    label_pt = shapely.wkb.loads(bytes(land_use_label.Geometry.geom_wkb))\n",
      "#    ax.text(label_pt.x, label_pt.y, land_use_label.name, zorder=2)\n",
      "\n",
      "for highway in session.query(LnHighway):\n",
      "    color = str_to_color(highway.sub_type)\n",
      "    multi_line = shapely.wkb.loads(bytes(highway.Geometry.geom_wkb))\n",
      "    for line in multi_line:\n",
      "        x, y = line.xy\n",
      "        ax.plot(x, y, color=color, zorder=1, linewidth=3, solid_capstyle='round')\n",
      "        \n",
      "ax.set_aspect(1)\n",
      "fig.show()"
     ],
     "language": "python",
     "metadata": {},
     "outputs": [
      {
       "output_type": "stream",
       "stream": "stdout",
       "text": [
        "2012-07-10 18:39:15,285 INFO sqlalchemy.engine.base.Engine SELECT AsBinary(pg_landuse.\"Geometry\") AS \"pg_landuse_Geometry\", pg_landuse.id AS pg_landuse_id, pg_landuse.sub_type AS pg_landuse_sub_type, pg_landuse.name AS pg_landuse_name \n",
        "FROM pg_landuse\n"
       ]
      },
      {
       "output_type": "stream",
       "stream": "stdout",
       "text": [
        "2012-07-10 18:39:15,286 INFO sqlalchemy.engine.base.Engine ()\n"
       ]
      },
      {
       "output_type": "stream",
       "stream": "stdout",
       "text": [
        "2012-07-10 18:39:15,433 INFO sqlalchemy.engine.base.Engine SELECT AsBinary(pg_building.\"Geometry\") AS \"pg_building_Geometry\", pg_building.id AS pg_building_id, pg_building.sub_type AS pg_building_sub_type, pg_building.name AS pg_building_name \n",
        "FROM pg_building\n"
       ]
      },
      {
       "output_type": "stream",
       "stream": "stdout",
       "text": [
        "2012-07-10 18:39:15,434 INFO sqlalchemy.engine.base.Engine ()\n"
       ]
      },
      {
       "output_type": "stream",
       "stream": "stdout",
       "text": [
        "2012-07-10 18:39:15,564 INFO sqlalchemy.engine.base.Engine SELECT AsBinary(ln_highway.\"Geometry\") AS \"ln_highway_Geometry\", ln_highway.id AS ln_highway_id, ln_highway.sub_type AS ln_highway_sub_type, ln_highway.name AS ln_highway_name \n",
        "FROM ln_highway\n"
       ]
      },
      {
       "output_type": "stream",
       "stream": "stdout",
       "text": [
        "2012-07-10 18:39:15,564 INFO sqlalchemy.engine.base.Engine ()\n"
       ]
      },
      {
       "output_type": "stream",
       "stream": "stdout",
       "text": [
        "2012-07-10 18:39:16,526 INFO sqlalchemy.engine.base.Engine SELECT AsBinary(ln_route.\"Geometry\") AS \"ln_route_Geometry\", ln_route.id AS ln_route_id, ln_route.sub_type AS ln_route_sub_type, ln_route.name AS ln_route_name \n",
        "FROM ln_route\n"
       ]
      },
      {
       "output_type": "stream",
       "stream": "stdout",
       "text": [
        "2012-07-10 18:39:16,527 INFO sqlalchemy.engine.base.Engine ()\n"
       ]
      }
     ],
     "prompt_number": 33
    },
    {
     "cell_type": "code",
     "collapsed": false,
     "input": [
      "session.query(LnRoute).all()"
     ],
     "language": "python",
     "metadata": {},
     "outputs": [
      {
       "output_type": "stream",
       "stream": "stdout",
       "text": [
        "2012-07-10 18:39:29,572 INFO sqlalchemy.engine.base.Engine SELECT AsBinary(ln_route.\"Geometry\") AS \"ln_route_Geometry\", ln_route.id AS ln_route_id, ln_route.sub_type AS ln_route_sub_type, ln_route.name AS ln_route_name \n",
        "FROM ln_route\n"
       ]
      },
      {
       "output_type": "stream",
       "stream": "stdout",
       "text": [
        "2012-07-10 18:39:29,573 INFO sqlalchemy.engine.base.Engine ()\n"
       ]
      },
      {
       "output_type": "pyout",
       "prompt_number": 34,
       "text": [
        "[]"
       ]
      }
     ],
     "prompt_number": 34
    },
    {
     "cell_type": "code",
     "collapsed": false,
     "input": [],
     "language": "python",
     "metadata": {},
     "outputs": []
    }
   ],
   "metadata": {}
  }
 ]
}