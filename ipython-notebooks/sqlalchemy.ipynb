{
 "metadata": {
  "name": "sqlalchemy"
 },
 "nbformat": 3,
 "nbformat_minor": 0,
 "worksheets": [
  {
   "cells": [
    {
     "cell_type": "markdown",
     "metadata": {},
     "source": [
      "Set up the environment\n",
      "======================\n",
      "\n",
      "This is some boilerplate to set up the Ptyhon environment for our liking."
     ]
    },
    {
     "cell_type": "code",
     "collapsed": false,
     "input": [
      "# make sure we have a print function\n",
      "from __future__ import print_function\n",
      "\n",
      "# load pylab\n",
      "%pylab"
     ],
     "language": "python",
     "metadata": {},
     "outputs": [
      {
       "output_type": "stream",
       "stream": "stdout",
       "text": [
        "\n",
        "Welcome to pylab, a matplotlib-based Python environment [backend: TkAgg].\n",
        "For more information, type 'help(pylab)'.\n"
       ]
      }
     ],
     "prompt_number": 1
    },
    {
     "cell_type": "code",
     "collapsed": false,
     "input": [
      "# import sqlalchemy and configure it to use pyspatialite\n",
      "import pyspatialite\n",
      "import sys\n",
      "sys.modules['pysqlite2'] = pyspatialite\n"
     ],
     "language": "python",
     "metadata": {},
     "outputs": [],
     "prompt_number": 2
    },
    {
     "cell_type": "markdown",
     "metadata": {},
     "source": [
      "Create an engine for the DB\n",
      "===========================\n",
      "\n",
      "This assumes that a `central-cambridge.sqlite` file has been generated from `central-cambridge.osm` using the `spatialite_osm_map` tool:\n",
      "\n",
      ".. code::\n",
      "\n",
      "    $ spatialite_osm_map -o central-cambridge.osm -d central-cambridge.sqlite"
     ]
    },
    {
     "cell_type": "code",
     "collapsed": false,
     "input": [
      "# create an engine for the central cambridge DB\n",
      "from sqlalchemy import create_engine\n",
      "from sqlalchemy.orm import sessionmaker\n",
      "\n",
      "engine = create_engine('sqlite:///../data/central-cambridge.sqlite', echo=True)\n",
      "session = sessionmaker(bind=engine)()"
     ],
     "language": "python",
     "metadata": {},
     "outputs": [],
     "prompt_number": 3
    },
    {
     "cell_type": "code",
     "collapsed": false,
     "input": [
      "# Create the DB metadata\n",
      "from sqlalchemy import MetaData\n",
      "from sqlalchemy.ext.declarative import declarative_base\n",
      "from geoalchemy import *\n",
      "\n",
      "metadata = MetaData(engine, reflect=True)\n",
      "Base = declarative_base(metadata=metadata)"
     ],
     "language": "python",
     "metadata": {},
     "outputs": [
      {
       "output_type": "stream",
       "stream": "stdout",
       "text": [
        "2012-07-10 18:03:07,896 INFO sqlalchemy.engine.base.Engine SELECT name FROM  (SELECT * FROM sqlite_master UNION ALL   SELECT * FROM sqlite_temp_master) WHERE type='table' ORDER BY name\n"
       ]
      },
      {
       "output_type": "stream",
       "stream": "stdout",
       "text": [
        "2012-07-10 18:03:07,896 INFO sqlalchemy.engine.base.Engine ()\n"
       ]
      },
      {
       "output_type": "stream",
       "stream": "stdout",
       "text": [
        "2012-07-10 18:03:07,902 INFO sqlalchemy.engine.base.Engine PRAGMA table_info(\"SpatialIndex\")\n"
       ]
      },
      {
       "output_type": "stream",
       "stream": "stdout",
       "text": [
        "2012-07-10 18:03:07,903 INFO sqlalchemy.engine.base.Engine ()\n"
       ]
      },
      {
       "output_type": "stream",
       "stream": "stdout",
       "text": [
        "2012-07-10 18:03:07,907 INFO sqlalchemy.engine.base.Engine PRAGMA foreign_key_list(\"SpatialIndex\")\n"
       ]
      },
      {
       "output_type": "stream",
       "stream": "stdout",
       "text": [
        "2012-07-10 18:03:07,907 INFO sqlalchemy.engine.base.Engine ()\n"
       ]
      },
      {
       "output_type": "stream",
       "stream": "stdout",
       "text": [
        "2012-07-10 18:03:07,908 INFO sqlalchemy.engine.base.Engine PRAGMA index_list(\"SpatialIndex\")\n"
       ]
      },
      {
       "output_type": "stream",
       "stream": "stdout",
       "text": [
        "2012-07-10 18:03:07,908 INFO sqlalchemy.engine.base.Engine ()\n"
       ]
      },
      {
       "output_type": "stream",
       "stream": "stdout",
       "text": [
        "2012-07-10 18:03:07,910 INFO sqlalchemy.engine.base.Engine PRAGMA table_info(\"geometry_columns\")\n"
       ]
      },
      {
       "output_type": "stream",
       "stream": "stdout",
       "text": [
        "2012-07-10 18:03:07,910 INFO sqlalchemy.engine.base.Engine ()\n"
       ]
      },
      {
       "output_type": "stream",
       "stream": "stdout",
       "text": [
        "2012-07-10 18:03:07,914 INFO sqlalchemy.engine.base.Engine PRAGMA foreign_key_list(\"geometry_columns\")\n"
       ]
      },
      {
       "output_type": "stream",
       "stream": "stdout",
       "text": [
        "2012-07-10 18:03:07,915 INFO sqlalchemy.engine.base.Engine ()\n"
       ]
      },
      {
       "output_type": "stream",
       "stream": "stdout",
       "text": [
        "2012-07-10 18:03:07,916 INFO sqlalchemy.engine.base.Engine PRAGMA table_info(\"spatial_ref_sys\")\n"
       ]
      },
      {
       "output_type": "stream",
       "stream": "stdout",
       "text": [
        "2012-07-10 18:03:07,916 INFO sqlalchemy.engine.base.Engine ()\n"
       ]
      },
      {
       "output_type": "stream",
       "stream": "stdout",
       "text": [
        "2012-07-10 18:03:07,917 INFO sqlalchemy.engine.base.Engine PRAGMA foreign_key_list(\"spatial_ref_sys\")\n"
       ]
      },
      {
       "output_type": "stream",
       "stream": "stdout",
       "text": [
        "2012-07-10 18:03:07,918 INFO sqlalchemy.engine.base.Engine ()\n"
       ]
      },
      {
       "output_type": "stream",
       "stream": "stdout",
       "text": [
        "2012-07-10 18:03:07,918 INFO sqlalchemy.engine.base.Engine PRAGMA index_list(\"spatial_ref_sys\")\n"
       ]
      },
      {
       "output_type": "stream",
       "stream": "stdout",
       "text": [
        "2012-07-10 18:03:07,919 INFO sqlalchemy.engine.base.Engine ()\n"
       ]
      },
      {
       "output_type": "stream",
       "stream": "stdout",
       "text": [
        "2012-07-10 18:03:07,919 INFO sqlalchemy.engine.base.Engine PRAGMA index_info(\"idx_spatial_ref_sys\")\n"
       ]
      },
      {
       "output_type": "stream",
       "stream": "stdout",
       "text": [
        "2012-07-10 18:03:07,920 INFO sqlalchemy.engine.base.Engine ()\n"
       ]
      },
      {
       "output_type": "stream",
       "stream": "stdout",
       "text": [
        "2012-07-10 18:03:07,920 INFO sqlalchemy.engine.base.Engine PRAGMA index_list(\"geometry_columns\")\n"
       ]
      },
      {
       "output_type": "stream",
       "stream": "stdout",
       "text": [
        "2012-07-10 18:03:07,921 INFO sqlalchemy.engine.base.Engine ()\n"
       ]
      },
      {
       "output_type": "stream",
       "stream": "stdout",
       "text": [
        "2012-07-10 18:03:07,921 INFO sqlalchemy.engine.base.Engine PRAGMA index_info(\"idx_srid_geocols\")\n"
       ]
      },
      {
       "output_type": "stream",
       "stream": "stdout",
       "text": [
        "2012-07-10 18:03:07,921 INFO sqlalchemy.engine.base.Engine ()\n"
       ]
      },
      {
       "output_type": "stream",
       "stream": "stdout",
       "text": [
        "2012-07-10 18:03:07,923 INFO sqlalchemy.engine.base.Engine PRAGMA table_info(\"geometry_columns_auth\")\n"
       ]
      },
      {
       "output_type": "stream",
       "stream": "stdout",
       "text": [
        "2012-07-10 18:03:07,924 INFO sqlalchemy.engine.base.Engine ()\n"
       ]
      },
      {
       "output_type": "stream",
       "stream": "stdout",
       "text": [
        "2012-07-10 18:03:07,928 INFO sqlalchemy.engine.base.Engine PRAGMA foreign_key_list(\"geometry_columns_auth\")\n"
       ]
      },
      {
       "output_type": "stream",
       "stream": "stdout",
       "text": [
        "2012-07-10 18:03:07,928 INFO sqlalchemy.engine.base.Engine ()\n"
       ]
      },
      {
       "output_type": "stream",
       "stream": "stdout",
       "text": [
        "2012-07-10 18:03:07,929 INFO sqlalchemy.engine.base.Engine PRAGMA index_list(\"geometry_columns_auth\")\n"
       ]
      },
      {
       "output_type": "stream",
       "stream": "stdout",
       "text": [
        "2012-07-10 18:03:07,929 INFO sqlalchemy.engine.base.Engine ()\n"
       ]
      },
      {
       "output_type": "stream",
       "stream": "stdout",
       "text": [
        "2012-07-10 18:03:07,931 INFO sqlalchemy.engine.base.Engine PRAGMA table_info(\"idx_ln_barrier_Geometry\")\n"
       ]
      },
      {
       "output_type": "stream",
       "stream": "stdout",
       "text": [
        "2012-07-10 18:03:07,932 INFO sqlalchemy.engine.base.Engine ()\n"
       ]
      },
      {
       "output_type": "stream",
       "stream": "stdout",
       "text": [
        "2012-07-10 18:03:07,935 INFO sqlalchemy.engine.base.Engine PRAGMA foreign_key_list(\"idx_ln_barrier_Geometry\")\n"
       ]
      },
      {
       "output_type": "stream",
       "stream": "stdout",
       "text": [
        "2012-07-10 18:03:07,936 INFO sqlalchemy.engine.base.Engine ()\n"
       ]
      },
      {
       "output_type": "stream",
       "stream": "stdout",
       "text": [
        "2012-07-10 18:03:07,936 INFO sqlalchemy.engine.base.Engine PRAGMA index_list(\"idx_ln_barrier_Geometry\")\n"
       ]
      },
      {
       "output_type": "stream",
       "stream": "stdout",
       "text": [
        "2012-07-10 18:03:07,937 INFO sqlalchemy.engine.base.Engine ()\n"
       ]
      },
      {
       "output_type": "stream",
       "stream": "stdout",
       "text": [
        "2012-07-10 18:03:07,939 INFO sqlalchemy.engine.base.Engine PRAGMA table_info(\"idx_ln_barrier_Geometry_node\")\n"
       ]
      },
      {
       "output_type": "stream",
       "stream": "stdout",
       "text": [
        "2012-07-10 18:03:07,939 INFO sqlalchemy.engine.base.Engine ()\n"
       ]
      },
      {
       "output_type": "stream",
       "stream": "stdout",
       "text": [
        "2012-07-10 18:03:07,942 INFO sqlalchemy.engine.base.Engine PRAGMA foreign_key_list(\"idx_ln_barrier_Geometry_node\")\n"
       ]
      },
      {
       "output_type": "stream",
       "stream": "stdout",
       "text": [
        "2012-07-10 18:03:07,943 INFO sqlalchemy.engine.base.Engine ()\n"
       ]
      },
      {
       "output_type": "stream",
       "stream": "stdout",
       "text": [
        "2012-07-10 18:03:07,943 INFO sqlalchemy.engine.base.Engine PRAGMA index_list(\"idx_ln_barrier_Geometry_node\")\n"
       ]
      },
      {
       "output_type": "stream",
       "stream": "stdout",
       "text": [
        "2012-07-10 18:03:07,943 INFO sqlalchemy.engine.base.Engine ()\n"
       ]
      },
      {
       "output_type": "stream",
       "stream": "stdout",
       "text": [
        "2012-07-10 18:03:07,945 INFO sqlalchemy.engine.base.Engine PRAGMA table_info(\"idx_ln_barrier_Geometry_parent\")\n"
       ]
      },
      {
       "output_type": "stream",
       "stream": "stdout",
       "text": [
        "2012-07-10 18:03:07,945 INFO sqlalchemy.engine.base.Engine ()\n"
       ]
      },
      {
       "output_type": "stream",
       "stream": "stdout",
       "text": [
        "2012-07-10 18:03:07,949 INFO sqlalchemy.engine.base.Engine PRAGMA foreign_key_list(\"idx_ln_barrier_Geometry_parent\")\n"
       ]
      },
      {
       "output_type": "stream",
       "stream": "stdout",
       "text": [
        "2012-07-10 18:03:07,949 INFO sqlalchemy.engine.base.Engine ()\n"
       ]
      },
      {
       "output_type": "stream",
       "stream": "stdout",
       "text": [
        "2012-07-10 18:03:07,949 INFO sqlalchemy.engine.base.Engine PRAGMA index_list(\"idx_ln_barrier_Geometry_parent\")\n"
       ]
      },
      {
       "output_type": "stream",
       "stream": "stdout",
       "text": [
        "2012-07-10 18:03:07,950 INFO sqlalchemy.engine.base.Engine ()\n"
       ]
      },
      {
       "output_type": "stream",
       "stream": "stdout",
       "text": [
        "2012-07-10 18:03:07,951 INFO sqlalchemy.engine.base.Engine PRAGMA table_info(\"idx_ln_barrier_Geometry_rowid\")\n"
       ]
      },
      {
       "output_type": "stream",
       "stream": "stdout",
       "text": [
        "2012-07-10 18:03:07,952 INFO sqlalchemy.engine.base.Engine ()\n"
       ]
      },
      {
       "output_type": "stream",
       "stream": "stdout",
       "text": [
        "2012-07-10 18:03:07,955 INFO sqlalchemy.engine.base.Engine PRAGMA foreign_key_list(\"idx_ln_barrier_Geometry_rowid\")\n"
       ]
      },
      {
       "output_type": "stream",
       "stream": "stdout",
       "text": [
        "2012-07-10 18:03:07,955 INFO sqlalchemy.engine.base.Engine ()\n"
       ]
      },
      {
       "output_type": "stream",
       "stream": "stdout",
       "text": [
        "2012-07-10 18:03:07,956 INFO sqlalchemy.engine.base.Engine PRAGMA index_list(\"idx_ln_barrier_Geometry_rowid\")\n"
       ]
      },
      {
       "output_type": "stream",
       "stream": "stdout",
       "text": [
        "2012-07-10 18:03:07,956 INFO sqlalchemy.engine.base.Engine ()\n"
       ]
      },
      {
       "output_type": "stream",
       "stream": "stdout",
       "text": [
        "2012-07-10 18:03:07,958 INFO sqlalchemy.engine.base.Engine PRAGMA table_info(\"idx_ln_boundary_Geometry\")\n"
       ]
      },
      {
       "output_type": "stream",
       "stream": "stdout",
       "text": [
        "2012-07-10 18:03:07,958 INFO sqlalchemy.engine.base.Engine ()\n"
       ]
      },
      {
       "output_type": "stream",
       "stream": "stdout",
       "text": [
        "2012-07-10 18:03:07,962 INFO sqlalchemy.engine.base.Engine PRAGMA foreign_key_list(\"idx_ln_boundary_Geometry\")\n"
       ]
      },
      {
       "output_type": "stream",
       "stream": "stdout",
       "text": [
        "2012-07-10 18:03:07,962 INFO sqlalchemy.engine.base.Engine ()\n"
       ]
      },
      {
       "output_type": "stream",
       "stream": "stdout",
       "text": [
        "2012-07-10 18:03:07,963 INFO sqlalchemy.engine.base.Engine PRAGMA index_list(\"idx_ln_boundary_Geometry\")\n"
       ]
      },
      {
       "output_type": "stream",
       "stream": "stdout",
       "text": [
        "2012-07-10 18:03:07,963 INFO sqlalchemy.engine.base.Engine ()\n"
       ]
      },
      {
       "output_type": "stream",
       "stream": "stdout",
       "text": [
        "2012-07-10 18:03:07,965 INFO sqlalchemy.engine.base.Engine PRAGMA table_info(\"idx_ln_boundary_Geometry_node\")\n"
       ]
      },
      {
       "output_type": "stream",
       "stream": "stdout",
       "text": [
        "2012-07-10 18:03:07,965 INFO sqlalchemy.engine.base.Engine ()\n"
       ]
      },
      {
       "output_type": "stream",
       "stream": "stdout",
       "text": [
        "2012-07-10 18:03:07,969 INFO sqlalchemy.engine.base.Engine PRAGMA foreign_key_list(\"idx_ln_boundary_Geometry_node\")\n"
       ]
      },
      {
       "output_type": "stream",
       "stream": "stdout",
       "text": [
        "2012-07-10 18:03:07,969 INFO sqlalchemy.engine.base.Engine ()\n"
       ]
      },
      {
       "output_type": "stream",
       "stream": "stdout",
       "text": [
        "2012-07-10 18:03:07,970 INFO sqlalchemy.engine.base.Engine PRAGMA index_list(\"idx_ln_boundary_Geometry_node\")\n"
       ]
      },
      {
       "output_type": "stream",
       "stream": "stdout",
       "text": [
        "2012-07-10 18:03:07,970 INFO sqlalchemy.engine.base.Engine ()\n"
       ]
      },
      {
       "output_type": "stream",
       "stream": "stdout",
       "text": [
        "2012-07-10 18:03:07,972 INFO sqlalchemy.engine.base.Engine PRAGMA table_info(\"idx_ln_boundary_Geometry_parent\")\n"
       ]
      },
      {
       "output_type": "stream",
       "stream": "stdout",
       "text": [
        "2012-07-10 18:03:07,972 INFO sqlalchemy.engine.base.Engine ()\n"
       ]
      },
      {
       "output_type": "stream",
       "stream": "stdout",
       "text": [
        "2012-07-10 18:03:07,975 INFO sqlalchemy.engine.base.Engine PRAGMA foreign_key_list(\"idx_ln_boundary_Geometry_parent\")\n"
       ]
      },
      {
       "output_type": "stream",
       "stream": "stdout",
       "text": [
        "2012-07-10 18:03:07,976 INFO sqlalchemy.engine.base.Engine ()\n"
       ]
      },
      {
       "output_type": "stream",
       "stream": "stdout",
       "text": [
        "2012-07-10 18:03:07,976 INFO sqlalchemy.engine.base.Engine PRAGMA index_list(\"idx_ln_boundary_Geometry_parent\")\n"
       ]
      },
      {
       "output_type": "stream",
       "stream": "stdout",
       "text": [
        "2012-07-10 18:03:07,976 INFO sqlalchemy.engine.base.Engine ()\n"
       ]
      },
      {
       "output_type": "stream",
       "stream": "stdout",
       "text": [
        "2012-07-10 18:03:07,978 INFO sqlalchemy.engine.base.Engine PRAGMA table_info(\"idx_ln_boundary_Geometry_rowid\")\n"
       ]
      },
      {
       "output_type": "stream",
       "stream": "stdout",
       "text": [
        "2012-07-10 18:03:07,979 INFO sqlalchemy.engine.base.Engine ()\n"
       ]
      },
      {
       "output_type": "stream",
       "stream": "stdout",
       "text": [
        "2012-07-10 18:03:07,982 INFO sqlalchemy.engine.base.Engine PRAGMA foreign_key_list(\"idx_ln_boundary_Geometry_rowid\")\n"
       ]
      },
      {
       "output_type": "stream",
       "stream": "stdout",
       "text": [
        "2012-07-10 18:03:07,983 INFO sqlalchemy.engine.base.Engine ()\n"
       ]
      },
      {
       "output_type": "stream",
       "stream": "stdout",
       "text": [
        "2012-07-10 18:03:07,984 INFO sqlalchemy.engine.base.Engine PRAGMA index_list(\"idx_ln_boundary_Geometry_rowid\")\n"
       ]
      },
      {
       "output_type": "stream",
       "stream": "stdout",
       "text": [
        "2012-07-10 18:03:07,985 INFO sqlalchemy.engine.base.Engine ()\n"
       ]
      },
      {
       "output_type": "stream",
       "stream": "stdout",
       "text": [
        "2012-07-10 18:03:07,987 INFO sqlalchemy.engine.base.Engine PRAGMA table_info(\"idx_ln_generic_Geometry\")\n"
       ]
      },
      {
       "output_type": "stream",
       "stream": "stdout",
       "text": [
        "2012-07-10 18:03:07,987 INFO sqlalchemy.engine.base.Engine ()\n"
       ]
      },
      {
       "output_type": "stream",
       "stream": "stdout",
       "text": [
        "2012-07-10 18:03:07,991 INFO sqlalchemy.engine.base.Engine PRAGMA foreign_key_list(\"idx_ln_generic_Geometry\")\n"
       ]
      },
      {
       "output_type": "stream",
       "stream": "stdout",
       "text": [
        "2012-07-10 18:03:07,991 INFO sqlalchemy.engine.base.Engine ()\n"
       ]
      },
      {
       "output_type": "stream",
       "stream": "stdout",
       "text": [
        "2012-07-10 18:03:07,992 INFO sqlalchemy.engine.base.Engine PRAGMA index_list(\"idx_ln_generic_Geometry\")\n"
       ]
      },
      {
       "output_type": "stream",
       "stream": "stdout",
       "text": [
        "2012-07-10 18:03:07,992 INFO sqlalchemy.engine.base.Engine ()\n"
       ]
      },
      {
       "output_type": "stream",
       "stream": "stdout",
       "text": [
        "2012-07-10 18:03:07,994 INFO sqlalchemy.engine.base.Engine PRAGMA table_info(\"idx_ln_generic_Geometry_node\")\n"
       ]
      },
      {
       "output_type": "stream",
       "stream": "stdout",
       "text": [
        "2012-07-10 18:03:07,994 INFO sqlalchemy.engine.base.Engine ()\n"
       ]
      },
      {
       "output_type": "stream",
       "stream": "stdout",
       "text": [
        "2012-07-10 18:03:07,998 INFO sqlalchemy.engine.base.Engine PRAGMA foreign_key_list(\"idx_ln_generic_Geometry_node\")\n"
       ]
      },
      {
       "output_type": "stream",
       "stream": "stdout",
       "text": [
        "2012-07-10 18:03:07,998 INFO sqlalchemy.engine.base.Engine ()\n"
       ]
      },
      {
       "output_type": "stream",
       "stream": "stdout",
       "text": [
        "2012-07-10 18:03:07,999 INFO sqlalchemy.engine.base.Engine PRAGMA index_list(\"idx_ln_generic_Geometry_node\")\n"
       ]
      },
      {
       "output_type": "stream",
       "stream": "stdout",
       "text": [
        "2012-07-10 18:03:07,999 INFO sqlalchemy.engine.base.Engine ()\n"
       ]
      },
      {
       "output_type": "stream",
       "stream": "stdout",
       "text": [
        "2012-07-10 18:03:08,001 INFO sqlalchemy.engine.base.Engine PRAGMA table_info(\"idx_ln_generic_Geometry_parent\")\n"
       ]
      },
      {
       "output_type": "stream",
       "stream": "stdout",
       "text": [
        "2012-07-10 18:03:08,002 INFO sqlalchemy.engine.base.Engine ()\n"
       ]
      },
      {
       "output_type": "stream",
       "stream": "stdout",
       "text": [
        "2012-07-10 18:03:08,005 INFO sqlalchemy.engine.base.Engine PRAGMA foreign_key_list(\"idx_ln_generic_Geometry_parent\")\n"
       ]
      },
      {
       "output_type": "stream",
       "stream": "stdout",
       "text": [
        "2012-07-10 18:03:08,005 INFO sqlalchemy.engine.base.Engine ()\n"
       ]
      },
      {
       "output_type": "stream",
       "stream": "stdout",
       "text": [
        "2012-07-10 18:03:08,006 INFO sqlalchemy.engine.base.Engine PRAGMA index_list(\"idx_ln_generic_Geometry_parent\")\n"
       ]
      },
      {
       "output_type": "stream",
       "stream": "stdout",
       "text": [
        "2012-07-10 18:03:08,006 INFO sqlalchemy.engine.base.Engine ()\n"
       ]
      },
      {
       "output_type": "stream",
       "stream": "stdout",
       "text": [
        "2012-07-10 18:03:08,008 INFO sqlalchemy.engine.base.Engine PRAGMA table_info(\"idx_ln_generic_Geometry_rowid\")\n"
       ]
      },
      {
       "output_type": "stream",
       "stream": "stdout",
       "text": [
        "2012-07-10 18:03:08,008 INFO sqlalchemy.engine.base.Engine ()\n"
       ]
      },
      {
       "output_type": "stream",
       "stream": "stdout",
       "text": [
        "2012-07-10 18:03:08,012 INFO sqlalchemy.engine.base.Engine PRAGMA foreign_key_list(\"idx_ln_generic_Geometry_rowid\")\n"
       ]
      },
      {
       "output_type": "stream",
       "stream": "stdout",
       "text": [
        "2012-07-10 18:03:08,012 INFO sqlalchemy.engine.base.Engine ()\n"
       ]
      },
      {
       "output_type": "stream",
       "stream": "stdout",
       "text": [
        "2012-07-10 18:03:08,013 INFO sqlalchemy.engine.base.Engine PRAGMA index_list(\"idx_ln_generic_Geometry_rowid\")\n"
       ]
      },
      {
       "output_type": "stream",
       "stream": "stdout",
       "text": [
        "2012-07-10 18:03:08,013 INFO sqlalchemy.engine.base.Engine ()\n"
       ]
      },
      {
       "output_type": "stream",
       "stream": "stdout",
       "text": [
        "2012-07-10 18:03:08,015 INFO sqlalchemy.engine.base.Engine PRAGMA table_info(\"idx_ln_highway_Geometry\")\n"
       ]
      },
      {
       "output_type": "stream",
       "stream": "stdout",
       "text": [
        "2012-07-10 18:03:08,016 INFO sqlalchemy.engine.base.Engine ()\n"
       ]
      },
      {
       "output_type": "stream",
       "stream": "stdout",
       "text": [
        "2012-07-10 18:03:08,020 INFO sqlalchemy.engine.base.Engine PRAGMA foreign_key_list(\"idx_ln_highway_Geometry\")\n"
       ]
      },
      {
       "output_type": "stream",
       "stream": "stdout",
       "text": [
        "2012-07-10 18:03:08,021 INFO sqlalchemy.engine.base.Engine ()\n"
       ]
      },
      {
       "output_type": "stream",
       "stream": "stdout",
       "text": [
        "2012-07-10 18:03:08,021 INFO sqlalchemy.engine.base.Engine PRAGMA index_list(\"idx_ln_highway_Geometry\")\n"
       ]
      },
      {
       "output_type": "stream",
       "stream": "stdout",
       "text": [
        "2012-07-10 18:03:08,021 INFO sqlalchemy.engine.base.Engine ()\n"
       ]
      },
      {
       "output_type": "stream",
       "stream": "stdout",
       "text": [
        "2012-07-10 18:03:08,023 INFO sqlalchemy.engine.base.Engine PRAGMA table_info(\"idx_ln_highway_Geometry_node\")\n"
       ]
      },
      {
       "output_type": "stream",
       "stream": "stdout",
       "text": [
        "2012-07-10 18:03:08,024 INFO sqlalchemy.engine.base.Engine ()\n"
       ]
      },
      {
       "output_type": "stream",
       "stream": "stdout",
       "text": [
        "2012-07-10 18:03:08,027 INFO sqlalchemy.engine.base.Engine PRAGMA foreign_key_list(\"idx_ln_highway_Geometry_node\")\n"
       ]
      },
      {
       "output_type": "stream",
       "stream": "stdout",
       "text": [
        "2012-07-10 18:03:08,027 INFO sqlalchemy.engine.base.Engine ()\n"
       ]
      },
      {
       "output_type": "stream",
       "stream": "stdout",
       "text": [
        "2012-07-10 18:03:08,028 INFO sqlalchemy.engine.base.Engine PRAGMA index_list(\"idx_ln_highway_Geometry_node\")\n"
       ]
      },
      {
       "output_type": "stream",
       "stream": "stdout",
       "text": [
        "2012-07-10 18:03:08,028 INFO sqlalchemy.engine.base.Engine ()\n"
       ]
      },
      {
       "output_type": "stream",
       "stream": "stdout",
       "text": [
        "2012-07-10 18:03:08,030 INFO sqlalchemy.engine.base.Engine PRAGMA table_info(\"idx_ln_highway_Geometry_parent\")\n"
       ]
      },
      {
       "output_type": "stream",
       "stream": "stdout",
       "text": [
        "2012-07-10 18:03:08,030 INFO sqlalchemy.engine.base.Engine ()\n"
       ]
      },
      {
       "output_type": "stream",
       "stream": "stdout",
       "text": [
        "2012-07-10 18:03:08,034 INFO sqlalchemy.engine.base.Engine PRAGMA foreign_key_list(\"idx_ln_highway_Geometry_parent\")\n"
       ]
      },
      {
       "output_type": "stream",
       "stream": "stdout",
       "text": [
        "2012-07-10 18:03:08,034 INFO sqlalchemy.engine.base.Engine ()\n"
       ]
      },
      {
       "output_type": "stream",
       "stream": "stdout",
       "text": [
        "2012-07-10 18:03:08,034 INFO sqlalchemy.engine.base.Engine PRAGMA index_list(\"idx_ln_highway_Geometry_parent\")\n"
       ]
      },
      {
       "output_type": "stream",
       "stream": "stdout",
       "text": [
        "2012-07-10 18:03:08,035 INFO sqlalchemy.engine.base.Engine ()\n"
       ]
      },
      {
       "output_type": "stream",
       "stream": "stdout",
       "text": [
        "2012-07-10 18:03:08,037 INFO sqlalchemy.engine.base.Engine PRAGMA table_info(\"idx_ln_highway_Geometry_rowid\")\n"
       ]
      },
      {
       "output_type": "stream",
       "stream": "stdout",
       "text": [
        "2012-07-10 18:03:08,037 INFO sqlalchemy.engine.base.Engine ()\n"
       ]
      },
      {
       "output_type": "stream",
       "stream": "stdout",
       "text": [
        "2012-07-10 18:03:08,040 INFO sqlalchemy.engine.base.Engine PRAGMA foreign_key_list(\"idx_ln_highway_Geometry_rowid\")\n"
       ]
      },
      {
       "output_type": "stream",
       "stream": "stdout",
       "text": [
        "2012-07-10 18:03:08,041 INFO sqlalchemy.engine.base.Engine ()\n"
       ]
      },
      {
       "output_type": "stream",
       "stream": "stdout",
       "text": [
        "2012-07-10 18:03:08,041 INFO sqlalchemy.engine.base.Engine PRAGMA index_list(\"idx_ln_highway_Geometry_rowid\")\n"
       ]
      },
      {
       "output_type": "stream",
       "stream": "stdout",
       "text": [
        "2012-07-10 18:03:08,041 INFO sqlalchemy.engine.base.Engine ()\n"
       ]
      },
      {
       "output_type": "stream",
       "stream": "stdout",
       "text": [
        "2012-07-10 18:03:08,043 INFO sqlalchemy.engine.base.Engine PRAGMA table_info(\"idx_ln_route_Geometry\")\n"
       ]
      },
      {
       "output_type": "stream",
       "stream": "stdout",
       "text": [
        "2012-07-10 18:03:08,043 INFO sqlalchemy.engine.base.Engine ()\n"
       ]
      },
      {
       "output_type": "stream",
       "stream": "stdout",
       "text": [
        "2012-07-10 18:03:08,048 INFO sqlalchemy.engine.base.Engine PRAGMA foreign_key_list(\"idx_ln_route_Geometry\")\n"
       ]
      },
      {
       "output_type": "stream",
       "stream": "stdout",
       "text": [
        "2012-07-10 18:03:08,049 INFO sqlalchemy.engine.base.Engine ()\n"
       ]
      },
      {
       "output_type": "stream",
       "stream": "stdout",
       "text": [
        "2012-07-10 18:03:08,049 INFO sqlalchemy.engine.base.Engine PRAGMA index_list(\"idx_ln_route_Geometry\")\n"
       ]
      },
      {
       "output_type": "stream",
       "stream": "stdout",
       "text": [
        "2012-07-10 18:03:08,050 INFO sqlalchemy.engine.base.Engine ()\n"
       ]
      },
      {
       "output_type": "stream",
       "stream": "stdout",
       "text": [
        "2012-07-10 18:03:08,052 INFO sqlalchemy.engine.base.Engine PRAGMA table_info(\"idx_ln_route_Geometry_node\")\n"
       ]
      },
      {
       "output_type": "stream",
       "stream": "stdout",
       "text": [
        "2012-07-10 18:03:08,052 INFO sqlalchemy.engine.base.Engine ()\n"
       ]
      },
      {
       "output_type": "stream",
       "stream": "stdout",
       "text": [
        "2012-07-10 18:03:08,055 INFO sqlalchemy.engine.base.Engine PRAGMA foreign_key_list(\"idx_ln_route_Geometry_node\")\n"
       ]
      },
      {
       "output_type": "stream",
       "stream": "stdout",
       "text": [
        "2012-07-10 18:03:08,056 INFO sqlalchemy.engine.base.Engine ()\n"
       ]
      },
      {
       "output_type": "stream",
       "stream": "stdout",
       "text": [
        "2012-07-10 18:03:08,056 INFO sqlalchemy.engine.base.Engine PRAGMA index_list(\"idx_ln_route_Geometry_node\")\n"
       ]
      },
      {
       "output_type": "stream",
       "stream": "stdout",
       "text": [
        "2012-07-10 18:03:08,057 INFO sqlalchemy.engine.base.Engine ()\n"
       ]
      },
      {
       "output_type": "stream",
       "stream": "stdout",
       "text": [
        "2012-07-10 18:03:08,059 INFO sqlalchemy.engine.base.Engine PRAGMA table_info(\"idx_ln_route_Geometry_parent\")\n"
       ]
      },
      {
       "output_type": "stream",
       "stream": "stdout",
       "text": [
        "2012-07-10 18:03:08,059 INFO sqlalchemy.engine.base.Engine ()\n"
       ]
      },
      {
       "output_type": "stream",
       "stream": "stdout",
       "text": [
        "2012-07-10 18:03:08,062 INFO sqlalchemy.engine.base.Engine PRAGMA foreign_key_list(\"idx_ln_route_Geometry_parent\")\n"
       ]
      },
      {
       "output_type": "stream",
       "stream": "stdout",
       "text": [
        "2012-07-10 18:03:08,063 INFO sqlalchemy.engine.base.Engine ()\n"
       ]
      },
      {
       "output_type": "stream",
       "stream": "stdout",
       "text": [
        "2012-07-10 18:03:08,063 INFO sqlalchemy.engine.base.Engine PRAGMA index_list(\"idx_ln_route_Geometry_parent\")\n"
       ]
      },
      {
       "output_type": "stream",
       "stream": "stdout",
       "text": [
        "2012-07-10 18:03:08,063 INFO sqlalchemy.engine.base.Engine ()\n"
       ]
      },
      {
       "output_type": "stream",
       "stream": "stdout",
       "text": [
        "2012-07-10 18:03:08,065 INFO sqlalchemy.engine.base.Engine PRAGMA table_info(\"idx_ln_route_Geometry_rowid\")\n"
       ]
      },
      {
       "output_type": "stream",
       "stream": "stdout",
       "text": [
        "2012-07-10 18:03:08,066 INFO sqlalchemy.engine.base.Engine ()\n"
       ]
      },
      {
       "output_type": "stream",
       "stream": "stdout",
       "text": [
        "2012-07-10 18:03:08,069 INFO sqlalchemy.engine.base.Engine PRAGMA foreign_key_list(\"idx_ln_route_Geometry_rowid\")\n"
       ]
      },
      {
       "output_type": "stream",
       "stream": "stdout",
       "text": [
        "2012-07-10 18:03:08,069 INFO sqlalchemy.engine.base.Engine ()\n"
       ]
      },
      {
       "output_type": "stream",
       "stream": "stdout",
       "text": [
        "2012-07-10 18:03:08,070 INFO sqlalchemy.engine.base.Engine PRAGMA index_list(\"idx_ln_route_Geometry_rowid\")\n"
       ]
      },
      {
       "output_type": "stream",
       "stream": "stdout",
       "text": [
        "2012-07-10 18:03:08,070 INFO sqlalchemy.engine.base.Engine ()\n"
       ]
      },
      {
       "output_type": "stream",
       "stream": "stdout",
       "text": [
        "2012-07-10 18:03:08,072 INFO sqlalchemy.engine.base.Engine PRAGMA table_info(\"idx_pg_amenity_Geometry\")\n"
       ]
      },
      {
       "output_type": "stream",
       "stream": "stdout",
       "text": [
        "2012-07-10 18:03:08,072 INFO sqlalchemy.engine.base.Engine ()\n"
       ]
      },
      {
       "output_type": "stream",
       "stream": "stdout",
       "text": [
        "2012-07-10 18:03:08,076 INFO sqlalchemy.engine.base.Engine PRAGMA foreign_key_list(\"idx_pg_amenity_Geometry\")\n"
       ]
      },
      {
       "output_type": "stream",
       "stream": "stdout",
       "text": [
        "2012-07-10 18:03:08,076 INFO sqlalchemy.engine.base.Engine ()\n"
       ]
      },
      {
       "output_type": "stream",
       "stream": "stdout",
       "text": [
        "2012-07-10 18:03:08,077 INFO sqlalchemy.engine.base.Engine PRAGMA index_list(\"idx_pg_amenity_Geometry\")\n"
       ]
      },
      {
       "output_type": "stream",
       "stream": "stdout",
       "text": [
        "2012-07-10 18:03:08,077 INFO sqlalchemy.engine.base.Engine ()\n"
       ]
      },
      {
       "output_type": "stream",
       "stream": "stdout",
       "text": [
        "2012-07-10 18:03:08,079 INFO sqlalchemy.engine.base.Engine PRAGMA table_info(\"idx_pg_amenity_Geometry_node\")\n"
       ]
      },
      {
       "output_type": "stream",
       "stream": "stdout",
       "text": [
        "2012-07-10 18:03:08,079 INFO sqlalchemy.engine.base.Engine ()\n"
       ]
      },
      {
       "output_type": "stream",
       "stream": "stdout",
       "text": [
        "2012-07-10 18:03:08,082 INFO sqlalchemy.engine.base.Engine PRAGMA foreign_key_list(\"idx_pg_amenity_Geometry_node\")\n"
       ]
      },
      {
       "output_type": "stream",
       "stream": "stdout",
       "text": [
        "2012-07-10 18:03:08,083 INFO sqlalchemy.engine.base.Engine ()\n"
       ]
      },
      {
       "output_type": "stream",
       "stream": "stdout",
       "text": [
        "2012-07-10 18:03:08,083 INFO sqlalchemy.engine.base.Engine PRAGMA index_list(\"idx_pg_amenity_Geometry_node\")\n"
       ]
      },
      {
       "output_type": "stream",
       "stream": "stdout",
       "text": [
        "2012-07-10 18:03:08,084 INFO sqlalchemy.engine.base.Engine ()\n"
       ]
      },
      {
       "output_type": "stream",
       "stream": "stdout",
       "text": [
        "2012-07-10 18:03:08,085 INFO sqlalchemy.engine.base.Engine PRAGMA table_info(\"idx_pg_amenity_Geometry_parent\")\n"
       ]
      },
      {
       "output_type": "stream",
       "stream": "stdout",
       "text": [
        "2012-07-10 18:03:08,086 INFO sqlalchemy.engine.base.Engine ()\n"
       ]
      },
      {
       "output_type": "stream",
       "stream": "stdout",
       "text": [
        "2012-07-10 18:03:08,089 INFO sqlalchemy.engine.base.Engine PRAGMA foreign_key_list(\"idx_pg_amenity_Geometry_parent\")\n"
       ]
      },
      {
       "output_type": "stream",
       "stream": "stdout",
       "text": [
        "2012-07-10 18:03:08,089 INFO sqlalchemy.engine.base.Engine ()\n"
       ]
      },
      {
       "output_type": "stream",
       "stream": "stdout",
       "text": [
        "2012-07-10 18:03:08,090 INFO sqlalchemy.engine.base.Engine PRAGMA index_list(\"idx_pg_amenity_Geometry_parent\")\n"
       ]
      },
      {
       "output_type": "stream",
       "stream": "stdout",
       "text": [
        "2012-07-10 18:03:08,090 INFO sqlalchemy.engine.base.Engine ()\n"
       ]
      },
      {
       "output_type": "stream",
       "stream": "stdout",
       "text": [
        "2012-07-10 18:03:08,092 INFO sqlalchemy.engine.base.Engine PRAGMA table_info(\"idx_pg_amenity_Geometry_rowid\")\n"
       ]
      },
      {
       "output_type": "stream",
       "stream": "stdout",
       "text": [
        "2012-07-10 18:03:08,092 INFO sqlalchemy.engine.base.Engine ()\n"
       ]
      },
      {
       "output_type": "stream",
       "stream": "stdout",
       "text": [
        "2012-07-10 18:03:08,096 INFO sqlalchemy.engine.base.Engine PRAGMA foreign_key_list(\"idx_pg_amenity_Geometry_rowid\")\n"
       ]
      },
      {
       "output_type": "stream",
       "stream": "stdout",
       "text": [
        "2012-07-10 18:03:08,096 INFO sqlalchemy.engine.base.Engine ()\n"
       ]
      },
      {
       "output_type": "stream",
       "stream": "stdout",
       "text": [
        "2012-07-10 18:03:08,097 INFO sqlalchemy.engine.base.Engine PRAGMA index_list(\"idx_pg_amenity_Geometry_rowid\")\n"
       ]
      },
      {
       "output_type": "stream",
       "stream": "stdout",
       "text": [
        "2012-07-10 18:03:08,097 INFO sqlalchemy.engine.base.Engine ()\n"
       ]
      },
      {
       "output_type": "stream",
       "stream": "stdout",
       "text": [
        "2012-07-10 18:03:08,099 INFO sqlalchemy.engine.base.Engine PRAGMA table_info(\"idx_pg_building_Geometry\")\n"
       ]
      },
      {
       "output_type": "stream",
       "stream": "stdout",
       "text": [
        "2012-07-10 18:03:08,099 INFO sqlalchemy.engine.base.Engine ()\n"
       ]
      },
      {
       "output_type": "stream",
       "stream": "stdout",
       "text": [
        "2012-07-10 18:03:08,103 INFO sqlalchemy.engine.base.Engine PRAGMA foreign_key_list(\"idx_pg_building_Geometry\")\n"
       ]
      },
      {
       "output_type": "stream",
       "stream": "stdout",
       "text": [
        "2012-07-10 18:03:08,103 INFO sqlalchemy.engine.base.Engine ()\n"
       ]
      },
      {
       "output_type": "stream",
       "stream": "stdout",
       "text": [
        "2012-07-10 18:03:08,104 INFO sqlalchemy.engine.base.Engine PRAGMA index_list(\"idx_pg_building_Geometry\")\n"
       ]
      },
      {
       "output_type": "stream",
       "stream": "stdout",
       "text": [
        "2012-07-10 18:03:08,104 INFO sqlalchemy.engine.base.Engine ()\n"
       ]
      },
      {
       "output_type": "stream",
       "stream": "stdout",
       "text": [
        "2012-07-10 18:03:08,106 INFO sqlalchemy.engine.base.Engine PRAGMA table_info(\"idx_pg_building_Geometry_node\")\n"
       ]
      },
      {
       "output_type": "stream",
       "stream": "stdout",
       "text": [
        "2012-07-10 18:03:08,106 INFO sqlalchemy.engine.base.Engine ()\n"
       ]
      },
      {
       "output_type": "stream",
       "stream": "stdout",
       "text": [
        "2012-07-10 18:03:08,110 INFO sqlalchemy.engine.base.Engine PRAGMA foreign_key_list(\"idx_pg_building_Geometry_node\")\n"
       ]
      },
      {
       "output_type": "stream",
       "stream": "stdout",
       "text": [
        "2012-07-10 18:03:08,110 INFO sqlalchemy.engine.base.Engine ()\n"
       ]
      },
      {
       "output_type": "stream",
       "stream": "stdout",
       "text": [
        "2012-07-10 18:03:08,112 INFO sqlalchemy.engine.base.Engine PRAGMA index_list(\"idx_pg_building_Geometry_node\")\n"
       ]
      },
      {
       "output_type": "stream",
       "stream": "stdout",
       "text": [
        "2012-07-10 18:03:08,112 INFO sqlalchemy.engine.base.Engine ()\n"
       ]
      },
      {
       "output_type": "stream",
       "stream": "stdout",
       "text": [
        "2012-07-10 18:03:08,115 INFO sqlalchemy.engine.base.Engine PRAGMA table_info(\"idx_pg_building_Geometry_parent\")\n"
       ]
      },
      {
       "output_type": "stream",
       "stream": "stdout",
       "text": [
        "2012-07-10 18:03:08,115 INFO sqlalchemy.engine.base.Engine ()\n"
       ]
      },
      {
       "output_type": "stream",
       "stream": "stdout",
       "text": [
        "2012-07-10 18:03:08,118 INFO sqlalchemy.engine.base.Engine PRAGMA foreign_key_list(\"idx_pg_building_Geometry_parent\")\n"
       ]
      },
      {
       "output_type": "stream",
       "stream": "stdout",
       "text": [
        "2012-07-10 18:03:08,119 INFO sqlalchemy.engine.base.Engine ()\n"
       ]
      },
      {
       "output_type": "stream",
       "stream": "stdout",
       "text": [
        "2012-07-10 18:03:08,119 INFO sqlalchemy.engine.base.Engine PRAGMA index_list(\"idx_pg_building_Geometry_parent\")\n"
       ]
      },
      {
       "output_type": "stream",
       "stream": "stdout",
       "text": [
        "2012-07-10 18:03:08,120 INFO sqlalchemy.engine.base.Engine ()\n"
       ]
      },
      {
       "output_type": "stream",
       "stream": "stdout",
       "text": [
        "2012-07-10 18:03:08,121 INFO sqlalchemy.engine.base.Engine PRAGMA table_info(\"idx_pg_building_Geometry_rowid\")\n"
       ]
      },
      {
       "output_type": "stream",
       "stream": "stdout",
       "text": [
        "2012-07-10 18:03:08,122 INFO sqlalchemy.engine.base.Engine ()\n"
       ]
      },
      {
       "output_type": "stream",
       "stream": "stdout",
       "text": [
        "2012-07-10 18:03:08,125 INFO sqlalchemy.engine.base.Engine PRAGMA foreign_key_list(\"idx_pg_building_Geometry_rowid\")\n"
       ]
      },
      {
       "output_type": "stream",
       "stream": "stdout",
       "text": [
        "2012-07-10 18:03:08,125 INFO sqlalchemy.engine.base.Engine ()\n"
       ]
      },
      {
       "output_type": "stream",
       "stream": "stdout",
       "text": [
        "2012-07-10 18:03:08,126 INFO sqlalchemy.engine.base.Engine PRAGMA index_list(\"idx_pg_building_Geometry_rowid\")\n"
       ]
      },
      {
       "output_type": "stream",
       "stream": "stdout",
       "text": [
        "2012-07-10 18:03:08,126 INFO sqlalchemy.engine.base.Engine ()\n"
       ]
      },
      {
       "output_type": "stream",
       "stream": "stdout",
       "text": [
        "2012-07-10 18:03:08,128 INFO sqlalchemy.engine.base.Engine PRAGMA table_info(\"idx_pg_generic_Geometry\")\n"
       ]
      },
      {
       "output_type": "stream",
       "stream": "stdout",
       "text": [
        "2012-07-10 18:03:08,128 INFO sqlalchemy.engine.base.Engine ()\n"
       ]
      },
      {
       "output_type": "stream",
       "stream": "stdout",
       "text": [
        "2012-07-10 18:03:08,132 INFO sqlalchemy.engine.base.Engine PRAGMA foreign_key_list(\"idx_pg_generic_Geometry\")\n"
       ]
      },
      {
       "output_type": "stream",
       "stream": "stdout",
       "text": [
        "2012-07-10 18:03:08,132 INFO sqlalchemy.engine.base.Engine ()\n"
       ]
      },
      {
       "output_type": "stream",
       "stream": "stdout",
       "text": [
        "2012-07-10 18:03:08,133 INFO sqlalchemy.engine.base.Engine PRAGMA index_list(\"idx_pg_generic_Geometry\")\n"
       ]
      },
      {
       "output_type": "stream",
       "stream": "stdout",
       "text": [
        "2012-07-10 18:03:08,133 INFO sqlalchemy.engine.base.Engine ()\n"
       ]
      },
      {
       "output_type": "stream",
       "stream": "stdout",
       "text": [
        "2012-07-10 18:03:08,135 INFO sqlalchemy.engine.base.Engine PRAGMA table_info(\"idx_pg_generic_Geometry_node\")\n"
       ]
      },
      {
       "output_type": "stream",
       "stream": "stdout",
       "text": [
        "2012-07-10 18:03:08,135 INFO sqlalchemy.engine.base.Engine ()\n"
       ]
      },
      {
       "output_type": "stream",
       "stream": "stdout",
       "text": [
        "2012-07-10 18:03:08,138 INFO sqlalchemy.engine.base.Engine PRAGMA foreign_key_list(\"idx_pg_generic_Geometry_node\")\n"
       ]
      },
      {
       "output_type": "stream",
       "stream": "stdout",
       "text": [
        "2012-07-10 18:03:08,139 INFO sqlalchemy.engine.base.Engine ()\n"
       ]
      },
      {
       "output_type": "stream",
       "stream": "stdout",
       "text": [
        "2012-07-10 18:03:08,139 INFO sqlalchemy.engine.base.Engine PRAGMA index_list(\"idx_pg_generic_Geometry_node\")\n"
       ]
      },
      {
       "output_type": "stream",
       "stream": "stdout",
       "text": [
        "2012-07-10 18:03:08,139 INFO sqlalchemy.engine.base.Engine ()\n"
       ]
      },
      {
       "output_type": "stream",
       "stream": "stdout",
       "text": [
        "2012-07-10 18:03:08,141 INFO sqlalchemy.engine.base.Engine PRAGMA table_info(\"idx_pg_generic_Geometry_parent\")\n"
       ]
      },
      {
       "output_type": "stream",
       "stream": "stdout",
       "text": [
        "2012-07-10 18:03:08,141 INFO sqlalchemy.engine.base.Engine ()\n"
       ]
      },
      {
       "output_type": "stream",
       "stream": "stdout",
       "text": [
        "2012-07-10 18:03:08,145 INFO sqlalchemy.engine.base.Engine PRAGMA foreign_key_list(\"idx_pg_generic_Geometry_parent\")\n"
       ]
      },
      {
       "output_type": "stream",
       "stream": "stdout",
       "text": [
        "2012-07-10 18:03:08,145 INFO sqlalchemy.engine.base.Engine ()\n"
       ]
      },
      {
       "output_type": "stream",
       "stream": "stdout",
       "text": [
        "2012-07-10 18:03:08,146 INFO sqlalchemy.engine.base.Engine PRAGMA index_list(\"idx_pg_generic_Geometry_parent\")\n"
       ]
      },
      {
       "output_type": "stream",
       "stream": "stdout",
       "text": [
        "2012-07-10 18:03:08,146 INFO sqlalchemy.engine.base.Engine ()\n"
       ]
      },
      {
       "output_type": "stream",
       "stream": "stdout",
       "text": [
        "2012-07-10 18:03:08,148 INFO sqlalchemy.engine.base.Engine PRAGMA table_info(\"idx_pg_generic_Geometry_rowid\")\n"
       ]
      },
      {
       "output_type": "stream",
       "stream": "stdout",
       "text": [
        "2012-07-10 18:03:08,148 INFO sqlalchemy.engine.base.Engine ()\n"
       ]
      },
      {
       "output_type": "stream",
       "stream": "stdout",
       "text": [
        "2012-07-10 18:03:08,151 INFO sqlalchemy.engine.base.Engine PRAGMA foreign_key_list(\"idx_pg_generic_Geometry_rowid\")\n"
       ]
      },
      {
       "output_type": "stream",
       "stream": "stdout",
       "text": [
        "2012-07-10 18:03:08,152 INFO sqlalchemy.engine.base.Engine ()\n"
       ]
      },
      {
       "output_type": "stream",
       "stream": "stdout",
       "text": [
        "2012-07-10 18:03:08,152 INFO sqlalchemy.engine.base.Engine PRAGMA index_list(\"idx_pg_generic_Geometry_rowid\")\n"
       ]
      },
      {
       "output_type": "stream",
       "stream": "stdout",
       "text": [
        "2012-07-10 18:03:08,152 INFO sqlalchemy.engine.base.Engine ()\n"
       ]
      },
      {
       "output_type": "stream",
       "stream": "stdout",
       "text": [
        "2012-07-10 18:03:08,154 INFO sqlalchemy.engine.base.Engine PRAGMA table_info(\"idx_pg_highway_Geometry\")\n"
       ]
      },
      {
       "output_type": "stream",
       "stream": "stdout",
       "text": [
        "2012-07-10 18:03:08,154 INFO sqlalchemy.engine.base.Engine ()\n"
       ]
      },
      {
       "output_type": "stream",
       "stream": "stdout",
       "text": [
        "2012-07-10 18:03:08,158 INFO sqlalchemy.engine.base.Engine PRAGMA foreign_key_list(\"idx_pg_highway_Geometry\")\n"
       ]
      },
      {
       "output_type": "stream",
       "stream": "stdout",
       "text": [
        "2012-07-10 18:03:08,158 INFO sqlalchemy.engine.base.Engine ()\n"
       ]
      },
      {
       "output_type": "stream",
       "stream": "stdout",
       "text": [
        "2012-07-10 18:03:08,159 INFO sqlalchemy.engine.base.Engine PRAGMA index_list(\"idx_pg_highway_Geometry\")\n"
       ]
      },
      {
       "output_type": "stream",
       "stream": "stdout",
       "text": [
        "2012-07-10 18:03:08,159 INFO sqlalchemy.engine.base.Engine ()\n"
       ]
      },
      {
       "output_type": "stream",
       "stream": "stdout",
       "text": [
        "2012-07-10 18:03:08,161 INFO sqlalchemy.engine.base.Engine PRAGMA table_info(\"idx_pg_highway_Geometry_node\")\n"
       ]
      },
      {
       "output_type": "stream",
       "stream": "stdout",
       "text": [
        "2012-07-10 18:03:08,161 INFO sqlalchemy.engine.base.Engine ()\n"
       ]
      },
      {
       "output_type": "stream",
       "stream": "stdout",
       "text": [
        "2012-07-10 18:03:08,165 INFO sqlalchemy.engine.base.Engine PRAGMA foreign_key_list(\"idx_pg_highway_Geometry_node\")\n"
       ]
      },
      {
       "output_type": "stream",
       "stream": "stdout",
       "text": [
        "2012-07-10 18:03:08,165 INFO sqlalchemy.engine.base.Engine ()\n"
       ]
      },
      {
       "output_type": "stream",
       "stream": "stdout",
       "text": [
        "2012-07-10 18:03:08,165 INFO sqlalchemy.engine.base.Engine PRAGMA index_list(\"idx_pg_highway_Geometry_node\")\n"
       ]
      },
      {
       "output_type": "stream",
       "stream": "stdout",
       "text": [
        "2012-07-10 18:03:08,166 INFO sqlalchemy.engine.base.Engine ()\n"
       ]
      },
      {
       "output_type": "stream",
       "stream": "stdout",
       "text": [
        "2012-07-10 18:03:08,168 INFO sqlalchemy.engine.base.Engine PRAGMA table_info(\"idx_pg_highway_Geometry_parent\")\n"
       ]
      },
      {
       "output_type": "stream",
       "stream": "stdout",
       "text": [
        "2012-07-10 18:03:08,168 INFO sqlalchemy.engine.base.Engine ()\n"
       ]
      },
      {
       "output_type": "stream",
       "stream": "stdout",
       "text": [
        "2012-07-10 18:03:08,171 INFO sqlalchemy.engine.base.Engine PRAGMA foreign_key_list(\"idx_pg_highway_Geometry_parent\")\n"
       ]
      },
      {
       "output_type": "stream",
       "stream": "stdout",
       "text": [
        "2012-07-10 18:03:08,172 INFO sqlalchemy.engine.base.Engine ()\n"
       ]
      },
      {
       "output_type": "stream",
       "stream": "stdout",
       "text": [
        "2012-07-10 18:03:08,172 INFO sqlalchemy.engine.base.Engine PRAGMA index_list(\"idx_pg_highway_Geometry_parent\")\n"
       ]
      },
      {
       "output_type": "stream",
       "stream": "stdout",
       "text": [
        "2012-07-10 18:03:08,172 INFO sqlalchemy.engine.base.Engine ()\n"
       ]
      },
      {
       "output_type": "stream",
       "stream": "stdout",
       "text": [
        "2012-07-10 18:03:08,174 INFO sqlalchemy.engine.base.Engine PRAGMA table_info(\"idx_pg_highway_Geometry_rowid\")\n"
       ]
      },
      {
       "output_type": "stream",
       "stream": "stdout",
       "text": [
        "2012-07-10 18:03:08,175 INFO sqlalchemy.engine.base.Engine ()\n"
       ]
      },
      {
       "output_type": "stream",
       "stream": "stdout",
       "text": [
        "2012-07-10 18:03:08,178 INFO sqlalchemy.engine.base.Engine PRAGMA foreign_key_list(\"idx_pg_highway_Geometry_rowid\")\n"
       ]
      },
      {
       "output_type": "stream",
       "stream": "stdout",
       "text": [
        "2012-07-10 18:03:08,178 INFO sqlalchemy.engine.base.Engine ()\n"
       ]
      },
      {
       "output_type": "stream",
       "stream": "stdout",
       "text": [
        "2012-07-10 18:03:08,179 INFO sqlalchemy.engine.base.Engine PRAGMA index_list(\"idx_pg_highway_Geometry_rowid\")\n"
       ]
      },
      {
       "output_type": "stream",
       "stream": "stdout",
       "text": [
        "2012-07-10 18:03:08,179 INFO sqlalchemy.engine.base.Engine ()\n"
       ]
      },
      {
       "output_type": "stream",
       "stream": "stdout",
       "text": [
        "2012-07-10 18:03:08,181 INFO sqlalchemy.engine.base.Engine PRAGMA table_info(\"idx_pg_landuse_Geometry\")\n"
       ]
      },
      {
       "output_type": "stream",
       "stream": "stdout",
       "text": [
        "2012-07-10 18:03:08,181 INFO sqlalchemy.engine.base.Engine ()\n"
       ]
      },
      {
       "output_type": "stream",
       "stream": "stdout",
       "text": [
        "2012-07-10 18:03:08,185 INFO sqlalchemy.engine.base.Engine PRAGMA foreign_key_list(\"idx_pg_landuse_Geometry\")\n"
       ]
      },
      {
       "output_type": "stream",
       "stream": "stdout",
       "text": [
        "2012-07-10 18:03:08,185 INFO sqlalchemy.engine.base.Engine ()\n"
       ]
      },
      {
       "output_type": "stream",
       "stream": "stdout",
       "text": [
        "2012-07-10 18:03:08,186 INFO sqlalchemy.engine.base.Engine PRAGMA index_list(\"idx_pg_landuse_Geometry\")\n"
       ]
      },
      {
       "output_type": "stream",
       "stream": "stdout",
       "text": [
        "2012-07-10 18:03:08,186 INFO sqlalchemy.engine.base.Engine ()\n"
       ]
      },
      {
       "output_type": "stream",
       "stream": "stdout",
       "text": [
        "2012-07-10 18:03:08,188 INFO sqlalchemy.engine.base.Engine PRAGMA table_info(\"idx_pg_landuse_Geometry_node\")\n"
       ]
      },
      {
       "output_type": "stream",
       "stream": "stdout",
       "text": [
        "2012-07-10 18:03:08,189 INFO sqlalchemy.engine.base.Engine ()\n"
       ]
      },
      {
       "output_type": "stream",
       "stream": "stdout",
       "text": [
        "2012-07-10 18:03:08,192 INFO sqlalchemy.engine.base.Engine PRAGMA foreign_key_list(\"idx_pg_landuse_Geometry_node\")\n"
       ]
      },
      {
       "output_type": "stream",
       "stream": "stdout",
       "text": [
        "2012-07-10 18:03:08,193 INFO sqlalchemy.engine.base.Engine ()\n"
       ]
      },
      {
       "output_type": "stream",
       "stream": "stdout",
       "text": [
        "2012-07-10 18:03:08,193 INFO sqlalchemy.engine.base.Engine PRAGMA index_list(\"idx_pg_landuse_Geometry_node\")\n"
       ]
      },
      {
       "output_type": "stream",
       "stream": "stdout",
       "text": [
        "2012-07-10 18:03:08,193 INFO sqlalchemy.engine.base.Engine ()\n"
       ]
      },
      {
       "output_type": "stream",
       "stream": "stdout",
       "text": [
        "2012-07-10 18:03:08,195 INFO sqlalchemy.engine.base.Engine PRAGMA table_info(\"idx_pg_landuse_Geometry_parent\")\n"
       ]
      },
      {
       "output_type": "stream",
       "stream": "stdout",
       "text": [
        "2012-07-10 18:03:08,196 INFO sqlalchemy.engine.base.Engine ()\n"
       ]
      },
      {
       "output_type": "stream",
       "stream": "stdout",
       "text": [
        "2012-07-10 18:03:08,199 INFO sqlalchemy.engine.base.Engine PRAGMA foreign_key_list(\"idx_pg_landuse_Geometry_parent\")\n"
       ]
      },
      {
       "output_type": "stream",
       "stream": "stdout",
       "text": [
        "2012-07-10 18:03:08,199 INFO sqlalchemy.engine.base.Engine ()\n"
       ]
      },
      {
       "output_type": "stream",
       "stream": "stdout",
       "text": [
        "2012-07-10 18:03:08,200 INFO sqlalchemy.engine.base.Engine PRAGMA index_list(\"idx_pg_landuse_Geometry_parent\")\n"
       ]
      },
      {
       "output_type": "stream",
       "stream": "stdout",
       "text": [
        "2012-07-10 18:03:08,200 INFO sqlalchemy.engine.base.Engine ()\n"
       ]
      },
      {
       "output_type": "stream",
       "stream": "stdout",
       "text": [
        "2012-07-10 18:03:08,202 INFO sqlalchemy.engine.base.Engine PRAGMA table_info(\"idx_pg_landuse_Geometry_rowid\")\n"
       ]
      },
      {
       "output_type": "stream",
       "stream": "stdout",
       "text": [
        "2012-07-10 18:03:08,202 INFO sqlalchemy.engine.base.Engine ()\n"
       ]
      },
      {
       "output_type": "stream",
       "stream": "stdout",
       "text": [
        "2012-07-10 18:03:08,206 INFO sqlalchemy.engine.base.Engine PRAGMA foreign_key_list(\"idx_pg_landuse_Geometry_rowid\")\n"
       ]
      },
      {
       "output_type": "stream",
       "stream": "stdout",
       "text": [
        "2012-07-10 18:03:08,206 INFO sqlalchemy.engine.base.Engine ()\n"
       ]
      },
      {
       "output_type": "stream",
       "stream": "stdout",
       "text": [
        "2012-07-10 18:03:08,207 INFO sqlalchemy.engine.base.Engine PRAGMA index_list(\"idx_pg_landuse_Geometry_rowid\")\n"
       ]
      },
      {
       "output_type": "stream",
       "stream": "stdout",
       "text": [
        "2012-07-10 18:03:08,207 INFO sqlalchemy.engine.base.Engine ()\n"
       ]
      },
      {
       "output_type": "stream",
       "stream": "stdout",
       "text": [
        "2012-07-10 18:03:08,209 INFO sqlalchemy.engine.base.Engine PRAGMA table_info(\"idx_pg_leisure_Geometry\")\n"
       ]
      },
      {
       "output_type": "stream",
       "stream": "stdout",
       "text": [
        "2012-07-10 18:03:08,210 INFO sqlalchemy.engine.base.Engine ()\n"
       ]
      },
      {
       "output_type": "stream",
       "stream": "stdout",
       "text": [
        "2012-07-10 18:03:08,214 INFO sqlalchemy.engine.base.Engine PRAGMA foreign_key_list(\"idx_pg_leisure_Geometry\")\n"
       ]
      },
      {
       "output_type": "stream",
       "stream": "stdout",
       "text": [
        "2012-07-10 18:03:08,214 INFO sqlalchemy.engine.base.Engine ()\n"
       ]
      },
      {
       "output_type": "stream",
       "stream": "stdout",
       "text": [
        "2012-07-10 18:03:08,216 INFO sqlalchemy.engine.base.Engine PRAGMA index_list(\"idx_pg_leisure_Geometry\")\n"
       ]
      },
      {
       "output_type": "stream",
       "stream": "stdout",
       "text": [
        "2012-07-10 18:03:08,216 INFO sqlalchemy.engine.base.Engine ()\n"
       ]
      },
      {
       "output_type": "stream",
       "stream": "stdout",
       "text": [
        "2012-07-10 18:03:08,219 INFO sqlalchemy.engine.base.Engine PRAGMA table_info(\"idx_pg_leisure_Geometry_node\")\n"
       ]
      },
      {
       "output_type": "stream",
       "stream": "stdout",
       "text": [
        "2012-07-10 18:03:08,219 INFO sqlalchemy.engine.base.Engine ()\n"
       ]
      },
      {
       "output_type": "stream",
       "stream": "stdout",
       "text": [
        "2012-07-10 18:03:08,222 INFO sqlalchemy.engine.base.Engine PRAGMA foreign_key_list(\"idx_pg_leisure_Geometry_node\")\n"
       ]
      },
      {
       "output_type": "stream",
       "stream": "stdout",
       "text": [
        "2012-07-10 18:03:08,223 INFO sqlalchemy.engine.base.Engine ()\n"
       ]
      },
      {
       "output_type": "stream",
       "stream": "stdout",
       "text": [
        "2012-07-10 18:03:08,223 INFO sqlalchemy.engine.base.Engine PRAGMA index_list(\"idx_pg_leisure_Geometry_node\")\n"
       ]
      },
      {
       "output_type": "stream",
       "stream": "stdout",
       "text": [
        "2012-07-10 18:03:08,224 INFO sqlalchemy.engine.base.Engine ()\n"
       ]
      },
      {
       "output_type": "stream",
       "stream": "stdout",
       "text": [
        "2012-07-10 18:03:08,226 INFO sqlalchemy.engine.base.Engine PRAGMA table_info(\"idx_pg_leisure_Geometry_parent\")\n"
       ]
      },
      {
       "output_type": "stream",
       "stream": "stdout",
       "text": [
        "2012-07-10 18:03:08,226 INFO sqlalchemy.engine.base.Engine ()\n"
       ]
      },
      {
       "output_type": "stream",
       "stream": "stdout",
       "text": [
        "2012-07-10 18:03:08,229 INFO sqlalchemy.engine.base.Engine PRAGMA foreign_key_list(\"idx_pg_leisure_Geometry_parent\")\n"
       ]
      },
      {
       "output_type": "stream",
       "stream": "stdout",
       "text": [
        "2012-07-10 18:03:08,230 INFO sqlalchemy.engine.base.Engine ()\n"
       ]
      },
      {
       "output_type": "stream",
       "stream": "stdout",
       "text": [
        "2012-07-10 18:03:08,230 INFO sqlalchemy.engine.base.Engine PRAGMA index_list(\"idx_pg_leisure_Geometry_parent\")\n"
       ]
      },
      {
       "output_type": "stream",
       "stream": "stdout",
       "text": [
        "2012-07-10 18:03:08,230 INFO sqlalchemy.engine.base.Engine ()\n"
       ]
      },
      {
       "output_type": "stream",
       "stream": "stdout",
       "text": [
        "2012-07-10 18:03:08,232 INFO sqlalchemy.engine.base.Engine PRAGMA table_info(\"idx_pg_leisure_Geometry_rowid\")\n"
       ]
      },
      {
       "output_type": "stream",
       "stream": "stdout",
       "text": [
        "2012-07-10 18:03:08,233 INFO sqlalchemy.engine.base.Engine ()\n"
       ]
      },
      {
       "output_type": "stream",
       "stream": "stdout",
       "text": [
        "2012-07-10 18:03:08,236 INFO sqlalchemy.engine.base.Engine PRAGMA foreign_key_list(\"idx_pg_leisure_Geometry_rowid\")\n"
       ]
      },
      {
       "output_type": "stream",
       "stream": "stdout",
       "text": [
        "2012-07-10 18:03:08,236 INFO sqlalchemy.engine.base.Engine ()\n"
       ]
      },
      {
       "output_type": "stream",
       "stream": "stdout",
       "text": [
        "2012-07-10 18:03:08,237 INFO sqlalchemy.engine.base.Engine PRAGMA index_list(\"idx_pg_leisure_Geometry_rowid\")\n"
       ]
      },
      {
       "output_type": "stream",
       "stream": "stdout",
       "text": [
        "2012-07-10 18:03:08,237 INFO sqlalchemy.engine.base.Engine ()\n"
       ]
      },
      {
       "output_type": "stream",
       "stream": "stdout",
       "text": [
        "2012-07-10 18:03:08,239 INFO sqlalchemy.engine.base.Engine PRAGMA table_info(\"idx_pg_shop_Geometry\")\n"
       ]
      },
      {
       "output_type": "stream",
       "stream": "stdout",
       "text": [
        "2012-07-10 18:03:08,240 INFO sqlalchemy.engine.base.Engine ()\n"
       ]
      },
      {
       "output_type": "stream",
       "stream": "stdout",
       "text": [
        "2012-07-10 18:03:08,243 INFO sqlalchemy.engine.base.Engine PRAGMA foreign_key_list(\"idx_pg_shop_Geometry\")\n"
       ]
      },
      {
       "output_type": "stream",
       "stream": "stdout",
       "text": [
        "2012-07-10 18:03:08,244 INFO sqlalchemy.engine.base.Engine ()\n"
       ]
      },
      {
       "output_type": "stream",
       "stream": "stdout",
       "text": [
        "2012-07-10 18:03:08,244 INFO sqlalchemy.engine.base.Engine PRAGMA index_list(\"idx_pg_shop_Geometry\")\n"
       ]
      },
      {
       "output_type": "stream",
       "stream": "stdout",
       "text": [
        "2012-07-10 18:03:08,244 INFO sqlalchemy.engine.base.Engine ()\n"
       ]
      },
      {
       "output_type": "stream",
       "stream": "stdout",
       "text": [
        "2012-07-10 18:03:08,246 INFO sqlalchemy.engine.base.Engine PRAGMA table_info(\"idx_pg_shop_Geometry_node\")\n"
       ]
      },
      {
       "output_type": "stream",
       "stream": "stdout",
       "text": [
        "2012-07-10 18:03:08,247 INFO sqlalchemy.engine.base.Engine ()\n"
       ]
      },
      {
       "output_type": "stream",
       "stream": "stdout",
       "text": [
        "2012-07-10 18:03:08,250 INFO sqlalchemy.engine.base.Engine PRAGMA foreign_key_list(\"idx_pg_shop_Geometry_node\")\n"
       ]
      },
      {
       "output_type": "stream",
       "stream": "stdout",
       "text": [
        "2012-07-10 18:03:08,250 INFO sqlalchemy.engine.base.Engine ()\n"
       ]
      },
      {
       "output_type": "stream",
       "stream": "stdout",
       "text": [
        "2012-07-10 18:03:08,251 INFO sqlalchemy.engine.base.Engine PRAGMA index_list(\"idx_pg_shop_Geometry_node\")\n"
       ]
      },
      {
       "output_type": "stream",
       "stream": "stdout",
       "text": [
        "2012-07-10 18:03:08,251 INFO sqlalchemy.engine.base.Engine ()\n"
       ]
      },
      {
       "output_type": "stream",
       "stream": "stdout",
       "text": [
        "2012-07-10 18:03:08,253 INFO sqlalchemy.engine.base.Engine PRAGMA table_info(\"idx_pg_shop_Geometry_parent\")\n"
       ]
      },
      {
       "output_type": "stream",
       "stream": "stdout",
       "text": [
        "2012-07-10 18:03:08,253 INFO sqlalchemy.engine.base.Engine ()\n"
       ]
      },
      {
       "output_type": "stream",
       "stream": "stdout",
       "text": [
        "2012-07-10 18:03:08,257 INFO sqlalchemy.engine.base.Engine PRAGMA foreign_key_list(\"idx_pg_shop_Geometry_parent\")\n"
       ]
      },
      {
       "output_type": "stream",
       "stream": "stdout",
       "text": [
        "2012-07-10 18:03:08,257 INFO sqlalchemy.engine.base.Engine ()\n"
       ]
      },
      {
       "output_type": "stream",
       "stream": "stdout",
       "text": [
        "2012-07-10 18:03:08,258 INFO sqlalchemy.engine.base.Engine PRAGMA index_list(\"idx_pg_shop_Geometry_parent\")\n"
       ]
      },
      {
       "output_type": "stream",
       "stream": "stdout",
       "text": [
        "2012-07-10 18:03:08,258 INFO sqlalchemy.engine.base.Engine ()\n"
       ]
      },
      {
       "output_type": "stream",
       "stream": "stdout",
       "text": [
        "2012-07-10 18:03:08,260 INFO sqlalchemy.engine.base.Engine PRAGMA table_info(\"idx_pg_shop_Geometry_rowid\")\n"
       ]
      },
      {
       "output_type": "stream",
       "stream": "stdout",
       "text": [
        "2012-07-10 18:03:08,260 INFO sqlalchemy.engine.base.Engine ()\n"
       ]
      },
      {
       "output_type": "stream",
       "stream": "stdout",
       "text": [
        "2012-07-10 18:03:08,264 INFO sqlalchemy.engine.base.Engine PRAGMA foreign_key_list(\"idx_pg_shop_Geometry_rowid\")\n"
       ]
      },
      {
       "output_type": "stream",
       "stream": "stdout",
       "text": [
        "2012-07-10 18:03:08,264 INFO sqlalchemy.engine.base.Engine ()\n"
       ]
      },
      {
       "output_type": "stream",
       "stream": "stdout",
       "text": [
        "2012-07-10 18:03:08,264 INFO sqlalchemy.engine.base.Engine PRAGMA index_list(\"idx_pg_shop_Geometry_rowid\")\n"
       ]
      },
      {
       "output_type": "stream",
       "stream": "stdout",
       "text": [
        "2012-07-10 18:03:08,265 INFO sqlalchemy.engine.base.Engine ()\n"
       ]
      },
      {
       "output_type": "stream",
       "stream": "stdout",
       "text": [
        "2012-07-10 18:03:08,266 INFO sqlalchemy.engine.base.Engine PRAGMA table_info(\"idx_pt_addresses_Geometry\")\n"
       ]
      },
      {
       "output_type": "stream",
       "stream": "stdout",
       "text": [
        "2012-07-10 18:03:08,267 INFO sqlalchemy.engine.base.Engine ()\n"
       ]
      },
      {
       "output_type": "stream",
       "stream": "stdout",
       "text": [
        "2012-07-10 18:03:08,270 INFO sqlalchemy.engine.base.Engine PRAGMA foreign_key_list(\"idx_pt_addresses_Geometry\")\n"
       ]
      },
      {
       "output_type": "stream",
       "stream": "stdout",
       "text": [
        "2012-07-10 18:03:08,271 INFO sqlalchemy.engine.base.Engine ()\n"
       ]
      },
      {
       "output_type": "stream",
       "stream": "stdout",
       "text": [
        "2012-07-10 18:03:08,271 INFO sqlalchemy.engine.base.Engine PRAGMA index_list(\"idx_pt_addresses_Geometry\")\n"
       ]
      },
      {
       "output_type": "stream",
       "stream": "stdout",
       "text": [
        "2012-07-10 18:03:08,272 INFO sqlalchemy.engine.base.Engine ()\n"
       ]
      },
      {
       "output_type": "stream",
       "stream": "stdout",
       "text": [
        "2012-07-10 18:03:08,274 INFO sqlalchemy.engine.base.Engine PRAGMA table_info(\"idx_pt_addresses_Geometry_node\")\n"
       ]
      },
      {
       "output_type": "stream",
       "stream": "stdout",
       "text": [
        "2012-07-10 18:03:08,274 INFO sqlalchemy.engine.base.Engine ()\n"
       ]
      },
      {
       "output_type": "stream",
       "stream": "stdout",
       "text": [
        "2012-07-10 18:03:08,277 INFO sqlalchemy.engine.base.Engine PRAGMA foreign_key_list(\"idx_pt_addresses_Geometry_node\")\n"
       ]
      },
      {
       "output_type": "stream",
       "stream": "stdout",
       "text": [
        "2012-07-10 18:03:08,278 INFO sqlalchemy.engine.base.Engine ()\n"
       ]
      },
      {
       "output_type": "stream",
       "stream": "stdout",
       "text": [
        "2012-07-10 18:03:08,278 INFO sqlalchemy.engine.base.Engine PRAGMA index_list(\"idx_pt_addresses_Geometry_node\")\n"
       ]
      },
      {
       "output_type": "stream",
       "stream": "stdout",
       "text": [
        "2012-07-10 18:03:08,279 INFO sqlalchemy.engine.base.Engine ()\n"
       ]
      },
      {
       "output_type": "stream",
       "stream": "stdout",
       "text": [
        "2012-07-10 18:03:08,280 INFO sqlalchemy.engine.base.Engine PRAGMA table_info(\"idx_pt_addresses_Geometry_parent\")\n"
       ]
      },
      {
       "output_type": "stream",
       "stream": "stdout",
       "text": [
        "2012-07-10 18:03:08,281 INFO sqlalchemy.engine.base.Engine ()\n"
       ]
      },
      {
       "output_type": "stream",
       "stream": "stdout",
       "text": [
        "2012-07-10 18:03:08,284 INFO sqlalchemy.engine.base.Engine PRAGMA foreign_key_list(\"idx_pt_addresses_Geometry_parent\")\n"
       ]
      },
      {
       "output_type": "stream",
       "stream": "stdout",
       "text": [
        "2012-07-10 18:03:08,284 INFO sqlalchemy.engine.base.Engine ()\n"
       ]
      },
      {
       "output_type": "stream",
       "stream": "stdout",
       "text": [
        "2012-07-10 18:03:08,285 INFO sqlalchemy.engine.base.Engine PRAGMA index_list(\"idx_pt_addresses_Geometry_parent\")\n"
       ]
      },
      {
       "output_type": "stream",
       "stream": "stdout",
       "text": [
        "2012-07-10 18:03:08,285 INFO sqlalchemy.engine.base.Engine ()\n"
       ]
      },
      {
       "output_type": "stream",
       "stream": "stdout",
       "text": [
        "2012-07-10 18:03:08,287 INFO sqlalchemy.engine.base.Engine PRAGMA table_info(\"idx_pt_addresses_Geometry_rowid\")\n"
       ]
      },
      {
       "output_type": "stream",
       "stream": "stdout",
       "text": [
        "2012-07-10 18:03:08,287 INFO sqlalchemy.engine.base.Engine ()\n"
       ]
      },
      {
       "output_type": "stream",
       "stream": "stdout",
       "text": [
        "2012-07-10 18:03:08,291 INFO sqlalchemy.engine.base.Engine PRAGMA foreign_key_list(\"idx_pt_addresses_Geometry_rowid\")\n"
       ]
      },
      {
       "output_type": "stream",
       "stream": "stdout",
       "text": [
        "2012-07-10 18:03:08,291 INFO sqlalchemy.engine.base.Engine ()\n"
       ]
      },
      {
       "output_type": "stream",
       "stream": "stdout",
       "text": [
        "2012-07-10 18:03:08,292 INFO sqlalchemy.engine.base.Engine PRAGMA index_list(\"idx_pt_addresses_Geometry_rowid\")\n"
       ]
      },
      {
       "output_type": "stream",
       "stream": "stdout",
       "text": [
        "2012-07-10 18:03:08,292 INFO sqlalchemy.engine.base.Engine ()\n"
       ]
      },
      {
       "output_type": "stream",
       "stream": "stdout",
       "text": [
        "2012-07-10 18:03:08,294 INFO sqlalchemy.engine.base.Engine PRAGMA table_info(\"idx_pt_amenity_Geometry\")\n"
       ]
      },
      {
       "output_type": "stream",
       "stream": "stdout",
       "text": [
        "2012-07-10 18:03:08,294 INFO sqlalchemy.engine.base.Engine ()\n"
       ]
      },
      {
       "output_type": "stream",
       "stream": "stdout",
       "text": [
        "2012-07-10 18:03:08,298 INFO sqlalchemy.engine.base.Engine PRAGMA foreign_key_list(\"idx_pt_amenity_Geometry\")\n"
       ]
      },
      {
       "output_type": "stream",
       "stream": "stdout",
       "text": [
        "2012-07-10 18:03:08,298 INFO sqlalchemy.engine.base.Engine ()\n"
       ]
      },
      {
       "output_type": "stream",
       "stream": "stdout",
       "text": [
        "2012-07-10 18:03:08,299 INFO sqlalchemy.engine.base.Engine PRAGMA index_list(\"idx_pt_amenity_Geometry\")\n"
       ]
      },
      {
       "output_type": "stream",
       "stream": "stdout",
       "text": [
        "2012-07-10 18:03:08,299 INFO sqlalchemy.engine.base.Engine ()\n"
       ]
      },
      {
       "output_type": "stream",
       "stream": "stdout",
       "text": [
        "2012-07-10 18:03:08,301 INFO sqlalchemy.engine.base.Engine PRAGMA table_info(\"idx_pt_amenity_Geometry_node\")\n"
       ]
      },
      {
       "output_type": "stream",
       "stream": "stdout",
       "text": [
        "2012-07-10 18:03:08,301 INFO sqlalchemy.engine.base.Engine ()\n"
       ]
      },
      {
       "output_type": "stream",
       "stream": "stdout",
       "text": [
        "2012-07-10 18:03:08,305 INFO sqlalchemy.engine.base.Engine PRAGMA foreign_key_list(\"idx_pt_amenity_Geometry_node\")\n"
       ]
      },
      {
       "output_type": "stream",
       "stream": "stdout",
       "text": [
        "2012-07-10 18:03:08,305 INFO sqlalchemy.engine.base.Engine ()\n"
       ]
      },
      {
       "output_type": "stream",
       "stream": "stdout",
       "text": [
        "2012-07-10 18:03:08,305 INFO sqlalchemy.engine.base.Engine PRAGMA index_list(\"idx_pt_amenity_Geometry_node\")\n"
       ]
      },
      {
       "output_type": "stream",
       "stream": "stdout",
       "text": [
        "2012-07-10 18:03:08,306 INFO sqlalchemy.engine.base.Engine ()\n"
       ]
      },
      {
       "output_type": "stream",
       "stream": "stdout",
       "text": [
        "2012-07-10 18:03:08,308 INFO sqlalchemy.engine.base.Engine PRAGMA table_info(\"idx_pt_amenity_Geometry_parent\")\n"
       ]
      },
      {
       "output_type": "stream",
       "stream": "stdout",
       "text": [
        "2012-07-10 18:03:08,308 INFO sqlalchemy.engine.base.Engine ()\n"
       ]
      },
      {
       "output_type": "stream",
       "stream": "stdout",
       "text": [
        "2012-07-10 18:03:08,312 INFO sqlalchemy.engine.base.Engine PRAGMA foreign_key_list(\"idx_pt_amenity_Geometry_parent\")\n"
       ]
      },
      {
       "output_type": "stream",
       "stream": "stdout",
       "text": [
        "2012-07-10 18:03:08,312 INFO sqlalchemy.engine.base.Engine ()\n"
       ]
      },
      {
       "output_type": "stream",
       "stream": "stdout",
       "text": [
        "2012-07-10 18:03:08,312 INFO sqlalchemy.engine.base.Engine PRAGMA index_list(\"idx_pt_amenity_Geometry_parent\")\n"
       ]
      },
      {
       "output_type": "stream",
       "stream": "stdout",
       "text": [
        "2012-07-10 18:03:08,313 INFO sqlalchemy.engine.base.Engine ()\n"
       ]
      },
      {
       "output_type": "stream",
       "stream": "stdout",
       "text": [
        "2012-07-10 18:03:08,316 INFO sqlalchemy.engine.base.Engine PRAGMA table_info(\"idx_pt_amenity_Geometry_rowid\")\n"
       ]
      },
      {
       "output_type": "stream",
       "stream": "stdout",
       "text": [
        "2012-07-10 18:03:08,316 INFO sqlalchemy.engine.base.Engine ()\n"
       ]
      },
      {
       "output_type": "stream",
       "stream": "stdout",
       "text": [
        "2012-07-10 18:03:08,320 INFO sqlalchemy.engine.base.Engine PRAGMA foreign_key_list(\"idx_pt_amenity_Geometry_rowid\")\n"
       ]
      },
      {
       "output_type": "stream",
       "stream": "stdout",
       "text": [
        "2012-07-10 18:03:08,320 INFO sqlalchemy.engine.base.Engine ()\n"
       ]
      },
      {
       "output_type": "stream",
       "stream": "stdout",
       "text": [
        "2012-07-10 18:03:08,320 INFO sqlalchemy.engine.base.Engine PRAGMA index_list(\"idx_pt_amenity_Geometry_rowid\")\n"
       ]
      },
      {
       "output_type": "stream",
       "stream": "stdout",
       "text": [
        "2012-07-10 18:03:08,321 INFO sqlalchemy.engine.base.Engine ()\n"
       ]
      },
      {
       "output_type": "stream",
       "stream": "stdout",
       "text": [
        "2012-07-10 18:03:08,323 INFO sqlalchemy.engine.base.Engine PRAGMA table_info(\"idx_pt_barrier_Geometry\")\n"
       ]
      },
      {
       "output_type": "stream",
       "stream": "stdout",
       "text": [
        "2012-07-10 18:03:08,323 INFO sqlalchemy.engine.base.Engine ()\n"
       ]
      },
      {
       "output_type": "stream",
       "stream": "stdout",
       "text": [
        "2012-07-10 18:03:08,327 INFO sqlalchemy.engine.base.Engine PRAGMA foreign_key_list(\"idx_pt_barrier_Geometry\")\n"
       ]
      },
      {
       "output_type": "stream",
       "stream": "stdout",
       "text": [
        "2012-07-10 18:03:08,327 INFO sqlalchemy.engine.base.Engine ()\n"
       ]
      },
      {
       "output_type": "stream",
       "stream": "stdout",
       "text": [
        "2012-07-10 18:03:08,328 INFO sqlalchemy.engine.base.Engine PRAGMA index_list(\"idx_pt_barrier_Geometry\")\n"
       ]
      },
      {
       "output_type": "stream",
       "stream": "stdout",
       "text": [
        "2012-07-10 18:03:08,328 INFO sqlalchemy.engine.base.Engine ()\n"
       ]
      },
      {
       "output_type": "stream",
       "stream": "stdout",
       "text": [
        "2012-07-10 18:03:08,330 INFO sqlalchemy.engine.base.Engine PRAGMA table_info(\"idx_pt_barrier_Geometry_node\")\n"
       ]
      },
      {
       "output_type": "stream",
       "stream": "stdout",
       "text": [
        "2012-07-10 18:03:08,330 INFO sqlalchemy.engine.base.Engine ()\n"
       ]
      },
      {
       "output_type": "stream",
       "stream": "stdout",
       "text": [
        "2012-07-10 18:03:08,334 INFO sqlalchemy.engine.base.Engine PRAGMA foreign_key_list(\"idx_pt_barrier_Geometry_node\")\n"
       ]
      },
      {
       "output_type": "stream",
       "stream": "stdout",
       "text": [
        "2012-07-10 18:03:08,334 INFO sqlalchemy.engine.base.Engine ()\n"
       ]
      },
      {
       "output_type": "stream",
       "stream": "stdout",
       "text": [
        "2012-07-10 18:03:08,334 INFO sqlalchemy.engine.base.Engine PRAGMA index_list(\"idx_pt_barrier_Geometry_node\")\n"
       ]
      },
      {
       "output_type": "stream",
       "stream": "stdout",
       "text": [
        "2012-07-10 18:03:08,335 INFO sqlalchemy.engine.base.Engine ()\n"
       ]
      },
      {
       "output_type": "stream",
       "stream": "stdout",
       "text": [
        "2012-07-10 18:03:08,336 INFO sqlalchemy.engine.base.Engine PRAGMA table_info(\"idx_pt_barrier_Geometry_parent\")\n"
       ]
      },
      {
       "output_type": "stream",
       "stream": "stdout",
       "text": [
        "2012-07-10 18:03:08,337 INFO sqlalchemy.engine.base.Engine ()\n"
       ]
      },
      {
       "output_type": "stream",
       "stream": "stdout",
       "text": [
        "2012-07-10 18:03:08,340 INFO sqlalchemy.engine.base.Engine PRAGMA foreign_key_list(\"idx_pt_barrier_Geometry_parent\")\n"
       ]
      },
      {
       "output_type": "stream",
       "stream": "stdout",
       "text": [
        "2012-07-10 18:03:08,340 INFO sqlalchemy.engine.base.Engine ()\n"
       ]
      },
      {
       "output_type": "stream",
       "stream": "stdout",
       "text": [
        "2012-07-10 18:03:08,341 INFO sqlalchemy.engine.base.Engine PRAGMA index_list(\"idx_pt_barrier_Geometry_parent\")\n"
       ]
      },
      {
       "output_type": "stream",
       "stream": "stdout",
       "text": [
        "2012-07-10 18:03:08,341 INFO sqlalchemy.engine.base.Engine ()\n"
       ]
      },
      {
       "output_type": "stream",
       "stream": "stdout",
       "text": [
        "2012-07-10 18:03:08,343 INFO sqlalchemy.engine.base.Engine PRAGMA table_info(\"idx_pt_barrier_Geometry_rowid\")\n"
       ]
      },
      {
       "output_type": "stream",
       "stream": "stdout",
       "text": [
        "2012-07-10 18:03:08,344 INFO sqlalchemy.engine.base.Engine ()\n"
       ]
      },
      {
       "output_type": "stream",
       "stream": "stdout",
       "text": [
        "2012-07-10 18:03:08,347 INFO sqlalchemy.engine.base.Engine PRAGMA foreign_key_list(\"idx_pt_barrier_Geometry_rowid\")\n"
       ]
      },
      {
       "output_type": "stream",
       "stream": "stdout",
       "text": [
        "2012-07-10 18:03:08,348 INFO sqlalchemy.engine.base.Engine ()\n"
       ]
      },
      {
       "output_type": "stream",
       "stream": "stdout",
       "text": [
        "2012-07-10 18:03:08,348 INFO sqlalchemy.engine.base.Engine PRAGMA index_list(\"idx_pt_barrier_Geometry_rowid\")\n"
       ]
      },
      {
       "output_type": "stream",
       "stream": "stdout",
       "text": [
        "2012-07-10 18:03:08,349 INFO sqlalchemy.engine.base.Engine ()\n"
       ]
      },
      {
       "output_type": "stream",
       "stream": "stdout",
       "text": [
        "2012-07-10 18:03:08,351 INFO sqlalchemy.engine.base.Engine PRAGMA table_info(\"idx_pt_building_Geometry\")\n"
       ]
      },
      {
       "output_type": "stream",
       "stream": "stdout",
       "text": [
        "2012-07-10 18:03:08,351 INFO sqlalchemy.engine.base.Engine ()\n"
       ]
      },
      {
       "output_type": "stream",
       "stream": "stdout",
       "text": [
        "2012-07-10 18:03:08,356 INFO sqlalchemy.engine.base.Engine PRAGMA foreign_key_list(\"idx_pt_building_Geometry\")\n"
       ]
      },
      {
       "output_type": "stream",
       "stream": "stdout",
       "text": [
        "2012-07-10 18:03:08,356 INFO sqlalchemy.engine.base.Engine ()\n"
       ]
      },
      {
       "output_type": "stream",
       "stream": "stdout",
       "text": [
        "2012-07-10 18:03:08,357 INFO sqlalchemy.engine.base.Engine PRAGMA index_list(\"idx_pt_building_Geometry\")\n"
       ]
      },
      {
       "output_type": "stream",
       "stream": "stdout",
       "text": [
        "2012-07-10 18:03:08,357 INFO sqlalchemy.engine.base.Engine ()\n"
       ]
      },
      {
       "output_type": "stream",
       "stream": "stdout",
       "text": [
        "2012-07-10 18:03:08,359 INFO sqlalchemy.engine.base.Engine PRAGMA table_info(\"idx_pt_building_Geometry_node\")\n"
       ]
      },
      {
       "output_type": "stream",
       "stream": "stdout",
       "text": [
        "2012-07-10 18:03:08,359 INFO sqlalchemy.engine.base.Engine ()\n"
       ]
      },
      {
       "output_type": "stream",
       "stream": "stdout",
       "text": [
        "2012-07-10 18:03:08,365 INFO sqlalchemy.engine.base.Engine PRAGMA foreign_key_list(\"idx_pt_building_Geometry_node\")\n"
       ]
      },
      {
       "output_type": "stream",
       "stream": "stdout",
       "text": [
        "2012-07-10 18:03:08,365 INFO sqlalchemy.engine.base.Engine ()\n"
       ]
      },
      {
       "output_type": "stream",
       "stream": "stdout",
       "text": [
        "2012-07-10 18:03:08,366 INFO sqlalchemy.engine.base.Engine PRAGMA index_list(\"idx_pt_building_Geometry_node\")\n"
       ]
      },
      {
       "output_type": "stream",
       "stream": "stdout",
       "text": [
        "2012-07-10 18:03:08,366 INFO sqlalchemy.engine.base.Engine ()\n"
       ]
      },
      {
       "output_type": "stream",
       "stream": "stdout",
       "text": [
        "2012-07-10 18:03:08,368 INFO sqlalchemy.engine.base.Engine PRAGMA table_info(\"idx_pt_building_Geometry_parent\")\n"
       ]
      },
      {
       "output_type": "stream",
       "stream": "stdout",
       "text": [
        "2012-07-10 18:03:08,368 INFO sqlalchemy.engine.base.Engine ()\n"
       ]
      },
      {
       "output_type": "stream",
       "stream": "stdout",
       "text": [
        "2012-07-10 18:03:08,372 INFO sqlalchemy.engine.base.Engine PRAGMA foreign_key_list(\"idx_pt_building_Geometry_parent\")\n"
       ]
      },
      {
       "output_type": "stream",
       "stream": "stdout",
       "text": [
        "2012-07-10 18:03:08,372 INFO sqlalchemy.engine.base.Engine ()\n"
       ]
      },
      {
       "output_type": "stream",
       "stream": "stdout",
       "text": [
        "2012-07-10 18:03:08,373 INFO sqlalchemy.engine.base.Engine PRAGMA index_list(\"idx_pt_building_Geometry_parent\")\n"
       ]
      },
      {
       "output_type": "stream",
       "stream": "stdout",
       "text": [
        "2012-07-10 18:03:08,373 INFO sqlalchemy.engine.base.Engine ()\n"
       ]
      },
      {
       "output_type": "stream",
       "stream": "stdout",
       "text": [
        "2012-07-10 18:03:08,375 INFO sqlalchemy.engine.base.Engine PRAGMA table_info(\"idx_pt_building_Geometry_rowid\")\n"
       ]
      },
      {
       "output_type": "stream",
       "stream": "stdout",
       "text": [
        "2012-07-10 18:03:08,375 INFO sqlalchemy.engine.base.Engine ()\n"
       ]
      },
      {
       "output_type": "stream",
       "stream": "stdout",
       "text": [
        "2012-07-10 18:03:08,379 INFO sqlalchemy.engine.base.Engine PRAGMA foreign_key_list(\"idx_pt_building_Geometry_rowid\")\n"
       ]
      },
      {
       "output_type": "stream",
       "stream": "stdout",
       "text": [
        "2012-07-10 18:03:08,379 INFO sqlalchemy.engine.base.Engine ()\n"
       ]
      },
      {
       "output_type": "stream",
       "stream": "stdout",
       "text": [
        "2012-07-10 18:03:08,379 INFO sqlalchemy.engine.base.Engine PRAGMA index_list(\"idx_pt_building_Geometry_rowid\")\n"
       ]
      },
      {
       "output_type": "stream",
       "stream": "stdout",
       "text": [
        "2012-07-10 18:03:08,380 INFO sqlalchemy.engine.base.Engine ()\n"
       ]
      },
      {
       "output_type": "stream",
       "stream": "stdout",
       "text": [
        "2012-07-10 18:03:08,382 INFO sqlalchemy.engine.base.Engine PRAGMA table_info(\"idx_pt_generic_Geometry\")\n"
       ]
      },
      {
       "output_type": "stream",
       "stream": "stdout",
       "text": [
        "2012-07-10 18:03:08,382 INFO sqlalchemy.engine.base.Engine ()\n"
       ]
      },
      {
       "output_type": "stream",
       "stream": "stdout",
       "text": [
        "2012-07-10 18:03:08,386 INFO sqlalchemy.engine.base.Engine PRAGMA foreign_key_list(\"idx_pt_generic_Geometry\")\n"
       ]
      },
      {
       "output_type": "stream",
       "stream": "stdout",
       "text": [
        "2012-07-10 18:03:08,386 INFO sqlalchemy.engine.base.Engine ()\n"
       ]
      },
      {
       "output_type": "stream",
       "stream": "stdout",
       "text": [
        "2012-07-10 18:03:08,387 INFO sqlalchemy.engine.base.Engine PRAGMA index_list(\"idx_pt_generic_Geometry\")\n"
       ]
      },
      {
       "output_type": "stream",
       "stream": "stdout",
       "text": [
        "2012-07-10 18:03:08,387 INFO sqlalchemy.engine.base.Engine ()\n"
       ]
      },
      {
       "output_type": "stream",
       "stream": "stdout",
       "text": [
        "2012-07-10 18:03:08,389 INFO sqlalchemy.engine.base.Engine PRAGMA table_info(\"idx_pt_generic_Geometry_node\")\n"
       ]
      },
      {
       "output_type": "stream",
       "stream": "stdout",
       "text": [
        "2012-07-10 18:03:08,389 INFO sqlalchemy.engine.base.Engine ()\n"
       ]
      },
      {
       "output_type": "stream",
       "stream": "stdout",
       "text": [
        "2012-07-10 18:03:08,393 INFO sqlalchemy.engine.base.Engine PRAGMA foreign_key_list(\"idx_pt_generic_Geometry_node\")\n"
       ]
      },
      {
       "output_type": "stream",
       "stream": "stdout",
       "text": [
        "2012-07-10 18:03:08,393 INFO sqlalchemy.engine.base.Engine ()\n"
       ]
      },
      {
       "output_type": "stream",
       "stream": "stdout",
       "text": [
        "2012-07-10 18:03:08,393 INFO sqlalchemy.engine.base.Engine PRAGMA index_list(\"idx_pt_generic_Geometry_node\")\n"
       ]
      },
      {
       "output_type": "stream",
       "stream": "stdout",
       "text": [
        "2012-07-10 18:03:08,394 INFO sqlalchemy.engine.base.Engine ()\n"
       ]
      },
      {
       "output_type": "stream",
       "stream": "stdout",
       "text": [
        "2012-07-10 18:03:08,396 INFO sqlalchemy.engine.base.Engine PRAGMA table_info(\"idx_pt_generic_Geometry_parent\")\n"
       ]
      },
      {
       "output_type": "stream",
       "stream": "stdout",
       "text": [
        "2012-07-10 18:03:08,396 INFO sqlalchemy.engine.base.Engine ()\n"
       ]
      },
      {
       "output_type": "stream",
       "stream": "stdout",
       "text": [
        "2012-07-10 18:03:08,399 INFO sqlalchemy.engine.base.Engine PRAGMA foreign_key_list(\"idx_pt_generic_Geometry_parent\")\n"
       ]
      },
      {
       "output_type": "stream",
       "stream": "stdout",
       "text": [
        "2012-07-10 18:03:08,400 INFO sqlalchemy.engine.base.Engine ()\n"
       ]
      },
      {
       "output_type": "stream",
       "stream": "stdout",
       "text": [
        "2012-07-10 18:03:08,400 INFO sqlalchemy.engine.base.Engine PRAGMA index_list(\"idx_pt_generic_Geometry_parent\")\n"
       ]
      },
      {
       "output_type": "stream",
       "stream": "stdout",
       "text": [
        "2012-07-10 18:03:08,401 INFO sqlalchemy.engine.base.Engine ()\n"
       ]
      },
      {
       "output_type": "stream",
       "stream": "stdout",
       "text": [
        "2012-07-10 18:03:08,403 INFO sqlalchemy.engine.base.Engine PRAGMA table_info(\"idx_pt_generic_Geometry_rowid\")\n"
       ]
      },
      {
       "output_type": "stream",
       "stream": "stdout",
       "text": [
        "2012-07-10 18:03:08,403 INFO sqlalchemy.engine.base.Engine ()\n"
       ]
      },
      {
       "output_type": "stream",
       "stream": "stdout",
       "text": [
        "2012-07-10 18:03:08,406 INFO sqlalchemy.engine.base.Engine PRAGMA foreign_key_list(\"idx_pt_generic_Geometry_rowid\")\n"
       ]
      },
      {
       "output_type": "stream",
       "stream": "stdout",
       "text": [
        "2012-07-10 18:03:08,407 INFO sqlalchemy.engine.base.Engine ()\n"
       ]
      },
      {
       "output_type": "stream",
       "stream": "stdout",
       "text": [
        "2012-07-10 18:03:08,407 INFO sqlalchemy.engine.base.Engine PRAGMA index_list(\"idx_pt_generic_Geometry_rowid\")\n"
       ]
      },
      {
       "output_type": "stream",
       "stream": "stdout",
       "text": [
        "2012-07-10 18:03:08,408 INFO sqlalchemy.engine.base.Engine ()\n"
       ]
      },
      {
       "output_type": "stream",
       "stream": "stdout",
       "text": [
        "2012-07-10 18:03:08,410 INFO sqlalchemy.engine.base.Engine PRAGMA table_info(\"idx_pt_highway_Geometry\")\n"
       ]
      },
      {
       "output_type": "stream",
       "stream": "stdout",
       "text": [
        "2012-07-10 18:03:08,410 INFO sqlalchemy.engine.base.Engine ()\n"
       ]
      },
      {
       "output_type": "stream",
       "stream": "stdout",
       "text": [
        "2012-07-10 18:03:08,414 INFO sqlalchemy.engine.base.Engine PRAGMA foreign_key_list(\"idx_pt_highway_Geometry\")\n"
       ]
      },
      {
       "output_type": "stream",
       "stream": "stdout",
       "text": [
        "2012-07-10 18:03:08,415 INFO sqlalchemy.engine.base.Engine ()\n"
       ]
      },
      {
       "output_type": "stream",
       "stream": "stdout",
       "text": [
        "2012-07-10 18:03:08,415 INFO sqlalchemy.engine.base.Engine PRAGMA index_list(\"idx_pt_highway_Geometry\")\n"
       ]
      },
      {
       "output_type": "stream",
       "stream": "stdout",
       "text": [
        "2012-07-10 18:03:08,415 INFO sqlalchemy.engine.base.Engine ()\n"
       ]
      },
      {
       "output_type": "stream",
       "stream": "stdout",
       "text": [
        "2012-07-10 18:03:08,418 INFO sqlalchemy.engine.base.Engine PRAGMA table_info(\"idx_pt_highway_Geometry_node\")\n"
       ]
      },
      {
       "output_type": "stream",
       "stream": "stdout",
       "text": [
        "2012-07-10 18:03:08,418 INFO sqlalchemy.engine.base.Engine ()\n"
       ]
      },
      {
       "output_type": "stream",
       "stream": "stdout",
       "text": [
        "2012-07-10 18:03:08,421 INFO sqlalchemy.engine.base.Engine PRAGMA foreign_key_list(\"idx_pt_highway_Geometry_node\")\n"
       ]
      },
      {
       "output_type": "stream",
       "stream": "stdout",
       "text": [
        "2012-07-10 18:03:08,422 INFO sqlalchemy.engine.base.Engine ()\n"
       ]
      },
      {
       "output_type": "stream",
       "stream": "stdout",
       "text": [
        "2012-07-10 18:03:08,422 INFO sqlalchemy.engine.base.Engine PRAGMA index_list(\"idx_pt_highway_Geometry_node\")\n"
       ]
      },
      {
       "output_type": "stream",
       "stream": "stdout",
       "text": [
        "2012-07-10 18:03:08,423 INFO sqlalchemy.engine.base.Engine ()\n"
       ]
      },
      {
       "output_type": "stream",
       "stream": "stdout",
       "text": [
        "2012-07-10 18:03:08,425 INFO sqlalchemy.engine.base.Engine PRAGMA table_info(\"idx_pt_highway_Geometry_parent\")\n"
       ]
      },
      {
       "output_type": "stream",
       "stream": "stdout",
       "text": [
        "2012-07-10 18:03:08,425 INFO sqlalchemy.engine.base.Engine ()\n"
       ]
      },
      {
       "output_type": "stream",
       "stream": "stdout",
       "text": [
        "2012-07-10 18:03:08,429 INFO sqlalchemy.engine.base.Engine PRAGMA foreign_key_list(\"idx_pt_highway_Geometry_parent\")\n"
       ]
      },
      {
       "output_type": "stream",
       "stream": "stdout",
       "text": [
        "2012-07-10 18:03:08,429 INFO sqlalchemy.engine.base.Engine ()\n"
       ]
      },
      {
       "output_type": "stream",
       "stream": "stdout",
       "text": [
        "2012-07-10 18:03:08,429 INFO sqlalchemy.engine.base.Engine PRAGMA index_list(\"idx_pt_highway_Geometry_parent\")\n"
       ]
      },
      {
       "output_type": "stream",
       "stream": "stdout",
       "text": [
        "2012-07-10 18:03:08,430 INFO sqlalchemy.engine.base.Engine ()\n"
       ]
      },
      {
       "output_type": "stream",
       "stream": "stdout",
       "text": [
        "2012-07-10 18:03:08,432 INFO sqlalchemy.engine.base.Engine PRAGMA table_info(\"idx_pt_highway_Geometry_rowid\")\n"
       ]
      },
      {
       "output_type": "stream",
       "stream": "stdout",
       "text": [
        "2012-07-10 18:03:08,432 INFO sqlalchemy.engine.base.Engine ()\n"
       ]
      },
      {
       "output_type": "stream",
       "stream": "stdout",
       "text": [
        "2012-07-10 18:03:08,436 INFO sqlalchemy.engine.base.Engine PRAGMA foreign_key_list(\"idx_pt_highway_Geometry_rowid\")\n"
       ]
      },
      {
       "output_type": "stream",
       "stream": "stdout",
       "text": [
        "2012-07-10 18:03:08,436 INFO sqlalchemy.engine.base.Engine ()\n"
       ]
      },
      {
       "output_type": "stream",
       "stream": "stdout",
       "text": [
        "2012-07-10 18:03:08,437 INFO sqlalchemy.engine.base.Engine PRAGMA index_list(\"idx_pt_highway_Geometry_rowid\")\n"
       ]
      },
      {
       "output_type": "stream",
       "stream": "stdout",
       "text": [
        "2012-07-10 18:03:08,437 INFO sqlalchemy.engine.base.Engine ()\n"
       ]
      },
      {
       "output_type": "stream",
       "stream": "stdout",
       "text": [
        "2012-07-10 18:03:08,439 INFO sqlalchemy.engine.base.Engine PRAGMA table_info(\"idx_pt_landuse_Geometry\")\n"
       ]
      },
      {
       "output_type": "stream",
       "stream": "stdout",
       "text": [
        "2012-07-10 18:03:08,440 INFO sqlalchemy.engine.base.Engine ()\n"
       ]
      },
      {
       "output_type": "stream",
       "stream": "stdout",
       "text": [
        "2012-07-10 18:03:08,443 INFO sqlalchemy.engine.base.Engine PRAGMA foreign_key_list(\"idx_pt_landuse_Geometry\")\n"
       ]
      },
      {
       "output_type": "stream",
       "stream": "stdout",
       "text": [
        "2012-07-10 18:03:08,444 INFO sqlalchemy.engine.base.Engine ()\n"
       ]
      },
      {
       "output_type": "stream",
       "stream": "stdout",
       "text": [
        "2012-07-10 18:03:08,444 INFO sqlalchemy.engine.base.Engine PRAGMA index_list(\"idx_pt_landuse_Geometry\")\n"
       ]
      },
      {
       "output_type": "stream",
       "stream": "stdout",
       "text": [
        "2012-07-10 18:03:08,445 INFO sqlalchemy.engine.base.Engine ()\n"
       ]
      },
      {
       "output_type": "stream",
       "stream": "stdout",
       "text": [
        "2012-07-10 18:03:08,447 INFO sqlalchemy.engine.base.Engine PRAGMA table_info(\"idx_pt_landuse_Geometry_node\")\n"
       ]
      },
      {
       "output_type": "stream",
       "stream": "stdout",
       "text": [
        "2012-07-10 18:03:08,447 INFO sqlalchemy.engine.base.Engine ()\n"
       ]
      },
      {
       "output_type": "stream",
       "stream": "stdout",
       "text": [
        "2012-07-10 18:03:08,451 INFO sqlalchemy.engine.base.Engine PRAGMA foreign_key_list(\"idx_pt_landuse_Geometry_node\")\n"
       ]
      },
      {
       "output_type": "stream",
       "stream": "stdout",
       "text": [
        "2012-07-10 18:03:08,451 INFO sqlalchemy.engine.base.Engine ()\n"
       ]
      },
      {
       "output_type": "stream",
       "stream": "stdout",
       "text": [
        "2012-07-10 18:03:08,452 INFO sqlalchemy.engine.base.Engine PRAGMA index_list(\"idx_pt_landuse_Geometry_node\")\n"
       ]
      },
      {
       "output_type": "stream",
       "stream": "stdout",
       "text": [
        "2012-07-10 18:03:08,452 INFO sqlalchemy.engine.base.Engine ()\n"
       ]
      },
      {
       "output_type": "stream",
       "stream": "stdout",
       "text": [
        "2012-07-10 18:03:08,454 INFO sqlalchemy.engine.base.Engine PRAGMA table_info(\"idx_pt_landuse_Geometry_parent\")\n"
       ]
      },
      {
       "output_type": "stream",
       "stream": "stdout",
       "text": [
        "2012-07-10 18:03:08,455 INFO sqlalchemy.engine.base.Engine ()\n"
       ]
      },
      {
       "output_type": "stream",
       "stream": "stdout",
       "text": [
        "2012-07-10 18:03:08,458 INFO sqlalchemy.engine.base.Engine PRAGMA foreign_key_list(\"idx_pt_landuse_Geometry_parent\")\n"
       ]
      },
      {
       "output_type": "stream",
       "stream": "stdout",
       "text": [
        "2012-07-10 18:03:08,459 INFO sqlalchemy.engine.base.Engine ()\n"
       ]
      },
      {
       "output_type": "stream",
       "stream": "stdout",
       "text": [
        "2012-07-10 18:03:08,459 INFO sqlalchemy.engine.base.Engine PRAGMA index_list(\"idx_pt_landuse_Geometry_parent\")\n"
       ]
      },
      {
       "output_type": "stream",
       "stream": "stdout",
       "text": [
        "2012-07-10 18:03:08,459 INFO sqlalchemy.engine.base.Engine ()\n"
       ]
      },
      {
       "output_type": "stream",
       "stream": "stdout",
       "text": [
        "2012-07-10 18:03:08,461 INFO sqlalchemy.engine.base.Engine PRAGMA table_info(\"idx_pt_landuse_Geometry_rowid\")\n"
       ]
      },
      {
       "output_type": "stream",
       "stream": "stdout",
       "text": [
        "2012-07-10 18:03:08,462 INFO sqlalchemy.engine.base.Engine ()\n"
       ]
      },
      {
       "output_type": "stream",
       "stream": "stdout",
       "text": [
        "2012-07-10 18:03:08,465 INFO sqlalchemy.engine.base.Engine PRAGMA foreign_key_list(\"idx_pt_landuse_Geometry_rowid\")\n"
       ]
      },
      {
       "output_type": "stream",
       "stream": "stdout",
       "text": [
        "2012-07-10 18:03:08,466 INFO sqlalchemy.engine.base.Engine ()\n"
       ]
      },
      {
       "output_type": "stream",
       "stream": "stdout",
       "text": [
        "2012-07-10 18:03:08,466 INFO sqlalchemy.engine.base.Engine PRAGMA index_list(\"idx_pt_landuse_Geometry_rowid\")\n"
       ]
      },
      {
       "output_type": "stream",
       "stream": "stdout",
       "text": [
        "2012-07-10 18:03:08,467 INFO sqlalchemy.engine.base.Engine ()\n"
       ]
      },
      {
       "output_type": "stream",
       "stream": "stdout",
       "text": [
        "2012-07-10 18:03:08,469 INFO sqlalchemy.engine.base.Engine PRAGMA table_info(\"idx_pt_man_made_Geometry\")\n"
       ]
      },
      {
       "output_type": "stream",
       "stream": "stdout",
       "text": [
        "2012-07-10 18:03:08,469 INFO sqlalchemy.engine.base.Engine ()\n"
       ]
      },
      {
       "output_type": "stream",
       "stream": "stdout",
       "text": [
        "2012-07-10 18:03:08,473 INFO sqlalchemy.engine.base.Engine PRAGMA foreign_key_list(\"idx_pt_man_made_Geometry\")\n"
       ]
      },
      {
       "output_type": "stream",
       "stream": "stdout",
       "text": [
        "2012-07-10 18:03:08,473 INFO sqlalchemy.engine.base.Engine ()\n"
       ]
      },
      {
       "output_type": "stream",
       "stream": "stdout",
       "text": [
        "2012-07-10 18:03:08,474 INFO sqlalchemy.engine.base.Engine PRAGMA index_list(\"idx_pt_man_made_Geometry\")\n"
       ]
      },
      {
       "output_type": "stream",
       "stream": "stdout",
       "text": [
        "2012-07-10 18:03:08,474 INFO sqlalchemy.engine.base.Engine ()\n"
       ]
      },
      {
       "output_type": "stream",
       "stream": "stdout",
       "text": [
        "2012-07-10 18:03:08,476 INFO sqlalchemy.engine.base.Engine PRAGMA table_info(\"idx_pt_man_made_Geometry_node\")\n"
       ]
      },
      {
       "output_type": "stream",
       "stream": "stdout",
       "text": [
        "2012-07-10 18:03:08,476 INFO sqlalchemy.engine.base.Engine ()\n"
       ]
      },
      {
       "output_type": "stream",
       "stream": "stdout",
       "text": [
        "2012-07-10 18:03:08,480 INFO sqlalchemy.engine.base.Engine PRAGMA foreign_key_list(\"idx_pt_man_made_Geometry_node\")\n"
       ]
      },
      {
       "output_type": "stream",
       "stream": "stdout",
       "text": [
        "2012-07-10 18:03:08,480 INFO sqlalchemy.engine.base.Engine ()\n"
       ]
      },
      {
       "output_type": "stream",
       "stream": "stdout",
       "text": [
        "2012-07-10 18:03:08,481 INFO sqlalchemy.engine.base.Engine PRAGMA index_list(\"idx_pt_man_made_Geometry_node\")\n"
       ]
      },
      {
       "output_type": "stream",
       "stream": "stdout",
       "text": [
        "2012-07-10 18:03:08,481 INFO sqlalchemy.engine.base.Engine ()\n"
       ]
      },
      {
       "output_type": "stream",
       "stream": "stdout",
       "text": [
        "2012-07-10 18:03:08,483 INFO sqlalchemy.engine.base.Engine PRAGMA table_info(\"idx_pt_man_made_Geometry_parent\")\n"
       ]
      },
      {
       "output_type": "stream",
       "stream": "stdout",
       "text": [
        "2012-07-10 18:03:08,483 INFO sqlalchemy.engine.base.Engine ()\n"
       ]
      },
      {
       "output_type": "stream",
       "stream": "stdout",
       "text": [
        "2012-07-10 18:03:08,487 INFO sqlalchemy.engine.base.Engine PRAGMA foreign_key_list(\"idx_pt_man_made_Geometry_parent\")\n"
       ]
      },
      {
       "output_type": "stream",
       "stream": "stdout",
       "text": [
        "2012-07-10 18:03:08,487 INFO sqlalchemy.engine.base.Engine ()\n"
       ]
      },
      {
       "output_type": "stream",
       "stream": "stdout",
       "text": [
        "2012-07-10 18:03:08,488 INFO sqlalchemy.engine.base.Engine PRAGMA index_list(\"idx_pt_man_made_Geometry_parent\")\n"
       ]
      },
      {
       "output_type": "stream",
       "stream": "stdout",
       "text": [
        "2012-07-10 18:03:08,488 INFO sqlalchemy.engine.base.Engine ()\n"
       ]
      },
      {
       "output_type": "stream",
       "stream": "stdout",
       "text": [
        "2012-07-10 18:03:08,490 INFO sqlalchemy.engine.base.Engine PRAGMA table_info(\"idx_pt_man_made_Geometry_rowid\")\n"
       ]
      },
      {
       "output_type": "stream",
       "stream": "stdout",
       "text": [
        "2012-07-10 18:03:08,491 INFO sqlalchemy.engine.base.Engine ()\n"
       ]
      },
      {
       "output_type": "stream",
       "stream": "stdout",
       "text": [
        "2012-07-10 18:03:08,494 INFO sqlalchemy.engine.base.Engine PRAGMA foreign_key_list(\"idx_pt_man_made_Geometry_rowid\")\n"
       ]
      },
      {
       "output_type": "stream",
       "stream": "stdout",
       "text": [
        "2012-07-10 18:03:08,495 INFO sqlalchemy.engine.base.Engine ()\n"
       ]
      },
      {
       "output_type": "stream",
       "stream": "stdout",
       "text": [
        "2012-07-10 18:03:08,495 INFO sqlalchemy.engine.base.Engine PRAGMA index_list(\"idx_pt_man_made_Geometry_rowid\")\n"
       ]
      },
      {
       "output_type": "stream",
       "stream": "stdout",
       "text": [
        "2012-07-10 18:03:08,495 INFO sqlalchemy.engine.base.Engine ()\n"
       ]
      },
      {
       "output_type": "stream",
       "stream": "stdout",
       "text": [
        "2012-07-10 18:03:08,497 INFO sqlalchemy.engine.base.Engine PRAGMA table_info(\"idx_pt_natural_Geometry\")\n"
       ]
      },
      {
       "output_type": "stream",
       "stream": "stdout",
       "text": [
        "2012-07-10 18:03:08,498 INFO sqlalchemy.engine.base.Engine ()\n"
       ]
      },
      {
       "output_type": "stream",
       "stream": "stdout",
       "text": [
        "2012-07-10 18:03:08,502 INFO sqlalchemy.engine.base.Engine PRAGMA foreign_key_list(\"idx_pt_natural_Geometry\")\n"
       ]
      },
      {
       "output_type": "stream",
       "stream": "stdout",
       "text": [
        "2012-07-10 18:03:08,502 INFO sqlalchemy.engine.base.Engine ()\n"
       ]
      },
      {
       "output_type": "stream",
       "stream": "stdout",
       "text": [
        "2012-07-10 18:03:08,503 INFO sqlalchemy.engine.base.Engine PRAGMA index_list(\"idx_pt_natural_Geometry\")\n"
       ]
      },
      {
       "output_type": "stream",
       "stream": "stdout",
       "text": [
        "2012-07-10 18:03:08,503 INFO sqlalchemy.engine.base.Engine ()\n"
       ]
      },
      {
       "output_type": "stream",
       "stream": "stdout",
       "text": [
        "2012-07-10 18:03:08,505 INFO sqlalchemy.engine.base.Engine PRAGMA table_info(\"idx_pt_natural_Geometry_node\")\n"
       ]
      },
      {
       "output_type": "stream",
       "stream": "stdout",
       "text": [
        "2012-07-10 18:03:08,505 INFO sqlalchemy.engine.base.Engine ()\n"
       ]
      },
      {
       "output_type": "stream",
       "stream": "stdout",
       "text": [
        "2012-07-10 18:03:08,509 INFO sqlalchemy.engine.base.Engine PRAGMA foreign_key_list(\"idx_pt_natural_Geometry_node\")\n"
       ]
      },
      {
       "output_type": "stream",
       "stream": "stdout",
       "text": [
        "2012-07-10 18:03:08,509 INFO sqlalchemy.engine.base.Engine ()\n"
       ]
      },
      {
       "output_type": "stream",
       "stream": "stdout",
       "text": [
        "2012-07-10 18:03:08,510 INFO sqlalchemy.engine.base.Engine PRAGMA index_list(\"idx_pt_natural_Geometry_node\")\n"
       ]
      },
      {
       "output_type": "stream",
       "stream": "stdout",
       "text": [
        "2012-07-10 18:03:08,510 INFO sqlalchemy.engine.base.Engine ()\n"
       ]
      },
      {
       "output_type": "stream",
       "stream": "stdout",
       "text": [
        "2012-07-10 18:03:08,512 INFO sqlalchemy.engine.base.Engine PRAGMA table_info(\"idx_pt_natural_Geometry_parent\")\n"
       ]
      },
      {
       "output_type": "stream",
       "stream": "stdout",
       "text": [
        "2012-07-10 18:03:08,512 INFO sqlalchemy.engine.base.Engine ()\n"
       ]
      },
      {
       "output_type": "stream",
       "stream": "stdout",
       "text": [
        "2012-07-10 18:03:08,516 INFO sqlalchemy.engine.base.Engine PRAGMA foreign_key_list(\"idx_pt_natural_Geometry_parent\")\n"
       ]
      },
      {
       "output_type": "stream",
       "stream": "stdout",
       "text": [
        "2012-07-10 18:03:08,516 INFO sqlalchemy.engine.base.Engine ()\n"
       ]
      },
      {
       "output_type": "stream",
       "stream": "stdout",
       "text": [
        "2012-07-10 18:03:08,516 INFO sqlalchemy.engine.base.Engine PRAGMA index_list(\"idx_pt_natural_Geometry_parent\")\n"
       ]
      },
      {
       "output_type": "stream",
       "stream": "stdout",
       "text": [
        "2012-07-10 18:03:08,517 INFO sqlalchemy.engine.base.Engine ()\n"
       ]
      },
      {
       "output_type": "stream",
       "stream": "stdout",
       "text": [
        "2012-07-10 18:03:08,519 INFO sqlalchemy.engine.base.Engine PRAGMA table_info(\"idx_pt_natural_Geometry_rowid\")\n"
       ]
      },
      {
       "output_type": "stream",
       "stream": "stdout",
       "text": [
        "2012-07-10 18:03:08,519 INFO sqlalchemy.engine.base.Engine ()\n"
       ]
      },
      {
       "output_type": "stream",
       "stream": "stdout",
       "text": [
        "2012-07-10 18:03:08,522 INFO sqlalchemy.engine.base.Engine PRAGMA foreign_key_list(\"idx_pt_natural_Geometry_rowid\")\n"
       ]
      },
      {
       "output_type": "stream",
       "stream": "stdout",
       "text": [
        "2012-07-10 18:03:08,523 INFO sqlalchemy.engine.base.Engine ()\n"
       ]
      },
      {
       "output_type": "stream",
       "stream": "stdout",
       "text": [
        "2012-07-10 18:03:08,523 INFO sqlalchemy.engine.base.Engine PRAGMA index_list(\"idx_pt_natural_Geometry_rowid\")\n"
       ]
      },
      {
       "output_type": "stream",
       "stream": "stdout",
       "text": [
        "2012-07-10 18:03:08,523 INFO sqlalchemy.engine.base.Engine ()\n"
       ]
      },
      {
       "output_type": "stream",
       "stream": "stdout",
       "text": [
        "2012-07-10 18:03:08,525 INFO sqlalchemy.engine.base.Engine PRAGMA table_info(\"idx_pt_place_Geometry\")\n"
       ]
      },
      {
       "output_type": "stream",
       "stream": "stdout",
       "text": [
        "2012-07-10 18:03:08,526 INFO sqlalchemy.engine.base.Engine ()\n"
       ]
      },
      {
       "output_type": "stream",
       "stream": "stdout",
       "text": [
        "2012-07-10 18:03:08,529 INFO sqlalchemy.engine.base.Engine PRAGMA foreign_key_list(\"idx_pt_place_Geometry\")\n"
       ]
      },
      {
       "output_type": "stream",
       "stream": "stdout",
       "text": [
        "2012-07-10 18:03:08,530 INFO sqlalchemy.engine.base.Engine ()\n"
       ]
      },
      {
       "output_type": "stream",
       "stream": "stdout",
       "text": [
        "2012-07-10 18:03:08,530 INFO sqlalchemy.engine.base.Engine PRAGMA index_list(\"idx_pt_place_Geometry\")\n"
       ]
      },
      {
       "output_type": "stream",
       "stream": "stdout",
       "text": [
        "2012-07-10 18:03:08,530 INFO sqlalchemy.engine.base.Engine ()\n"
       ]
      },
      {
       "output_type": "stream",
       "stream": "stdout",
       "text": [
        "2012-07-10 18:03:08,532 INFO sqlalchemy.engine.base.Engine PRAGMA table_info(\"idx_pt_place_Geometry_node\")\n"
       ]
      },
      {
       "output_type": "stream",
       "stream": "stdout",
       "text": [
        "2012-07-10 18:03:08,533 INFO sqlalchemy.engine.base.Engine ()\n"
       ]
      },
      {
       "output_type": "stream",
       "stream": "stdout",
       "text": [
        "2012-07-10 18:03:08,536 INFO sqlalchemy.engine.base.Engine PRAGMA foreign_key_list(\"idx_pt_place_Geometry_node\")\n"
       ]
      },
      {
       "output_type": "stream",
       "stream": "stdout",
       "text": [
        "2012-07-10 18:03:08,536 INFO sqlalchemy.engine.base.Engine ()\n"
       ]
      },
      {
       "output_type": "stream",
       "stream": "stdout",
       "text": [
        "2012-07-10 18:03:08,537 INFO sqlalchemy.engine.base.Engine PRAGMA index_list(\"idx_pt_place_Geometry_node\")\n"
       ]
      },
      {
       "output_type": "stream",
       "stream": "stdout",
       "text": [
        "2012-07-10 18:03:08,537 INFO sqlalchemy.engine.base.Engine ()\n"
       ]
      },
      {
       "output_type": "stream",
       "stream": "stdout",
       "text": [
        "2012-07-10 18:03:08,539 INFO sqlalchemy.engine.base.Engine PRAGMA table_info(\"idx_pt_place_Geometry_parent\")\n"
       ]
      },
      {
       "output_type": "stream",
       "stream": "stdout",
       "text": [
        "2012-07-10 18:03:08,539 INFO sqlalchemy.engine.base.Engine ()\n"
       ]
      },
      {
       "output_type": "stream",
       "stream": "stdout",
       "text": [
        "2012-07-10 18:03:08,542 INFO sqlalchemy.engine.base.Engine PRAGMA foreign_key_list(\"idx_pt_place_Geometry_parent\")\n"
       ]
      },
      {
       "output_type": "stream",
       "stream": "stdout",
       "text": [
        "2012-07-10 18:03:08,543 INFO sqlalchemy.engine.base.Engine ()\n"
       ]
      },
      {
       "output_type": "stream",
       "stream": "stdout",
       "text": [
        "2012-07-10 18:03:08,543 INFO sqlalchemy.engine.base.Engine PRAGMA index_list(\"idx_pt_place_Geometry_parent\")\n"
       ]
      },
      {
       "output_type": "stream",
       "stream": "stdout",
       "text": [
        "2012-07-10 18:03:08,543 INFO sqlalchemy.engine.base.Engine ()\n"
       ]
      },
      {
       "output_type": "stream",
       "stream": "stdout",
       "text": [
        "2012-07-10 18:03:08,545 INFO sqlalchemy.engine.base.Engine PRAGMA table_info(\"idx_pt_place_Geometry_rowid\")\n"
       ]
      },
      {
       "output_type": "stream",
       "stream": "stdout",
       "text": [
        "2012-07-10 18:03:08,546 INFO sqlalchemy.engine.base.Engine ()\n"
       ]
      },
      {
       "output_type": "stream",
       "stream": "stdout",
       "text": [
        "2012-07-10 18:03:08,549 INFO sqlalchemy.engine.base.Engine PRAGMA foreign_key_list(\"idx_pt_place_Geometry_rowid\")\n"
       ]
      },
      {
       "output_type": "stream",
       "stream": "stdout",
       "text": [
        "2012-07-10 18:03:08,550 INFO sqlalchemy.engine.base.Engine ()\n"
       ]
      },
      {
       "output_type": "stream",
       "stream": "stdout",
       "text": [
        "2012-07-10 18:03:08,550 INFO sqlalchemy.engine.base.Engine PRAGMA index_list(\"idx_pt_place_Geometry_rowid\")\n"
       ]
      },
      {
       "output_type": "stream",
       "stream": "stdout",
       "text": [
        "2012-07-10 18:03:08,550 INFO sqlalchemy.engine.base.Engine ()\n"
       ]
      },
      {
       "output_type": "stream",
       "stream": "stdout",
       "text": [
        "2012-07-10 18:03:08,552 INFO sqlalchemy.engine.base.Engine PRAGMA table_info(\"idx_pt_shop_Geometry\")\n"
       ]
      },
      {
       "output_type": "stream",
       "stream": "stdout",
       "text": [
        "2012-07-10 18:03:08,553 INFO sqlalchemy.engine.base.Engine ()\n"
       ]
      },
      {
       "output_type": "stream",
       "stream": "stdout",
       "text": [
        "2012-07-10 18:03:08,556 INFO sqlalchemy.engine.base.Engine PRAGMA foreign_key_list(\"idx_pt_shop_Geometry\")\n"
       ]
      },
      {
       "output_type": "stream",
       "stream": "stdout",
       "text": [
        "2012-07-10 18:03:08,557 INFO sqlalchemy.engine.base.Engine ()\n"
       ]
      },
      {
       "output_type": "stream",
       "stream": "stdout",
       "text": [
        "2012-07-10 18:03:08,557 INFO sqlalchemy.engine.base.Engine PRAGMA index_list(\"idx_pt_shop_Geometry\")\n"
       ]
      },
      {
       "output_type": "stream",
       "stream": "stdout",
       "text": [
        "2012-07-10 18:03:08,557 INFO sqlalchemy.engine.base.Engine ()\n"
       ]
      },
      {
       "output_type": "stream",
       "stream": "stdout",
       "text": [
        "2012-07-10 18:03:08,559 INFO sqlalchemy.engine.base.Engine PRAGMA table_info(\"idx_pt_shop_Geometry_node\")\n"
       ]
      },
      {
       "output_type": "stream",
       "stream": "stdout",
       "text": [
        "2012-07-10 18:03:08,559 INFO sqlalchemy.engine.base.Engine ()\n"
       ]
      },
      {
       "output_type": "stream",
       "stream": "stdout",
       "text": [
        "2012-07-10 18:03:08,563 INFO sqlalchemy.engine.base.Engine PRAGMA foreign_key_list(\"idx_pt_shop_Geometry_node\")\n"
       ]
      },
      {
       "output_type": "stream",
       "stream": "stdout",
       "text": [
        "2012-07-10 18:03:08,563 INFO sqlalchemy.engine.base.Engine ()\n"
       ]
      },
      {
       "output_type": "stream",
       "stream": "stdout",
       "text": [
        "2012-07-10 18:03:08,564 INFO sqlalchemy.engine.base.Engine PRAGMA index_list(\"idx_pt_shop_Geometry_node\")\n"
       ]
      },
      {
       "output_type": "stream",
       "stream": "stdout",
       "text": [
        "2012-07-10 18:03:08,564 INFO sqlalchemy.engine.base.Engine ()\n"
       ]
      },
      {
       "output_type": "stream",
       "stream": "stdout",
       "text": [
        "2012-07-10 18:03:08,566 INFO sqlalchemy.engine.base.Engine PRAGMA table_info(\"idx_pt_shop_Geometry_parent\")\n"
       ]
      },
      {
       "output_type": "stream",
       "stream": "stdout",
       "text": [
        "2012-07-10 18:03:08,566 INFO sqlalchemy.engine.base.Engine ()\n"
       ]
      },
      {
       "output_type": "stream",
       "stream": "stdout",
       "text": [
        "2012-07-10 18:03:08,570 INFO sqlalchemy.engine.base.Engine PRAGMA foreign_key_list(\"idx_pt_shop_Geometry_parent\")\n"
       ]
      },
      {
       "output_type": "stream",
       "stream": "stdout",
       "text": [
        "2012-07-10 18:03:08,570 INFO sqlalchemy.engine.base.Engine ()\n"
       ]
      },
      {
       "output_type": "stream",
       "stream": "stdout",
       "text": [
        "2012-07-10 18:03:08,571 INFO sqlalchemy.engine.base.Engine PRAGMA index_list(\"idx_pt_shop_Geometry_parent\")\n"
       ]
      },
      {
       "output_type": "stream",
       "stream": "stdout",
       "text": [
        "2012-07-10 18:03:08,571 INFO sqlalchemy.engine.base.Engine ()\n"
       ]
      },
      {
       "output_type": "stream",
       "stream": "stdout",
       "text": [
        "2012-07-10 18:03:08,573 INFO sqlalchemy.engine.base.Engine PRAGMA table_info(\"idx_pt_shop_Geometry_rowid\")\n"
       ]
      },
      {
       "output_type": "stream",
       "stream": "stdout",
       "text": [
        "2012-07-10 18:03:08,573 INFO sqlalchemy.engine.base.Engine ()\n"
       ]
      },
      {
       "output_type": "stream",
       "stream": "stdout",
       "text": [
        "2012-07-10 18:03:08,576 INFO sqlalchemy.engine.base.Engine PRAGMA foreign_key_list(\"idx_pt_shop_Geometry_rowid\")\n"
       ]
      },
      {
       "output_type": "stream",
       "stream": "stdout",
       "text": [
        "2012-07-10 18:03:08,577 INFO sqlalchemy.engine.base.Engine ()\n"
       ]
      },
      {
       "output_type": "stream",
       "stream": "stdout",
       "text": [
        "2012-07-10 18:03:08,577 INFO sqlalchemy.engine.base.Engine PRAGMA index_list(\"idx_pt_shop_Geometry_rowid\")\n"
       ]
      },
      {
       "output_type": "stream",
       "stream": "stdout",
       "text": [
        "2012-07-10 18:03:08,577 INFO sqlalchemy.engine.base.Engine ()\n"
       ]
      },
      {
       "output_type": "stream",
       "stream": "stdout",
       "text": [
        "2012-07-10 18:03:08,579 INFO sqlalchemy.engine.base.Engine PRAGMA table_info(\"idx_pt_tourism_Geometry\")\n"
       ]
      },
      {
       "output_type": "stream",
       "stream": "stdout",
       "text": [
        "2012-07-10 18:03:08,579 INFO sqlalchemy.engine.base.Engine ()\n"
       ]
      },
      {
       "output_type": "stream",
       "stream": "stdout",
       "text": [
        "2012-07-10 18:03:08,583 INFO sqlalchemy.engine.base.Engine PRAGMA foreign_key_list(\"idx_pt_tourism_Geometry\")\n"
       ]
      },
      {
       "output_type": "stream",
       "stream": "stdout",
       "text": [
        "2012-07-10 18:03:08,583 INFO sqlalchemy.engine.base.Engine ()\n"
       ]
      },
      {
       "output_type": "stream",
       "stream": "stdout",
       "text": [
        "2012-07-10 18:03:08,584 INFO sqlalchemy.engine.base.Engine PRAGMA index_list(\"idx_pt_tourism_Geometry\")\n"
       ]
      },
      {
       "output_type": "stream",
       "stream": "stdout",
       "text": [
        "2012-07-10 18:03:08,584 INFO sqlalchemy.engine.base.Engine ()\n"
       ]
      },
      {
       "output_type": "stream",
       "stream": "stdout",
       "text": [
        "2012-07-10 18:03:08,586 INFO sqlalchemy.engine.base.Engine PRAGMA table_info(\"idx_pt_tourism_Geometry_node\")\n"
       ]
      },
      {
       "output_type": "stream",
       "stream": "stdout",
       "text": [
        "2012-07-10 18:03:08,586 INFO sqlalchemy.engine.base.Engine ()\n"
       ]
      },
      {
       "output_type": "stream",
       "stream": "stdout",
       "text": [
        "2012-07-10 18:03:08,590 INFO sqlalchemy.engine.base.Engine PRAGMA foreign_key_list(\"idx_pt_tourism_Geometry_node\")\n"
       ]
      },
      {
       "output_type": "stream",
       "stream": "stdout",
       "text": [
        "2012-07-10 18:03:08,590 INFO sqlalchemy.engine.base.Engine ()\n"
       ]
      },
      {
       "output_type": "stream",
       "stream": "stdout",
       "text": [
        "2012-07-10 18:03:08,590 INFO sqlalchemy.engine.base.Engine PRAGMA index_list(\"idx_pt_tourism_Geometry_node\")\n"
       ]
      },
      {
       "output_type": "stream",
       "stream": "stdout",
       "text": [
        "2012-07-10 18:03:08,591 INFO sqlalchemy.engine.base.Engine ()\n"
       ]
      },
      {
       "output_type": "stream",
       "stream": "stdout",
       "text": [
        "2012-07-10 18:03:08,592 INFO sqlalchemy.engine.base.Engine PRAGMA table_info(\"idx_pt_tourism_Geometry_parent\")\n"
       ]
      },
      {
       "output_type": "stream",
       "stream": "stdout",
       "text": [
        "2012-07-10 18:03:08,593 INFO sqlalchemy.engine.base.Engine ()\n"
       ]
      },
      {
       "output_type": "stream",
       "stream": "stdout",
       "text": [
        "2012-07-10 18:03:08,596 INFO sqlalchemy.engine.base.Engine PRAGMA foreign_key_list(\"idx_pt_tourism_Geometry_parent\")\n"
       ]
      },
      {
       "output_type": "stream",
       "stream": "stdout",
       "text": [
        "2012-07-10 18:03:08,596 INFO sqlalchemy.engine.base.Engine ()\n"
       ]
      },
      {
       "output_type": "stream",
       "stream": "stdout",
       "text": [
        "2012-07-10 18:03:08,597 INFO sqlalchemy.engine.base.Engine PRAGMA index_list(\"idx_pt_tourism_Geometry_parent\")\n"
       ]
      },
      {
       "output_type": "stream",
       "stream": "stdout",
       "text": [
        "2012-07-10 18:03:08,597 INFO sqlalchemy.engine.base.Engine ()\n"
       ]
      },
      {
       "output_type": "stream",
       "stream": "stdout",
       "text": [
        "2012-07-10 18:03:08,599 INFO sqlalchemy.engine.base.Engine PRAGMA table_info(\"idx_pt_tourism_Geometry_rowid\")\n"
       ]
      },
      {
       "output_type": "stream",
       "stream": "stdout",
       "text": [
        "2012-07-10 18:03:08,599 INFO sqlalchemy.engine.base.Engine ()\n"
       ]
      },
      {
       "output_type": "stream",
       "stream": "stdout",
       "text": [
        "2012-07-10 18:03:08,603 INFO sqlalchemy.engine.base.Engine PRAGMA foreign_key_list(\"idx_pt_tourism_Geometry_rowid\")\n"
       ]
      },
      {
       "output_type": "stream",
       "stream": "stdout",
       "text": [
        "2012-07-10 18:03:08,603 INFO sqlalchemy.engine.base.Engine ()\n"
       ]
      },
      {
       "output_type": "stream",
       "stream": "stdout",
       "text": [
        "2012-07-10 18:03:08,604 INFO sqlalchemy.engine.base.Engine PRAGMA index_list(\"idx_pt_tourism_Geometry_rowid\")\n"
       ]
      },
      {
       "output_type": "stream",
       "stream": "stdout",
       "text": [
        "2012-07-10 18:03:08,604 INFO sqlalchemy.engine.base.Engine ()\n"
       ]
      },
      {
       "output_type": "stream",
       "stream": "stdout",
       "text": [
        "2012-07-10 18:03:08,606 INFO sqlalchemy.engine.base.Engine PRAGMA table_info(\"ln_barrier\")\n"
       ]
      },
      {
       "output_type": "stream",
       "stream": "stdout",
       "text": [
        "2012-07-10 18:03:08,606 INFO sqlalchemy.engine.base.Engine ()\n"
       ]
      },
      {
       "output_type": "stream",
       "stream": "stdout",
       "text": [
        "2012-07-10 18:03:08,610 INFO sqlalchemy.engine.base.Engine PRAGMA foreign_key_list(\"ln_barrier\")\n"
       ]
      },
      {
       "output_type": "stream",
       "stream": "stdout",
       "text": [
        "2012-07-10 18:03:08,611 INFO sqlalchemy.engine.base.Engine ()\n"
       ]
      },
      {
       "output_type": "stream",
       "stream": "stdout",
       "text": [
        "2012-07-10 18:03:08,611 INFO sqlalchemy.engine.base.Engine PRAGMA index_list(\"ln_barrier\")\n"
       ]
      },
      {
       "output_type": "stream",
       "stream": "stdout",
       "text": [
        "2012-07-10 18:03:08,611 INFO sqlalchemy.engine.base.Engine ()\n"
       ]
      },
      {
       "output_type": "stream",
       "stream": "stdout",
       "text": [
        "2012-07-10 18:03:08,614 INFO sqlalchemy.engine.base.Engine PRAGMA table_info(\"ln_boundary\")\n"
       ]
      },
      {
       "output_type": "stream",
       "stream": "stdout",
       "text": [
        "2012-07-10 18:03:08,614 INFO sqlalchemy.engine.base.Engine ()\n"
       ]
      },
      {
       "output_type": "stream",
       "stream": "stdout",
       "text": [
        "2012-07-10 18:03:08,618 INFO sqlalchemy.engine.base.Engine PRAGMA foreign_key_list(\"ln_boundary\")\n"
       ]
      },
      {
       "output_type": "stream",
       "stream": "stdout",
       "text": [
        "2012-07-10 18:03:08,618 INFO sqlalchemy.engine.base.Engine ()\n"
       ]
      },
      {
       "output_type": "stream",
       "stream": "stdout",
       "text": [
        "2012-07-10 18:03:08,619 INFO sqlalchemy.engine.base.Engine PRAGMA index_list(\"ln_boundary\")\n"
       ]
      },
      {
       "output_type": "stream",
       "stream": "stdout",
       "text": [
        "2012-07-10 18:03:08,619 INFO sqlalchemy.engine.base.Engine ()\n"
       ]
      },
      {
       "output_type": "stream",
       "stream": "stdout",
       "text": [
        "2012-07-10 18:03:08,621 INFO sqlalchemy.engine.base.Engine PRAGMA table_info(\"ln_generic\")\n"
       ]
      },
      {
       "output_type": "stream",
       "stream": "stdout",
       "text": [
        "2012-07-10 18:03:08,622 INFO sqlalchemy.engine.base.Engine ()\n"
       ]
      },
      {
       "output_type": "stream",
       "stream": "stdout",
       "text": [
        "2012-07-10 18:03:08,625 INFO sqlalchemy.engine.base.Engine PRAGMA foreign_key_list(\"ln_generic\")\n"
       ]
      },
      {
       "output_type": "stream",
       "stream": "stdout",
       "text": [
        "2012-07-10 18:03:08,625 INFO sqlalchemy.engine.base.Engine ()\n"
       ]
      },
      {
       "output_type": "stream",
       "stream": "stdout",
       "text": [
        "2012-07-10 18:03:08,626 INFO sqlalchemy.engine.base.Engine PRAGMA index_list(\"ln_generic\")\n"
       ]
      },
      {
       "output_type": "stream",
       "stream": "stdout",
       "text": [
        "2012-07-10 18:03:08,626 INFO sqlalchemy.engine.base.Engine ()\n"
       ]
      },
      {
       "output_type": "stream",
       "stream": "stdout",
       "text": [
        "2012-07-10 18:03:08,628 INFO sqlalchemy.engine.base.Engine PRAGMA table_info(\"ln_highway\")\n"
       ]
      },
      {
       "output_type": "stream",
       "stream": "stdout",
       "text": [
        "2012-07-10 18:03:08,628 INFO sqlalchemy.engine.base.Engine ()\n"
       ]
      },
      {
       "output_type": "stream",
       "stream": "stdout",
       "text": [
        "2012-07-10 18:03:08,631 INFO sqlalchemy.engine.base.Engine PRAGMA foreign_key_list(\"ln_highway\")\n"
       ]
      },
      {
       "output_type": "stream",
       "stream": "stdout",
       "text": [
        "2012-07-10 18:03:08,632 INFO sqlalchemy.engine.base.Engine ()\n"
       ]
      },
      {
       "output_type": "stream",
       "stream": "stdout",
       "text": [
        "2012-07-10 18:03:08,632 INFO sqlalchemy.engine.base.Engine PRAGMA index_list(\"ln_highway\")\n"
       ]
      },
      {
       "output_type": "stream",
       "stream": "stdout",
       "text": [
        "2012-07-10 18:03:08,632 INFO sqlalchemy.engine.base.Engine ()\n"
       ]
      },
      {
       "output_type": "stream",
       "stream": "stdout",
       "text": [
        "2012-07-10 18:03:08,634 INFO sqlalchemy.engine.base.Engine PRAGMA table_info(\"ln_route\")\n"
       ]
      },
      {
       "output_type": "stream",
       "stream": "stdout",
       "text": [
        "2012-07-10 18:03:08,634 INFO sqlalchemy.engine.base.Engine ()\n"
       ]
      },
      {
       "output_type": "stream",
       "stream": "stdout",
       "text": [
        "2012-07-10 18:03:08,637 INFO sqlalchemy.engine.base.Engine PRAGMA foreign_key_list(\"ln_route\")\n"
       ]
      },
      {
       "output_type": "stream",
       "stream": "stdout",
       "text": [
        "2012-07-10 18:03:08,638 INFO sqlalchemy.engine.base.Engine ()\n"
       ]
      },
      {
       "output_type": "stream",
       "stream": "stdout",
       "text": [
        "2012-07-10 18:03:08,638 INFO sqlalchemy.engine.base.Engine PRAGMA index_list(\"ln_route\")\n"
       ]
      },
      {
       "output_type": "stream",
       "stream": "stdout",
       "text": [
        "2012-07-10 18:03:08,639 INFO sqlalchemy.engine.base.Engine ()\n"
       ]
      },
      {
       "output_type": "stream",
       "stream": "stdout",
       "text": [
        "2012-07-10 18:03:08,640 INFO sqlalchemy.engine.base.Engine PRAGMA table_info(\"pg_amenity\")\n"
       ]
      },
      {
       "output_type": "stream",
       "stream": "stdout",
       "text": [
        "2012-07-10 18:03:08,640 INFO sqlalchemy.engine.base.Engine ()\n"
       ]
      },
      {
       "output_type": "stream",
       "stream": "stdout",
       "text": [
        "2012-07-10 18:03:08,644 INFO sqlalchemy.engine.base.Engine PRAGMA foreign_key_list(\"pg_amenity\")\n"
       ]
      },
      {
       "output_type": "stream",
       "stream": "stdout",
       "text": [
        "2012-07-10 18:03:08,644 INFO sqlalchemy.engine.base.Engine ()\n"
       ]
      },
      {
       "output_type": "stream",
       "stream": "stdout",
       "text": [
        "2012-07-10 18:03:08,645 INFO sqlalchemy.engine.base.Engine PRAGMA index_list(\"pg_amenity\")\n"
       ]
      },
      {
       "output_type": "stream",
       "stream": "stdout",
       "text": [
        "2012-07-10 18:03:08,645 INFO sqlalchemy.engine.base.Engine ()\n"
       ]
      },
      {
       "output_type": "stream",
       "stream": "stdout",
       "text": [
        "2012-07-10 18:03:08,647 INFO sqlalchemy.engine.base.Engine PRAGMA table_info(\"pg_building\")\n"
       ]
      },
      {
       "output_type": "stream",
       "stream": "stdout",
       "text": [
        "2012-07-10 18:03:08,647 INFO sqlalchemy.engine.base.Engine ()\n"
       ]
      },
      {
       "output_type": "stream",
       "stream": "stdout",
       "text": [
        "2012-07-10 18:03:08,651 INFO sqlalchemy.engine.base.Engine PRAGMA foreign_key_list(\"pg_building\")\n"
       ]
      },
      {
       "output_type": "stream",
       "stream": "stdout",
       "text": [
        "2012-07-10 18:03:08,651 INFO sqlalchemy.engine.base.Engine ()\n"
       ]
      },
      {
       "output_type": "stream",
       "stream": "stdout",
       "text": [
        "2012-07-10 18:03:08,652 INFO sqlalchemy.engine.base.Engine PRAGMA index_list(\"pg_building\")\n"
       ]
      },
      {
       "output_type": "stream",
       "stream": "stdout",
       "text": [
        "2012-07-10 18:03:08,652 INFO sqlalchemy.engine.base.Engine ()\n"
       ]
      },
      {
       "output_type": "stream",
       "stream": "stdout",
       "text": [
        "2012-07-10 18:03:08,654 INFO sqlalchemy.engine.base.Engine PRAGMA table_info(\"pg_generic\")\n"
       ]
      },
      {
       "output_type": "stream",
       "stream": "stdout",
       "text": [
        "2012-07-10 18:03:08,654 INFO sqlalchemy.engine.base.Engine ()\n"
       ]
      },
      {
       "output_type": "stream",
       "stream": "stdout",
       "text": [
        "2012-07-10 18:03:08,658 INFO sqlalchemy.engine.base.Engine PRAGMA foreign_key_list(\"pg_generic\")\n"
       ]
      },
      {
       "output_type": "stream",
       "stream": "stdout",
       "text": [
        "2012-07-10 18:03:08,658 INFO sqlalchemy.engine.base.Engine ()\n"
       ]
      },
      {
       "output_type": "stream",
       "stream": "stdout",
       "text": [
        "2012-07-10 18:03:08,658 INFO sqlalchemy.engine.base.Engine PRAGMA index_list(\"pg_generic\")\n"
       ]
      },
      {
       "output_type": "stream",
       "stream": "stdout",
       "text": [
        "2012-07-10 18:03:08,659 INFO sqlalchemy.engine.base.Engine ()\n"
       ]
      },
      {
       "output_type": "stream",
       "stream": "stdout",
       "text": [
        "2012-07-10 18:03:08,660 INFO sqlalchemy.engine.base.Engine PRAGMA table_info(\"pg_highway\")\n"
       ]
      },
      {
       "output_type": "stream",
       "stream": "stdout",
       "text": [
        "2012-07-10 18:03:08,661 INFO sqlalchemy.engine.base.Engine ()\n"
       ]
      },
      {
       "output_type": "stream",
       "stream": "stdout",
       "text": [
        "2012-07-10 18:03:08,664 INFO sqlalchemy.engine.base.Engine PRAGMA foreign_key_list(\"pg_highway\")\n"
       ]
      },
      {
       "output_type": "stream",
       "stream": "stdout",
       "text": [
        "2012-07-10 18:03:08,664 INFO sqlalchemy.engine.base.Engine ()\n"
       ]
      },
      {
       "output_type": "stream",
       "stream": "stdout",
       "text": [
        "2012-07-10 18:03:08,665 INFO sqlalchemy.engine.base.Engine PRAGMA index_list(\"pg_highway\")\n"
       ]
      },
      {
       "output_type": "stream",
       "stream": "stdout",
       "text": [
        "2012-07-10 18:03:08,665 INFO sqlalchemy.engine.base.Engine ()\n"
       ]
      },
      {
       "output_type": "stream",
       "stream": "stdout",
       "text": [
        "2012-07-10 18:03:08,667 INFO sqlalchemy.engine.base.Engine PRAGMA table_info(\"pg_landuse\")\n"
       ]
      },
      {
       "output_type": "stream",
       "stream": "stdout",
       "text": [
        "2012-07-10 18:03:08,667 INFO sqlalchemy.engine.base.Engine ()\n"
       ]
      },
      {
       "output_type": "stream",
       "stream": "stdout",
       "text": [
        "2012-07-10 18:03:08,670 INFO sqlalchemy.engine.base.Engine PRAGMA foreign_key_list(\"pg_landuse\")\n"
       ]
      },
      {
       "output_type": "stream",
       "stream": "stdout",
       "text": [
        "2012-07-10 18:03:08,671 INFO sqlalchemy.engine.base.Engine ()\n"
       ]
      },
      {
       "output_type": "stream",
       "stream": "stdout",
       "text": [
        "2012-07-10 18:03:08,671 INFO sqlalchemy.engine.base.Engine PRAGMA index_list(\"pg_landuse\")\n"
       ]
      },
      {
       "output_type": "stream",
       "stream": "stdout",
       "text": [
        "2012-07-10 18:03:08,672 INFO sqlalchemy.engine.base.Engine ()\n"
       ]
      },
      {
       "output_type": "stream",
       "stream": "stdout",
       "text": [
        "2012-07-10 18:03:08,673 INFO sqlalchemy.engine.base.Engine PRAGMA table_info(\"pg_leisure\")\n"
       ]
      },
      {
       "output_type": "stream",
       "stream": "stdout",
       "text": [
        "2012-07-10 18:03:08,674 INFO sqlalchemy.engine.base.Engine ()\n"
       ]
      },
      {
       "output_type": "stream",
       "stream": "stdout",
       "text": [
        "2012-07-10 18:03:08,677 INFO sqlalchemy.engine.base.Engine PRAGMA foreign_key_list(\"pg_leisure\")\n"
       ]
      },
      {
       "output_type": "stream",
       "stream": "stdout",
       "text": [
        "2012-07-10 18:03:08,677 INFO sqlalchemy.engine.base.Engine ()\n"
       ]
      },
      {
       "output_type": "stream",
       "stream": "stdout",
       "text": [
        "2012-07-10 18:03:08,678 INFO sqlalchemy.engine.base.Engine PRAGMA index_list(\"pg_leisure\")\n"
       ]
      },
      {
       "output_type": "stream",
       "stream": "stdout",
       "text": [
        "2012-07-10 18:03:08,678 INFO sqlalchemy.engine.base.Engine ()\n"
       ]
      },
      {
       "output_type": "stream",
       "stream": "stdout",
       "text": [
        "2012-07-10 18:03:08,680 INFO sqlalchemy.engine.base.Engine PRAGMA table_info(\"pg_shop\")\n"
       ]
      },
      {
       "output_type": "stream",
       "stream": "stdout",
       "text": [
        "2012-07-10 18:03:08,680 INFO sqlalchemy.engine.base.Engine ()\n"
       ]
      },
      {
       "output_type": "stream",
       "stream": "stdout",
       "text": [
        "2012-07-10 18:03:08,683 INFO sqlalchemy.engine.base.Engine PRAGMA foreign_key_list(\"pg_shop\")\n"
       ]
      },
      {
       "output_type": "stream",
       "stream": "stdout",
       "text": [
        "2012-07-10 18:03:08,684 INFO sqlalchemy.engine.base.Engine ()\n"
       ]
      },
      {
       "output_type": "stream",
       "stream": "stdout",
       "text": [
        "2012-07-10 18:03:08,684 INFO sqlalchemy.engine.base.Engine PRAGMA index_list(\"pg_shop\")\n"
       ]
      },
      {
       "output_type": "stream",
       "stream": "stdout",
       "text": [
        "2012-07-10 18:03:08,684 INFO sqlalchemy.engine.base.Engine ()\n"
       ]
      },
      {
       "output_type": "stream",
       "stream": "stdout",
       "text": [
        "2012-07-10 18:03:08,686 INFO sqlalchemy.engine.base.Engine PRAGMA table_info(\"pt_addresses\")\n"
       ]
      },
      {
       "output_type": "stream",
       "stream": "stdout",
       "text": [
        "2012-07-10 18:03:08,686 INFO sqlalchemy.engine.base.Engine ()\n"
       ]
      },
      {
       "output_type": "stream",
       "stream": "stderr",
       "text": [
        "/home/rjw57/git/foldbeam/venv/lib/python2.7/site-packages/SQLAlchemy-0.7.8-py2.7-linux-x86_64.egg/sqlalchemy/engine/reflection.py:47: SAWarning: Did not recognize type 'MULTILINESTRING' of column 'Geometry'\n",
        "/home/rjw57/git/foldbeam/venv/lib/python2.7/site-packages/SQLAlchemy-0.7.8-py2.7-linux-x86_64.egg/sqlalchemy/engine/reflection.py:47: SAWarning: Did not recognize type 'MULTIPOLYGON' of column 'Geometry'\n",
        "/home/rjw57/git/foldbeam/venv/lib/python2.7/site-packages/SQLAlchemy-0.7.8-py2.7-linux-x86_64.egg/sqlalchemy/engine/reflection.py:47: SAWarning: Did not recognize type 'POINT' of column 'Geometry'\n"
       ]
      },
      {
       "output_type": "stream",
       "stream": "stdout",
       "text": [
        "2012-07-10 18:03:08,691 INFO sqlalchemy.engine.base.Engine PRAGMA foreign_key_list(\"pt_addresses\")\n"
       ]
      },
      {
       "output_type": "stream",
       "stream": "stdout",
       "text": [
        "2012-07-10 18:03:08,691 INFO sqlalchemy.engine.base.Engine ()\n"
       ]
      },
      {
       "output_type": "stream",
       "stream": "stdout",
       "text": [
        "2012-07-10 18:03:08,691 INFO sqlalchemy.engine.base.Engine PRAGMA index_list(\"pt_addresses\")\n"
       ]
      },
      {
       "output_type": "stream",
       "stream": "stdout",
       "text": [
        "2012-07-10 18:03:08,692 INFO sqlalchemy.engine.base.Engine ()\n"
       ]
      },
      {
       "output_type": "stream",
       "stream": "stdout",
       "text": [
        "2012-07-10 18:03:08,694 INFO sqlalchemy.engine.base.Engine PRAGMA table_info(\"pt_amenity\")\n"
       ]
      },
      {
       "output_type": "stream",
       "stream": "stdout",
       "text": [
        "2012-07-10 18:03:08,694 INFO sqlalchemy.engine.base.Engine ()\n"
       ]
      },
      {
       "output_type": "stream",
       "stream": "stdout",
       "text": [
        "2012-07-10 18:03:08,697 INFO sqlalchemy.engine.base.Engine PRAGMA foreign_key_list(\"pt_amenity\")\n"
       ]
      },
      {
       "output_type": "stream",
       "stream": "stdout",
       "text": [
        "2012-07-10 18:03:08,698 INFO sqlalchemy.engine.base.Engine ()\n"
       ]
      },
      {
       "output_type": "stream",
       "stream": "stdout",
       "text": [
        "2012-07-10 18:03:08,698 INFO sqlalchemy.engine.base.Engine PRAGMA index_list(\"pt_amenity\")\n"
       ]
      },
      {
       "output_type": "stream",
       "stream": "stdout",
       "text": [
        "2012-07-10 18:03:08,698 INFO sqlalchemy.engine.base.Engine ()\n"
       ]
      },
      {
       "output_type": "stream",
       "stream": "stdout",
       "text": [
        "2012-07-10 18:03:08,700 INFO sqlalchemy.engine.base.Engine PRAGMA table_info(\"pt_barrier\")\n"
       ]
      },
      {
       "output_type": "stream",
       "stream": "stdout",
       "text": [
        "2012-07-10 18:03:08,700 INFO sqlalchemy.engine.base.Engine ()\n"
       ]
      },
      {
       "output_type": "stream",
       "stream": "stdout",
       "text": [
        "2012-07-10 18:03:08,704 INFO sqlalchemy.engine.base.Engine PRAGMA foreign_key_list(\"pt_barrier\")\n"
       ]
      },
      {
       "output_type": "stream",
       "stream": "stdout",
       "text": [
        "2012-07-10 18:03:08,704 INFO sqlalchemy.engine.base.Engine ()\n"
       ]
      },
      {
       "output_type": "stream",
       "stream": "stdout",
       "text": [
        "2012-07-10 18:03:08,705 INFO sqlalchemy.engine.base.Engine PRAGMA index_list(\"pt_barrier\")\n"
       ]
      },
      {
       "output_type": "stream",
       "stream": "stdout",
       "text": [
        "2012-07-10 18:03:08,705 INFO sqlalchemy.engine.base.Engine ()\n"
       ]
      },
      {
       "output_type": "stream",
       "stream": "stdout",
       "text": [
        "2012-07-10 18:03:08,707 INFO sqlalchemy.engine.base.Engine PRAGMA table_info(\"pt_building\")\n"
       ]
      },
      {
       "output_type": "stream",
       "stream": "stdout",
       "text": [
        "2012-07-10 18:03:08,707 INFO sqlalchemy.engine.base.Engine ()\n"
       ]
      },
      {
       "output_type": "stream",
       "stream": "stdout",
       "text": [
        "2012-07-10 18:03:08,711 INFO sqlalchemy.engine.base.Engine PRAGMA foreign_key_list(\"pt_building\")\n"
       ]
      },
      {
       "output_type": "stream",
       "stream": "stdout",
       "text": [
        "2012-07-10 18:03:08,711 INFO sqlalchemy.engine.base.Engine ()\n"
       ]
      },
      {
       "output_type": "stream",
       "stream": "stdout",
       "text": [
        "2012-07-10 18:03:08,711 INFO sqlalchemy.engine.base.Engine PRAGMA index_list(\"pt_building\")\n"
       ]
      },
      {
       "output_type": "stream",
       "stream": "stdout",
       "text": [
        "2012-07-10 18:03:08,712 INFO sqlalchemy.engine.base.Engine ()\n"
       ]
      },
      {
       "output_type": "stream",
       "stream": "stdout",
       "text": [
        "2012-07-10 18:03:08,713 INFO sqlalchemy.engine.base.Engine PRAGMA table_info(\"pt_generic\")\n"
       ]
      },
      {
       "output_type": "stream",
       "stream": "stdout",
       "text": [
        "2012-07-10 18:03:08,714 INFO sqlalchemy.engine.base.Engine ()\n"
       ]
      },
      {
       "output_type": "stream",
       "stream": "stdout",
       "text": [
        "2012-07-10 18:03:08,717 INFO sqlalchemy.engine.base.Engine PRAGMA foreign_key_list(\"pt_generic\")\n"
       ]
      },
      {
       "output_type": "stream",
       "stream": "stdout",
       "text": [
        "2012-07-10 18:03:08,717 INFO sqlalchemy.engine.base.Engine ()\n"
       ]
      },
      {
       "output_type": "stream",
       "stream": "stdout",
       "text": [
        "2012-07-10 18:03:08,718 INFO sqlalchemy.engine.base.Engine PRAGMA index_list(\"pt_generic\")\n"
       ]
      },
      {
       "output_type": "stream",
       "stream": "stdout",
       "text": [
        "2012-07-10 18:03:08,718 INFO sqlalchemy.engine.base.Engine ()\n"
       ]
      },
      {
       "output_type": "stream",
       "stream": "stdout",
       "text": [
        "2012-07-10 18:03:08,720 INFO sqlalchemy.engine.base.Engine PRAGMA table_info(\"pt_highway\")\n"
       ]
      },
      {
       "output_type": "stream",
       "stream": "stdout",
       "text": [
        "2012-07-10 18:03:08,720 INFO sqlalchemy.engine.base.Engine ()\n"
       ]
      },
      {
       "output_type": "stream",
       "stream": "stdout",
       "text": [
        "2012-07-10 18:03:08,723 INFO sqlalchemy.engine.base.Engine PRAGMA foreign_key_list(\"pt_highway\")\n"
       ]
      },
      {
       "output_type": "stream",
       "stream": "stdout",
       "text": [
        "2012-07-10 18:03:08,724 INFO sqlalchemy.engine.base.Engine ()\n"
       ]
      },
      {
       "output_type": "stream",
       "stream": "stdout",
       "text": [
        "2012-07-10 18:03:08,724 INFO sqlalchemy.engine.base.Engine PRAGMA index_list(\"pt_highway\")\n"
       ]
      },
      {
       "output_type": "stream",
       "stream": "stdout",
       "text": [
        "2012-07-10 18:03:08,725 INFO sqlalchemy.engine.base.Engine ()\n"
       ]
      },
      {
       "output_type": "stream",
       "stream": "stdout",
       "text": [
        "2012-07-10 18:03:08,726 INFO sqlalchemy.engine.base.Engine PRAGMA table_info(\"pt_landuse\")\n"
       ]
      },
      {
       "output_type": "stream",
       "stream": "stdout",
       "text": [
        "2012-07-10 18:03:08,727 INFO sqlalchemy.engine.base.Engine ()\n"
       ]
      },
      {
       "output_type": "stream",
       "stream": "stdout",
       "text": [
        "2012-07-10 18:03:08,730 INFO sqlalchemy.engine.base.Engine PRAGMA foreign_key_list(\"pt_landuse\")\n"
       ]
      },
      {
       "output_type": "stream",
       "stream": "stdout",
       "text": [
        "2012-07-10 18:03:08,730 INFO sqlalchemy.engine.base.Engine ()\n"
       ]
      },
      {
       "output_type": "stream",
       "stream": "stdout",
       "text": [
        "2012-07-10 18:03:08,731 INFO sqlalchemy.engine.base.Engine PRAGMA index_list(\"pt_landuse\")\n"
       ]
      },
      {
       "output_type": "stream",
       "stream": "stdout",
       "text": [
        "2012-07-10 18:03:08,731 INFO sqlalchemy.engine.base.Engine ()\n"
       ]
      },
      {
       "output_type": "stream",
       "stream": "stdout",
       "text": [
        "2012-07-10 18:03:08,733 INFO sqlalchemy.engine.base.Engine PRAGMA table_info(\"pt_man_made\")\n"
       ]
      },
      {
       "output_type": "stream",
       "stream": "stdout",
       "text": [
        "2012-07-10 18:03:08,733 INFO sqlalchemy.engine.base.Engine ()\n"
       ]
      },
      {
       "output_type": "stream",
       "stream": "stdout",
       "text": [
        "2012-07-10 18:03:08,736 INFO sqlalchemy.engine.base.Engine PRAGMA foreign_key_list(\"pt_man_made\")\n"
       ]
      },
      {
       "output_type": "stream",
       "stream": "stdout",
       "text": [
        "2012-07-10 18:03:08,737 INFO sqlalchemy.engine.base.Engine ()\n"
       ]
      },
      {
       "output_type": "stream",
       "stream": "stdout",
       "text": [
        "2012-07-10 18:03:08,737 INFO sqlalchemy.engine.base.Engine PRAGMA index_list(\"pt_man_made\")\n"
       ]
      },
      {
       "output_type": "stream",
       "stream": "stdout",
       "text": [
        "2012-07-10 18:03:08,737 INFO sqlalchemy.engine.base.Engine ()\n"
       ]
      },
      {
       "output_type": "stream",
       "stream": "stdout",
       "text": [
        "2012-07-10 18:03:08,739 INFO sqlalchemy.engine.base.Engine PRAGMA table_info(\"pt_natural\")\n"
       ]
      },
      {
       "output_type": "stream",
       "stream": "stdout",
       "text": [
        "2012-07-10 18:03:08,739 INFO sqlalchemy.engine.base.Engine ()\n"
       ]
      },
      {
       "output_type": "stream",
       "stream": "stdout",
       "text": [
        "2012-07-10 18:03:08,743 INFO sqlalchemy.engine.base.Engine PRAGMA foreign_key_list(\"pt_natural\")\n"
       ]
      },
      {
       "output_type": "stream",
       "stream": "stdout",
       "text": [
        "2012-07-10 18:03:08,743 INFO sqlalchemy.engine.base.Engine ()\n"
       ]
      },
      {
       "output_type": "stream",
       "stream": "stdout",
       "text": [
        "2012-07-10 18:03:08,744 INFO sqlalchemy.engine.base.Engine PRAGMA index_list(\"pt_natural\")\n"
       ]
      },
      {
       "output_type": "stream",
       "stream": "stdout",
       "text": [
        "2012-07-10 18:03:08,744 INFO sqlalchemy.engine.base.Engine ()\n"
       ]
      },
      {
       "output_type": "stream",
       "stream": "stdout",
       "text": [
        "2012-07-10 18:03:08,746 INFO sqlalchemy.engine.base.Engine PRAGMA table_info(\"pt_place\")\n"
       ]
      },
      {
       "output_type": "stream",
       "stream": "stdout",
       "text": [
        "2012-07-10 18:03:08,746 INFO sqlalchemy.engine.base.Engine ()\n"
       ]
      },
      {
       "output_type": "stream",
       "stream": "stdout",
       "text": [
        "2012-07-10 18:03:08,750 INFO sqlalchemy.engine.base.Engine PRAGMA foreign_key_list(\"pt_place\")\n"
       ]
      },
      {
       "output_type": "stream",
       "stream": "stdout",
       "text": [
        "2012-07-10 18:03:08,750 INFO sqlalchemy.engine.base.Engine ()\n"
       ]
      },
      {
       "output_type": "stream",
       "stream": "stdout",
       "text": [
        "2012-07-10 18:03:08,750 INFO sqlalchemy.engine.base.Engine PRAGMA index_list(\"pt_place\")\n"
       ]
      },
      {
       "output_type": "stream",
       "stream": "stdout",
       "text": [
        "2012-07-10 18:03:08,751 INFO sqlalchemy.engine.base.Engine ()\n"
       ]
      },
      {
       "output_type": "stream",
       "stream": "stdout",
       "text": [
        "2012-07-10 18:03:08,752 INFO sqlalchemy.engine.base.Engine PRAGMA table_info(\"pt_shop\")\n"
       ]
      },
      {
       "output_type": "stream",
       "stream": "stdout",
       "text": [
        "2012-07-10 18:03:08,753 INFO sqlalchemy.engine.base.Engine ()\n"
       ]
      },
      {
       "output_type": "stream",
       "stream": "stdout",
       "text": [
        "2012-07-10 18:03:08,756 INFO sqlalchemy.engine.base.Engine PRAGMA foreign_key_list(\"pt_shop\")\n"
       ]
      },
      {
       "output_type": "stream",
       "stream": "stdout",
       "text": [
        "2012-07-10 18:03:08,756 INFO sqlalchemy.engine.base.Engine ()\n"
       ]
      },
      {
       "output_type": "stream",
       "stream": "stdout",
       "text": [
        "2012-07-10 18:03:08,757 INFO sqlalchemy.engine.base.Engine PRAGMA index_list(\"pt_shop\")\n"
       ]
      },
      {
       "output_type": "stream",
       "stream": "stdout",
       "text": [
        "2012-07-10 18:03:08,757 INFO sqlalchemy.engine.base.Engine ()\n"
       ]
      },
      {
       "output_type": "stream",
       "stream": "stdout",
       "text": [
        "2012-07-10 18:03:08,759 INFO sqlalchemy.engine.base.Engine PRAGMA table_info(\"pt_tourism\")\n"
       ]
      },
      {
       "output_type": "stream",
       "stream": "stdout",
       "text": [
        "2012-07-10 18:03:08,759 INFO sqlalchemy.engine.base.Engine ()\n"
       ]
      },
      {
       "output_type": "stream",
       "stream": "stdout",
       "text": [
        "2012-07-10 18:03:08,763 INFO sqlalchemy.engine.base.Engine PRAGMA foreign_key_list(\"pt_tourism\")\n"
       ]
      },
      {
       "output_type": "stream",
       "stream": "stdout",
       "text": [
        "2012-07-10 18:03:08,763 INFO sqlalchemy.engine.base.Engine ()\n"
       ]
      },
      {
       "output_type": "stream",
       "stream": "stdout",
       "text": [
        "2012-07-10 18:03:08,763 INFO sqlalchemy.engine.base.Engine PRAGMA index_list(\"pt_tourism\")\n"
       ]
      },
      {
       "output_type": "stream",
       "stream": "stdout",
       "text": [
        "2012-07-10 18:03:08,764 INFO sqlalchemy.engine.base.Engine ()\n"
       ]
      },
      {
       "output_type": "stream",
       "stream": "stdout",
       "text": [
        "2012-07-10 18:03:08,766 INFO sqlalchemy.engine.base.Engine PRAGMA table_info(\"spatialite_history\")\n"
       ]
      },
      {
       "output_type": "stream",
       "stream": "stdout",
       "text": [
        "2012-07-10 18:03:08,766 INFO sqlalchemy.engine.base.Engine ()\n"
       ]
      },
      {
       "output_type": "stream",
       "stream": "stdout",
       "text": [
        "2012-07-10 18:03:08,770 INFO sqlalchemy.engine.base.Engine PRAGMA foreign_key_list(\"spatialite_history\")\n"
       ]
      },
      {
       "output_type": "stream",
       "stream": "stdout",
       "text": [
        "2012-07-10 18:03:08,770 INFO sqlalchemy.engine.base.Engine ()\n"
       ]
      },
      {
       "output_type": "stream",
       "stream": "stdout",
       "text": [
        "2012-07-10 18:03:08,770 INFO sqlalchemy.engine.base.Engine PRAGMA index_list(\"spatialite_history\")\n"
       ]
      },
      {
       "output_type": "stream",
       "stream": "stdout",
       "text": [
        "2012-07-10 18:03:08,771 INFO sqlalchemy.engine.base.Engine ()\n"
       ]
      },
      {
       "output_type": "stream",
       "stream": "stdout",
       "text": [
        "2012-07-10 18:03:08,772 INFO sqlalchemy.engine.base.Engine PRAGMA table_info(\"sqlite_sequence\")\n"
       ]
      },
      {
       "output_type": "stream",
       "stream": "stdout",
       "text": [
        "2012-07-10 18:03:08,773 INFO sqlalchemy.engine.base.Engine ()\n"
       ]
      },
      {
       "output_type": "stream",
       "stream": "stdout",
       "text": [
        "2012-07-10 18:03:08,776 INFO sqlalchemy.engine.base.Engine PRAGMA foreign_key_list(\"sqlite_sequence\")\n"
       ]
      },
      {
       "output_type": "stream",
       "stream": "stdout",
       "text": [
        "2012-07-10 18:03:08,776 INFO sqlalchemy.engine.base.Engine ()\n"
       ]
      },
      {
       "output_type": "stream",
       "stream": "stdout",
       "text": [
        "2012-07-10 18:03:08,777 INFO sqlalchemy.engine.base.Engine PRAGMA index_list(\"sqlite_sequence\")\n"
       ]
      },
      {
       "output_type": "stream",
       "stream": "stdout",
       "text": [
        "2012-07-10 18:03:08,777 INFO sqlalchemy.engine.base.Engine ()\n"
       ]
      },
      {
       "output_type": "stream",
       "stream": "stdout",
       "text": [
        "2012-07-10 18:03:08,779 INFO sqlalchemy.engine.base.Engine PRAGMA table_info(\"views_geometry_columns\")\n"
       ]
      },
      {
       "output_type": "stream",
       "stream": "stdout",
       "text": [
        "2012-07-10 18:03:08,779 INFO sqlalchemy.engine.base.Engine ()\n"
       ]
      },
      {
       "output_type": "stream",
       "stream": "stdout",
       "text": [
        "2012-07-10 18:03:08,783 INFO sqlalchemy.engine.base.Engine PRAGMA foreign_key_list(\"views_geometry_columns\")\n"
       ]
      },
      {
       "output_type": "stream",
       "stream": "stdout",
       "text": [
        "2012-07-10 18:03:08,783 INFO sqlalchemy.engine.base.Engine ()\n"
       ]
      },
      {
       "output_type": "stream",
       "stream": "stdout",
       "text": [
        "2012-07-10 18:03:08,783 INFO sqlalchemy.engine.base.Engine PRAGMA index_list(\"views_geometry_columns\")\n"
       ]
      },
      {
       "output_type": "stream",
       "stream": "stdout",
       "text": [
        "2012-07-10 18:03:08,784 INFO sqlalchemy.engine.base.Engine ()\n"
       ]
      },
      {
       "output_type": "stream",
       "stream": "stdout",
       "text": [
        "2012-07-10 18:03:08,784 INFO sqlalchemy.engine.base.Engine PRAGMA index_info(\"idx_viewsjoin\")\n"
       ]
      },
      {
       "output_type": "stream",
       "stream": "stdout",
       "text": [
        "2012-07-10 18:03:08,785 INFO sqlalchemy.engine.base.Engine ()\n"
       ]
      },
      {
       "output_type": "stream",
       "stream": "stdout",
       "text": [
        "2012-07-10 18:03:08,786 INFO sqlalchemy.engine.base.Engine PRAGMA table_info(\"virts_geometry_columns\")\n"
       ]
      },
      {
       "output_type": "stream",
       "stream": "stdout",
       "text": [
        "2012-07-10 18:03:08,787 INFO sqlalchemy.engine.base.Engine ()\n"
       ]
      },
      {
       "output_type": "stream",
       "stream": "stdout",
       "text": [
        "2012-07-10 18:03:08,790 INFO sqlalchemy.engine.base.Engine PRAGMA foreign_key_list(\"virts_geometry_columns\")\n"
       ]
      },
      {
       "output_type": "stream",
       "stream": "stdout",
       "text": [
        "2012-07-10 18:03:08,791 INFO sqlalchemy.engine.base.Engine ()\n"
       ]
      },
      {
       "output_type": "stream",
       "stream": "stdout",
       "text": [
        "2012-07-10 18:03:08,791 INFO sqlalchemy.engine.base.Engine PRAGMA index_list(\"virts_geometry_columns\")\n"
       ]
      },
      {
       "output_type": "stream",
       "stream": "stdout",
       "text": [
        "2012-07-10 18:03:08,792 INFO sqlalchemy.engine.base.Engine ()\n"
       ]
      },
      {
       "output_type": "stream",
       "stream": "stdout",
       "text": [
        "2012-07-10 18:03:08,792 INFO sqlalchemy.engine.base.Engine PRAGMA index_info(\"idx_virtssrid\")\n"
       ]
      },
      {
       "output_type": "stream",
       "stream": "stdout",
       "text": [
        "2012-07-10 18:03:08,792 INFO sqlalchemy.engine.base.Engine ()\n"
       ]
      }
     ],
     "prompt_number": 4
    },
    {
     "cell_type": "markdown",
     "metadata": {},
     "source": [
      "Look around the DB\n",
      "==================\n",
      "\n",
      "Let's poke around the DB using reflection."
     ]
    },
    {
     "cell_type": "code",
     "collapsed": false,
     "input": [
      "# List the tables\n",
      "for table in metadata.tables.iterkeys():\n",
      "    print(table)"
     ],
     "language": "python",
     "metadata": {},
     "outputs": [
      {
       "output_type": "stream",
       "stream": "stdout",
       "text": [
        "idx_pg_landuse_Geometry_rowid\n",
        "idx_ln_generic_Geometry_parent\n",
        "idx_pg_highway_Geometry_node\n",
        "idx_pt_amenity_Geometry_parent\n",
        "idx_ln_route_Geometry_node\n",
        "idx_pt_place_Geometry_rowid\n",
        "idx_ln_boundary_Geometry\n",
        "pt_man_made\n",
        "pt_building\n",
        "virts_geometry_columns\n",
        "idx_pg_building_Geometry_parent\n",
        "spatial_ref_sys\n",
        "pt_natural\n",
        "idx_pg_shop_Geometry_node\n",
        "pt_amenity\n",
        "idx_pg_generic_Geometry\n",
        "SpatialIndex\n",
        "idx_pt_building_Geometry_rowid\n",
        "geometry_columns\n",
        "idx_pt_landuse_Geometry\n",
        "idx_pg_shop_Geometry\n",
        "idx_pt_place_Geometry_node\n",
        "spatialite_history\n",
        "idx_pt_man_made_Geometry_rowid\n",
        "ln_route\n",
        "idx_pt_natural_Geometry_rowid\n",
        "idx_pg_amenity_Geometry\n",
        "idx_pt_generic_Geometry_node\n",
        "ln_generic\n",
        "idx_ln_boundary_Geometry_parent\n",
        "sqlite_sequence\n",
        "pg_building\n",
        "idx_pt_place_Geometry_parent\n",
        "idx_ln_highway_Geometry_rowid\n",
        "idx_pt_tourism_Geometry_rowid\n",
        "idx_pt_man_made_Geometry_parent\n",
        "idx_ln_highway_Geometry\n",
        "idx_pg_shop_Geometry_parent\n",
        "idx_pg_landuse_Geometry_node\n",
        "idx_ln_route_Geometry_parent\n",
        "pt_tourism\n",
        "pg_shop\n",
        "idx_pt_amenity_Geometry_node\n",
        "idx_ln_route_Geometry_rowid\n",
        "geometry_columns_auth\n",
        "idx_pg_leisure_Geometry_rowid\n",
        "idx_pt_building_Geometry\n",
        "idx_pg_amenity_Geometry_parent\n",
        "idx_ln_barrier_Geometry_node\n",
        "idx_ln_barrier_Geometry_parent\n",
        "idx_pt_addresses_Geometry_rowid\n",
        "idx_pt_shop_Geometry_node\n",
        "idx_pg_building_Geometry_node\n",
        "idx_pt_addresses_Geometry\n",
        "idx_pt_generic_Geometry_rowid\n",
        "idx_pg_building_Geometry_rowid\n",
        "idx_pg_generic_Geometry_rowid\n",
        "idx_pt_highway_Geometry_parent\n",
        "pt_addresses\n",
        "idx_ln_boundary_Geometry_rowid\n",
        "idx_pg_highway_Geometry\n",
        "idx_pt_barrier_Geometry\n",
        "idx_pt_highway_Geometry\n",
        "idx_pg_amenity_Geometry_rowid\n",
        "idx_pg_amenity_Geometry_node\n",
        "idx_ln_generic_Geometry_node\n",
        "pt_generic\n",
        "idx_pg_shop_Geometry_rowid\n",
        "idx_pt_barrier_Geometry_node\n",
        "idx_pt_place_Geometry\n",
        "idx_pt_shop_Geometry\n",
        "idx_pg_building_Geometry\n",
        "idx_pt_natural_Geometry_node\n",
        "ln_boundary\n",
        "idx_pt_building_Geometry_node\n",
        "pg_amenity\n",
        "pg_landuse\n",
        "idx_pt_natural_Geometry\n",
        "idx_pt_tourism_Geometry_parent\n",
        "ln_barrier\n",
        "idx_pt_landuse_Geometry_parent\n",
        "idx_pt_barrier_Geometry_rowid\n",
        "idx_pt_natural_Geometry_parent\n",
        "pg_highway\n",
        "idx_ln_route_Geometry\n",
        "idx_pt_addresses_Geometry_parent\n",
        "idx_ln_generic_Geometry\n",
        "idx_pg_landuse_Geometry\n",
        "idx_pg_generic_Geometry_parent\n",
        "idx_ln_generic_Geometry_rowid\n",
        "idx_pt_man_made_Geometry\n",
        "idx_pt_highway_Geometry_node\n",
        "pt_place\n",
        "idx_pt_shop_Geometry_parent\n",
        "idx_pt_amenity_Geometry_rowid\n",
        "pg_leisure\n",
        "idx_ln_barrier_Geometry_rowid\n",
        "idx_pg_leisure_Geometry\n",
        "idx_pg_leisure_Geometry_parent\n",
        "idx_pt_highway_Geometry_rowid\n",
        "pt_barrier\n",
        "idx_pt_generic_Geometry_parent\n",
        "pt_highway\n",
        "idx_ln_highway_Geometry_node\n",
        "idx_pg_highway_Geometry_rowid\n",
        "idx_pt_amenity_Geometry\n",
        "idx_ln_barrier_Geometry\n",
        "idx_pg_highway_Geometry_parent\n",
        "idx_pg_landuse_Geometry_parent\n",
        "pt_shop\n",
        "views_geometry_columns\n",
        "idx_pt_man_made_Geometry_node\n",
        "idx_pt_addresses_Geometry_node\n",
        "idx_ln_highway_Geometry_parent\n",
        "idx_pt_tourism_Geometry_node\n",
        "idx_pt_generic_Geometry\n",
        "idx_pt_landuse_Geometry_node\n",
        "idx_pg_leisure_Geometry_node\n",
        "ln_highway\n",
        "idx_pt_barrier_Geometry_parent\n",
        "idx_pt_tourism_Geometry\n",
        "idx_ln_boundary_Geometry_node\n",
        "pt_landuse\n",
        "idx_pt_building_Geometry_parent\n",
        "idx_pg_generic_Geometry_node\n",
        "pg_generic\n",
        "idx_pt_landuse_Geometry_rowid\n",
        "idx_pt_shop_Geometry_rowid\n"
       ]
      }
     ],
     "prompt_number": 5
    },
    {
     "cell_type": "code",
     "collapsed": false,
     "input": [
      "# Currently the geometry column is a nulltype\n",
      "metadata.tables['pg_landuse']"
     ],
     "language": "python",
     "metadata": {},
     "outputs": [
      {
       "output_type": "pyout",
       "prompt_number": 6,
       "text": [
        "Table(u'pg_landuse', MetaData(bind=Engine(sqlite:///../data/central-cambridge.sqlite)), Column(u'id', INTEGER(), table=<pg_landuse>, primary_key=True, nullable=False), Column(u'sub_type', TEXT(), table=<pg_landuse>), Column(u'name', TEXT(), table=<pg_landuse>), Column(u'Geometry', NullType(), table=<pg_landuse>), schema=None)"
       ]
      }
     ],
     "prompt_number": 6
    },
    {
     "cell_type": "markdown",
     "metadata": {},
     "source": [
      "Adding geometry columns\n",
      "=======================\n",
      "\n",
      "Unfortunately geoalchemy is not clever enough to reflect on the columns. Let's do it manually."
     ]
    },
    {
     "cell_type": "code",
     "collapsed": false,
     "input": [
      "# Make it multi polygon\n",
      "from geoalchemy import *\n",
      "\n",
      "class PgLandUse(Base):\n",
      "    __tablename__ = 'pg_landuse'\n",
      "    __table_args__ = {'autoload': True, 'extend_existing': True}\n",
      "    Geometry = GeometryColumn(MultiPolygon(dimension=2))\n",
      "\n",
      "class PtLandUse(Base):\n",
      "    __tablename__ = 'pt_landuse'\n",
      "    __table_args__ = {'autoload': True, 'extend_existing': True}\n",
      "    Geometry = GeometryColumn(Point(dimension=2))\n",
      "    \n",
      "class LnHighway(Base):\n",
      "    __tablename__ = 'ln_highway'\n",
      "    __table_args__ = {'autoload': True, 'extend_existing': True}\n",
      "    Geometry = GeometryColumn(MultiLineString(dimension=2))\n"
     ],
     "language": "python",
     "metadata": {},
     "outputs": [
      {
       "output_type": "stream",
       "stream": "stdout",
       "text": [
        "2012-07-10 18:03:09,099 INFO sqlalchemy.engine.base.Engine PRAGMA table_info(\"pg_landuse\")\n"
       ]
      },
      {
       "output_type": "stream",
       "stream": "stdout",
       "text": [
        "2012-07-10 18:03:09,099 INFO sqlalchemy.engine.base.Engine ()\n"
       ]
      },
      {
       "output_type": "stream",
       "stream": "stdout",
       "text": [
        "2012-07-10 18:03:09,103 INFO sqlalchemy.engine.base.Engine PRAGMA foreign_key_list(\"pg_landuse\")\n"
       ]
      },
      {
       "output_type": "stream",
       "stream": "stdout",
       "text": [
        "2012-07-10 18:03:09,103 INFO sqlalchemy.engine.base.Engine ()\n"
       ]
      },
      {
       "output_type": "stream",
       "stream": "stdout",
       "text": [
        "2012-07-10 18:03:09,104 INFO sqlalchemy.engine.base.Engine PRAGMA index_list(\"pg_landuse\")\n"
       ]
      },
      {
       "output_type": "stream",
       "stream": "stdout",
       "text": [
        "2012-07-10 18:03:09,104 INFO sqlalchemy.engine.base.Engine ()\n"
       ]
      },
      {
       "output_type": "stream",
       "stream": "stdout",
       "text": [
        "2012-07-10 18:03:09,107 INFO sqlalchemy.engine.base.Engine PRAGMA table_info(\"pt_landuse\")\n"
       ]
      },
      {
       "output_type": "stream",
       "stream": "stdout",
       "text": [
        "2012-07-10 18:03:09,107 INFO sqlalchemy.engine.base.Engine ()\n"
       ]
      },
      {
       "output_type": "stream",
       "stream": "stdout",
       "text": [
        "2012-07-10 18:03:09,111 INFO sqlalchemy.engine.base.Engine PRAGMA foreign_key_list(\"pt_landuse\")\n"
       ]
      },
      {
       "output_type": "stream",
       "stream": "stdout",
       "text": [
        "2012-07-10 18:03:09,111 INFO sqlalchemy.engine.base.Engine ()\n"
       ]
      },
      {
       "output_type": "stream",
       "stream": "stdout",
       "text": [
        "2012-07-10 18:03:09,111 INFO sqlalchemy.engine.base.Engine PRAGMA index_list(\"pt_landuse\")\n"
       ]
      },
      {
       "output_type": "stream",
       "stream": "stdout",
       "text": [
        "2012-07-10 18:03:09,112 INFO sqlalchemy.engine.base.Engine ()\n"
       ]
      },
      {
       "output_type": "stream",
       "stream": "stdout",
       "text": [
        "2012-07-10 18:03:09,115 INFO sqlalchemy.engine.base.Engine PRAGMA table_info(\"ln_highway\")\n"
       ]
      },
      {
       "output_type": "stream",
       "stream": "stdout",
       "text": [
        "2012-07-10 18:03:09,115 INFO sqlalchemy.engine.base.Engine ()\n"
       ]
      },
      {
       "output_type": "stream",
       "stream": "stdout",
       "text": [
        "2012-07-10 18:03:09,119 INFO sqlalchemy.engine.base.Engine PRAGMA foreign_key_list(\"ln_highway\")\n"
       ]
      },
      {
       "output_type": "stream",
       "stream": "stdout",
       "text": [
        "2012-07-10 18:03:09,119 INFO sqlalchemy.engine.base.Engine ()\n"
       ]
      },
      {
       "output_type": "stream",
       "stream": "stdout",
       "text": [
        "2012-07-10 18:03:09,119 INFO sqlalchemy.engine.base.Engine PRAGMA index_list(\"ln_highway\")\n"
       ]
      },
      {
       "output_type": "stream",
       "stream": "stdout",
       "text": [
        "2012-07-10 18:03:09,120 INFO sqlalchemy.engine.base.Engine ()\n"
       ]
      }
     ],
     "prompt_number": 7
    },
    {
     "cell_type": "code",
     "collapsed": false,
     "input": [
      "# Check we have updated it\n",
      "metadata.tables['pg_landuse']"
     ],
     "language": "python",
     "metadata": {},
     "outputs": [
      {
       "output_type": "pyout",
       "prompt_number": 8,
       "text": [
        "Table(u'pg_landuse', MetaData(bind=Engine(sqlite:///../data/central-cambridge.sqlite)), Column(u'id', INTEGER(), table=<pg_landuse>, primary_key=True, nullable=False), Column(u'sub_type', TEXT(), table=<pg_landuse>), Column(u'name', TEXT(), table=<pg_landuse>), Column('Geometry', MultiPolygon(), table=<pg_landuse>), schema=None)"
       ]
      }
     ],
     "prompt_number": 8
    },
    {
     "cell_type": "markdown",
     "metadata": {},
     "source": [
      "Examples of use\n",
      "===============\n",
      "\n",
      "Examples of querying the database."
     ]
    },
    {
     "cell_type": "code",
     "collapsed": false,
     "input": [
      "# Look at the first result\n",
      "metadata.tables['pg_landuse'].select(limit=1).execute().first()"
     ],
     "language": "python",
     "metadata": {},
     "outputs": [
      {
       "output_type": "stream",
       "stream": "stdout",
       "text": [
        "2012-07-10 18:03:09,323 INFO sqlalchemy.engine.base.Engine SELECT pg_landuse.id, pg_landuse.sub_type, pg_landuse.name, AsBinary(pg_landuse.\"Geometry\") \n",
        "FROM pg_landuse\n",
        " LIMIT ? OFFSET ?\n"
       ]
      },
      {
       "output_type": "stream",
       "stream": "stdout",
       "text": [
        "2012-07-10 18:03:09,323 INFO sqlalchemy.engine.base.Engine (1, 0)\n"
       ]
      },
      {
       "output_type": "pyout",
       "prompt_number": 9,
       "text": [
        "(3993123, u'retail', None, <read-write buffer ptr 0x44b53d0, size 902 at 0x44b5390>)"
       ]
      }
     ],
     "prompt_number": 9
    },
    {
     "cell_type": "code",
     "collapsed": false,
     "input": [
      "land_uses = session.query(PgLandUse).all()\n",
      "land_use_labels = session.query(PtLandUse).all()\n",
      "first = land_uses[0]"
     ],
     "language": "python",
     "metadata": {},
     "outputs": [
      {
       "output_type": "stream",
       "stream": "stdout",
       "text": [
        "2012-07-10 18:03:09,426 INFO sqlalchemy.engine.base.Engine BEGIN (implicit)\n"
       ]
      },
      {
       "output_type": "stream",
       "stream": "stdout",
       "text": [
        "2012-07-10 18:03:09,427 INFO sqlalchemy.engine.base.Engine SELECT AsBinary(pg_landuse.\"Geometry\") AS \"pg_landuse_Geometry\", pg_landuse.id AS pg_landuse_id, pg_landuse.sub_type AS pg_landuse_sub_type, pg_landuse.name AS pg_landuse_name \n",
        "FROM pg_landuse\n"
       ]
      },
      {
       "output_type": "stream",
       "stream": "stdout",
       "text": [
        "2012-07-10 18:03:09,427 INFO sqlalchemy.engine.base.Engine ()\n"
       ]
      },
      {
       "output_type": "stream",
       "stream": "stdout",
       "text": [
        "2012-07-10 18:03:09,434 INFO sqlalchemy.engine.base.Engine SELECT AsBinary(pt_landuse.\"Geometry\") AS \"pt_landuse_Geometry\", pt_landuse.id AS pt_landuse_id, pt_landuse.sub_type AS pt_landuse_sub_type, pt_landuse.name AS pt_landuse_name \n",
        "FROM pt_landuse\n"
       ]
      },
      {
       "output_type": "stream",
       "stream": "stdout",
       "text": [
        "2012-07-10 18:03:09,434 INFO sqlalchemy.engine.base.Engine ()\n"
       ]
      }
     ],
     "prompt_number": 10
    },
    {
     "cell_type": "code",
     "collapsed": false,
     "input": [
      "# Extract the WKB\n",
      "wkb = bytes(first.Geometry.geom_wkb)"
     ],
     "language": "python",
     "metadata": {},
     "outputs": [],
     "prompt_number": 11
    },
    {
     "cell_type": "code",
     "collapsed": false,
     "input": [
      "# Load the WKB into shapely\n",
      "import shapely\n",
      "import shapely.wkb\n",
      "landuse = shapely.wkb.loads(wkb)"
     ],
     "language": "python",
     "metadata": {},
     "outputs": [],
     "prompt_number": 12
    },
    {
     "cell_type": "code",
     "collapsed": false,
     "input": [
      "# Get the polygon as well known text\n",
      "landuse.to_wkt()"
     ],
     "language": "python",
     "metadata": {},
     "outputs": [
      {
       "output_type": "pyout",
       "prompt_number": 13,
       "text": [
        "'MULTIPOLYGON (((0.1200288000000000 52.2069649999999967, 0.1204740000000000 52.2063804000000005, 0.1205719000000000 52.2061873000000034, 0.1199918000000000 52.2060572999999977, 0.1201410000000000 52.2057202000000018, 0.1207405000000000 52.2058442000000014, 0.1209202000000000 52.2058894999999978, 0.1205916000000000 52.2064067000000023, 0.1214396000000000 52.2065640000000002, 0.1217038000000000 52.2054177999999993, 0.1216538000000000 52.2053470000000033, 0.1215622000000000 52.2052959999999970, 0.1215059000000000 52.2050459000000018, 0.1215741000000000 52.2048757000000023, 0.1220717000000000 52.2049787999999992, 0.1221145000000000 52.2049196999999978, 0.1222152000000000 52.2047858999999974, 0.1223366000000000 52.2046245000000013, 0.1228586000000000 52.2040818999999985, 0.1230120000000000 52.2039223000000021, 0.1232663000000000 52.2035788000000025, 0.1224587000000000 52.2033320000000032, 0.1224330000000000 52.2033304999999999, 0.1217817000000000 52.2031550999999965, 0.1210560000000000 52.2035386000000017, 0.1212210000000000 52.2035521999999972, 0.1213055000000000 52.2036183000000023, 0.1213337000000000 52.2036719999999974, 0.1217319000000000 52.2038103000000007, 0.1218031000000000 52.2038350999999992, 0.1211618000000000 52.2045401000000027, 0.1204358000000000 52.2043219999999977, 0.1203075000000000 52.2044161000000031, 0.1205092000000000 52.2044769000000031, 0.1205029000000000 52.2044854000000029, 0.1204435000000000 52.2045655000000011, 0.1201198000000000 52.2048969000000014, 0.1197670000000000 52.2047907999999978, 0.1196544000000000 52.2049558000000005, 0.1195563000000000 52.2050722999999977, 0.1195054000000000 52.2053257000000031, 0.1193709000000000 52.2057301999999979, 0.1193675000000000 52.2057800999999984, 0.1193849000000000 52.2058012999999974, 0.1193122000000000 52.2058105999999995, 0.1191093000000000 52.2057339999999996, 0.1188620000000000 52.2061166000000014, 0.1187625000000000 52.2062309000000013, 0.1186856000000000 52.2062620000000024, 0.1185597000000000 52.2062741000000017, 0.1182323000000000 52.2062803999999971, 0.1182672000000000 52.2064182000000017, 0.1186801000000000 52.2064360999999977, 0.1189698000000000 52.2065546999999981, 0.1200288000000000 52.2069649999999967)))'"
       ]
      }
     ],
     "prompt_number": 13
    },
    {
     "cell_type": "code",
     "collapsed": false,
     "input": [
      "# Get some information on the geometry\n",
      "print('srid:', session.scalar(first.Geometry.srid))\n",
      "print('geometry type:', session.scalar(first.Geometry.geometry_type))"
     ],
     "language": "python",
     "metadata": {},
     "outputs": [
      {
       "output_type": "stream",
       "stream": "stdout",
       "text": [
        "2012-07-10 18:03:22,730 INFO sqlalchemy.engine.base.Engine SELECT SRID(GeomFromWKB(?, ?)) AS srid_1\n"
       ]
      },
      {
       "output_type": "stream",
       "stream": "stdout",
       "text": [
        "2012-07-10 18:03:22,731 INFO sqlalchemy.engine.base.Engine (<read-write buffer ptr 0x44d0530, size 902 at 0x44d04f0>, 4326)\n"
       ]
      },
      {
       "output_type": "stream",
       "stream": "stdout",
       "text": [
        "srid: 4326\n",
        "2012-07-10 18:03:22,733 INFO sqlalchemy.engine.base.Engine SELECT GeometryType(GeomFromWKB(?, ?)) AS geometry_type_1\n"
       ]
      },
      {
       "output_type": "stream",
       "stream": "stdout",
       "text": [
        "2012-07-10 18:03:22,733 INFO sqlalchemy.engine.base.Engine (<read-write buffer ptr 0x44d0530, size 902 at 0x44d04f0>, 4326)\n"
       ]
      },
      {
       "output_type": "stream",
       "stream": "stdout",
       "text": [
        "geometry type: MULTIPOLYGON\n"
       ]
      }
     ],
     "prompt_number": 16
    },
    {
     "cell_type": "markdown",
     "metadata": {},
     "source": [
      "Plotting a map\n",
      "=============="
     ]
    },
    {
     "cell_type": "code",
     "collapsed": false,
     "input": [
      "import descartes\n",
      "def plot_multipoly(ax, mp, **kwargs):\n",
      "    for poly in mp:\n",
      "        patch = descartes.PolygonPatch(poly, **kwargs)\n",
      "        ax.add_patch(patch)\n",
      "    ax.autoscale()\n",
      "    \n",
      "def str_to_color(string):\n",
      "    \"\"\"Dodgy mapping from string -> color.\"\"\"\n",
      "    return '#' + hex(hash(string))[3:9]\n",
      "\n",
      "fig = figure(1)\n",
      "fig.clear()\n",
      "ax = fig.add_subplot(111)\n",
      "\n",
      "for land_use_poly in session.query(PgLandUse):\n",
      "    mp = shapely.wkb.loads(bytes(land_use_poly.Geometry.geom_wkb))\n",
      "    color = str_to_color(land_use_poly.sub_type)\n",
      "    plot_multipoly(ax, mp, facecolor=color, edgecolor=color, zorder=1)\n",
      "    \n",
      "    if land_use_poly.name is not None:\n",
      "        label_pt = mp.centroid\n",
      "        ax.text(label_pt.x, label_pt.y, land_use_poly.name, zorder=2)\n",
      "    \n",
      "for land_use_label in session.query(PtLandUse):\n",
      "    label_pt = shapely.wkb.loads(bytes(land_use_label.Geometry.geom_wkb))\n",
      "    ax.text(label_pt.x, label_pt.y, land_use_label.name, zorder=2)\n",
      "\n",
      "for highway in session.query(LnHighway):\n",
      "    color = str_to_color(highway.sub_type)\n",
      "    multi_line = shapely.wkb.loads(bytes(highway.Geometry.geom_wkb))\n",
      "    for line in multi_line:\n",
      "        x, y = line.xy\n",
      "        ax.plot(x, y, color=color, zorder=1, linewidth=3, solid_capstyle='round')\n",
      "\n",
      "ax.set_aspect(1)\n",
      "fig.show()"
     ],
     "language": "python",
     "metadata": {},
     "outputs": [
      {
       "output_type": "stream",
       "stream": "stdout",
       "text": [
        "2012-07-10 18:18:34,347 INFO sqlalchemy.engine.base.Engine SELECT AsBinary(pg_landuse.\"Geometry\") AS \"pg_landuse_Geometry\", pg_landuse.id AS pg_landuse_id, pg_landuse.sub_type AS pg_landuse_sub_type, pg_landuse.name AS pg_landuse_name \n",
        "FROM pg_landuse\n"
       ]
      },
      {
       "output_type": "stream",
       "stream": "stdout",
       "text": [
        "2012-07-10 18:18:34,348 INFO sqlalchemy.engine.base.Engine ()\n"
       ]
      },
      {
       "output_type": "stream",
       "stream": "stdout",
       "text": [
        "2012-07-10 18:18:34,405 INFO sqlalchemy.engine.base.Engine SELECT AsBinary(pt_landuse.\"Geometry\") AS \"pt_landuse_Geometry\", pt_landuse.id AS pt_landuse_id, pt_landuse.sub_type AS pt_landuse_sub_type, pt_landuse.name AS pt_landuse_name \n",
        "FROM pt_landuse\n"
       ]
      },
      {
       "output_type": "stream",
       "stream": "stdout",
       "text": [
        "2012-07-10 18:18:34,405 INFO sqlalchemy.engine.base.Engine ()\n"
       ]
      },
      {
       "output_type": "stream",
       "stream": "stdout",
       "text": [
        "2012-07-10 18:18:34,409 INFO sqlalchemy.engine.base.Engine SELECT AsBinary(ln_highway.\"Geometry\") AS \"ln_highway_Geometry\", ln_highway.id AS ln_highway_id, ln_highway.sub_type AS ln_highway_sub_type, ln_highway.name AS ln_highway_name \n",
        "FROM ln_highway\n"
       ]
      },
      {
       "output_type": "stream",
       "stream": "stdout",
       "text": [
        "2012-07-10 18:18:34,410 INFO sqlalchemy.engine.base.Engine ()\n"
       ]
      }
     ],
     "prompt_number": 48
    },
    {
     "cell_type": "code",
     "collapsed": false,
     "input": [],
     "language": "python",
     "metadata": {},
     "outputs": []
    }
   ],
   "metadata": {}
  }
 ]
}